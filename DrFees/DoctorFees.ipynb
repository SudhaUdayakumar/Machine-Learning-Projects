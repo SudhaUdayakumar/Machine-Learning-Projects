{
 "cells": [
  {
   "cell_type": "markdown",
   "metadata": {},
   "source": [
    "Image"
   ]
  },
  {
   "cell_type": "markdown",
   "metadata": {},
   "source": [
    "Image"
   ]
  },
  {
   "cell_type": "markdown",
   "metadata": {},
   "source": [
    "# Doctor Consultation Fees-  Python Machine Learning"
   ]
  },
  {
   "cell_type": "markdown",
   "metadata": {
    "toc": true
   },
   "source": [
    "<h1>Table of Contents<span class=\"tocSkip\"></span></h1>\n",
    "<div class=\"toc\"><ul class=\"toc-item\"><li><span><a href=\"#Doctor-Consultation-Fees---Python-Machine-Learning\" data-toc-modified-id=\"Doctor-Consultation-Fees---Python-Machine-Learning-1\"><span class=\"toc-item-num\">1&nbsp;&nbsp;</span>Doctor Consultation Fees-  Python Machine Learning</a></span></li><li><span><a href=\"#Problem-Statement-(Given)\" data-toc-modified-id=\"Problem-Statement-(Given)-2\"><span class=\"toc-item-num\">2&nbsp;&nbsp;</span>Problem Statement (Given)</a></span></li><li><span><a href=\"#Choosing-the-Right-Tools\" data-toc-modified-id=\"Choosing-the-Right-Tools-3\"><span class=\"toc-item-num\">3&nbsp;&nbsp;</span>Choosing the Right Tools</a></span><ul class=\"toc-item\"><li><span><a href=\"#Importing-and-Installing-Right-Packages\" data-toc-modified-id=\"Importing-and-Installing-Right-Packages-3.1\"><span class=\"toc-item-num\">3.1&nbsp;&nbsp;</span>Importing and Installing Right Packages</a></span></li><li><span><a href=\"#Handling-Warnings\" data-toc-modified-id=\"Handling-Warnings-3.2\"><span class=\"toc-item-num\">3.2&nbsp;&nbsp;</span>Handling Warnings</a></span></li></ul></li><li><span><a href=\"#Loading-Dataset\" data-toc-modified-id=\"Loading-Dataset-4\"><span class=\"toc-item-num\">4&nbsp;&nbsp;</span>Loading Dataset</a></span></li><li><span><a href=\"#Initial-Analysis-of-Data\" data-toc-modified-id=\"Initial-Analysis-of-Data-5\"><span class=\"toc-item-num\">5&nbsp;&nbsp;</span>Initial Analysis of Data</a></span><ul class=\"toc-item\"><li><span><a href=\"#Missing-Values\" data-toc-modified-id=\"Missing-Values-5.1\"><span class=\"toc-item-num\">5.1&nbsp;&nbsp;</span>Missing Values</a></span></li><li><span><a href=\"#Duplicate-Values\" data-toc-modified-id=\"Duplicate-Values-5.2\"><span class=\"toc-item-num\">5.2&nbsp;&nbsp;</span>Duplicate Values</a></span></li><li><span><a href=\"#Object-and-Numeric-Columns\" data-toc-modified-id=\"Object-and-Numeric-Columns-5.3\"><span class=\"toc-item-num\">5.3&nbsp;&nbsp;</span>Object and Numeric Columns</a></span></li><li><span><a href=\"#Determing-Target-Variable-As-Regresssion-or-Classification\" data-toc-modified-id=\"Determing-Target-Variable-As-Regresssion-or-Classification-5.4\"><span class=\"toc-item-num\">5.4&nbsp;&nbsp;</span>Determing Target Variable As Regresssion or Classification</a></span></li></ul></li><li><span><a href=\"#Pre-Processing-of-Data\" data-toc-modified-id=\"Pre-Processing-of-Data-6\"><span class=\"toc-item-num\">6&nbsp;&nbsp;</span>Pre-Processing of Data</a></span><ul class=\"toc-item\"><li><span><a href=\"#Handling-Experience-Column\" data-toc-modified-id=\"Handling-Experience-Column-6.1\"><span class=\"toc-item-num\">6.1&nbsp;&nbsp;</span>Handling Experience Column</a></span></li><li><span><a href=\"#Handling-Place-Column\" data-toc-modified-id=\"Handling-Place-Column-6.2\"><span class=\"toc-item-num\">6.2&nbsp;&nbsp;</span>Handling Place Column</a></span><ul class=\"toc-item\"><li><span><a href=\"#Extracting--&quot;Area&quot;-&amp;-&quot;City&quot;-from--&quot;Place&quot;-column\" data-toc-modified-id=\"Extracting--&quot;Area&quot;-&amp;-&quot;City&quot;-from--&quot;Place&quot;-column-6.2.1\"><span class=\"toc-item-num\">6.2.1&nbsp;&nbsp;</span>Extracting  \"Area\" &amp; \"City\" from  \"Place\" column</a></span></li></ul></li><li><span><a href=\"#Handling-Rating-Column\" data-toc-modified-id=\"Handling-Rating-Column-6.3\"><span class=\"toc-item-num\">6.3&nbsp;&nbsp;</span>Handling Rating Column</a></span></li><li><span><a href=\"#Handling-Qualification-Column\" data-toc-modified-id=\"Handling-Qualification-Column-6.4\"><span class=\"toc-item-num\">6.4&nbsp;&nbsp;</span>Handling Qualification Column</a></span></li><li><span><a href=\"#Handling-Miscellaneous_Info-Column\" data-toc-modified-id=\"Handling-Miscellaneous_Info-Column-6.5\"><span class=\"toc-item-num\">6.5&nbsp;&nbsp;</span>Handling Miscellaneous_Info Column</a></span></li><li><span><a href=\"#Handling-Profile-Column\" data-toc-modified-id=\"Handling-Profile-Column-6.6\"><span class=\"toc-item-num\">6.6&nbsp;&nbsp;</span>Handling Profile Column</a></span></li></ul></li><li><span><a href=\"#EDA\" data-toc-modified-id=\"EDA-7\"><span class=\"toc-item-num\">7&nbsp;&nbsp;</span>EDA</a></span><ul class=\"toc-item\"><li><span><a href=\"#Univariate-Analysis\" data-toc-modified-id=\"Univariate-Analysis-7.1\"><span class=\"toc-item-num\">7.1&nbsp;&nbsp;</span>Univariate Analysis</a></span><ul class=\"toc-item\"><li><span><a href=\"#Profile\" data-toc-modified-id=\"Profile-7.1.1\"><span class=\"toc-item-num\">7.1.1&nbsp;&nbsp;</span>Profile</a></span></li><li><span><a href=\"#Experience\" data-toc-modified-id=\"Experience-7.1.2\"><span class=\"toc-item-num\">7.1.2&nbsp;&nbsp;</span>Experience</a></span></li><li><span><a href=\"#City\" data-toc-modified-id=\"City-7.1.3\"><span class=\"toc-item-num\">7.1.3&nbsp;&nbsp;</span>City</a></span></li><li><span><a href=\"#Rating\" data-toc-modified-id=\"Rating-7.1.4\"><span class=\"toc-item-num\">7.1.4&nbsp;&nbsp;</span>Rating</a></span></li><li><span><a href=\"#Fees\" data-toc-modified-id=\"Fees-7.1.5\"><span class=\"toc-item-num\">7.1.5&nbsp;&nbsp;</span>Fees</a></span></li></ul></li><li><span><a href=\"#Bi-Variate-Analysis\" data-toc-modified-id=\"Bi-Variate-Analysis-7.2\"><span class=\"toc-item-num\">7.2&nbsp;&nbsp;</span>Bi-Variate Analysis</a></span></li><li><span><a href=\"#Multivariate-Analysis\" data-toc-modified-id=\"Multivariate-Analysis-7.3\"><span class=\"toc-item-num\">7.3&nbsp;&nbsp;</span>Multivariate Analysis</a></span><ul class=\"toc-item\"><li><span><a href=\"#Correlation-matrix/heatmap\" data-toc-modified-id=\"Correlation-matrix/heatmap-7.3.1\"><span class=\"toc-item-num\">7.3.1&nbsp;&nbsp;</span>Correlation matrix/heatmap</a></span></li></ul></li><li><span><a href=\"#Correlation-with-target-variable-Numerical-+-Plot\" data-toc-modified-id=\"Correlation-with-target-variable-Numerical-+-Plot-7.4\"><span class=\"toc-item-num\">7.4&nbsp;&nbsp;</span>Correlation with target variable-Numerical + Plot</a></span></li></ul></li><li><span><a href=\"#Skewness\" data-toc-modified-id=\"Skewness-8\"><span class=\"toc-item-num\">8&nbsp;&nbsp;</span>Skewness</a></span></li><li><span><a href=\"#Label-Encoding\" data-toc-modified-id=\"Label-Encoding-9\"><span class=\"toc-item-num\">9&nbsp;&nbsp;</span>Label Encoding</a></span></li><li><span><a href=\"#Model-Building-Regression\" data-toc-modified-id=\"Model-Building-Regression-10\"><span class=\"toc-item-num\">10&nbsp;&nbsp;</span>Model Building-Regression</a></span><ul class=\"toc-item\"><li><span><a href=\"#Importing-Libraries-for-Model-Building-(Regression)\" data-toc-modified-id=\"Importing-Libraries-for-Model-Building-(Regression)-10.1\"><span class=\"toc-item-num\">10.1&nbsp;&nbsp;</span>Importing Libraries for Model Building (Regression)</a></span></li><li><span><a href=\"#Train-&amp;-Test-Split\" data-toc-modified-id=\"Train-&amp;-Test-Split-10.2\"><span class=\"toc-item-num\">10.2&nbsp;&nbsp;</span>Train &amp; Test Split</a></span></li><li><span><a href=\"#Standard-Scalar-on-Train-Data\" data-toc-modified-id=\"Standard-Scalar-on-Train-Data-10.3\"><span class=\"toc-item-num\">10.3&nbsp;&nbsp;</span>Standard Scalar on Train Data</a></span></li><li><span><a href=\"#Finding-Best-Random-State\" data-toc-modified-id=\"Finding-Best-Random-State-10.4\"><span class=\"toc-item-num\">10.4&nbsp;&nbsp;</span>Finding Best Random State</a></span></li><li><span><a href=\"#Instantiating-the-Algos\" data-toc-modified-id=\"Instantiating-the-Algos-10.5\"><span class=\"toc-item-num\">10.5&nbsp;&nbsp;</span>Instantiating the Algos</a></span></li><li><span><a href=\"#Building-the-Model-&amp;-Evaluation-Metrics\" data-toc-modified-id=\"Building-the-Model-&amp;-Evaluation-Metrics-10.6\"><span class=\"toc-item-num\">10.6&nbsp;&nbsp;</span>Building the Model &amp; Evaluation Metrics</a></span></li></ul></li><li><span><a href=\"#PCA\" data-toc-modified-id=\"PCA-11\"><span class=\"toc-item-num\">11&nbsp;&nbsp;</span>PCA</a></span><ul class=\"toc-item\"><li><span><a href=\"#PCA-Model-Building\" data-toc-modified-id=\"PCA-Model-Building-11.1\"><span class=\"toc-item-num\">11.1&nbsp;&nbsp;</span>PCA Model Building</a></span></li></ul></li><li><span><a href=\"#Feature-Engineering\" data-toc-modified-id=\"Feature-Engineering-12\"><span class=\"toc-item-num\">12&nbsp;&nbsp;</span>Feature Engineering</a></span><ul class=\"toc-item\"><li><span><a href=\"#Feature-Engineering-Model-Building\" data-toc-modified-id=\"Feature-Engineering-Model-Building-12.1\"><span class=\"toc-item-num\">12.1&nbsp;&nbsp;</span>Feature Engineering Model Building</a></span></li></ul></li><li><span><a href=\"#RMSLE-model-building\" data-toc-modified-id=\"RMSLE-model-building-13\"><span class=\"toc-item-num\">13&nbsp;&nbsp;</span>RMSLE model building</a></span></li><li><span><a href=\"#HyperParameter-Tuning\" data-toc-modified-id=\"HyperParameter-Tuning-14\"><span class=\"toc-item-num\">14&nbsp;&nbsp;</span>HyperParameter Tuning</a></span></li><li><span><a href=\"#Saving-the-Model\" data-toc-modified-id=\"Saving-the-Model-15\"><span class=\"toc-item-num\">15&nbsp;&nbsp;</span>Saving the Model</a></span></li><li><span><a href=\"#Loading-the-Model\" data-toc-modified-id=\"Loading-the-Model-16\"><span class=\"toc-item-num\">16&nbsp;&nbsp;</span>Loading the Model</a></span></li><li><span><a href=\"#Summary\" data-toc-modified-id=\"Summary-17\"><span class=\"toc-item-num\">17&nbsp;&nbsp;</span>Summary</a></span></li></ul></div>"
   ]
  },
  {
   "cell_type": "markdown",
   "metadata": {},
   "source": [
    "# Problem Statement (Given)"
   ]
  },
  {
   "cell_type": "markdown",
   "metadata": {},
   "source": [
    "Doctor's Consultation Fees Prediction\n",
    "Problem Statement:\n",
    "Predict A Doctor's Consultation Fee \n",
    "\n",
    "\n",
    "\n",
    "We have all been in situation where we go to a doctor in emergency and find that the consultation fees are too high. As a data scientist we all should do better. What if you have data that records important details about a doctor and you get to build a model to predict the doctor’s consulting fee.? This is the use case that let's you do that. \n",
    "\n",
    "Size of training set: 5961 records\n",
    "\n",
    "Size of test set: 1987 records\n",
    "\n",
    "\n",
    "\n",
    "FEATURES:\n",
    "\n",
    "Qualification: Qualification and degrees held by the doctor\n",
    "\n",
    "Experience: Experience of the doctor in number of years\n",
    "\n",
    "Rating: Rating given by patients\n",
    "\n",
    "Profile: Type of the doctor\n",
    "\n",
    "Miscellaneous_Info: Extra information about the doctor\n",
    "\n",
    "Fees: Fees charged by the doctor (Target Variable)\n",
    "\n",
    "Place: Area and the city where the doctor is located."
   ]
  },
  {
   "cell_type": "markdown",
   "metadata": {},
   "source": [
    "# Choosing the Right Tools"
   ]
  },
  {
   "cell_type": "markdown",
   "metadata": {},
   "source": [
    "## Importing and Installing Right Packages"
   ]
  },
  {
   "cell_type": "code",
   "execution_count": 1,
   "metadata": {},
   "outputs": [],
   "source": [
    "import pandas as pd\n",
    "pd.set_option('mode.chained_assignment', None)      # To suppress pandas warnings.\n",
    "pd.set_option('display.max_colwidth', None)       # To display all the data in each column\n",
    "pd.set_option('display.precision', 5)               # To display values only upto three decimal places.\n",
    "pd.options.display.max_columns = 50                 # To display every column of the dataset in head()\n",
    "pd.options.display.float_format = '{:.2f}'.format  \n",
    "import numpy as np\n",
    "import seaborn as sns\n",
    "sns.set(style='whitegrid', font_scale = 1.3, color_codes=True)\n",
    "from sklearn.preprocessing import LabelEncoder\n",
    "\n",
    "\n",
    "import matplotlib.pyplot as plt\n",
    "%matplotlib inline\n",
    "\n",
    "\n",
    "import warnings\n",
    "\n",
    "warnings.filterwarnings('ignore')\n",
    "%matplotlib inline"
   ]
  },
  {
   "cell_type": "markdown",
   "metadata": {},
   "source": [
    "## Handling Warnings"
   ]
  },
  {
   "cell_type": "code",
   "execution_count": 2,
   "metadata": {},
   "outputs": [],
   "source": [
    "warnings.filterwarnings('ignore') # ignore warnings.\n",
    "%config IPCompleter.greedy = True # autocomplete feature.\n",
    "pd.options.display.max_rows = None # set maximum rows that can be displayed in notebook.\n",
    "pd.options.display.max_columns = None # set maximum columns that can be displayed in notebook.\n",
    "pd.options.display.precision = 4 # set the precision of floating point numbers."
   ]
  },
  {
   "cell_type": "markdown",
   "metadata": {},
   "source": [
    "# Loading Dataset"
   ]
  },
  {
   "cell_type": "code",
   "execution_count": 3,
   "metadata": {},
   "outputs": [],
   "source": [
    " # Importing training dataset using pd.read_excel from local folder\n",
    "df_train=pd.read_excel(\"DrTrain.xlsx\")\n",
    "df_train[\"source\"]=\"train\""
   ]
  },
  {
   "cell_type": "code",
   "execution_count": 4,
   "metadata": {},
   "outputs": [],
   "source": [
    " # Importing testing dataset using pd.read_excel from local folder\n",
    "df_test=pd.read_excel(\"DrTest.xlsx\")\n",
    "df_test[\"source\"]=\"test\""
   ]
  },
  {
   "cell_type": "markdown",
   "metadata": {},
   "source": [
    "<span style='background:yellow'>**Observation:** we have Imported the Train & Test Data which was in a Zip File in our local folder. Now we have imported them in our Jupyter notebook. It will be difficult to Pre-process data & do EDA, sepertaely for Train & Test. So lets combine both of them and work on pre-processing and EDA. While Model Building we will split our data back to Train & Test. To make the split easy, we have added a column called \"source\" to identify if it is train or test and we can seperate them easily   </span>"
   ]
  },
  {
   "cell_type": "code",
   "execution_count": 5,
   "metadata": {},
   "outputs": [
    {
     "data": {
      "text/html": [
       "<div>\n",
       "<style scoped>\n",
       "    .dataframe tbody tr th:only-of-type {\n",
       "        vertical-align: middle;\n",
       "    }\n",
       "\n",
       "    .dataframe tbody tr th {\n",
       "        vertical-align: top;\n",
       "    }\n",
       "\n",
       "    .dataframe thead th {\n",
       "        text-align: right;\n",
       "    }\n",
       "</style>\n",
       "<table border=\"1\" class=\"dataframe\">\n",
       "  <thead>\n",
       "    <tr style=\"text-align: right;\">\n",
       "      <th></th>\n",
       "      <th>Qualification</th>\n",
       "      <th>Experience</th>\n",
       "      <th>Rating</th>\n",
       "      <th>Place</th>\n",
       "      <th>Profile</th>\n",
       "      <th>Miscellaneous_Info</th>\n",
       "      <th>Fees</th>\n",
       "      <th>source</th>\n",
       "    </tr>\n",
       "  </thead>\n",
       "  <tbody>\n",
       "    <tr>\n",
       "      <th>0</th>\n",
       "      <td>BHMS, MD - Homeopathy</td>\n",
       "      <td>24 years experience</td>\n",
       "      <td>100%</td>\n",
       "      <td>Kakkanad, Ernakulam</td>\n",
       "      <td>Homeopath</td>\n",
       "      <td>100% 16 Feedback Kakkanad, Ernakulam</td>\n",
       "      <td>100.00</td>\n",
       "      <td>train</td>\n",
       "    </tr>\n",
       "    <tr>\n",
       "      <th>1</th>\n",
       "      <td>BAMS, MD - Ayurveda Medicine</td>\n",
       "      <td>12 years experience</td>\n",
       "      <td>98%</td>\n",
       "      <td>Whitefield, Bangalore</td>\n",
       "      <td>Ayurveda</td>\n",
       "      <td>98% 76 Feedback Whitefield, Bangalore</td>\n",
       "      <td>350.00</td>\n",
       "      <td>train</td>\n",
       "    </tr>\n",
       "    <tr>\n",
       "      <th>2</th>\n",
       "      <td>MBBS, MS - Otorhinolaryngology</td>\n",
       "      <td>9 years experience</td>\n",
       "      <td>NaN</td>\n",
       "      <td>Mathikere - BEL, Bangalore</td>\n",
       "      <td>ENT Specialist</td>\n",
       "      <td>NaN</td>\n",
       "      <td>300.00</td>\n",
       "      <td>train</td>\n",
       "    </tr>\n",
       "    <tr>\n",
       "      <th>3</th>\n",
       "      <td>BSc - Zoology, BAMS</td>\n",
       "      <td>12 years experience</td>\n",
       "      <td>NaN</td>\n",
       "      <td>Bannerghatta Road, Bangalore</td>\n",
       "      <td>Ayurveda</td>\n",
       "      <td>Bannerghatta Road, Bangalore ₹250 Available on Sun, 10 Feb</td>\n",
       "      <td>250.00</td>\n",
       "      <td>train</td>\n",
       "    </tr>\n",
       "    <tr>\n",
       "      <th>4</th>\n",
       "      <td>BAMS</td>\n",
       "      <td>20 years experience</td>\n",
       "      <td>100%</td>\n",
       "      <td>Keelkattalai, Chennai</td>\n",
       "      <td>Ayurveda</td>\n",
       "      <td>100% 4 Feedback Keelkattalai, Chennai</td>\n",
       "      <td>250.00</td>\n",
       "      <td>train</td>\n",
       "    </tr>\n",
       "  </tbody>\n",
       "</table>\n",
       "</div>"
      ],
      "text/plain": [
       "                    Qualification           Experience Rating  \\\n",
       "0           BHMS, MD - Homeopathy  24 years experience   100%   \n",
       "1    BAMS, MD - Ayurveda Medicine  12 years experience    98%   \n",
       "2  MBBS, MS - Otorhinolaryngology   9 years experience    NaN   \n",
       "3             BSc - Zoology, BAMS  12 years experience    NaN   \n",
       "4                            BAMS  20 years experience   100%   \n",
       "\n",
       "                          Place         Profile  \\\n",
       "0           Kakkanad, Ernakulam       Homeopath   \n",
       "1         Whitefield, Bangalore        Ayurveda   \n",
       "2    Mathikere - BEL, Bangalore  ENT Specialist   \n",
       "3  Bannerghatta Road, Bangalore        Ayurveda   \n",
       "4         Keelkattalai, Chennai        Ayurveda   \n",
       "\n",
       "                                           Miscellaneous_Info   Fees source  \n",
       "0                        100% 16 Feedback Kakkanad, Ernakulam 100.00  train  \n",
       "1                       98% 76 Feedback Whitefield, Bangalore 350.00  train  \n",
       "2                                                         NaN 300.00  train  \n",
       "3  Bannerghatta Road, Bangalore ₹250 Available on Sun, 10 Feb 250.00  train  \n",
       "4                       100% 4 Feedback Keelkattalai, Chennai 250.00  train  "
      ]
     },
     "execution_count": 5,
     "metadata": {},
     "output_type": "execute_result"
    }
   ],
   "source": [
    "df=pd.concat([df_train,df_test])\n",
    "df.head()"
   ]
  },
  {
   "cell_type": "markdown",
   "metadata": {},
   "source": [
    "<span style='background:yellow'>**Observation:** The combined data is loading properly and we can see that Source column is also appearing. Looks like only Fees is a numerical column, all others are categorical. All columns content have long strings of data, which we need to convert to meaningful data before we move to EDA & Model Building   </span>"
   ]
  },
  {
   "cell_type": "markdown",
   "metadata": {},
   "source": [
    "# Initial Analysis of Data"
   ]
  },
  {
   "cell_type": "code",
   "execution_count": 6,
   "metadata": {},
   "outputs": [
    {
     "data": {
      "text/plain": [
       "(7948, 8)"
      ]
     },
     "execution_count": 6,
     "metadata": {},
     "output_type": "execute_result"
    }
   ],
   "source": [
    "df.shape"
   ]
  },
  {
   "cell_type": "markdown",
   "metadata": {},
   "source": [
    "## Missing Values"
   ]
  },
  {
   "cell_type": "code",
   "execution_count": 7,
   "metadata": {},
   "outputs": [
    {
     "data": {
      "text/plain": [
       "Qualification            0\n",
       "Experience               0\n",
       "Rating                4392\n",
       "Place                   31\n",
       "Profile                  0\n",
       "Miscellaneous_Info    3454\n",
       "Fees                  1987\n",
       "source                   0\n",
       "dtype: int64"
      ]
     },
     "execution_count": 7,
     "metadata": {},
     "output_type": "execute_result"
    }
   ],
   "source": [
    "df.isnull().sum()"
   ]
  },
  {
   "cell_type": "code",
   "execution_count": 8,
   "metadata": {},
   "outputs": [
    {
     "data": {
      "text/plain": [
       "Qualification         0.00\n",
       "Experience            0.00\n",
       "Rating               55.26\n",
       "Place                 0.39\n",
       "Profile               0.00\n",
       "Miscellaneous_Info   43.46\n",
       "Fees                 25.00\n",
       "source                0.00\n",
       "dtype: float64"
      ]
     },
     "execution_count": 8,
     "metadata": {},
     "output_type": "execute_result"
    }
   ],
   "source": [
    "round(df.isnull().sum()/len(df)*100,2)"
   ]
  },
  {
   "cell_type": "markdown",
   "metadata": {},
   "source": [
    "<span style='background:yellow'>**Observation:** Rating has 54% missing values, Miscellaneous_Info has 43% missing data and Fees has 25% missing data. Place has the least missing value which is less than 0.5%. We would need to handle this data before EDA & Model Building   </span>"
   ]
  },
  {
   "cell_type": "markdown",
   "metadata": {},
   "source": [
    "## Duplicate Values"
   ]
  },
  {
   "cell_type": "code",
   "execution_count": 9,
   "metadata": {},
   "outputs": [
    {
     "name": "stdout",
     "output_type": "stream",
     "text": [
      "There are 51 duplicates out of total 7948 rows\n"
     ]
    }
   ],
   "source": [
    "duplicates = df[df.duplicated()]\n",
    "print('There are {} duplicates out of total {} rows'.format(duplicates.shape[0], df.shape[0]))"
   ]
  },
  {
   "cell_type": "code",
   "execution_count": 10,
   "metadata": {},
   "outputs": [],
   "source": [
    "df.drop_duplicates( keep='first', inplace=True)"
   ]
  },
  {
   "cell_type": "code",
   "execution_count": 11,
   "metadata": {},
   "outputs": [
    {
     "data": {
      "text/plain": [
       "(7897, 8)"
      ]
     },
     "execution_count": 11,
     "metadata": {},
     "output_type": "execute_result"
    }
   ],
   "source": [
    "df.shape"
   ]
  },
  {
   "cell_type": "code",
   "execution_count": 12,
   "metadata": {},
   "outputs": [
    {
     "data": {
      "text/plain": [
       "51"
      ]
     },
     "execution_count": 12,
     "metadata": {},
     "output_type": "execute_result"
    }
   ],
   "source": [
    "7948-7897"
   ]
  },
  {
   "cell_type": "markdown",
   "metadata": {},
   "source": [
    "<span style='background:yellow'>**Observation:** 51 duplicate rows have been dropped and we confirmed with df.shape  </span>"
   ]
  },
  {
   "cell_type": "code",
   "execution_count": 13,
   "metadata": {},
   "outputs": [
    {
     "data": {
      "text/plain": [
       "Qualification         1801\n",
       "Experience              64\n",
       "Rating                  52\n",
       "Place                  948\n",
       "Profile                  6\n",
       "Miscellaneous_Info    3980\n",
       "Fees                    40\n",
       "source                   2\n",
       "dtype: int64"
      ]
     },
     "execution_count": 13,
     "metadata": {},
     "output_type": "execute_result"
    }
   ],
   "source": [
    "df.nunique()"
   ]
  },
  {
   "cell_type": "markdown",
   "metadata": {},
   "source": [
    "## Object and Numeric Columns"
   ]
  },
  {
   "cell_type": "code",
   "execution_count": 14,
   "metadata": {},
   "outputs": [
    {
     "name": "stdout",
     "output_type": "stream",
     "text": [
      "<class 'pandas.core.frame.DataFrame'>\n",
      "Int64Index: 7897 entries, 0 to 1986\n",
      "Data columns (total 8 columns):\n",
      " #   Column              Non-Null Count  Dtype  \n",
      "---  ------              --------------  -----  \n",
      " 0   Qualification       7897 non-null   object \n",
      " 1   Experience          7897 non-null   object \n",
      " 2   Rating              3556 non-null   object \n",
      " 3   Place               7894 non-null   object \n",
      " 4   Profile             7897 non-null   object \n",
      " 5   Miscellaneous_Info  4493 non-null   object \n",
      " 6   Fees                5921 non-null   float64\n",
      " 7   source              7897 non-null   object \n",
      "dtypes: float64(1), object(7)\n",
      "memory usage: 555.3+ KB\n"
     ]
    }
   ],
   "source": [
    "df.info()"
   ]
  },
  {
   "cell_type": "markdown",
   "metadata": {},
   "source": [
    "<span style='background:yellow'>**Observation:** As we saw in the head file, we see that only Target column \"Fees\" is numeric, everythign else is an Object column  </span>"
   ]
  },
  {
   "cell_type": "markdown",
   "metadata": {},
   "source": [
    "## Determing Target Variable As Regresssion or Classification"
   ]
  },
  {
   "cell_type": "code",
   "execution_count": 15,
   "metadata": {},
   "outputs": [
    {
     "data": {
      "text/plain": [
       "100.00    1274\n",
       "500.00     937\n",
       "200.00     902\n",
       "300.00     863\n",
       "400.00     424\n",
       "250.00     307\n",
       "150.00     251\n",
       "600.00     214\n",
       "700.00     153\n",
       "350.00     143\n",
       "800.00     143\n",
       "50.00       80\n",
       "450.00      65\n",
       "750.00      34\n",
       "550.00      22\n",
       "650.00      21\n",
       "900.00      18\n",
       "70.00       18\n",
       "80.00       12\n",
       "60.00       11\n",
       "30.00        4\n",
       "40.00        2\n",
       "130.00       2\n",
       "180.00       2\n",
       "10.00        2\n",
       "260.00       2\n",
       "380.00       2\n",
       "220.00       1\n",
       "430.00       1\n",
       "630.00       1\n",
       "299.00       1\n",
       "20.00        1\n",
       "280.00       1\n",
       "230.00       1\n",
       "5.00         1\n",
       "850.00       1\n",
       "950.00       1\n",
       "125.00       1\n",
       "920.00       1\n",
       "499.00       1\n",
       "Name: Fees, dtype: int64"
      ]
     },
     "execution_count": 15,
     "metadata": {},
     "output_type": "execute_result"
    }
   ],
   "source": [
    "df[\"Fees\"].value_counts()"
   ]
  },
  {
   "cell_type": "code",
   "execution_count": 16,
   "metadata": {},
   "outputs": [
    {
     "data": {
      "text/plain": [
       "100.00   0.22\n",
       "500.00   0.16\n",
       "200.00   0.15\n",
       "300.00   0.15\n",
       "400.00   0.07\n",
       "250.00   0.05\n",
       "150.00   0.04\n",
       "600.00   0.04\n",
       "700.00   0.03\n",
       "350.00   0.02\n",
       "800.00   0.02\n",
       "50.00    0.01\n",
       "450.00   0.01\n",
       "750.00   0.01\n",
       "550.00   0.00\n",
       "650.00   0.00\n",
       "900.00   0.00\n",
       "70.00    0.00\n",
       "80.00    0.00\n",
       "60.00    0.00\n",
       "30.00    0.00\n",
       "40.00    0.00\n",
       "130.00   0.00\n",
       "180.00   0.00\n",
       "10.00    0.00\n",
       "260.00   0.00\n",
       "380.00   0.00\n",
       "220.00   0.00\n",
       "430.00   0.00\n",
       "630.00   0.00\n",
       "299.00   0.00\n",
       "20.00    0.00\n",
       "280.00   0.00\n",
       "230.00   0.00\n",
       "5.00     0.00\n",
       "850.00   0.00\n",
       "950.00   0.00\n",
       "125.00   0.00\n",
       "920.00   0.00\n",
       "499.00   0.00\n",
       "Name: Fees, dtype: float64"
      ]
     },
     "execution_count": 16,
     "metadata": {},
     "output_type": "execute_result"
    }
   ],
   "source": [
    "df.Fees.value_counts(normalize=True)"
   ]
  },
  {
   "cell_type": "markdown",
   "metadata": {},
   "source": [
    "<span style='background:yellow'>**Observation:** \"Fees\" column is continuous in nature. Checked if it can be bucketized into different bins, so we can convert to categorical data. But the data is spread continuosly and we wont be able to do it. So lets continue this model as a Regression Model   </span>"
   ]
  },
  {
   "cell_type": "code",
   "execution_count": 17,
   "metadata": {},
   "outputs": [
    {
     "data": {
      "text/html": [
       "<div>\n",
       "<style scoped>\n",
       "    .dataframe tbody tr th:only-of-type {\n",
       "        vertical-align: middle;\n",
       "    }\n",
       "\n",
       "    .dataframe tbody tr th {\n",
       "        vertical-align: top;\n",
       "    }\n",
       "\n",
       "    .dataframe thead th {\n",
       "        text-align: right;\n",
       "    }\n",
       "</style>\n",
       "<table border=\"1\" class=\"dataframe\">\n",
       "  <thead>\n",
       "    <tr style=\"text-align: right;\">\n",
       "      <th></th>\n",
       "      <th>Fees</th>\n",
       "    </tr>\n",
       "  </thead>\n",
       "  <tbody>\n",
       "    <tr>\n",
       "      <th>count</th>\n",
       "      <td>5921.00</td>\n",
       "    </tr>\n",
       "    <tr>\n",
       "      <th>mean</th>\n",
       "      <td>309.12</td>\n",
       "    </tr>\n",
       "    <tr>\n",
       "      <th>std</th>\n",
       "      <td>190.83</td>\n",
       "    </tr>\n",
       "    <tr>\n",
       "      <th>min</th>\n",
       "      <td>5.00</td>\n",
       "    </tr>\n",
       "    <tr>\n",
       "      <th>25%</th>\n",
       "      <td>150.00</td>\n",
       "    </tr>\n",
       "    <tr>\n",
       "      <th>50%</th>\n",
       "      <td>300.00</td>\n",
       "    </tr>\n",
       "    <tr>\n",
       "      <th>75%</th>\n",
       "      <td>500.00</td>\n",
       "    </tr>\n",
       "    <tr>\n",
       "      <th>max</th>\n",
       "      <td>950.00</td>\n",
       "    </tr>\n",
       "  </tbody>\n",
       "</table>\n",
       "</div>"
      ],
      "text/plain": [
       "         Fees\n",
       "count 5921.00\n",
       "mean   309.12\n",
       "std    190.83\n",
       "min      5.00\n",
       "25%    150.00\n",
       "50%    300.00\n",
       "75%    500.00\n",
       "max    950.00"
      ]
     },
     "execution_count": 17,
     "metadata": {},
     "output_type": "execute_result"
    }
   ],
   "source": [
    "df.describe()"
   ]
  },
  {
   "cell_type": "markdown",
   "metadata": {},
   "source": [
    "<span style='background:yellow'>**Observation:** The mean is almost equal to the median for \"Fees\". So it looks like a normally distributed data. Since Fees is the only column, only \"Fees\"details came in df.describe() </span>"
   ]
  },
  {
   "cell_type": "markdown",
   "metadata": {},
   "source": [
    "# Pre-Processing of Data"
   ]
  },
  {
   "cell_type": "code",
   "execution_count": 18,
   "metadata": {},
   "outputs": [
    {
     "data": {
      "text/plain": [
       "Index(['Qualification', 'Experience', 'Rating', 'Place', 'Profile',\n",
       "       'Miscellaneous_Info', 'Fees', 'source'],\n",
       "      dtype='object')"
      ]
     },
     "execution_count": 18,
     "metadata": {},
     "output_type": "execute_result"
    }
   ],
   "source": [
    "df.columns"
   ]
  },
  {
   "cell_type": "code",
   "execution_count": 19,
   "metadata": {},
   "outputs": [
    {
     "name": "stdout",
     "output_type": "stream",
     "text": [
      "<class 'pandas.core.frame.DataFrame'>\n",
      "Int64Index: 7897 entries, 0 to 1986\n",
      "Data columns (total 8 columns):\n",
      " #   Column              Non-Null Count  Dtype  \n",
      "---  ------              --------------  -----  \n",
      " 0   Qualification       7897 non-null   object \n",
      " 1   Experience          7897 non-null   object \n",
      " 2   Rating              3556 non-null   object \n",
      " 3   Place               7894 non-null   object \n",
      " 4   Profile             7897 non-null   object \n",
      " 5   Miscellaneous_Info  4493 non-null   object \n",
      " 6   Fees                5921 non-null   float64\n",
      " 7   source              7897 non-null   object \n",
      "dtypes: float64(1), object(7)\n",
      "memory usage: 555.3+ KB\n"
     ]
    }
   ],
   "source": [
    "df.info()"
   ]
  },
  {
   "cell_type": "markdown",
   "metadata": {},
   "source": [
    "## Handling Experience Column"
   ]
  },
  {
   "cell_type": "code",
   "execution_count": 20,
   "metadata": {},
   "outputs": [
    {
     "data": {
      "text/plain": [
       "9 years experience     419\n",
       "10 years experience    404\n",
       "8 years experience     378\n",
       "11 years experience    372\n",
       "12 years experience    358\n",
       "19 years experience    341\n",
       "14 years experience    332\n",
       "7 years experience     327\n",
       "13 years experience    323\n",
       "6 years experience     279\n",
       "15 years experience    257\n",
       "18 years experience    254\n",
       "17 years experience    251\n",
       "5 years experience     238\n",
       "16 years experience    237\n",
       "20 years experience    204\n",
       "21 years experience    201\n",
       "22 years experience    183\n",
       "23 years experience    168\n",
       "4 years experience     158\n",
       "3 years experience     143\n",
       "24 years experience    131\n",
       "25 years experience    115\n",
       "29 years experience    113\n",
       "28 years experience    111\n",
       "27 years experience    111\n",
       "26 years experience    103\n",
       "34 years experience     94\n",
       "0 years experience      87\n",
       "30 years experience     86\n",
       "38 years experience     83\n",
       "32 years experience     81\n",
       "31 years experience     81\n",
       "2 years experience      78\n",
       "33 years experience     73\n",
       "36 years experience     73\n",
       "39 years experience     70\n",
       "37 years experience     68\n",
       "35 years experience     65\n",
       "40 years experience     61\n",
       "42 years experience     52\n",
       "43 years experience     50\n",
       "41 years experience     48\n",
       "44 years experience     48\n",
       "46 years experience     38\n",
       "45 years experience     27\n",
       "49 years experience     22\n",
       "47 years experience     20\n",
       "48 years experience     17\n",
       "51 years experience     14\n",
       "50 years experience     12\n",
       "54 years experience      7\n",
       "52 years experience      6\n",
       "59 years experience      5\n",
       "56 years experience      4\n",
       "53 years experience      4\n",
       "55 years experience      3\n",
       "65 years experience      2\n",
       "57 years experience      2\n",
       "60 years experience      1\n",
       "58 years experience      1\n",
       "66 years experience      1\n",
       "61 years experience      1\n",
       "64 years experience      1\n",
       "Name: Experience, dtype: int64"
      ]
     },
     "execution_count": 20,
     "metadata": {},
     "output_type": "execute_result"
    }
   ],
   "source": [
    "df[\"Experience\"].value_counts()"
   ]
  },
  {
   "cell_type": "markdown",
   "metadata": {},
   "source": [
    "<span style='background:yellow'>**Observation:** We need only the integer value and not the rest of the line \"Years of Experience\". So lets extract only that and convert to integer   </span>"
   ]
  },
  {
   "cell_type": "code",
   "execution_count": 21,
   "metadata": {},
   "outputs": [],
   "source": [
    "df[\"Experience\"] = df[\"Experience\"].str.split()\n",
    "df[\"Experience\"] = df[\"Experience\"].str[0].astype(\"int\")"
   ]
  },
  {
   "cell_type": "code",
   "execution_count": 22,
   "metadata": {},
   "outputs": [
    {
     "name": "stdout",
     "output_type": "stream",
     "text": [
      "<class 'pandas.core.frame.DataFrame'>\n",
      "Int64Index: 7897 entries, 0 to 1986\n",
      "Data columns (total 8 columns):\n",
      " #   Column              Non-Null Count  Dtype  \n",
      "---  ------              --------------  -----  \n",
      " 0   Qualification       7897 non-null   object \n",
      " 1   Experience          7897 non-null   int32  \n",
      " 2   Rating              3556 non-null   object \n",
      " 3   Place               7894 non-null   object \n",
      " 4   Profile             7897 non-null   object \n",
      " 5   Miscellaneous_Info  4493 non-null   object \n",
      " 6   Fees                5921 non-null   float64\n",
      " 7   source              7897 non-null   object \n",
      "dtypes: float64(1), int32(1), object(6)\n",
      "memory usage: 524.4+ KB\n"
     ]
    }
   ],
   "source": [
    "df.info()"
   ]
  },
  {
   "cell_type": "code",
   "execution_count": 23,
   "metadata": {},
   "outputs": [
    {
     "data": {
      "text/plain": [
       "9     419\n",
       "10    404\n",
       "8     378\n",
       "11    372\n",
       "12    358\n",
       "19    341\n",
       "14    332\n",
       "7     327\n",
       "13    323\n",
       "6     279\n",
       "15    257\n",
       "18    254\n",
       "17    251\n",
       "5     238\n",
       "16    237\n",
       "20    204\n",
       "21    201\n",
       "22    183\n",
       "23    168\n",
       "4     158\n",
       "3     143\n",
       "24    131\n",
       "25    115\n",
       "29    113\n",
       "27    111\n",
       "28    111\n",
       "26    103\n",
       "34     94\n",
       "0      87\n",
       "30     86\n",
       "38     83\n",
       "31     81\n",
       "32     81\n",
       "2      78\n",
       "36     73\n",
       "33     73\n",
       "39     70\n",
       "37     68\n",
       "35     65\n",
       "40     61\n",
       "42     52\n",
       "43     50\n",
       "44     48\n",
       "41     48\n",
       "46     38\n",
       "45     27\n",
       "49     22\n",
       "47     20\n",
       "48     17\n",
       "51     14\n",
       "50     12\n",
       "54      7\n",
       "52      6\n",
       "59      5\n",
       "56      4\n",
       "53      4\n",
       "55      3\n",
       "57      2\n",
       "65      2\n",
       "60      1\n",
       "64      1\n",
       "58      1\n",
       "66      1\n",
       "61      1\n",
       "Name: Experience, dtype: int64"
      ]
     },
     "execution_count": 23,
     "metadata": {},
     "output_type": "execute_result"
    }
   ],
   "source": [
    "df[\"Experience\"].value_counts()"
   ]
  },
  {
   "cell_type": "markdown",
   "metadata": {},
   "source": [
    "<span style='background:yellow'>**Observation:** We have converted the Experience column into years. Like how we do the split function in an Excel, we have converted the sring to list. Then the first column we have converted to integer. From the df.info post conversion, we can see it  is integer. And the Unnecessary string \" Years of Experience \" has been removed. Now this column is ready for our EDA & Model   </span>"
   ]
  },
  {
   "cell_type": "markdown",
   "metadata": {},
   "source": [
    "## Handling Place Column"
   ]
  },
  {
   "cell_type": "code",
   "execution_count": 24,
   "metadata": {},
   "outputs": [
    {
     "data": {
      "text/plain": [
       "Andheri West, Mumbai                      97\n",
       "HSR Layout, Bangalore                     97\n",
       "Dwarka, Delhi                             93\n",
       "Banjara Hills, Hyderabad                  84\n",
       "Mulund West, Mumbai                       81\n",
       "Whitefield, Bangalore                     70\n",
       "Borivali West, Mumbai                     68\n",
       "Indiranagar, Bangalore                    62\n",
       "Pitampura, Delhi                          61\n",
       "Malad West, Mumbai                        60\n",
       "Kandivali West, Mumbai                    60\n",
       "Malleswaram, Bangalore                    60\n",
       "Bannerghatta Road, Bangalore              57\n",
       "Vileparle West, Mumbai                    57\n",
       "Jubilee Hills, Hyderabad                  56\n",
       "Rohini, Delhi                             54\n",
       "Adyar, Chennai                            53\n",
       "Shalimar Bagh, Delhi                      53\n",
       "Powai, Mumbai                             53\n",
       "KPHB, Hyderabad                           50\n",
       "Kondapur, Hyderabad                       50\n",
       "Marathahalli, Bangalore                   49\n",
       "Secunderabad, Hyderabad                   49\n",
       "Andheri East, Mumbai                      49\n",
       "Ghatkopar East, Mumbai                    49\n",
       "Bandra West, Mumbai                       48\n",
       "Janak Puri, Delhi                         47\n",
       "Madhapur, Hyderabad                       46\n",
       "R.S. Puram, Coimbatore                    45\n",
       "Paschim Vihar, Delhi                      44\n",
       "Velachery, Chennai                        44\n",
       "Kukatpally, Hyderabad                     42\n",
       "Mira Road, Mumbai                         42\n",
       "Koramangala, Bangalore                    41\n",
       "Ghatkopar West, Mumbai                    41\n",
       "Anna Nagar, Chennai                       41\n",
       "Old Rajendra Nagar, Delhi                 41\n",
       "Yelahanka, Bangalore                      41\n",
       "T Nagar, Chennai                          40\n",
       "Vasant Kunj, Delhi                        40\n",
       "Chembur, Mumbai                           40\n",
       "Gachibowli, Hyderabad                     39\n",
       "Saket, Delhi                              38\n",
       "Nungambakkam, Chennai                     37\n",
       "Kandivali East, Mumbai                    37\n",
       "Dilsukhnagar, Hyderabad                   36\n",
       "Vijayanagar, Bangalore                    36\n",
       "Bellandur, Bangalore                      36\n",
       "Kalyan Nagar, Bangalore                   35\n",
       "Goregaon West, Mumbai                     34\n",
       "BTM Layout 2nd Stage, Bangalore           34\n",
       "Porur, Chennai                            33\n",
       "Lajpat Nagar, Delhi                       32\n",
       "Bhandup West, Mumbai                      32\n",
       "Manikonda, Hyderabad                      32\n",
       "Rajajinagar, Bangalore                    31\n",
       "Sarjapur Road, Bangalore                  31\n",
       "Kilpauk, Chennai                          31\n",
       "Mahim, Mumbai                             31\n",
       "Thoraipakkam, Chennai                     30\n",
       "Mylapore, Chennai                         30\n",
       "Santacruz West, Mumbai                    29\n",
       "RT Nagar, Bangalore                       29\n",
       "Goregaon East, Mumbai                     28\n",
       "Vileparle East, Mumbai                    27\n",
       "Mehdipatnam, Hyderabad                    27\n",
       "Peelamedu, Coimbatore                     27\n",
       "Patparganj, Delhi                         27\n",
       "Prabhadevi, Mumbai                        26\n",
       "Laxmi Nagar, Delhi                        26\n",
       "Malviya Nagar, Delhi                      26\n",
       "Khar West, Mumbai                         26\n",
       "Attapur, Hyderabad                        25\n",
       "Banashankari 3rd Stage, Bangalore         25\n",
       "Mayur Vihar Ph-I, Delhi                   24\n",
       "Chanda Nagar, Hyderabad                   24\n",
       "Safdarjung Enclave, Delhi                 24\n",
       "Saibaba Colony, Coimbatore                24\n",
       "Defence Colony, Delhi                     24\n",
       "Tambaram East, Chennai                    24\n",
       "Dilshad Garden, Delhi                     24\n",
       "Tolichowki, Hyderabad                     23\n",
       "AS Rao Nagar, Hyderabad                   23\n",
       "Greater Kailash Part 1, Delhi             23\n",
       "Rajouri Garden, Delhi                     23\n",
       "Vanasthalipuram, Hyderabad                23\n",
       "Ganapathy, Coimbatore                     23\n",
       "Green Park, Delhi                         22\n",
       "Basavanagudi, Bangalore                   22\n",
       "Yeshwanthpur, Bangalore                   22\n",
       "Vasant Vihar, Delhi                       22\n",
       "Chromepet, Chennai                        22\n",
       "Jayanagar, Bangalore                      22\n",
       "Himayat Nagar, Hyderabad                  21\n",
       "Dadar West, Mumbai                        21\n",
       "Vikas Puri, Delhi                         20\n",
       "Panchsheel Park, Delhi                    20\n",
       "Pallikaranai, Chennai                     20\n",
       "Nanganallur, Chennai                      20\n",
       "Kalkaji, Delhi                            20\n",
       "Alwarpet, Chennai                         20\n",
       "Sarita Vihar, Delhi                       20\n",
       "Malakpet, Hyderabad                       20\n",
       "Ramamurthy Nagar, Bangalore               20\n",
       "Jayanagar 4 Block, Bangalore              20\n",
       "Electronics City, Bangalore               19\n",
       "Jayanagar 9 Block, Bangalore              19\n",
       "Chembur East, Mumbai                      19\n",
       "KR Puram, Bangalore                       19\n",
       "Sahakaranagar, Bangalore                  19\n",
       "Basaveshwaranagar, Bangalore              19\n",
       "Dahisar East, Mumbai                      19\n",
       "Miyapur, Hyderabad                        19\n",
       "LB Nagar, Hyderabad                       19\n",
       "Old Airport Road, Bangalore               19\n",
       "Borivali East, Mumbai                     18\n",
       "Karol Bagh, Delhi                         18\n",
       "Valasaravakkam, Chennai                   18\n",
       "Greater Kailash Part 2, Delhi             18\n",
       "Kundalahalli, Bangalore                   18\n",
       "Matunga, Mumbai                           17\n",
       "Madinaguda, Hyderabad                     17\n",
       "Krishna Nagar, Delhi                      17\n",
       "Ameerpet, Hyderabad                       17\n",
       "Kakkanad, Ernakulam                       17\n",
       "Vadapalani, Chennai                       17\n",
       "Vadavalli, Coimbatore                     17\n",
       "Punjabi Bagh, Delhi                       17\n",
       "Nagarbhavi, Bangalore                     17\n",
       "Kolathur, Chennai                         17\n",
       "Thiruvanmiyur, Chennai                    17\n",
       "Nizampet, Hyderabad                       16\n",
       "Medavakkam, Chennai                       16\n",
       "Kammana Halli, Bangalore                  16\n",
       "Frazer Town, Bangalore                    16\n",
       "Dadar East, Mumbai                        16\n",
       "Kadavanthra, Ernakulam                    16\n",
       "Vanagaram, Chennai                        16\n",
       "Shahdara, Delhi                           16\n",
       "JP Nagar 7 Phase, Bangalore               16\n",
       "Mulund East, Mumbai                       16\n",
       "Begumpet, Hyderabad                       16\n",
       "Rajarajeshwarinagar, Bangalore            15\n",
       "Juhu, Mumbai                              15\n",
       "Arumbakkam, Chennai                       15\n",
       "Pusa Road, Delhi                          15\n",
       "Arekere, Bangalore                        15\n",
       "Parel, Mumbai                             15\n",
       "Edapally, Ernakulam                       14\n",
       "Mathikere - BEL, Bangalore                14\n",
       "Somajiguda, Hyderabad                     14\n",
       "Kurla West, Mumbai                        14\n",
       "Madipakkam, Chennai                       14\n",
       "Kodambakkam, Chennai                      14\n",
       "Kemps Corner, Mumbai                      14\n",
       "Sakinaka, Mumbai                          14\n",
       "Vyttila, Ernakulam                        14\n",
       "JP Nagar 2 Phase, Bangalore               14\n",
       "Punjagutta, Hyderabad                     14\n",
       "Banashankari, Bangalore                   13\n",
       "Anna Nagar West, Chennai                  13\n",
       "Ramanathapuram, Coimbatore                13\n",
       "Malad East, Mumbai                        13\n",
       "Kaggadasapura, Bangalore                  13\n",
       "Teynampet, Chennai                        13\n",
       "Ashok Nagar, Chennai                      13\n",
       "Rajakilpakkam, Chennai                    13\n",
       "Richmond Town, Bangalore                  13\n",
       "Perumbakkam, Chennai                      13\n",
       "Malkajgiri, Hyderabad                     13\n",
       "Bhayandar East, Mumbai                    13\n",
       "Colaba, Mumbai                            13\n",
       "Chetpet, Chennai                          12\n",
       "Hebbal, Bangalore                         12\n",
       "Panampilly Nagar, Ernakulam               12\n",
       "Ambattur, Chennai                         12\n",
       "Villivakkam, Chennai                      12\n",
       "West Marredpally, Hyderabad               12\n",
       "Hitech City, Hyderabad                    12\n",
       "Gandhipuram, Coimbatore                   12\n",
       "CR Park, Delhi                            12\n",
       "Kanakpura Road, Bangalore                 12\n",
       "Okhla, Delhi                              12\n",
       "Mayur Vihar Ph-III, Delhi                 12\n",
       "Royapettah, Chennai                       12\n",
       "Virugambakkam, Chennai                    12\n",
       "Kothapet, Hyderabad                       12\n",
       "CV Raman Nagar, Bangalore                 11\n",
       "Ramesh Nagar, Delhi                       11\n",
       "Banashankari 2nd Stage, Bangalore         11\n",
       "Domlur, Bangalore                         11\n",
       "Kadugodi, Bangalore                       11\n",
       "Wadala, Mumbai                            11\n",
       "South Extension 2, Delhi                  11\n",
       "New BEL Road, Bangalore                   11\n",
       "Tambaram West, Chennai                    11\n",
       "Jogeshwari East, Mumbai                   11\n",
       "Tambaram, Chennai                         11\n",
       "Bhayandar West, Mumbai                    11\n",
       "East Of Kailash, Delhi                    11\n",
       "Ashok Vihar, Delhi                        11\n",
       "Sadashivanagar, Bangalore                 11\n",
       "Banaswadi, Bangalore                      11\n",
       "Moti Nagar, Hyderabad                     11\n",
       "Habsiguda, Hyderabad                      11\n",
       "Ecil, Hyderabad                           11\n",
       "Aluva, Ernakulam                          11\n",
       "Besant Nagar, Chennai                     11\n",
       "Hauz Khas, Delhi                          11\n",
       "Triplicane, Chennai                       11\n",
       "Greams Road, Chennai                      11\n",
       "Nagawara, Bangalore                       11\n",
       "Alwal, Hyderabad                          11\n",
       "Tilak Nagar, Delhi                        11\n",
       "HRBR Layout, Bangalore                    11\n",
       "Trimulgherry, Hyderabad                   11\n",
       "Perambur, Chennai                         10\n",
       "Pattom, Thiruvananthapuram                10\n",
       "Jogeshwari West, Mumbai                   10\n",
       "Santacruz East, Mumbai                    10\n",
       "Banashankari 1st Stage, Bangalore         10\n",
       "BTM Layout, Bangalore                     10\n",
       "Shaikpet, Hyderabad                       10\n",
       "Erragadda, Hyderabad                      10\n",
       "KK Nagar, Chennai                         10\n",
       "Worli, Mumbai                             10\n",
       "Chamarajpet, Bangalore                    10\n",
       "Sanjay Nagar, Bangalore                   10\n",
       "Chattarpur, Delhi                         10\n",
       "Coimbatore Racecourse, Coimbatore         10\n",
       "South Extension 1, Delhi                  10\n",
       "Manapakkam, Chennai                       10\n",
       "Adambakkam, Chennai                       10\n",
       "Viveknagar, Bangalore                     10\n",
       "Preet Vihar, Delhi                        10\n",
       "New Friends Colony, Delhi                 10\n",
       "Dadar, Mumbai                             10\n",
       "Nallakunta, Hyderabad                     10\n",
       "Padmarao Nagar, Hyderabad                 10\n",
       "Guduvanchery, Chennai                      9\n",
       "Anand Vihar, Delhi                         9\n",
       "Mazgaon, Mumbai                            9\n",
       "Vikhroli East, Mumbai                      9\n",
       "Saravanampatti, Coimbatore                 9\n",
       "Lingampally, Hyderabad                     9\n",
       "Kamla Nagar, Delhi                         9\n",
       "Mogappair West, Chennai                    9\n",
       "Bandra East, Mumbai                        9\n",
       "Aminjikarai, Chennai                       9\n",
       "BTM Layout 1st Stage, Bangalore            9\n",
       "Yelahanka New Town, Bangalore              9\n",
       "Hari Nagar, Delhi                          9\n",
       "Sanath Nagar, Hyderabad                    9\n",
       "Vidyanagar, Hyderabad                      9\n",
       "Ayanavaram, Chennai                        9\n",
       "JP Nagar, Bangalore                        9\n",
       "Shenoy Nagar, Chennai                      9\n",
       "Nariman Point, Mumbai                      9\n",
       "Patel Nagar West, Delhi                    9\n",
       "Perungudi, Chennai                         9\n",
       "JP Nagar 5 Phase, Bangalore                8\n",
       "Tripunithura, Ernakulam                    8\n",
       "Lower Parel, Mumbai                        8\n",
       "Kengeri, Bangalore                         8\n",
       "Sion West, Mumbai                          8\n",
       "Singanallur, Coimbatore                    8\n",
       "Gujranwala Town, Delhi                     8\n",
       "Pandav Nagar, Delhi                        8\n",
       "Munirka, Delhi                             8\n",
       "Santosh Nagar, Hyderabad                   8\n",
       "JP Nagar 3 Phase, Bangalore                8\n",
       "OMR Road, Chennai                          8\n",
       "Purasawakkam, Chennai                      8\n",
       "New Rajendra Nagar, Delhi                  8\n",
       "Sholinganallur, Chennai                    8\n",
       "Pollachi, Coimbatore                       8\n",
       "Kottivakkam, Chennai                       8\n",
       "Jeedimetla, Hyderabad                      8\n",
       "Ramnagar, Coimbatore                       8\n",
       "Yamuna Vihar, Delhi                        8\n",
       "Masab Tank, Hyderabad                      8\n",
       "Millers Road, Bangalore                    8\n",
       "Koramangala 5 Block, Bangalore             8\n",
       "RK Puram, Delhi                            8\n",
       "Kumaraswamy Layout, Bangalore              7\n",
       "Rohini Sector 7, Delhi                     7\n",
       "Borivali, Mumbai                           7\n",
       "Charni Road, Mumbai                        7\n",
       "Kasturi nagar, Bangalore                   7\n",
       "Vidyaranyapura, Bangalore                  7\n",
       "Horamavu, Bangalore                        7\n",
       "Thousand Lights, Chennai                   7\n",
       "Chikkadpally, Hyderabad                    7\n",
       "Saroor Nagar, Hyderabad                    7\n",
       "Anna Nagar East, Chennai                   7\n",
       "Tondiarpet, Chennai                        7\n",
       "Kumarapuram, Thiruvananthapuram            7\n",
       "Wilson Garden, Bangalore                   7\n",
       "Varthur, Bangalore                         7\n",
       "Model Town, Delhi                          7\n",
       "Yousufguda, Hyderabad                      7\n",
       "Madhu Vihar, Delhi                         7\n",
       "SR Nagar, Hyderabad                        7\n",
       "Tarnaka, Hyderabad                         7\n",
       "Suchitra Circle, Hyderabad                 7\n",
       "Kaloor, Ernakulam                          7\n",
       "Ulsoor, Bangalore                          7\n",
       "Uppal, Hyderabad                           7\n",
       "Mira Bhayandar, Mumbai                     7\n",
       "Grant Road, Mumbai                         7\n",
       "Sion East, Mumbai                          7\n",
       "Chintal, Hyderabad                         7\n",
       "Uttam Nagar, Delhi                         7\n",
       "Mogappair East, Chennai                    7\n",
       "Adarsh Nagar, Delhi                        7\n",
       "Najafgarh, Delhi                           7\n",
       "Bhandup East, Mumbai                       7\n",
       "Oshiwara, Mumbai                           7\n",
       "Vasundhra Enclave, Delhi                   6\n",
       "Nandanam, Chennai                          6\n",
       "Serilingampally, Hyderabad                 6\n",
       "Koramangala 4 Block, Bangalore             6\n",
       "Sheikh Sarai, Delhi                        6\n",
       "Egmore, Chennai                            6\n",
       "JP Nagar 1 Phase, Bangalore                6\n",
       "Tardeo, Mumbai                             6\n",
       "Jeevanbhimanagar, Bangalore                6\n",
       "Peddar Road, Mumbai                        6\n",
       "Hazrat Nizamuddin, Delhi                   6\n",
       "Greater Kailash, Delhi                     6\n",
       "Mayur Vihar Ph-II, Delhi                   6\n",
       "Rani Bagh, Delhi                           6\n",
       "Saligramam, Chennai                        6\n",
       "Dahisar West, Mumbai                       6\n",
       "Nangloi, Delhi                             6\n",
       "Patel Nagar, Delhi                         6\n",
       "Keelkattalai, Chennai                      6\n",
       "Vijaynagar Colony, Hyderabad               6\n",
       "Khairatabad, Hyderabad                     6\n",
       "Siddhapudur, Coimbatore                    6\n",
       "Sreekaryam, Thiruvananthapuram             6\n",
       "Shivaji Nagar, Bangalore                   6\n",
       "Karkhana, Hyderabad                        6\n",
       "Bowenpally, Hyderabad                      6\n",
       "Mahadevapura, Bangalore                    6\n",
       "Kachiguda, Hyderabad                       6\n",
       "IP Extension, Delhi                        6\n",
       "Lokhandwala, Mumbai                        6\n",
       "JP Nagar 6 Phase, Bangalore                6\n",
       "Sundarapuram, Coimbatore                   6\n",
       "Uttarahalli, Bangalore                     6\n",
       "West Mambalam, Chennai                     6\n",
       "Barkatpura, Hyderabad                      6\n",
       "Alandur, Chennai                           6\n",
       "Choolaimedu, Chennai                       6\n",
       "Perumbavoor, Ernakulam                     6\n",
       "Nallagandla, Hyderabad                     6\n",
       "Jayanagar 5 Block, Bangalore               6\n",
       "New Thippasandra, Bangalore                6\n",
       "Vikhroli West, Mumbai                      5\n",
       "Pammal, Chennai                            5\n",
       "Andheri, Mumbai                            5\n",
       "Palam Colony, Delhi                        5\n",
       "Chandra Layout, Bangalore                  5\n",
       "Mukherjee Nagar, Delhi                     5\n",
       "Palarivattom, Ernakulam                    5\n",
       "Mugalivakkam, Chennai                      5\n",
       "Sion, Mumbai                               5\n",
       "Jalahalli, Bangalore                       5\n",
       "Ashok Vihar Phase 1, Delhi                 5\n",
       "Jakkur, Bangalore                          5\n",
       "Kochi M.G.Road, Ernakulam                  5\n",
       "Kothaguda, Hyderabad                       5\n",
       "HBR Layout, Bangalore                      5\n",
       "Koramangala 1 Block, Bangalore             5\n",
       "Washermenpet, Chennai                      5\n",
       "Vikhroli, Mumbai                           5\n",
       "Kalamassery, Ernakulam                     5\n",
       "New Ashok Nagar, Delhi                     5\n",
       "Moti Nagar, Delhi                          5\n",
       "Angamaly, Ernakulam                        5\n",
       "Vijaynagar, Delhi                          5\n",
       "Tuglakabad, Delhi                          5\n",
       "Naraina Vihar, Delhi                       5\n",
       "Pragathi Nagar, Hyderabad                  5\n",
       "Kilkattalai, Chennai                       5\n",
       "ECR Road, Chennai                          5\n",
       "Cuffe Parade, Mumbai                       5\n",
       "HAL 2nd Stage, Bangalore                   5\n",
       "Karkardooma, Delhi                         5\n",
       "Saidapet, Chennai                          5\n",
       "Govandi, Mumbai                            5\n",
       "Katwaria Sarai, Delhi                      5\n",
       "Velandipalayam, Coimbatore                 5\n",
       "Raja Annamalai Puram, Chennai              5\n",
       "Patel Nagar East, Delhi                    5\n",
       "Srinagar Colony, Hyderabad                 5\n",
       "Opera House, Mumbai                        5\n",
       "Shastri Nagar, Delhi                       5\n",
       "Pallavaram, Chennai                        5\n",
       "Kumara Park West, Bangalore                5\n",
       "Tagore Garden, Delhi                       5\n",
       "Jangpura, Delhi                            5\n",
       "Kurla East, Mumbai                         5\n",
       "Karapakkam, Chennai                        4\n",
       "Konanakunte, Bangalore                     4\n",
       "Bilekahalli, Bangalore                     4\n",
       "Alwarthirunagar, Chennai                   4\n",
       "Shakarpur, Delhi                           4\n",
       "Gopalapuram, Chennai                       4\n",
       "Pappanaickenpudur, Coimbatore              4\n",
       "Thoppumpady, Ernakulam                     4\n",
       "Palluruthy, Ernakulam                      4\n",
       "Selvapuram, Coimbatore                     4\n",
       "Mulund, Mumbai                             4\n",
       "Moosapet, Hyderabad                        4\n",
       "Vilankurichi, Coimbatore                   4\n",
       "Kavundampalayam, Coimbatore                4\n",
       "Hyderguda, Hyderabad                       4\n",
       "Byculla, Mumbai                            4\n",
       "Cunningham Road, Bangalore                 4\n",
       "Saidabad, Hyderabad                        4\n",
       "Keshav Puram, Delhi                        4\n",
       "Jhilmil Colony, Delhi                      4\n",
       "Malabar Hill, Mumbai                       4\n",
       "Chandivali, Mumbai                         4\n",
       "Pappanaickenpalayam, Coimbatore            4\n",
       "Navalur, Chennai                           4\n",
       "Civil Lines, Delhi                         4\n",
       "Jasola, Delhi                              4\n",
       "Kazhakuttam, Thiruvananthapuram            4\n",
       "Abids, Hyderabad                           4\n",
       "East Marredpally, Hyderabad                4\n",
       "Mogappair, Chennai                         4\n",
       "Padmanabhanagar, Bangalore                 4\n",
       "Pahar Ganj, Delhi                          4\n",
       "Karamana, Thiruvananthapuram               4\n",
       "Ganesh Nagar, Delhi                        4\n",
       "Tatabad, Coimbatore                        4\n",
       "Mumbai Central, Mumbai                     4\n",
       "Vennala, Ernakulam                         4\n",
       "Shantinagar, Bangalore                     4\n",
       "Sampangiramnagar, Bangalore                4\n",
       "Narayanguda, Hyderabad                     4\n",
       "Poonamalle, Chennai                        4\n",
       "Mandaveli, Chennai                         4\n",
       "Old City, Hyderabad                        4\n",
       "Dwarka Sector 7, Delhi                     4\n",
       "Qutab Institutional Area, Delhi            4\n",
       "Uday Park, Delhi                           4\n",
       "Girgaon, Mumbai                            4\n",
       "Dwarka Sector 23, Delhi                    4\n",
       "Banerji Road, Ernakulam                    4\n",
       "Moosarambagh, Hyderabad                    4\n",
       "Thiruvottiyur, Chennai                     4\n",
       "Kirti Nagar, Delhi                         4\n",
       "Perurkada, Thiruvananthapuram              4\n",
       "Kandanchavadi, Chennai                     4\n",
       "Edayarpalayam, Coimbatore                  4\n",
       "Basheerbagh, Hyderabad                     4\n",
       "Jayanagar 7 Block, Bangalore               4\n",
       "Domalguda, Hyderabad                       4\n",
       "Prashant Vihar, Delhi                      4\n",
       "Hope College, Coimbatore                   4\n",
       "Chunabhatti, Mumbai                        4\n",
       "JB Nagar, Mumbai                           4\n",
       "Seshadripuram, Bangalore                   4\n",
       "Kailash Colony, Delhi                      4\n",
       "Dwarka Sector 6, Delhi                     4\n",
       "Darya Ganj, Delhi                          4\n",
       "Madangir, Delhi                            3\n",
       "Shakti Nagar, Delhi                        3\n",
       "Anand Niketan, Delhi                       3\n",
       "Vanchiyur, Thiruvananthapuram              3\n",
       "Sagarpur, Delhi                            3\n",
       "Rohini Sector 3, Delhi                     3\n",
       "Balapur, Hyderabad                         3\n",
       "Ganganagar, Bangalore                      3\n",
       "Azadpur, Delhi                             3\n",
       "Ramkoti, Hyderabad                         3\n",
       "Malleshpalya, Bangalore                    3\n",
       "Delhi, Delhi                               3\n",
       "Kanchanbagh, Hyderabad                     3\n",
       "Versova, Mumbai                            3\n",
       "Kotturpuram, Chennai                       3\n",
       "Kalina, Mumbai                             3\n",
       "Kochi, Ernakulam                           3\n",
       "Sowcarpet, Chennai                         3\n",
       "Boduppal, Hyderabad                        3\n",
       "Hegde Nagar, Bangalore                     3\n",
       "Sultanpur, Delhi                           3\n",
       "Mahalakshmi Layout, Bangalore              3\n",
       "Dwarka Sector 3, Delhi                     3\n",
       "Nagole, Hyderabad                          3\n",
       "TV Medical College, Thiruvananthapuram     3\n",
       "Singasandra, Bangalore                     3\n",
       "Periyar Nagar, Chennai                     3\n",
       "Lajpat Nagar III, Delhi                    3\n",
       "Malad, Mumbai                              3\n",
       "Hoodi, Bangalore                           3\n",
       "Sasthamangalam, Thiruvananthapuram         3\n",
       "Gandhinagar, Hyderabad                     3\n",
       "Ambalamukku, Thiruvananthapuram            3\n",
       "Sowripalayam, Coimbatore                   3\n",
       "St Thomas Mount, Chennai                   3\n",
       "Sainikpuri, Hyderabad                      3\n",
       "MRC Nagar, Chennai                         3\n",
       "Coimbatore Ukkadam, Coimbatore             3\n",
       "Badarpur, Delhi                            3\n",
       "Kolenchery, Ernakulam                      3\n",
       "Shivalik, Delhi                            3\n",
       "Thanisandra, Bangalore                     3\n",
       "Langer House, Hyderabad                    3\n",
       "Kishanbagh, Hyderabad                      3\n",
       "Begum Bazar, Hyderabad                     3\n",
       "Kalkere, Bangalore                         3\n",
       "Broadway, Chennai                          3\n",
       "Chickpet, Bangalore                        3\n",
       "Mira-Bhayandar Road, Mumbai                3\n",
       "Peeragarhi, Delhi                          3\n",
       "Lal baug, Mumbai                           3\n",
       "Munnekollal, Bangalore                     3\n",
       "Balkampet, Hyderabad                       3\n",
       "Kothanur, Bangalore                        3\n",
       "Khan Market, Delhi                         3\n",
       "Dharavi, Mumbai                            3\n",
       "Kattakada, Thiruvananthapuram              3\n",
       "Kompally, Hyderabad                        3\n",
       "Balanagar, Hyderabad                       3\n",
       "Dwarka Sector 5, Delhi                     3\n",
       "T Dasarahalli, Bangalore                   3\n",
       "Coimbatore Central, Coimbatore             3\n",
       "Ramanthapur, Hyderabad                     3\n",
       "Ramapuram, Chennai                         3\n",
       "Musheerabad, Hyderabad                     3\n",
       "Tilak Nagar, Mumbai                        3\n",
       "Thiruvallom, Thiruvananthapuram            3\n",
       "Ashok Vihar Phase 3, Delhi                 3\n",
       "Kanjurmarg, Mumbai                         3\n",
       "Perungalathur, Chennai                     3\n",
       "Marine Drive, Ernakulam                    3\n",
       "Lajpat Nagar 4, Delhi                      3\n",
       "Hennur, Bangalore                          3\n",
       "Elamakkara, Ernakulam                      3\n",
       "Warasiguda, Hyderabad                      3\n",
       "Vasanthnagar, Bangalore                    3\n",
       "Nacharam, Hyderabad                        3\n",
       "Matunga West, Mumbai                       3\n",
       "Cotton Hill, Thiruvananthapuram            3\n",
       "Kodungaiyur, Chennai                       3\n",
       "Abbigere, Bangalore                        3\n",
       "Kasavanahalli, Bangalore                   3\n",
       "Marine Lines, Mumbai                       3\n",
       "Thrikkakara, Ernakulam                     3\n",
       "Alaknanda, Delhi                           3\n",
       "Gulmohar Park, Delhi                       3\n",
       "Tis Hazari, Delhi                          3\n",
       "Abhiramapuram, Chennai                     3\n",
       "Lakdikapul, Hyderabad                      3\n",
       "Begur, Bangalore                           3\n",
       "August Kranti Marg, Delhi                  3\n",
       "Dommasandra, Bangalore                     3\n",
       "Neelankarai, Chennai                       3\n",
       "Marol, Mumbai                              3\n",
       "Avadi, Chennai                             2\n",
       "Vivek Vihar, Delhi                         2\n",
       "Kelambakkam, Chennai                       2\n",
       "Peenya, Bangalore                          2\n",
       "Amberpet, Hyderabad                        2\n",
       "Hafeezpet, Hyderabad                       2\n",
       "Khetwadi, Mumbai                           2\n",
       "Dwarka Sector 22, Delhi                    2\n",
       "Mulanthuruthy, Ernakulam                   2\n",
       "Dasarahalli, Bangalore                     2\n",
       "Chaitanyapuri, Hyderabad                   2\n",
       "Gamdevi, Mumbai                            2\n",
       "Bali Nagar, Delhi                          2\n",
       "RTC X Road, Hyderabad                      2\n",
       "Charkop, Mumbai                            2\n",
       "Jayanagar 3 Block, Bangalore               2\n",
       "Neb Sarai, Delhi                           2\n",
       "Mahalaxmi, Mumbai                          2\n",
       "Khanpur, Delhi                             2\n",
       "Trombay, Mumbai                            2\n",
       "Ullal Upanagara, Bangalore                 2\n",
       "Hulimavu, Bangalore                        2\n",
       "Kandivali, Mumbai                          2\n",
       "Nirman Vihar, Delhi                        2\n",
       "Kondli, Delhi                              2\n",
       "Palavakkam, Chennai                        2\n",
       "Champapet, Hyderabad                       2\n",
       "Rohini Sector 4, Delhi                     2\n",
       "Neredmet, Hyderabad                        2\n",
       "MG Road, Bangalore                         2\n",
       "Thirumullaivoyal, Chennai                  2\n",
       "Subhash Nagar, Delhi                       2\n",
       "Marine Drive, Mumbai                       2\n",
       "Vikrampuri Colony, Hyderabad               2\n",
       "Sukhdev Vihar, Delhi                       2\n",
       "Sun city, Hyderabad                        2\n",
       "Nanjundapuram, Coimbatore                  2\n",
       "Madiwala, Bangalore                        2\n",
       "Tri Nagar, Delhi                           2\n",
       "West Of Chord Road, Bangalore              2\n",
       "Chintalmet, Hyderabad                      2\n",
       "Langford Road, Bangalore                   2\n",
       "Nagpada, Mumbai                            2\n",
       "Palayam, Thiruvananthapuram                2\n",
       "Paradise, Hyderabad                        2\n",
       "Royapuram, Chennai                         2\n",
       "Park Town, Chennai                         2\n",
       "Mahavir Enclave, Delhi                     2\n",
       "Doddanekundi, Bangalore                    2\n",
       "Selaiyur, Chennai                          2\n",
       "Goregaon, Mumbai                           2\n",
       "Guindy, Chennai                            2\n",
       "Richards Town, Bangalore                   2\n",
       "Moti Bagh, Delhi                           2\n",
       "Red Hills, Chennai                         2\n",
       "Vidyanagar, Bangalore                      2\n",
       "Srirampuram, Bangalore                     2\n",
       "Pappanaickenpalayam West, Coimbatore       2\n",
       "Old Bowenpally, Hyderabad                  2\n",
       "Muvattupuzha, Ernakulam                    2\n",
       "Model Town 2, Delhi                        2\n",
       "Koramangala 6 Block, Bangalore             2\n",
       "Karwan, Hyderabad                          2\n",
       "Jayamahal, Bangalore                       2\n",
       "Kattupakkam, Chennai                       2\n",
       "Kaudiar Square, Thiruvananthapuram         2\n",
       "Residency Road, Bangalore                  2\n",
       "Chandni Chowk, Delhi                       2\n",
       "Panathur, Bangalore                        2\n",
       "Ernakulam College, Ernakulam               2\n",
       "Vileparle, Mumbai                          2\n",
       "Kanjoor, Ernakulam                         2\n",
       "Surajmal Vihar, Delhi                      2\n",
       "Nizamuddin East, Delhi                     2\n",
       "Mallepally, Hyderabad                      2\n",
       "Breach Candy, Mumbai                       2\n",
       "Dahisar, Mumbai                            2\n",
       "Inder Puri, Delhi                          2\n",
       "Agaram, Chennai                            2\n",
       "Kingsway Camp, Delhi                       2\n",
       "Hayathnagar, Hyderabad                     2\n",
       "Vyasarpadi, Chennai                        2\n",
       "Kalapatti, Coimbatore                      2\n",
       "Choolai, Chennai                           2\n",
       "Korattur, Chennai                          2\n",
       "Vignan Nagar, Bangalore                    2\n",
       "Manali, Chennai                            2\n",
       "Vengal Rao Nagar, Hyderabad                2\n",
       "Mansarover Garden, Delhi                   2\n",
       "Chanakyapuri, Delhi                        2\n",
       "Koramangala 8 Block, Bangalore             2\n",
       "Aya Nagar, Delhi                           2\n",
       "RMV 2nd Stage, Bangalore                   2\n",
       "Murugeshpalya, Bangalore                   2\n",
       "Uppilipalayam, Coimbatore                  2\n",
       "Ulloor, Thiruvananthapuram                 2\n",
       "Gowrivakkam, Chennai                       2\n",
       "Bommanahalli, Bangalore                    2\n",
       "Lado Sarai, Delhi                          2\n",
       "Adugodi, Bangalore                         2\n",
       "Chintadripet, Chennai                      2\n",
       "Kapashera, Delhi                           2\n",
       "Nesapakkam, Chennai                        2\n",
       "TVM Pettah, Thiruvananthapuram             2\n",
       "Puzhal, Chennai                            2\n",
       "Sembakkam, Chennai                         2\n",
       "Hasthinapuram, Chennai                     2\n",
       "Madandapuram, Chennai                      2\n",
       "Molarband, Delhi                           2\n",
       "Veerakeralam, Coimbatore                   2\n",
       "Vaduthala, Ernakulam                       2\n",
       "Thudiyalur, Coimbatore                     2\n",
       "Sulur, Coimbatore                          2\n",
       "Kuniamuthur, Coimbatore                    2\n",
       "Mehrauli, Delhi                            2\n",
       "Yellareddyguda, Hyderabad                  2\n",
       "Rohini Sector 22, Delhi                    2\n",
       "King Koti, Hyderabad                       2\n",
       "Ernakulam North, Ernakulam                 2\n",
       "Churchgate, Mumbai                         2\n",
       "Khar East, Mumbai                          2\n",
       "Bakkarwala, Delhi                          2\n",
       "Anand Lok, Delhi                           2\n",
       "Goldwins, Coimbatore                       2\n",
       "Gulabi Bagh, Delhi                         2\n",
       "Chinchpokli, Mumbai                        2\n",
       "New Seemapuri, Delhi                       2\n",
       "Lothkunta, Hyderabad                       2\n",
       "Thammanam, Ernakulam                       2\n",
       "Kuravankonam, Thiruvananthapuram           2\n",
       "Koothattukulam, Ernakulam                  2\n",
       "Meerpet, Hyderabad                         1\n",
       "Aroor, Ernakulam                           1\n",
       "Koramangala 2 Block, Bangalore             1\n",
       "Malumichampatti, Coimbatore                1\n",
       "Peroor, Thiruvananthapuram                 1\n",
       "Saraswati Vihar, Delhi                     1\n",
       "Yakutpura, Hyderabad                       1\n",
       "Delhi Cantonment, Delhi                    1\n",
       "Nettoor, Ernakulam                         1\n",
       "Geeta Colony, Delhi                        1\n",
       "Pappanamcode, Thiruvananthapuram           1\n",
       "e                                          1\n",
       "Vishnu Garden, Delhi                       1\n",
       "Sithalapakkam, Chennai                     1\n",
       "Model Town 3, Delhi                        1\n",
       "Koramangala 7 Block, Bangalore             1\n",
       "Rani Khera, Delhi                          1\n",
       "Jagriti Enclave, Delhi                     1\n",
       "Madhavaram, Chennai                        1\n",
       "Mahipalpur, Delhi                          1\n",
       "Rohini Sector 5, Delhi                     1\n",
       "Maduravoyal, Chennai                       1\n",
       "Vazhakulam, Ernakulam                      1\n",
       "Cherannagar, Coimbatore                    1\n",
       "Swasthya Vihar, Delhi                      1\n",
       "Nedumangad, Thiruvananthapuram             1\n",
       "Hongasandra, Bangalore                     1\n",
       "Jayanagar 2 Block, Bangalore               1\n",
       "Kovaipudur, Coimbatore                     1\n",
       "Vasant Enclave, Delhi                      1\n",
       "Piravom, Ernakulam                         1\n",
       "Kovalam, Thiruvananthapuram                1\n",
       "MG Road, Hyderabad                         1\n",
       "GTB Nagar, Delhi                           1\n",
       "Mettupalayam, Coimbatore                   1\n",
       "AECS Layout, Bangalore                     1\n",
       "Hyder Nagar, Hyderabad                     1\n",
       "Rohini Sector 6, Delhi                     1\n",
       "Changampuzha Nagar, Ernakulam              1\n",
       "Chitlapakkam, Chennai                      1\n",
       "Meera Bagh, Delhi                          1\n",
       "Dwarka Sector 4, Delhi                     1\n",
       "Chandrayangutta, Hyderabad                 1\n",
       "IDA Jeedimetla, Hyderabad                  1\n",
       "Vishwas Nagar, Delhi                       1\n",
       "Cheranalloor, Ernakulam                    1\n",
       "Siddapura, Bangalore                       1\n",
       "Subzi Mandi, Delhi                         1\n",
       "Bandlaguda, Hyderabad                      1\n",
       "Vikas Nagar, Delhi                         1\n",
       "Nedumbassery, Ernakulam                    1\n",
       "VV Puram, Bangalore                        1\n",
       "Hastsal, Delhi                             1\n",
       "Peyad, Thiruvananthapuram                  1\n",
       "Rajendra Nagar, Hyderabad                  1\n",
       "Deoli, Delhi                               1\n",
       "Nandambakkam, Chennai                      1\n",
       "Eroor South, Ernakulam                     1\n",
       "Fort, Mumbai                               1\n",
       "Rohini Sector 24, Delhi                    1\n",
       "Gandhi Nagar, Chennai                      1\n",
       "Radhakrishnan Salai, Chennai               1\n",
       "Tiruvottiyur, Chennai                      1\n",
       "Puthenvelikkara, Ernakulam                 1\n",
       "Cherai, Ernakulam                          1\n",
       "PMG Jn, Thiruvananthapuram                 1\n",
       "J.C Nagar, Bangalore                       1\n",
       "JP Nagar 4 Phase, Bangalore                1\n",
       "Palkulangara, Thiruvananthapuram           1\n",
       "Coimbatore Aerodrome, Coimbatore           1\n",
       "Bhandup, Mumbai                            1\n",
       "MKB Nagar, Chennai                         1\n",
       "KH Road, Bangalore                         1\n",
       "Karukappilli, Ernakulam                    1\n",
       "Iyyappanthangal, Chennai                   1\n",
       "Akshaya nagar, Bangalore                   1\n",
       "Vadasserikonam, Thiruvananthapuram         1\n",
       "Kalu Sarai, Delhi                          1\n",
       "Austin Town, Bangalore                     1\n",
       "Outer Ring Road, Bangalore                 1\n",
       "Nellimoodu, Thiruvananthapuram             1\n",
       "Kaudiar, Thiruvananthapuram                1\n",
       "Jahangirpuri, Delhi                        1\n",
       "Kaggalipura, Bangalore                     1\n",
       "Rohini Sector 8, Delhi                     1\n",
       "Chinmaya Nagar, Chennai                    1\n",
       "Thevara, Ernakulam                         1\n",
       "Shanti Niketan, Delhi                      1\n",
       "Venjaramoodu, Thiruvananthapuram           1\n",
       "Kadubeesanahalli, Bangalore                1\n",
       "Shivrampally, Hyderabad                    1\n",
       "Kothamangalam, Ernakulam                   1\n",
       "Tavarekere, Bangalore                      1\n",
       "Athani, Ernakulam                          1\n",
       "JP Nagar 9 Phase, Bangalore                1\n",
       "Ram Nagar, Delhi                           1\n",
       "Satya Niketan, Delhi                       1\n",
       "BHEL, Hyderabad                            1\n",
       "Neyyattinkara Town, Thiruvananthapuram     1\n",
       "TVM Fort, Thiruvananthapuram               1\n",
       "Ramachandrapuram, Hyderabad                1\n",
       "SV Road, Mumbai                            1\n",
       "Moula Ali, Hyderabad                       1\n",
       "Ramakrishna Puram, Hyderabad               1\n",
       "Ondipudur, Coimbatore                      1\n",
       "HAL, Bangalore                             1\n",
       "Santacruz, Mumbai                          1\n",
       "Edapally North, Ernakulam                  1\n",
       "Rohini Sector 2, Delhi                     1\n",
       "Sindhi Colony, Hyderabad                   1\n",
       "Afzalgunj, Hyderabad                       1\n",
       "Neeti Bagh, Delhi                          1\n",
       "Pattimattam, Ernakulam                     1\n",
       "SG Palya (Kormangla), Bangalore            1\n",
       "Kowdiar, Thiruvananthapuram                1\n",
       "Tilak Nagar, Hyderabad                     1\n",
       "Jayanagar 1 Block, Bangalore               1\n",
       "Manacaud, Thiruvananthapuram               1\n",
       "Silampur, Delhi                            1\n",
       "Venkitapuram, Coimbatore                   1\n",
       "Kala Ghoda, Mumbai                         1\n",
       "Nehru Place, Delhi                         1\n",
       "Rohini West, Delhi                         1\n",
       "Durga Puri, Delhi                          1\n",
       "Jamia Nagar, Delhi                         1\n",
       "Koovappady, Ernakulam                      1\n",
       "Surya Niketan, Delhi                       1\n",
       "Mandapeshwar, Mumbai                       1\n",
       "JP Nagar 8 Phase, Bangalore                1\n",
       "Gorai, Mumbai                              1\n",
       "Harlur, Bangalore                          1\n",
       "Madanpura, Mumbai                          1\n",
       "Pachalam, Ernakulam                        1\n",
       "Thirumala, Thiruvananthapuram              1\n",
       "Hebbal Kempapura, Bangalore                1\n",
       "Deonar, Mumbai                             1\n",
       "Mankhurd, Mumbai                           1\n",
       "Film Nagar, Hyderabad                      1\n",
       "Rohini Sector 20, Delhi                    1\n",
       "Yemalur, Bangalore                         1\n",
       "Jacob Circle, Mumbai                       1\n",
       "Gandhi Nagar, Delhi                        1\n",
       "Chanchalguda, Hyderabad                    1\n",
       "Jeevan Park, Delhi                         1\n",
       "Charminar, Hyderabad                       1\n",
       "Sangam Vihar, Delhi                        1\n",
       "Model Town 1, Delhi                        1\n",
       "Mount Road, Chennai                        1\n",
       "Pasur-avanashi, Coimbatore                 1\n",
       "Safilguda, Hyderabad                       1\n",
       "Sewri, Mumbai                              1\n",
       "Shankar Vihar, Delhi                       1\n",
       "Paruthippara, Thiruvananthapuram           1\n",
       "Kalady, Ernakulam                          1\n",
       "Paravur, Ernakulam                         1\n",
       "Nayandahalli, Bangalore                    1\n",
       "Burari, Delhi                              1\n",
       "Lingarajapuram, Bangalore                  1\n",
       "Sukh Vihar, Delhi                          1\n",
       "Nampally, Hyderabad                        1\n",
       "Dwarka, Sector 5, Delhi                    1\n",
       "Baghlingampally, Hyderabad                 1\n",
       "Krishna Nagar, Hyderabad                   1\n",
       "Vallakkadavoo, Thiruvananthapuram          1\n",
       "Manjapra, Ernakulam                        1\n",
       "Gottigerre, Bangalore                      1\n",
       "Edakochi, Ernakulam                        1\n",
       "Poojapura, Thiruvananthapuram              1\n",
       "Dickenson Road, Bangalore                  1\n",
       "Narela, Delhi                              1\n",
       "Nemom, Thiruvananthapuram                  1\n",
       "Jafferkhanpet, Chennai                     1\n",
       "Karmanghat, Hyderabad                      1\n",
       "Kovilambakkam, Chennai                     1\n",
       "Parassala, Thiruvananthapuram              1\n",
       "Pratap Nagar, Delhi                        1\n",
       "Sarvapriya Vihar, Delhi                    1\n",
       "Ayanambakkam, Chennai                      1\n",
       "Poothotta, Ernakulam                       1\n",
       "Palghar, Mumbai                            1\n",
       "Valiathura, Thiruvananthapuram             1\n",
       "Chullickal, Ernakulam                      1\n",
       "Dwarka Sector 13, Delhi                    1\n",
       "Ramamangalam, Ernakulam                    1\n",
       "Delhi Cantt, Delhi                         1\n",
       "Madambakkam, Chennai                       1\n",
       "Connaught Place, Delhi                     1\n",
       "Kudlu, Bangalore                           1\n",
       "Cumballa Hill, Mumbai                      1\n",
       "Sriniwaspuri, Delhi                        1\n",
       "Bhogal, Delhi                              1\n",
       "Ayyappankavu, Ernakulam                    1\n",
       "Alipur, Delhi                              1\n",
       "Kalyanpuri, Hyderabad                      1\n",
       "Pezhakkappilly, Ernakulam                  1\n",
       "Muttada, Thiruvananthapuram                1\n",
       "Thonnakkal, Thiruvananthapuram             1\n",
       "Hosur Road, Bangalore                      1\n",
       "Netaji Nagar, Delhi                        1\n",
       "Beeramguda, Hyderabad                      1\n",
       "Dindarpur, Delhi                           1\n",
       "Kurla, Mumbai                              1\n",
       "Poovachal, Thiruvananthapuram              1\n",
       "Pattabiram, Chennai                        1\n",
       "TV Museum, Thiruvananthapuram              1\n",
       "Bolarum, Hyderabad                         1\n",
       "Pothencode, Thiruvananthapuram             1\n",
       "Periyanaickenpalayam, Coimbatore           1\n",
       "Seeranaickenpalayam, Coimbatore            1\n",
       "Kuppakonanpudur, Coimbatore                1\n",
       "Borabanda, Hyderabad                       1\n",
       "Manchavilakom, Thiruvananthapuram          1\n",
       "Pondy Bazaar, Chennai                      1\n",
       "Ernakulam, Ernakulam                       1\n",
       "Perumathura, Thiruvananthapuram            1\n",
       "TV Chalai, Thiruvananthapuram              1\n",
       "Walkeshwar, Mumbai                         1\n",
       "Raj Nagar - 2, Delhi                       1\n",
       "Rohini Sector 11, Delhi                    1\n",
       "Shakurpur, Delhi                           1\n",
       "Indirapuram, Delhi                         1\n",
       "Kallambalam, Thiruvananthapuram            1\n",
       "Saki Vihar Road, Mumbai                    1\n",
       "Ram Nagar, Hyderabad                       1\n",
       "Kakkanad West, Ernakulam                   1\n",
       "Shadipur, Delhi                            1\n",
       "Lodhi Colony, Delhi                        1\n",
       "Dwarka Sector 12, Delhi                    1\n",
       "Vigyan Vihar, Delhi                        1\n",
       "Balaramapuram, Thiruvananthapuram          1\n",
       "Rathinapuri, Coimbatore                    1\n",
       "Rana Pratap Bagh, Delhi                    1\n",
       "Sion Koliwada, Mumbai                      1\n",
       "Khajaguda, Hyderabad                       1\n",
       "Mahalingapuram, Chennai                    1\n",
       "Sarjapura, Bangalore                       1\n",
       "Dwarka Sector 10, Delhi                    1\n",
       "Sagar Road, Hyderabad                      1\n",
       "Vizhinjam, Thiruvananthapuram              1\n",
       "Falaknuma, Hyderabad                       1\n",
       "Tv Thampanoor, Thiruvananthapuram          1\n",
       "TVM Beach, Thiruvananthapuram              1\n",
       "Bachupally, Hyderabad                      1\n",
       "Urapakkam, Chennai                         1\n",
       "Vellakinar, Coimbatore                     1\n",
       "Kovilpalayam, Coimbatore                   1\n",
       "Kilokri, Delhi                             1\n",
       "Padi, Chennai                              1\n",
       "Kapra, Hyderabad                           1\n",
       "Podanur, Coimbatore                        1\n",
       "Nand Nagri, Delhi                          1\n",
       "Rohini Sector 15, Delhi                    1\n",
       "Red Hills, Hyderabad                       1\n",
       "Name: Place, dtype: int64"
      ]
     },
     "execution_count": 24,
     "metadata": {},
     "output_type": "execute_result"
    }
   ],
   "source": [
    "df[\"Place\"].value_counts()"
   ]
  },
  {
   "cell_type": "markdown",
   "metadata": {},
   "source": [
    "<span style='background:yellow'>**Observation:** \"Place\" is listed as the area,city. What we would need is the Area & City, as 2 different columns. Then we can drop the \"Place\" and retain only the city & area names  </span>"
   ]
  },
  {
   "cell_type": "markdown",
   "metadata": {},
   "source": [
    "### Extracting  \"Area\" & \"City\" from  \"Place\" column"
   ]
  },
  {
   "cell_type": "code",
   "execution_count": 25,
   "metadata": {},
   "outputs": [],
   "source": [
    "df.Place.fillna('Unknown,Unknown',inplace=True)\n",
    "\n",
    "df['Area'] = df['Place'].str.split(\",\").str[0]\n",
    "df['City'] = df['Place'].str.split(\",\").str[1]\n",
    "\n"
   ]
  },
  {
   "cell_type": "code",
   "execution_count": 26,
   "metadata": {},
   "outputs": [
    {
     "data": {
      "text/plain": [
       " Bangalore             1675\n",
       " Mumbai                1603\n",
       " Delhi                 1597\n",
       " Hyderabad             1281\n",
       " Chennai               1139\n",
       " Coimbatore             295\n",
       " Ernakulam              201\n",
       " Thiruvananthapuram     101\n",
       "Unknown                   3\n",
       " Sector 5                 1\n",
       "Name: City, dtype: int64"
      ]
     },
     "execution_count": 26,
     "metadata": {},
     "output_type": "execute_result"
    }
   ],
   "source": [
    "df[\"City\"].value_counts()"
   ]
  },
  {
   "cell_type": "code",
   "execution_count": 27,
   "metadata": {},
   "outputs": [
    {
     "data": {
      "text/plain": [
       "Andheri West                97\n",
       "HSR Layout                  97\n",
       "Dwarka                      94\n",
       "Banjara Hills               84\n",
       "Mulund West                 81\n",
       "Whitefield                  70\n",
       "Borivali West               68\n",
       "Indiranagar                 62\n",
       "Pitampura                   61\n",
       "Kandivali West              60\n",
       "Malad West                  60\n",
       "Malleswaram                 60\n",
       "Vileparle West              57\n",
       "Bannerghatta Road           57\n",
       "Jubilee Hills               56\n",
       "Rohini                      54\n",
       "Adyar                       53\n",
       "Shalimar Bagh               53\n",
       "Powai                       53\n",
       "Kondapur                    50\n",
       "KPHB                        50\n",
       "Secunderabad                49\n",
       "Andheri East                49\n",
       "Ghatkopar East              49\n",
       "Marathahalli                49\n",
       "Bandra West                 48\n",
       "Janak Puri                  47\n",
       "Madhapur                    46\n",
       "R.S. Puram                  45\n",
       "Paschim Vihar               44\n",
       "Velachery                   44\n",
       "Kukatpally                  42\n",
       "Mira Road                   42\n",
       "Old Rajendra Nagar          41\n",
       "Koramangala                 41\n",
       "Ghatkopar West              41\n",
       "Yelahanka                   41\n",
       "Anna Nagar                  41\n",
       "Chembur                     40\n",
       "T Nagar                     40\n",
       "Vasant Kunj                 40\n",
       "Gachibowli                  39\n",
       "Saket                       38\n",
       "Nungambakkam                37\n",
       "Kandivali East              37\n",
       "Bellandur                   36\n",
       "Vijayanagar                 36\n",
       "Dilsukhnagar                36\n",
       "Kalyan Nagar                35\n",
       "BTM Layout 2nd Stage        34\n",
       "Goregaon West               34\n",
       "Porur                       33\n",
       "Manikonda                   32\n",
       "Lajpat Nagar                32\n",
       "Bhandup West                32\n",
       "Kilpauk                     31\n",
       "Rajajinagar                 31\n",
       "Sarjapur Road               31\n",
       "Mahim                       31\n",
       "Thoraipakkam                30\n",
       "Mylapore                    30\n",
       "Santacruz West              29\n",
       "RT Nagar                    29\n",
       "Goregaon East               28\n",
       "Mehdipatnam                 27\n",
       "Patparganj                  27\n",
       "Peelamedu                   27\n",
       "Vileparle East              27\n",
       "Khar West                   26\n",
       "Laxmi Nagar                 26\n",
       "Prabhadevi                  26\n",
       "Malviya Nagar               26\n",
       "Attapur                     25\n",
       "Banashankari 3rd Stage      25\n",
       "Saibaba Colony              24\n",
       "Tambaram East               24\n",
       "Mayur Vihar Ph-I            24\n",
       "Defence Colony              24\n",
       "Chanda Nagar                24\n",
       "Dilshad Garden              24\n",
       "Safdarjung Enclave          24\n",
       "Greater Kailash Part 1      23\n",
       "AS Rao Nagar                23\n",
       "Vanasthalipuram             23\n",
       "Tolichowki                  23\n",
       "Rajouri Garden              23\n",
       "Ganapathy                   23\n",
       "Vasant Vihar                22\n",
       "Basavanagudi                22\n",
       "Chromepet                   22\n",
       "Jayanagar                   22\n",
       "Green Park                  22\n",
       "Yeshwanthpur                22\n",
       "Dadar West                  21\n",
       "Himayat Nagar               21\n",
       "Nanganallur                 20\n",
       "Alwarpet                    20\n",
       "Jayanagar 4 Block           20\n",
       "Pallikaranai                20\n",
       "Panchsheel Park             20\n",
       "Vikas Puri                  20\n",
       "Ramamurthy Nagar            20\n",
       "Malakpet                    20\n",
       "Sarita Vihar                20\n",
       "Kalkaji                     20\n",
       "Old Airport Road            19\n",
       "Electronics City            19\n",
       "Basaveshwaranagar           19\n",
       "Chembur East                19\n",
       "Dahisar East                19\n",
       "Miyapur                     19\n",
       "KR Puram                    19\n",
       "Sahakaranagar               19\n",
       "Jayanagar 9 Block           19\n",
       "LB Nagar                    19\n",
       "Valasaravakkam              18\n",
       "Karol Bagh                  18\n",
       "Borivali East               18\n",
       "Krishna Nagar               18\n",
       "Greater Kailash Part 2      18\n",
       "Kundalahalli                18\n",
       "Kolathur                    17\n",
       "Punjabi Bagh                17\n",
       "Ameerpet                    17\n",
       "Kakkanad                    17\n",
       "Thiruvanmiyur               17\n",
       "Nagarbhavi                  17\n",
       "Vadapalani                  17\n",
       "Madinaguda                  17\n",
       "Matunga                     17\n",
       "Vadavalli                   17\n",
       "Kadavanthra                 16\n",
       "Medavakkam                  16\n",
       "Begumpet                    16\n",
       "Mulund East                 16\n",
       "Moti Nagar                  16\n",
       "Kammana Halli               16\n",
       "Vanagaram                   16\n",
       "Frazer Town                 16\n",
       "Nizampet                    16\n",
       "Shahdara                    16\n",
       "JP Nagar 7 Phase            16\n",
       "Dadar East                  16\n",
       "Pusa Road                   15\n",
       "Tilak Nagar                 15\n",
       "Parel                       15\n",
       "Arekere                     15\n",
       "Juhu                        15\n",
       "Arumbakkam                  15\n",
       "Rajarajeshwarinagar         15\n",
       "Kodambakkam                 14\n",
       "Somajiguda                  14\n",
       "Kemps Corner                14\n",
       "Vyttila                     14\n",
       "Mathikere - BEL             14\n",
       "Edapally                    14\n",
       "Madipakkam                  14\n",
       "Kurla West                  14\n",
       "Sakinaka                    14\n",
       "Punjagutta                  14\n",
       "JP Nagar 2 Phase            14\n",
       "Anna Nagar West             13\n",
       "Banashankari                13\n",
       "Malkajgiri                  13\n",
       "Richmond Town               13\n",
       "Perumbakkam                 13\n",
       "Bhayandar East              13\n",
       "Teynampet                   13\n",
       "Rajakilpakkam               13\n",
       "Kaggadasapura               13\n",
       "Malad East                  13\n",
       "Colaba                      13\n",
       "Ramanathapuram              13\n",
       "Ashok Nagar                 13\n",
       "Gandhipuram                 12\n",
       "Royapettah                  12\n",
       "Panampilly Nagar            12\n",
       "Villivakkam                 12\n",
       "Okhla                       12\n",
       "Kanakpura Road              12\n",
       "Ambattur                    12\n",
       "CR Park                     12\n",
       "Hitech City                 12\n",
       "Chetpet                     12\n",
       "West Marredpally            12\n",
       "Virugambakkam               12\n",
       "Mayur Vihar Ph-III          12\n",
       "Hebbal                      12\n",
       "Kothapet                    12\n",
       "Domlur                      11\n",
       "South Extension 2           11\n",
       "Nagawara                    11\n",
       "HRBR Layout                 11\n",
       "Jogeshwari East             11\n",
       "Tambaram West               11\n",
       "Aluva                       11\n",
       "East Of Kailash             11\n",
       "New BEL Road                11\n",
       "Banaswadi                   11\n",
       "CV Raman Nagar              11\n",
       "Banashankari 2nd Stage      11\n",
       "Kadugodi                    11\n",
       "Sadashivanagar              11\n",
       "Ramesh Nagar                11\n",
       "Alwal                       11\n",
       "Trimulgherry                11\n",
       "Habsiguda                   11\n",
       "Wadala                      11\n",
       "Triplicane                  11\n",
       "Ecil                        11\n",
       "Bhayandar West              11\n",
       "Greams Road                 11\n",
       "Besant Nagar                11\n",
       "Vidyanagar                  11\n",
       "Hauz Khas                   11\n",
       "Tambaram                    11\n",
       "Ashok Vihar                 11\n",
       "Worli                       10\n",
       "South Extension 1           10\n",
       "Viveknagar                  10\n",
       "Dadar                       10\n",
       "Chattarpur                  10\n",
       "Banashankari 1st Stage      10\n",
       "Sanjay Nagar                10\n",
       "Adambakkam                  10\n",
       "Preet Vihar                 10\n",
       "Shaikpet                    10\n",
       "Erragadda                   10\n",
       "Pattom                      10\n",
       "Chamarajpet                 10\n",
       "Perambur                    10\n",
       "Coimbatore Racecourse       10\n",
       "New Friends Colony          10\n",
       "Manapakkam                  10\n",
       "BTM Layout                  10\n",
       "Nallakunta                  10\n",
       "Santacruz East              10\n",
       "Padmarao Nagar              10\n",
       "Jogeshwari West             10\n",
       "KK Nagar                    10\n",
       "Bandra East                  9\n",
       "Anand Vihar                  9\n",
       "Kamla Nagar                  9\n",
       "Sanath Nagar                 9\n",
       "Shenoy Nagar                 9\n",
       "Mogappair West               9\n",
       "JP Nagar                     9\n",
       "Yelahanka New Town           9\n",
       "Saravanampatti               9\n",
       "Mazgaon                      9\n",
       "Nariman Point                9\n",
       "Hari Nagar                   9\n",
       "Aminjikarai                  9\n",
       "Patel Nagar West             9\n",
       "BTM Layout 1st Stage         9\n",
       "Guduvanchery                 9\n",
       "Perungudi                    9\n",
       "Lingampally                  9\n",
       "Ayanavaram                   9\n",
       "Vikhroli East                9\n",
       "Yamuna Vihar                 8\n",
       "Kottivakkam                  8\n",
       "Munirka                      8\n",
       "Millers Road                 8\n",
       "Tripunithura                 8\n",
       "New Rajendra Nagar           8\n",
       "OMR Road                     8\n",
       "Singanallur                  8\n",
       "Ramnagar                     8\n",
       "Pandav Nagar                 8\n",
       "Pollachi                     8\n",
       "Masab Tank                   8\n",
       "RK Puram                     8\n",
       "Koramangala 5 Block          8\n",
       "JP Nagar 5 Phase             8\n",
       "Sion West                    8\n",
       "Purasawakkam                 8\n",
       "Sholinganallur               8\n",
       "Gujranwala Town              8\n",
       "JP Nagar 3 Phase             8\n",
       "Santosh Nagar                8\n",
       "Jeedimetla                   8\n",
       "Kengeri                      8\n",
       "Lower Parel                  8\n",
       "Borivali                     7\n",
       "Thousand Lights              7\n",
       "Bhandup East                 7\n",
       "Uttam Nagar                  7\n",
       "Kaloor                       7\n",
       "Madhu Vihar                  7\n",
       "Model Town                   7\n",
       "Grant Road                   7\n",
       "Adarsh Nagar                 7\n",
       "SR Nagar                     7\n",
       "Mira Bhayandar               7\n",
       "Kasturi nagar                7\n",
       "Anna Nagar East              7\n",
       "Wilson Garden                7\n",
       "Rohini Sector 7              7\n",
       "Najafgarh                    7\n",
       "Chikkadpally                 7\n",
       "Tarnaka                      7\n",
       "Vidyaranyapura               7\n",
       "Varthur                      7\n",
       "Oshiwara                     7\n",
       "Charni Road                  7\n",
       "Uppal                        7\n",
       "Sion East                    7\n",
       "Kumarapuram                  7\n",
       "Suchitra Circle              7\n",
       "Ulsoor                       7\n",
       "Chintal                      7\n",
       "Kumaraswamy Layout           7\n",
       "Horamavu                     7\n",
       "Tondiarpet                   7\n",
       "Saroor Nagar                 7\n",
       "Mogappair East               7\n",
       "Yousufguda                   7\n",
       "Sreekaryam                   6\n",
       "Jeevanbhimanagar             6\n",
       "Greater Kailash              6\n",
       "Tardeo                       6\n",
       "Kachiguda                    6\n",
       "Rani Bagh                    6\n",
       "Egmore                       6\n",
       "JP Nagar 6 Phase             6\n",
       "Uttarahalli                  6\n",
       "IP Extension                 6\n",
       "JP Nagar 1 Phase             6\n",
       "West Mambalam                6\n",
       "Sundarapuram                 6\n",
       "Keelkattalai                 6\n",
       "Nandanam                     6\n",
       "Jayanagar 5 Block            6\n",
       "Nallagandla                  6\n",
       "Alandur                      6\n",
       "Perumbavoor                  6\n",
       "Barkatpura                   6\n",
       "New Thippasandra             6\n",
       "Shivaji Nagar                6\n",
       "Vasundhra Enclave            6\n",
       "Mahadevapura                 6\n",
       "Choolaimedu                  6\n",
       "Hazrat Nizamuddin            6\n",
       "Patel Nagar                  6\n",
       "Sheikh Sarai                 6\n",
       "Serilingampally              6\n",
       "Lokhandwala                  6\n",
       "Khairatabad                  6\n",
       "Dahisar West                 6\n",
       "Vijaynagar Colony            6\n",
       "Koramangala 4 Block          6\n",
       "Siddhapudur                  6\n",
       "Mayur Vihar Ph-II            6\n",
       "Peddar Road                  6\n",
       "Karkhana                     6\n",
       "Saligramam                   6\n",
       "Nangloi                      6\n",
       "Bowenpally                   6\n",
       "Sion                         5\n",
       "Govandi                      5\n",
       "Kalamassery                  5\n",
       "Pallavaram                   5\n",
       "Srinagar Colony              5\n",
       "Angamaly                     5\n",
       "Tagore Garden                5\n",
       "Kumara Park West             5\n",
       "Vikhroli                     5\n",
       "Shastri Nagar                5\n",
       "Tuglakabad                   5\n",
       "Saidapet                     5\n",
       "Raja Annamalai Puram         5\n",
       "Kothaguda                    5\n",
       "Jalahalli                    5\n",
       "Palam Colony                 5\n",
       "HAL 2nd Stage                5\n",
       "Marine Drive                 5\n",
       "Vijaynagar                   5\n",
       "Palarivattom                 5\n",
       "Karkardooma                  5\n",
       "Jakkur                       5\n",
       "ECR Road                     5\n",
       "Ashok Vihar Phase 1          5\n",
       "Katwaria Sarai               5\n",
       "Mukherjee Nagar              5\n",
       "Mugalivakkam                 5\n",
       "Koramangala 1 Block          5\n",
       "Naraina Vihar                5\n",
       "New Ashok Nagar              5\n",
       "Pragathi Nagar               5\n",
       "Patel Nagar East             5\n",
       "Pammal                       5\n",
       "Kurla East                   5\n",
       "Vikhroli West                5\n",
       "Kochi M.G.Road               5\n",
       "Opera House                  5\n",
       "Andheri                      5\n",
       "Cuffe Parade                 5\n",
       "Jangpura                     5\n",
       "Velandipalayam               5\n",
       "Washermenpet                 5\n",
       "Kilkattalai                  5\n",
       "Chandra Layout               5\n",
       "HBR Layout                   5\n",
       "Karamana                     4\n",
       "Shakarpur                    4\n",
       "Keshav Puram                 4\n",
       "Girgaon                      4\n",
       "Uday Park                    4\n",
       "Kandanchavadi                4\n",
       "Jayanagar 7 Block            4\n",
       "Vilankurichi                 4\n",
       "Kavundampalayam              4\n",
       "Mumbai Central               4\n",
       "Gopalapuram                  4\n",
       "Pappanaickenpalayam          4\n",
       "Saidabad                     4\n",
       "Qutab Institutional Area     4\n",
       "Chandivali                   4\n",
       "Dwarka Sector 6              4\n",
       "Alwarthirunagar              4\n",
       "Mogappair                    4\n",
       "Palluruthy                   4\n",
       "Basheerbagh                  4\n",
       "Malabar Hill                 4\n",
       "Dwarka Sector 23             4\n",
       "Dwarka Sector 7              4\n",
       "Bilekahalli                  4\n",
       "Cunningham Road              4\n",
       "Chunabhatti                  4\n",
       "Prashant Vihar               4\n",
       "Shantinagar                  4\n",
       "Ganesh Nagar                 4\n",
       "Pahar Ganj                   4\n",
       "Civil Lines                  4\n",
       "Narayanguda                  4\n",
       "Kirti Nagar                  4\n",
       "Sampangiramnagar             4\n",
       "Thoppumpady                  4\n",
       "Mandaveli                    4\n",
       "Padmanabhanagar              4\n",
       "Poonamalle                   4\n",
       "Kazhakuttam                  4\n",
       "Konanakunte                  4\n",
       "Byculla                      4\n",
       "JB Nagar                     4\n",
       "Tatabad                      4\n",
       "Old City                     4\n",
       "Selvapuram                   4\n",
       "Hope College                 4\n",
       "Kailash Colony               4\n",
       "Jasola                       4\n",
       "Edayarpalayam                4\n",
       "Hyderguda                    4\n",
       "Pappanaickenpudur            4\n",
       "Vennala                      4\n",
       "Domalguda                    4\n",
       "Darya Ganj                   4\n",
       "Moosapet                     4\n",
       "Navalur                      4\n",
       "Seshadripuram                4\n",
       "Abids                        4\n",
       "Banerji Road                 4\n",
       "Moosarambagh                 4\n",
       "Karapakkam                   4\n",
       "East Marredpally             4\n",
       "Mulund                       4\n",
       "Thiruvottiyur                4\n",
       "Jhilmil Colony               4\n",
       "Perurkada                    4\n",
       "Delhi                        3\n",
       "Kalina                       3\n",
       "Langer House                 3\n",
       "Kothanur                     3\n",
       "Malleshpalya                 3\n",
       "Warasiguda                   3\n",
       "Anand Niketan                3\n",
       "Mahalakshmi Layout           3\n",
       "Begum Bazar                  3\n",
       "Madangir                     3\n",
       "Azadpur                      3\n",
       "Peeragarhi                   3\n",
       "Coimbatore Ukkadam           3\n",
       "August Kranti Marg           3\n",
       "Versova                      3\n",
       "Vasanthnagar                 3\n",
       "Thiruvallom                  3\n",
       "Khan Market                  3\n",
       "Ramkoti                      3\n",
       "TV Medical College           3\n",
       "Sowcarpet                    3\n",
       "Sultanpur                    3\n",
       "Vanchiyur                    3\n",
       "Dharavi                      3\n",
       "Red Hills                    3\n",
       "Kompally                     3\n",
       "Mira-Bhayandar Road          3\n",
       "Balapur                      3\n",
       "Thrikkakara                  3\n",
       "Malad                        3\n",
       "Kanchanbagh                  3\n",
       "Ramapuram                    3\n",
       "Balanagar                    3\n",
       "Kishanbagh                   3\n",
       "Gulmohar Park                3\n",
       "Dwarka Sector 5              3\n",
       "Sainikpuri                   3\n",
       "Sasthamangalam               3\n",
       "Coimbatore Central           3\n",
       "Abbigere                     3\n",
       "Abhiramapuram                3\n",
       "Perungalathur                3\n",
       "Marol                        3\n",
       "Hennur                       3\n",
       "Lal baug                     3\n",
       "MG Road                      3\n",
       "Balkampet                    3\n",
       "Thanisandra                  3\n",
       "Sagarpur                     3\n",
       "MRC Nagar                    3\n",
       "Dommasandra                  3\n",
       "Kochi                        3\n",
       "Kasavanahalli                3\n",
       "Singasandra                  3\n",
       "Marine Lines                 3\n",
       "Kattakada                    3\n",
       "Ashok Vihar Phase 3          3\n",
       "Lajpat Nagar 4               3\n",
       "Badarpur                     3\n",
       "Nagole                       3\n",
       "Lajpat Nagar III             3\n",
       "Dwarka Sector 3              3\n",
       "Gandhinagar                  3\n",
       "Matunga West                 3\n",
       "Kodungaiyur                  3\n",
       "Hoodi                        3\n",
       "Kanjurmarg                   3\n",
       "Broadway                     3\n",
       "Kotturpuram                  3\n",
       "Chickpet                     3\n",
       "Ambalamukku                  3\n",
       "Kalkere                      3\n",
       "Shakti Nagar                 3\n",
       "Periyar Nagar                3\n",
       "Ganganagar                   3\n",
       "St Thomas Mount              3\n",
       "T Dasarahalli                3\n",
       "Rohini Sector 3              3\n",
       "Sowripalayam                 3\n",
       "Kolenchery                   3\n",
       "Lakdikapul                   3\n",
       "Musheerabad                  3\n",
       "Cotton Hill                  3\n",
       "Shivalik                     3\n",
       "Boduppal                     3\n",
       "Alaknanda                    3\n",
       "Begur                        3\n",
       "Neelankarai                  3\n",
       "Ramanthapur                  3\n",
       "Nacharam                     3\n",
       "Elamakkara                   3\n",
       "Munnekollal                  3\n",
       "Unknown                      3\n",
       "Hegde Nagar                  3\n",
       "Tis Hazari                   3\n",
       "Madiwala                     2\n",
       "Kapashera                    2\n",
       "Koramangala 6 Block          2\n",
       "RMV 2nd Stage                2\n",
       "Khanpur                      2\n",
       "Park Town                    2\n",
       "Lothkunta                    2\n",
       "Thirumullaivoyal             2\n",
       "Dwarka Sector 22             2\n",
       "Avadi                        2\n",
       "Nirman Vihar                 2\n",
       "Kondli                       2\n",
       "Langford Road                2\n",
       "Manali                       2\n",
       "Mahalaxmi                    2\n",
       "RTC X Road                   2\n",
       "Kandivali                    2\n",
       "Kuniamuthur                  2\n",
       "Richards Town                2\n",
       "Thammanam                    2\n",
       "Royapuram                    2\n",
       "Sun city                     2\n",
       "Choolai                      2\n",
       "Vengal Rao Nagar             2\n",
       "Vileparle                    2\n",
       "Amberpet                     2\n",
       "Chintadripet                 2\n",
       "Sukhdev Vihar                2\n",
       "Lado Sarai                   2\n",
       "Goregaon                     2\n",
       "Kanjoor                      2\n",
       "Chanakyapuri                 2\n",
       "Adugodi                      2\n",
       "Puzhal                       2\n",
       "Ernakulam North              2\n",
       "Kelambakkam                  2\n",
       "Hulimavu                     2\n",
       "Palavakkam                   2\n",
       "Muvattupuzha                 2\n",
       "Khetwadi                     2\n",
       "Champapet                    2\n",
       "Thudiyalur                   2\n",
       "Vignan Nagar                 2\n",
       "Guindy                       2\n",
       "Palayam                      2\n",
       "Sulur                        2\n",
       "Inder Puri                   2\n",
       "Moti Bagh                    2\n",
       "Uppilipalayam                2\n",
       "Madandapuram                 2\n",
       "Nizamuddin East              2\n",
       "Pappanaickenpalayam West     2\n",
       "Vikrampuri Colony            2\n",
       "Bakkarwala                   2\n",
       "Kaudiar Square               2\n",
       "Anand Lok                    2\n",
       "Koramangala 8 Block          2\n",
       "Charkop                      2\n",
       "Chaitanyapuri                2\n",
       "Vyasarpadi                   2\n",
       "Korattur                     2\n",
       "TVM Pettah                   2\n",
       "West Of Chord Road           2\n",
       "Peenya                       2\n",
       "Hasthinapuram                2\n",
       "Ullal Upanagara              2\n",
       "Bali Nagar                   2\n",
       "Mansarover Garden            2\n",
       "Mahavir Enclave              2\n",
       "Mulanthuruthy                2\n",
       "Residency Road               2\n",
       "Srirampuram                  2\n",
       "Dasarahalli                  2\n",
       "Subhash Nagar                2\n",
       "Bommanahalli                 2\n",
       "Kuravankonam                 2\n",
       "Hafeezpet                    2\n",
       "Gamdevi                      2\n",
       "Kingsway Camp                2\n",
       "Hayathnagar                  2\n",
       "Ulloor                       2\n",
       "Gowrivakkam                  2\n",
       "Chandni Chowk                2\n",
       "Agaram                       2\n",
       "Khar East                    2\n",
       "Nanjundapuram                2\n",
       "Karwan                       2\n",
       "Nesapakkam                   2\n",
       "Surajmal Vihar               2\n",
       "Ernakulam College            2\n",
       "Neredmet                     2\n",
       "Old Bowenpally               2\n",
       "Molarband                    2\n",
       "Nagpada                      2\n",
       "Ram Nagar                    2\n",
       "Goldwins                     2\n",
       "Jayanagar 3 Block            2\n",
       "King Koti                    2\n",
       "Mallepally                   2\n",
       "Churchgate                   2\n",
       "Sembakkam                    2\n",
       "Chinchpokli                  2\n",
       "Dahisar                      2\n",
       "Panathur                     2\n",
       "Yellareddyguda               2\n",
       "Vaduthala                    2\n",
       "Paradise                     2\n",
       "Veerakeralam                 2\n",
       "Koothattukulam               2\n",
       "Kalapatti                    2\n",
       "Selaiyur                     2\n",
       "Model Town 2                 2\n",
       "Breach Candy                 2\n",
       "Aya Nagar                    2\n",
       "Tri Nagar                    2\n",
       "Murugeshpalya                2\n",
       "Vivek Vihar                  2\n",
       "Gandhi Nagar                 2\n",
       "Neb Sarai                    2\n",
       "Jayamahal                    2\n",
       "Trombay                      2\n",
       "Mehrauli                     2\n",
       "Rohini Sector 22             2\n",
       "Rohini Sector 4              2\n",
       "Gulabi Bagh                  2\n",
       "Chintalmet                   2\n",
       "Kattupakkam                  2\n",
       "Doddanekundi                 2\n",
       "New Seemapuri                2\n",
       "Walkeshwar                   1\n",
       "Bandlaguda                   1\n",
       "Rohini Sector 24             1\n",
       "Rohini Sector 11             1\n",
       "Ondipudur                    1\n",
       "Silampur                     1\n",
       "Hyder Nagar                  1\n",
       "Chanchalguda                 1\n",
       "KH Road                      1\n",
       "SV Road                      1\n",
       "Santacruz                    1\n",
       "Sukh Vihar                   1\n",
       "Venjaramoodu                 1\n",
       "Raj Nagar - 2                1\n",
       "Dwarka Sector 4              1\n",
       "Vazhakulam                   1\n",
       "Saraswati Vihar              1\n",
       "Siddapura                    1\n",
       "Pappanamcode                 1\n",
       "Bachupally                   1\n",
       "Kovilpalayam                 1\n",
       "Poojapura                    1\n",
       "Karmanghat                   1\n",
       "Safilguda                    1\n",
       "Saki Vihar Road              1\n",
       "Pothencode                   1\n",
       "Nedumbassery                 1\n",
       "Kothamangalam                1\n",
       "Madhavaram                   1\n",
       "Poothotta                    1\n",
       "Netaji Nagar                 1\n",
       "Edapally North               1\n",
       "Nand Nagri                   1\n",
       "Paruthippara                 1\n",
       "Yemalur                      1\n",
       "Parassala                    1\n",
       "Borabanda                    1\n",
       "Jamia Nagar                  1\n",
       "Kurla                        1\n",
       "Hongasandra                  1\n",
       "Bolarum                      1\n",
       "Charminar                    1\n",
       "Paravur                      1\n",
       "Moula Ali                    1\n",
       "Lodhi Colony                 1\n",
       "Shanti Niketan               1\n",
       "JP Nagar 8 Phase             1\n",
       "Jacob Circle                 1\n",
       "Vishnu Garden                1\n",
       "Jagriti Enclave              1\n",
       "Alipur                       1\n",
       "e                            1\n",
       "Kallambalam                  1\n",
       "Peroor                       1\n",
       "Rajendra Nagar               1\n",
       "Palghar                      1\n",
       "Jayanagar 2 Block            1\n",
       "Athani                       1\n",
       "Dwarka Sector 13             1\n",
       "Deoli                        1\n",
       "Vadasserikonam               1\n",
       "J.C Nagar                    1\n",
       "Pattabiram                   1\n",
       "Aroor                        1\n",
       "Podanur                      1\n",
       "Ramakrishna Puram            1\n",
       "Nemom                        1\n",
       "Model Town 1                 1\n",
       "Koramangala 7 Block          1\n",
       "Mahalingapuram               1\n",
       "Puthenvelikkara              1\n",
       "Pondy Bazaar                 1\n",
       "Periyanaickenpalayam         1\n",
       "Delhi Cantonment             1\n",
       "Nehru Place                  1\n",
       "Valiathura                   1\n",
       "Cherai                       1\n",
       "JP Nagar 9 Phase             1\n",
       "Bhandup                      1\n",
       "Vallakkadavoo                1\n",
       "Manjapra                     1\n",
       "Surya Niketan                1\n",
       "Rohini Sector 8              1\n",
       "Vigyan Vihar                 1\n",
       "Indirapuram                  1\n",
       "Jafferkhanpet                1\n",
       "Palkulangara                 1\n",
       "Chitlapakkam                 1\n",
       "Kilokri                      1\n",
       "Kovalam                      1\n",
       "Rohini Sector 2              1\n",
       "Vizhinjam                    1\n",
       "Khajaguda                    1\n",
       "Sindhi Colony                1\n",
       "TV Chalai                    1\n",
       "Kapra                        1\n",
       "Mettupalayam                 1\n",
       "Durga Puri                   1\n",
       "Vikas Nagar                  1\n",
       "Kalu Sarai                   1\n",
       "Nellimoodu                   1\n",
       "VV Puram                     1\n",
       "Mandapeshwar                 1\n",
       "Kakkanad West                1\n",
       "Narela                       1\n",
       "JP Nagar 4 Phase             1\n",
       "Rathinapuri                  1\n",
       "Chandrayangutta              1\n",
       "IDA Jeedimetla               1\n",
       "Akshaya nagar                1\n",
       "Nandambakkam                 1\n",
       "Tv Thampanoor                1\n",
       "Thonnakkal                   1\n",
       "Satya Niketan                1\n",
       "Hebbal Kempapura             1\n",
       "Geeta Colony                 1\n",
       "Cumballa Hill                1\n",
       "Rohini Sector 5              1\n",
       "Sagar Road                   1\n",
       "Pasur-avanashi               1\n",
       "Beeramguda                   1\n",
       "Coimbatore Aerodrome         1\n",
       "Kalady                       1\n",
       "Baghlingampally              1\n",
       "Gottigerre                   1\n",
       "Fort                         1\n",
       "Ramamangalam                 1\n",
       "Rani Khera                   1\n",
       "Kowdiar                      1\n",
       "Rana Pratap Bagh             1\n",
       "Piravom                      1\n",
       "Model Town 3                 1\n",
       "TVM Fort                     1\n",
       "Dwarka Sector 12             1\n",
       "Falaknuma                    1\n",
       "PMG Jn                       1\n",
       "Austin Town                  1\n",
       "Subzi Mandi                  1\n",
       "Deonar                       1\n",
       "Chullickal                   1\n",
       "Shivrampally                 1\n",
       "Padi                         1\n",
       "Shakurpur                    1\n",
       "Sewri                        1\n",
       "Dwarka Sector 10             1\n",
       "Jeevan Park                  1\n",
       "Rohini Sector 15             1\n",
       "MKB Nagar                    1\n",
       "GTB Nagar                    1\n",
       "HAL                          1\n",
       "Chinmaya Nagar               1\n",
       "TVM Beach                    1\n",
       "Rohini Sector 6              1\n",
       "Vasant Enclave               1\n",
       "Sion Koliwada                1\n",
       "Cheranalloor                 1\n",
       "Mount Road                   1\n",
       "Balaramapuram                1\n",
       "Meerpet                      1\n",
       "AECS Layout                  1\n",
       "Muttada                      1\n",
       "Afzalgunj                    1\n",
       "Ernakulam                    1\n",
       "Madambakkam                  1\n",
       "Kaggalipura                  1\n",
       "Kalyanpuri                   1\n",
       "SG Palya (Kormangla)         1\n",
       "Kaudiar                      1\n",
       "Shankar Vihar                1\n",
       "Urapakkam                    1\n",
       "Yakutpura                    1\n",
       "Tavarekere                   1\n",
       "Changampuzha Nagar           1\n",
       "Tiruvottiyur                 1\n",
       "Swasthya Vihar               1\n",
       "Ayanambakkam                 1\n",
       "Shadipur                     1\n",
       "Kala Ghoda                   1\n",
       "Vellakinar                   1\n",
       "Neyyattinkara Town           1\n",
       "Sriniwaspuri                 1\n",
       "Madanpura                    1\n",
       "Kudlu                        1\n",
       "Nedumangad                   1\n",
       "Kadubeesanahalli             1\n",
       "Thirumala                    1\n",
       "Dindarpur                    1\n",
       "BHEL                         1\n",
       "Pezhakkappilly               1\n",
       "Dickenson Road               1\n",
       "Rohini West                  1\n",
       "Pachalam                     1\n",
       "Nettoor                      1\n",
       "Hosur Road                   1\n",
       "Sithalapakkam                1\n",
       "Peyad                        1\n",
       "Malumichampatti              1\n",
       "Nayandahalli                 1\n",
       "Poovachal                    1\n",
       "Rohini Sector 20             1\n",
       "Sangam Vihar                 1\n",
       "Meera Bagh                   1\n",
       "Cherannagar                  1\n",
       "Lingarajapuram               1\n",
       "Sarvapriya Vihar             1\n",
       "Mahipalpur                   1\n",
       "Connaught Place              1\n",
       "Venkitapuram                 1\n",
       "Pratap Nagar                 1\n",
       "Hastsal                      1\n",
       "Seeranaickenpalayam          1\n",
       "Jayanagar 1 Block            1\n",
       "Bhogal                       1\n",
       "Delhi Cantt                  1\n",
       "Edakochi                     1\n",
       "Harlur                       1\n",
       "Radhakrishnan Salai          1\n",
       "Mankhurd                     1\n",
       "Nampally                     1\n",
       "Koramangala 2 Block          1\n",
       "Eroor South                  1\n",
       "Iyyappanthangal              1\n",
       "Maduravoyal                  1\n",
       "Outer Ring Road              1\n",
       "Perumathura                  1\n",
       "Pattimattam                  1\n",
       "Kuppakonanpudur              1\n",
       "Burari                       1\n",
       "Sarjapura                    1\n",
       "Jahangirpuri                 1\n",
       "Film Nagar                   1\n",
       "Thevara                      1\n",
       "Manchavilakom                1\n",
       "Kovaipudur                   1\n",
       "TV Museum                    1\n",
       "Koovappady                   1\n",
       "Ramachandrapuram             1\n",
       "Manacaud                     1\n",
       "Kovilambakkam                1\n",
       "Karukappilli                 1\n",
       "Ayyappankavu                 1\n",
       "Neeti Bagh                   1\n",
       "Vishwas Nagar                1\n",
       "Gorai                        1\n",
       "Name: Area, dtype: int64"
      ]
     },
     "execution_count": 27,
     "metadata": {},
     "output_type": "execute_result"
    }
   ],
   "source": [
    "df[\"Area\"].value_counts()"
   ]
  },
  {
   "cell_type": "code",
   "execution_count": 28,
   "metadata": {},
   "outputs": [],
   "source": [
    "df.drop('Place',axis=1,inplace=True)"
   ]
  },
  {
   "cell_type": "code",
   "execution_count": 29,
   "metadata": {},
   "outputs": [
    {
     "name": "stdout",
     "output_type": "stream",
     "text": [
      "<class 'pandas.core.frame.DataFrame'>\n",
      "Int64Index: 7897 entries, 0 to 1986\n",
      "Data columns (total 9 columns):\n",
      " #   Column              Non-Null Count  Dtype  \n",
      "---  ------              --------------  -----  \n",
      " 0   Qualification       7897 non-null   object \n",
      " 1   Experience          7897 non-null   int32  \n",
      " 2   Rating              3556 non-null   object \n",
      " 3   Profile             7897 non-null   object \n",
      " 4   Miscellaneous_Info  4493 non-null   object \n",
      " 5   Fees                5921 non-null   float64\n",
      " 6   source              7897 non-null   object \n",
      " 7   Area                7897 non-null   object \n",
      " 8   City                7896 non-null   object \n",
      "dtypes: float64(1), int32(1), object(7)\n",
      "memory usage: 586.1+ KB\n"
     ]
    }
   ],
   "source": [
    "df.info()"
   ]
  },
  {
   "cell_type": "markdown",
   "metadata": {},
   "source": [
    "<span style='background:yellow'>**Observation:** We have now 2 more columns \"Area\" & \"City\". Then we have dropped the column \"Place which is also seen   </span>"
   ]
  },
  {
   "cell_type": "markdown",
   "metadata": {},
   "source": [
    "## Handling Rating Column"
   ]
  },
  {
   "cell_type": "code",
   "execution_count": 30,
   "metadata": {},
   "outputs": [
    {
     "data": {
      "text/plain": [
       "100%    907\n",
       "98%     402\n",
       "99%     327\n",
       "97%     325\n",
       "96%     285\n",
       "95%     225\n",
       "94%     166\n",
       "93%     143\n",
       "92%      95\n",
       "90%      95\n",
       "91%      86\n",
       "88%      54\n",
       "89%      53\n",
       "85%      35\n",
       "83%      32\n",
       "82%      32\n",
       "86%      27\n",
       "80%      26\n",
       "87%      25\n",
       "84%      20\n",
       "67%      17\n",
       "77%      17\n",
       "71%      16\n",
       "81%      15\n",
       "79%      15\n",
       "73%      13\n",
       "76%      13\n",
       "60%      11\n",
       "75%       8\n",
       "70%       8\n",
       "78%       7\n",
       "74%       7\n",
       "69%       6\n",
       "56%       5\n",
       "55%       5\n",
       "68%       5\n",
       "64%       4\n",
       "57%       3\n",
       "72%       3\n",
       "63%       2\n",
       "62%       2\n",
       "33%       2\n",
       "65%       2\n",
       "53%       2\n",
       "47%       1\n",
       "7%        1\n",
       "58%       1\n",
       "52%       1\n",
       "48%       1\n",
       "40%       1\n",
       "45%       1\n",
       "36%       1\n",
       "Name: Rating, dtype: int64"
      ]
     },
     "execution_count": 30,
     "metadata": {},
     "output_type": "execute_result"
    }
   ],
   "source": [
    "df['Rating'].value_counts()"
   ]
  },
  {
   "cell_type": "code",
   "execution_count": 31,
   "metadata": {},
   "outputs": [
    {
     "data": {
      "text/plain": [
       "54.97"
      ]
     },
     "execution_count": 31,
     "metadata": {},
     "output_type": "execute_result"
    }
   ],
   "source": [
    "round(df.Rating.isnull().sum()/len(df)*100,2)"
   ]
  },
  {
   "cell_type": "markdown",
   "metadata": {},
   "source": [
    "<span style='background:yellow'>**Observation:** Close to 55% of data is missing. We need to handle the missing values and convert the object to Integer. All the value counts above show numbers, but the df.info shows it as object column   </span>"
   ]
  },
  {
   "cell_type": "code",
   "execution_count": 32,
   "metadata": {},
   "outputs": [],
   "source": [
    "df['Rating'].fillna('0%',inplace = True)\n",
    "df['Rating'] = df['Rating'].str.slice(stop=-1).astype(int)"
   ]
  },
  {
   "cell_type": "code",
   "execution_count": 33,
   "metadata": {},
   "outputs": [
    {
     "data": {
      "text/plain": [
       "0.0"
      ]
     },
     "execution_count": 33,
     "metadata": {},
     "output_type": "execute_result"
    }
   ],
   "source": [
    "round(df.Rating.isnull().sum()/len(df)*100,2)"
   ]
  },
  {
   "cell_type": "markdown",
   "metadata": {},
   "source": [
    "<span style='background:yellow'>**Observation:** Now we see there are no missing values   </span>"
   ]
  },
  {
   "cell_type": "code",
   "execution_count": 34,
   "metadata": {},
   "outputs": [
    {
     "name": "stdout",
     "output_type": "stream",
     "text": [
      "<class 'pandas.core.frame.DataFrame'>\n",
      "Int64Index: 7897 entries, 0 to 1986\n",
      "Data columns (total 9 columns):\n",
      " #   Column              Non-Null Count  Dtype  \n",
      "---  ------              --------------  -----  \n",
      " 0   Qualification       7897 non-null   object \n",
      " 1   Experience          7897 non-null   int32  \n",
      " 2   Rating              7897 non-null   int32  \n",
      " 3   Profile             7897 non-null   object \n",
      " 4   Miscellaneous_Info  4493 non-null   object \n",
      " 5   Fees                5921 non-null   float64\n",
      " 6   source              7897 non-null   object \n",
      " 7   Area                7897 non-null   object \n",
      " 8   City                7896 non-null   object \n",
      "dtypes: float64(1), int32(2), object(6)\n",
      "memory usage: 555.3+ KB\n"
     ]
    }
   ],
   "source": [
    "df.info()"
   ]
  },
  {
   "cell_type": "markdown",
   "metadata": {},
   "source": [
    "<span style='background:yellow'>**Observation:** we have filled the Rating missing values with 0. And also converted the column to integer  </span>"
   ]
  },
  {
   "cell_type": "markdown",
   "metadata": {},
   "source": [
    "## Handling Qualification Column"
   ]
  },
  {
   "cell_type": "markdown",
   "metadata": {},
   "source": [
    "<span style='background:green'>**Reference:** From a solution on google, used this method to handle Qualification. Here this method not only removes unwanted data but tabularizes the top 2 degrees. Many specialist do have dual degrees, as we see in the top 30 value counts   </span>"
   ]
  },
  {
   "cell_type": "code",
   "execution_count": 35,
   "metadata": {},
   "outputs": [
    {
     "data": {
      "text/plain": [
       "0.0"
      ]
     },
     "execution_count": 35,
     "metadata": {},
     "output_type": "execute_result"
    }
   ],
   "source": [
    "round(df.Qualification.isnull().sum()/len(df)*100,2)"
   ]
  },
  {
   "cell_type": "markdown",
   "metadata": {},
   "source": [
    "<span style='background:yellow'>**Observation:** We already saw that Qualification we dont have any missing values, however the Qualification is too wide to be be catetgorized   </span>"
   ]
  },
  {
   "cell_type": "code",
   "execution_count": 36,
   "metadata": {},
   "outputs": [
    {
     "data": {
      "text/plain": [
       "BDS                                                      626\n",
       "BHMS                                                     622\n",
       "BAMS                                                     620\n",
       "MBBS                                                     438\n",
       "MBBS, MS - ENT                                           279\n",
       "MBBS, MD - Dermatology                                   242\n",
       "MBBS, MD - General Medicine                              227\n",
       "MBBS, MD - Dermatology , Venereology & Leprosy           193\n",
       "MBBS, DDVL                                               123\n",
       "BHMS, MD - Homeopathy                                    119\n",
       "MBBS, Diploma in Otorhinolaryngology (DLO)               114\n",
       "BAMS, MD - Ayurveda Medicine                             104\n",
       "BDS, MDS - Conservative Dentistry & Endodontics           89\n",
       "MBBS, DDV                                                 81\n",
       "BDS, MDS                                                  77\n",
       "BDS, MDS - Oral & Maxillofacial Surgery                   76\n",
       "MD - Dermatology , Venereology & Leprosy, MBBS            66\n",
       "MBBS, MD - Medicine                                       62\n",
       "MBBS, MS - Otorhinolaryngology                            61\n",
       "BDS, MDS - Prosthodontics                                 60\n",
       "MBBS, MD - Internal Medicine                              54\n",
       "BDS, MDS - Orthodontics                                   54\n",
       "MS - ENT, MBBS                                            47\n",
       "BDS, MDS - Paedodontics And Preventive Dentistry          43\n",
       "BDS, MDS - Periodontology and Oral Implantology           41\n",
       "MBBS, Diploma in Otorhinolaryngology (DLO), DNB - ENT     37\n",
       "BDS, MDS - Orthodontics and Dentofacial Orthopaedics      37\n",
       "MBBS, Diploma in Dermatology                              37\n",
       "MD - Dermatology, MBBS                                    36\n",
       "BDS, MDS - Prosthodontist And Crown Bridge                35\n",
       "Name: Qualification, dtype: int64"
      ]
     },
     "execution_count": 36,
     "metadata": {},
     "output_type": "execute_result"
    }
   ],
   "source": [
    "#Lets view only the top qualification\n",
    "df['Qualification'].value_counts()[:30]"
   ]
  },
  {
   "cell_type": "code",
   "execution_count": 37,
   "metadata": {},
   "outputs": [
    {
     "name": "stdout",
     "output_type": "stream",
     "text": [
      "<class 'pandas.core.frame.DataFrame'>\n",
      "Int64Index: 7897 entries, 0 to 1986\n",
      "Data columns (total 9 columns):\n",
      " #   Column              Non-Null Count  Dtype  \n",
      "---  ------              --------------  -----  \n",
      " 0   Qualification       7897 non-null   object \n",
      " 1   Experience          7897 non-null   int32  \n",
      " 2   Rating              7897 non-null   int32  \n",
      " 3   Profile             7897 non-null   object \n",
      " 4   Miscellaneous_Info  4493 non-null   object \n",
      " 5   Fees                5921 non-null   float64\n",
      " 6   source              7897 non-null   object \n",
      " 7   Area                7897 non-null   object \n",
      " 8   City                7896 non-null   object \n",
      "dtypes: float64(1), int32(2), object(6)\n",
      "memory usage: 555.3+ KB\n"
     ]
    }
   ],
   "source": [
    "\n",
    "df.info()"
   ]
  },
  {
   "cell_type": "code",
   "execution_count": 38,
   "metadata": {},
   "outputs": [
    {
     "data": {
      "text/plain": [
       "2     3513\n",
       "1     2525\n",
       "3     1360\n",
       "4      344\n",
       "5      112\n",
       "6       28\n",
       "7        7\n",
       "9        4\n",
       "8        2\n",
       "10       1\n",
       "17       1\n",
       "Name: Qualification_count, dtype: int64"
      ]
     },
     "execution_count": 38,
     "metadata": {},
     "output_type": "execute_result"
    }
   ],
   "source": [
    "df['Qualification_count'] = df['Qualification'].apply(lambda x: len(x.split(\",\")))\n",
    "\n",
    "df['Qualification_count'].value_counts()"
   ]
  },
  {
   "cell_type": "code",
   "execution_count": 39,
   "metadata": {},
   "outputs": [
    {
     "data": {
      "text/plain": [
       "array(['BHMS, MD - Homeopathy', 'BAMS, MD - Ayurveda Medicine',\n",
       "       'MBBS, MS - Otorhinolaryngology', ...,\n",
       "       'MD - Medicine, Post Graduate Diploma in Diabetology (PGDD), MBBS, FRCP - Internal Medicine',\n",
       "       'MBBS, MS - General Surgery, FAIS, FIAGES',\n",
       "       'MBBS, MD / MS - Obstetrics & Gynaecology'], dtype=object)"
      ]
     },
     "execution_count": 39,
     "metadata": {},
     "output_type": "execute_result"
    }
   ],
   "source": [
    "df['Qualification'].unique()"
   ]
  },
  {
   "cell_type": "code",
   "execution_count": 40,
   "metadata": {},
   "outputs": [],
   "source": [
    "# DICT of qualification with there counts\n",
    "df[\"Qualification\"]=df[\"Qualification\"].str.split(\",\")\n",
    "Qualification ={}\n",
    "for x in df[\"Qualification\"].values:\n",
    "    for each in x:\n",
    "        each = each.strip()\n",
    "        if each in Qualification:\n",
    "            Qualification[each]+=1\n",
    "        else:\n",
    "            Qualification[each]=1\n",
    "            \n",
    "#print(Qualification)"
   ]
  },
  {
   "cell_type": "code",
   "execution_count": 41,
   "metadata": {},
   "outputs": [
    {
     "name": "stdout",
     "output_type": "stream",
     "text": [
      "['MBBS', 'BDS', 'BAMS', 'BHMS', 'MD - Dermatology', 'MS - ENT', 'Venereology & Leprosy', 'MD - General Medicine', 'Diploma in Otorhinolaryngology (DLO)', 'MD - Homeopathy']\n"
     ]
    }
   ],
   "source": [
    "#Extract top 10 qual\n",
    "most_qual = sorted(Qualification.items(),key=lambda x:x[1],reverse=True)[:10]\n",
    "final_qual = []\n",
    "for qual in most_qual:\n",
    "    final_qual.append(qual[0])\n",
    "    \n",
    "print(final_qual)"
   ]
  },
  {
   "cell_type": "code",
   "execution_count": 42,
   "metadata": {},
   "outputs": [],
   "source": [
    "#Encode extracted top 10 qualification into train dataset as new column.\n",
    "for qual in final_qual:\n",
    "    df[qual] = 0\n",
    "\n",
    "for x,y in zip(df['Qualification'].values, np.array([i for i in range(len(df))])):\n",
    "    for c in x:\n",
    "        c = c.strip()\n",
    "        if c in final_qual:\n",
    "            df[c][y] = 1"
   ]
  },
  {
   "cell_type": "code",
   "execution_count": 43,
   "metadata": {},
   "outputs": [],
   "source": [
    "# Now we can drop the extra quali which we added \n",
    "df.drop(['Qualification','Qualification_count'],axis=1,inplace=True)"
   ]
  },
  {
   "cell_type": "code",
   "execution_count": 44,
   "metadata": {},
   "outputs": [
    {
     "data": {
      "text/html": [
       "<div>\n",
       "<style scoped>\n",
       "    .dataframe tbody tr th:only-of-type {\n",
       "        vertical-align: middle;\n",
       "    }\n",
       "\n",
       "    .dataframe tbody tr th {\n",
       "        vertical-align: top;\n",
       "    }\n",
       "\n",
       "    .dataframe thead th {\n",
       "        text-align: right;\n",
       "    }\n",
       "</style>\n",
       "<table border=\"1\" class=\"dataframe\">\n",
       "  <thead>\n",
       "    <tr style=\"text-align: right;\">\n",
       "      <th></th>\n",
       "      <th>Experience</th>\n",
       "      <th>Rating</th>\n",
       "      <th>Profile</th>\n",
       "      <th>Miscellaneous_Info</th>\n",
       "      <th>Fees</th>\n",
       "      <th>source</th>\n",
       "      <th>Area</th>\n",
       "      <th>City</th>\n",
       "      <th>MBBS</th>\n",
       "      <th>BDS</th>\n",
       "      <th>BAMS</th>\n",
       "      <th>BHMS</th>\n",
       "      <th>MD - Dermatology</th>\n",
       "      <th>MS - ENT</th>\n",
       "      <th>Venereology &amp; Leprosy</th>\n",
       "      <th>MD - General Medicine</th>\n",
       "      <th>Diploma in Otorhinolaryngology (DLO)</th>\n",
       "      <th>MD - Homeopathy</th>\n",
       "    </tr>\n",
       "  </thead>\n",
       "  <tbody>\n",
       "    <tr>\n",
       "      <th>0</th>\n",
       "      <td>24</td>\n",
       "      <td>100</td>\n",
       "      <td>Homeopath</td>\n",
       "      <td>100% 16 Feedback Kakkanad, Ernakulam</td>\n",
       "      <td>100.00</td>\n",
       "      <td>train</td>\n",
       "      <td>Kakkanad</td>\n",
       "      <td>Ernakulam</td>\n",
       "      <td>0</td>\n",
       "      <td>0</td>\n",
       "      <td>0</td>\n",
       "      <td>1</td>\n",
       "      <td>0</td>\n",
       "      <td>0</td>\n",
       "      <td>0</td>\n",
       "      <td>0</td>\n",
       "      <td>0</td>\n",
       "      <td>1</td>\n",
       "    </tr>\n",
       "    <tr>\n",
       "      <th>1</th>\n",
       "      <td>12</td>\n",
       "      <td>98</td>\n",
       "      <td>Ayurveda</td>\n",
       "      <td>98% 76 Feedback Whitefield, Bangalore</td>\n",
       "      <td>350.00</td>\n",
       "      <td>train</td>\n",
       "      <td>Whitefield</td>\n",
       "      <td>Bangalore</td>\n",
       "      <td>0</td>\n",
       "      <td>0</td>\n",
       "      <td>1</td>\n",
       "      <td>0</td>\n",
       "      <td>0</td>\n",
       "      <td>0</td>\n",
       "      <td>0</td>\n",
       "      <td>0</td>\n",
       "      <td>0</td>\n",
       "      <td>0</td>\n",
       "    </tr>\n",
       "    <tr>\n",
       "      <th>2</th>\n",
       "      <td>9</td>\n",
       "      <td>0</td>\n",
       "      <td>ENT Specialist</td>\n",
       "      <td>NaN</td>\n",
       "      <td>300.00</td>\n",
       "      <td>train</td>\n",
       "      <td>Mathikere - BEL</td>\n",
       "      <td>Bangalore</td>\n",
       "      <td>1</td>\n",
       "      <td>0</td>\n",
       "      <td>0</td>\n",
       "      <td>0</td>\n",
       "      <td>0</td>\n",
       "      <td>0</td>\n",
       "      <td>0</td>\n",
       "      <td>0</td>\n",
       "      <td>0</td>\n",
       "      <td>0</td>\n",
       "    </tr>\n",
       "    <tr>\n",
       "      <th>3</th>\n",
       "      <td>12</td>\n",
       "      <td>0</td>\n",
       "      <td>Ayurveda</td>\n",
       "      <td>Bannerghatta Road, Bangalore ₹250 Available on Sun, 10 Feb</td>\n",
       "      <td>250.00</td>\n",
       "      <td>train</td>\n",
       "      <td>Bannerghatta Road</td>\n",
       "      <td>Bangalore</td>\n",
       "      <td>0</td>\n",
       "      <td>0</td>\n",
       "      <td>1</td>\n",
       "      <td>0</td>\n",
       "      <td>0</td>\n",
       "      <td>0</td>\n",
       "      <td>0</td>\n",
       "      <td>0</td>\n",
       "      <td>0</td>\n",
       "      <td>0</td>\n",
       "    </tr>\n",
       "    <tr>\n",
       "      <th>4</th>\n",
       "      <td>20</td>\n",
       "      <td>100</td>\n",
       "      <td>Ayurveda</td>\n",
       "      <td>100% 4 Feedback Keelkattalai, Chennai</td>\n",
       "      <td>250.00</td>\n",
       "      <td>train</td>\n",
       "      <td>Keelkattalai</td>\n",
       "      <td>Chennai</td>\n",
       "      <td>0</td>\n",
       "      <td>0</td>\n",
       "      <td>1</td>\n",
       "      <td>0</td>\n",
       "      <td>0</td>\n",
       "      <td>0</td>\n",
       "      <td>0</td>\n",
       "      <td>0</td>\n",
       "      <td>0</td>\n",
       "      <td>0</td>\n",
       "    </tr>\n",
       "  </tbody>\n",
       "</table>\n",
       "</div>"
      ],
      "text/plain": [
       "   Experience  Rating         Profile  \\\n",
       "0          24     100       Homeopath   \n",
       "1          12      98        Ayurveda   \n",
       "2           9       0  ENT Specialist   \n",
       "3          12       0        Ayurveda   \n",
       "4          20     100        Ayurveda   \n",
       "\n",
       "                                           Miscellaneous_Info   Fees source  \\\n",
       "0                        100% 16 Feedback Kakkanad, Ernakulam 100.00  train   \n",
       "1                       98% 76 Feedback Whitefield, Bangalore 350.00  train   \n",
       "2                                                         NaN 300.00  train   \n",
       "3  Bannerghatta Road, Bangalore ₹250 Available on Sun, 10 Feb 250.00  train   \n",
       "4                       100% 4 Feedback Keelkattalai, Chennai 250.00  train   \n",
       "\n",
       "                Area        City  MBBS  BDS  BAMS  BHMS  MD - Dermatology  \\\n",
       "0           Kakkanad   Ernakulam     0    0     0     1                 0   \n",
       "1         Whitefield   Bangalore     0    0     1     0                 0   \n",
       "2    Mathikere - BEL   Bangalore     1    0     0     0                 0   \n",
       "3  Bannerghatta Road   Bangalore     0    0     1     0                 0   \n",
       "4       Keelkattalai     Chennai     0    0     1     0                 0   \n",
       "\n",
       "   MS - ENT  Venereology & Leprosy  MD - General Medicine  \\\n",
       "0         0                      0                      0   \n",
       "1         0                      0                      0   \n",
       "2         0                      0                      0   \n",
       "3         0                      0                      0   \n",
       "4         0                      0                      0   \n",
       "\n",
       "   Diploma in Otorhinolaryngology (DLO)  MD - Homeopathy  \n",
       "0                                     0                1  \n",
       "1                                     0                0  \n",
       "2                                     0                0  \n",
       "3                                     0                0  \n",
       "4                                     0                0  "
      ]
     },
     "execution_count": 44,
     "metadata": {},
     "output_type": "execute_result"
    }
   ],
   "source": [
    "df.head()"
   ]
  },
  {
   "cell_type": "markdown",
   "metadata": {},
   "source": [
    "Now, we can see that we are having top 10 Qual columns in our training set which are perfectly one-hot encoded. where there is 2 Qual from top 10 in that row two 1 are there, and it's correct."
   ]
  },
  {
   "cell_type": "code",
   "execution_count": 45,
   "metadata": {},
   "outputs": [
    {
     "data": {
      "text/plain": [
       "Index(['Experience', 'Rating', 'Profile', 'Miscellaneous_Info', 'Fees',\n",
       "       'source', 'Area', 'City', 'MBBS', 'BDS', 'BAMS', 'BHMS',\n",
       "       'MD - Dermatology', 'MS - ENT', 'Venereology & Leprosy',\n",
       "       'MD - General Medicine', 'Diploma in Otorhinolaryngology (DLO)',\n",
       "       'MD - Homeopathy'],\n",
       "      dtype='object')"
      ]
     },
     "execution_count": 45,
     "metadata": {},
     "output_type": "execute_result"
    }
   ],
   "source": [
    "df.columns"
   ]
  },
  {
   "cell_type": "markdown",
   "metadata": {},
   "source": [
    "## Handling Miscellaneous_Info Column"
   ]
  },
  {
   "cell_type": "code",
   "execution_count": 46,
   "metadata": {},
   "outputs": [
    {
     "data": {
      "text/plain": [
       "43.1"
      ]
     },
     "execution_count": 46,
     "metadata": {},
     "output_type": "execute_result"
    }
   ],
   "source": [
    "round(df.Miscellaneous_Info.isnull().sum()/len(df)*100,2)"
   ]
  },
  {
   "cell_type": "code",
   "execution_count": 47,
   "metadata": {},
   "outputs": [
    {
     "data": {
      "text/plain": [
       "Acrylic Partial Denture Crowns and Bridges Fixing Artificial Teeth                            50\n",
       "Skin Allergy Treatment Skin Allergies Dermabrasion                                            18\n",
       "Tooth Extraction Dental Fillings Scaling / Polishing                                          16\n",
       "Dental Fillings Zirconia Crowns Dental Implant Fixing                                         15\n",
       "Dermabrasion Laser Resurfacing Acne / Pimples Treatment                                       14\n",
       "Balance Exercises Acne / Pimples Treatment Insulin Treatment                                  10\n",
       "Skin Disease Treatment Kidney Stone Treatment Gall Bladder (Biliary) Stone Treatment          10\n",
       "Acrylic Partial Denture Artificial Teeth BPS Dentures Fixing                                   9\n",
       "Ceramic Veneers / Crowns Tooth Extraction Dental Fillings                                      9\n",
       "Crowns and Bridges Fixing Artificial Teeth Impaction / Impacted Tooth Extraction               9\n",
       "Cosmetic/ Aesthetic Dentistry Crowns and Bridges Fixing Complete/Partial Dentures Fixing       9\n",
       "Laser Resurfacing Scar Treatment Wart Removal                                                  9\n",
       "Dental Fillings Dental Implant Fixing General Dentistry                                        8\n",
       "Acne / Pimples Treatment Scar Treatment Wart Removal                                           8\n",
       "Skin Care Bacterial Skin Infection Treatment skin checks                                       8\n",
       "Acrylic Partial Denture Artificial Teeth Impaction / Impacted Tooth Extraction                 8\n",
       "Crowns and Bridges Fixing Complete/Partial Dentures Fixing Tooth Extraction                    8\n",
       "Health Checkup (General) Infectious Disease Treatment Viral Fever Treatment                    7\n",
       "Crowns and Bridges Fixing Cast Partial Denture Cosmetic/ Aesthetic Dentistry                   7\n",
       "Orthodontics General Dentistry RCT - Single Sitting                                            7\n",
       "Laser Hair Removal Treatment Acne / Pimples Treatment Hair Breakage                            7\n",
       "Crowns and Bridges Fixing Impaction / Impacted Tooth Extraction Conservative Dentistry         7\n",
       "Manapakkam, Chennai ₹600 Visits Today                                                          6\n",
       "Wrinkle Treatment Allergy Treatment Viral Fever Treatment                                      6\n",
       "Impaction / Impacted Tooth Extraction Conservative Dentistry Cosmetic/ Aesthetic Dentistry     5\n",
       "Acrylic Partial Denture Crowns and Bridges Fixing BPS Dentures Fixing                          5\n",
       "Cosmetic/ Aesthetic Dentistry Crowns and Bridges Fixing Tooth Extraction                       5\n",
       "Dermabrasion Acne / Pimples Treatment Laser Resurfacing                                        5\n",
       "Dermabrasion Wrinkle Treatment Microdermabrasion                                               5\n",
       "Hearing Deficiency Assessment Congenital Ear Problem Treatment Tonsillitis Treatment           5\n",
       "Name: Miscellaneous_Info, dtype: int64"
      ]
     },
     "execution_count": 47,
     "metadata": {},
     "output_type": "execute_result"
    }
   ],
   "source": [
    "df[\"Miscellaneous_Info\"].value_counts()[:30]"
   ]
  },
  {
   "cell_type": "markdown",
   "metadata": {},
   "source": [
    "<span style='background:yellow'>**Observation:** 43% of data is missing. And if we want to categorize the data and do imputation, there is not lot of meaningful information at a table level. So we can go ahead and drop this column  </span>"
   ]
  },
  {
   "cell_type": "code",
   "execution_count": 48,
   "metadata": {},
   "outputs": [],
   "source": [
    "df.drop([\"Miscellaneous_Info\"],axis=1,inplace=True)"
   ]
  },
  {
   "cell_type": "code",
   "execution_count": 49,
   "metadata": {},
   "outputs": [
    {
     "name": "stdout",
     "output_type": "stream",
     "text": [
      "<class 'pandas.core.frame.DataFrame'>\n",
      "Int64Index: 7897 entries, 0 to 1986\n",
      "Data columns (total 17 columns):\n",
      " #   Column                                Non-Null Count  Dtype  \n",
      "---  ------                                --------------  -----  \n",
      " 0   Experience                            7897 non-null   int32  \n",
      " 1   Rating                                7897 non-null   int32  \n",
      " 2   Profile                               7897 non-null   object \n",
      " 3   Fees                                  5921 non-null   float64\n",
      " 4   source                                7897 non-null   object \n",
      " 5   Area                                  7897 non-null   object \n",
      " 6   City                                  7896 non-null   object \n",
      " 7   MBBS                                  7897 non-null   int64  \n",
      " 8   BDS                                   7897 non-null   int64  \n",
      " 9   BAMS                                  7897 non-null   int64  \n",
      " 10  BHMS                                  7897 non-null   int64  \n",
      " 11  MD - Dermatology                      7897 non-null   int64  \n",
      " 12  MS - ENT                              7897 non-null   int64  \n",
      " 13  Venereology & Leprosy                 7897 non-null   int64  \n",
      " 14  MD - General Medicine                 7897 non-null   int64  \n",
      " 15  Diploma in Otorhinolaryngology (DLO)  7897 non-null   int64  \n",
      " 16  MD - Homeopathy                       7897 non-null   int64  \n",
      "dtypes: float64(1), int32(2), int64(10), object(4)\n",
      "memory usage: 1.2+ MB\n"
     ]
    }
   ],
   "source": [
    "df.info()"
   ]
  },
  {
   "cell_type": "markdown",
   "metadata": {},
   "source": [
    "<span style='background:yellow'>**Observation:** We can see that we have removed the \"Miscellaneous_Info\" column from our database.    </span>"
   ]
  },
  {
   "cell_type": "markdown",
   "metadata": {},
   "source": [
    "## Handling Profile Column"
   ]
  },
  {
   "cell_type": "code",
   "execution_count": 50,
   "metadata": {},
   "outputs": [
    {
     "data": {
      "text/plain": [
       "0.0"
      ]
     },
     "execution_count": 50,
     "metadata": {},
     "output_type": "execute_result"
    }
   ],
   "source": [
    "round(df.Profile.isnull().sum()/len(df)*100,2)"
   ]
  },
  {
   "cell_type": "code",
   "execution_count": 51,
   "metadata": {},
   "outputs": [
    {
     "data": {
      "text/plain": [
       "Dentist             1832\n",
       "General Medicine    1613\n",
       "Dermatologists      1345\n",
       "Homeopath           1114\n",
       "Ayurveda            1031\n",
       "ENT Specialist       962\n",
       "Name: Profile, dtype: int64"
      ]
     },
     "execution_count": 51,
     "metadata": {},
     "output_type": "execute_result"
    }
   ],
   "source": [
    "df['Profile'].value_counts()"
   ]
  },
  {
   "cell_type": "markdown",
   "metadata": {},
   "source": [
    "<span style='background:yellow'>**Observation:** there are no missing values. And the value counts gives a good values for the \"Profile\" which are all valid. So we need not modify this column now before EDA. Before Model Building we can do a Label Encoding  </span>"
   ]
  },
  {
   "cell_type": "markdown",
   "metadata": {},
   "source": [
    "<span style='background:yellow'>**Observation:** Data is cleaned, Processed and ready for EDA !  </span>"
   ]
  },
  {
   "cell_type": "markdown",
   "metadata": {},
   "source": [
    "# EDA"
   ]
  },
  {
   "cell_type": "markdown",
   "metadata": {},
   "source": [
    "## Univariate Analysis"
   ]
  },
  {
   "cell_type": "code",
   "execution_count": 52,
   "metadata": {},
   "outputs": [
    {
     "data": {
      "text/plain": [
       "Index(['Experience', 'Rating', 'Profile', 'Fees', 'source', 'Area', 'City',\n",
       "       'MBBS', 'BDS', 'BAMS', 'BHMS', 'MD - Dermatology', 'MS - ENT',\n",
       "       'Venereology & Leprosy', 'MD - General Medicine',\n",
       "       'Diploma in Otorhinolaryngology (DLO)', 'MD - Homeopathy'],\n",
       "      dtype='object')"
      ]
     },
     "execution_count": 52,
     "metadata": {},
     "output_type": "execute_result"
    }
   ],
   "source": [
    "df.columns"
   ]
  },
  {
   "cell_type": "markdown",
   "metadata": {},
   "source": [
    "### Profile"
   ]
  },
  {
   "cell_type": "code",
   "execution_count": 53,
   "metadata": {},
   "outputs": [
    {
     "data": {
      "text/plain": [
       "<matplotlib.axes._subplots.AxesSubplot at 0x1951dc01130>"
      ]
     },
     "execution_count": 53,
     "metadata": {},
     "output_type": "execute_result"
    },
    {
     "data": {
      "image/png": "[encoded data removed]",
      "text/plain": [
       "<Figure size 432x288 with 1 Axes>"
      ]
     },
     "metadata": {
      "needs_background": "light"
     },
     "output_type": "display_data"
    }
   ],
   "source": [
    "df['Profile'].value_counts(normalize=True).plot(kind='barh')"
   ]
  },
  {
   "cell_type": "markdown",
   "metadata": {},
   "source": [
    "<span style='background:yellow'>**Observation:** There are more Dentists and General medicine practicioners than ENT specialist. Ayurvedha and Homeopathy, is lesser than Allopathy (General Medicine)  </span>"
   ]
  },
  {
   "cell_type": "markdown",
   "metadata": {},
   "source": [
    "### Experience"
   ]
  },
  {
   "cell_type": "code",
   "execution_count": 54,
   "metadata": {},
   "outputs": [
    {
     "data": {
      "image/png": "[encoded data removed]",
      "text/plain": [
       "<Figure size 1080x504 with 1 Axes>"
      ]
     },
     "metadata": {
      "needs_background": "light"
     },
     "output_type": "display_data"
    }
   ],
   "source": [
    "fig, ax = plt.subplots(figsize=(15,7))\n",
    "sns.countplot(df['Experience'], ax=ax, color='g', alpha=0.5)\n",
    "ax.set(title='Experience')\n",
    "plt.show()"
   ]
  },
  {
   "cell_type": "markdown",
   "metadata": {},
   "source": [
    "<span style='background:yellow'>**Observation:** Count of people is seen to gradually increase and peak around 10 to 11 years. It then drops down gradually.   </span>"
   ]
  },
  {
   "cell_type": "markdown",
   "metadata": {},
   "source": [
    "### City"
   ]
  },
  {
   "cell_type": "code",
   "execution_count": 55,
   "metadata": {},
   "outputs": [
    {
     "data": {
      "text/plain": [
       "<matplotlib.axes._subplots.AxesSubplot at 0x1951e279100>"
      ]
     },
     "execution_count": 55,
     "metadata": {},
     "output_type": "execute_result"
    },
    {
     "data": {
      "image/png": "[encoded data removed]",
      "text/plain": [
       "<Figure size 432x288 with 1 Axes>"
      ]
     },
     "metadata": {
      "needs_background": "light"
     },
     "output_type": "display_data"
    }
   ],
   "source": [
    "df['City'].value_counts(normalize=True).plot(kind='barh')"
   ]
  },
  {
   "cell_type": "markdown",
   "metadata": {},
   "source": [
    "<span style='background:yellow'>**Observation:**  Value counts for Bangalore is the highest followed by Mumbai and Delhi. Ernakulam and Thiruvananthapuram has toe lowest.  </span>"
   ]
  },
  {
   "cell_type": "markdown",
   "metadata": {},
   "source": [
    "### Rating"
   ]
  },
  {
   "cell_type": "code",
   "execution_count": 56,
   "metadata": {},
   "outputs": [
    {
     "data": {
      "image/png": "[encoded data removed]",
      "text/plain": [
       "<Figure size 1080x504 with 1 Axes>"
      ]
     },
     "metadata": {
      "needs_background": "light"
     },
     "output_type": "display_data"
    }
   ],
   "source": [
    "fig, ax = plt.subplots(figsize=(15,7))\n",
    "sns.countplot(df['Rating'], ax=ax, color='r', alpha=0.5)\n",
    "ax.set(title='Rating')\n",
    "plt.show()"
   ]
  },
  {
   "cell_type": "markdown",
   "metadata": {},
   "source": [
    "<span style='background:yellow'>**Observation:** The count of ratings is significant from 80 and above rating. Rating 100 seems to have the most count.  </span>"
   ]
  },
  {
   "cell_type": "markdown",
   "metadata": {},
   "source": [
    "### Fees"
   ]
  },
  {
   "cell_type": "code",
   "execution_count": 57,
   "metadata": {},
   "outputs": [
    {
     "data": {
      "image/png": "[encoded data removed]",
      "text/plain": [
       "<Figure size 2520x504 with 1 Axes>"
      ]
     },
     "metadata": {
      "needs_background": "light"
     },
     "output_type": "display_data"
    }
   ],
   "source": [
    "fig, ax = plt.subplots(figsize=(35,7))\n",
    "sns.countplot(df['Fees'], ax=ax, color='b', alpha=0.5)\n",
    "ax.set(title='Fees')\n",
    "plt.show()"
   ]
  },
  {
   "cell_type": "markdown",
   "metadata": {},
   "source": [
    "<span style='background:yellow'>**Observation:** fees is predominantly seen in hundrends with 100 being the highest count. It is seen that count of 200, 300 and 500 is almost similar. </span>"
   ]
  },
  {
   "cell_type": "markdown",
   "metadata": {},
   "source": [
    "## Bi-Variate Analysis"
   ]
  },
  {
   "cell_type": "code",
   "execution_count": 58,
   "metadata": {},
   "outputs": [
    {
     "data": {
      "text/plain": [
       "Index(['Experience', 'Rating', 'Profile', 'Fees', 'source', 'Area', 'City',\n",
       "       'MBBS', 'BDS', 'BAMS', 'BHMS', 'MD - Dermatology', 'MS - ENT',\n",
       "       'Venereology & Leprosy', 'MD - General Medicine',\n",
       "       'Diploma in Otorhinolaryngology (DLO)', 'MD - Homeopathy'],\n",
       "      dtype='object')"
      ]
     },
     "execution_count": 58,
     "metadata": {},
     "output_type": "execute_result"
    }
   ],
   "source": [
    "df.columns"
   ]
  },
  {
   "cell_type": "code",
   "execution_count": 59,
   "metadata": {},
   "outputs": [
    {
     "data": {
      "image/png": "[encoded data removed]",
      "text/plain": [
       "<Figure size 1800x648 with 3 Axes>"
      ]
     },
     "metadata": {
      "needs_background": "light"
     },
     "output_type": "display_data"
    }
   ],
   "source": [
    "plt.figure(figsize = (25,9))\n",
    "\n",
    "plt.subplot(311)\n",
    "sns.boxplot(x='City', y='Fees', data=df, palette=\"Set1\")\n",
    "\n",
    "plt.subplot(312)\n",
    "sns.boxplot(x='Experience', y='Fees', data=df, palette=\"Set1\")\n",
    "\n",
    "plt.subplot(313)\n",
    "sns.boxplot(x='Profile', y='Fees', data=df, palette=\"Set1\")\n",
    "\n",
    "plt.subplots_adjust(wspace = 0.2, hspace = 0.4,top = 1.5)\n",
    "\n",
    "plt.show()"
   ]
  },
  {
   "cell_type": "markdown",
   "metadata": {},
   "source": [
    "<span style='background:yellow'>**Observation:**Average fees among cities is seen to be similar. Higher end of the fees across many city is 800. Thiruvananthapuram and Coimbatore have similar spread of fees. Mumbai 75th quartile fees is the highest among cities. </span>\n",
    "    \n",
    "<span style='background:yellow'>**Observation:**  Average fees in the initial experience is around 200 and it is seen to go to 300 with increase in experience. As the experience cross 40, it is seen that the Max fees falls from 800 to around 400 to 500 </span>\n",
    "    \n",
    "<span style='background:yellow'>**Observation:** Specialist doctors like ENT, Dermatologist have higher average salary while the Aurvedha and dentist have the lowest average of 200. However they do have some outliers in both cases. Gen med and Homeopath average fees is similar  </span>"
   ]
  },
  {
   "cell_type": "code",
   "execution_count": 60,
   "metadata": {},
   "outputs": [
    {
     "data": {
      "image/png": "[encoded data removed]",
      "text/plain": [
       "<Figure size 1800x648 with 1 Axes>"
      ]
     },
     "metadata": {
      "needs_background": "light"
     },
     "output_type": "display_data"
    }
   ],
   "source": [
    "plt.figure(figsize = (25,9))\n",
    "\n",
    "\n",
    "plt.subplot(311)\n",
    "sns.boxplot(x='Rating', y='Fees', data=df, palette=\"Set1\")\n",
    "\n",
    "\n",
    "plt.subplots_adjust(wspace = 0.2, hspace = 0.4,top = 1.5)\n",
    "\n",
    "plt.show()"
   ]
  },
  {
   "cell_type": "markdown",
   "metadata": {},
   "source": [
    "<span style='background:yellow'>**Observation:**  It can been seen that lower rating has a very erratic fee pattern. All rating above 80 seems similar with one or two exception</span>"
   ]
  },
  {
   "cell_type": "code",
   "execution_count": 61,
   "metadata": {},
   "outputs": [
    {
     "data": {
      "image/png": "[encoded data removed]",
      "text/plain": [
       "<Figure size 1080x360 with 1 Axes>"
      ]
     },
     "metadata": {
      "needs_background": "light"
     },
     "output_type": "display_data"
    }
   ],
   "source": [
    "plt.figure(figsize=(15,5))\n",
    "sns.barplot(x=\"Profile\",y=\"Fees\",data=df)\n",
    "plt.show()"
   ]
  },
  {
   "cell_type": "markdown",
   "metadata": {},
   "source": [
    "<span style='background:yellow'>**Observation:** Specialist doctors like ENT and dematologist have the highest fees while dentist and ayurveda have the lowest.   </span>"
   ]
  },
  {
   "cell_type": "code",
   "execution_count": 62,
   "metadata": {},
   "outputs": [
    {
     "data": {
      "image/png": "[encoded data removed]",
      "text/plain": [
       "<Figure size 1800x360 with 1 Axes>"
      ]
     },
     "metadata": {
      "needs_background": "light"
     },
     "output_type": "display_data"
    }
   ],
   "source": [
    "plt.figure(figsize=(25,5))\n",
    "sns.barplot(x=\"City\",y=\"Fees\",data=df)\n",
    "plt.show()"
   ]
  },
  {
   "cell_type": "markdown",
   "metadata": {},
   "source": [
    "<span style='background:yellow'>**Observation:** delhi has the highest fees followed by Mumbai and Bangalore. Coimbatore and Thiruvananthapiram have the lowest.  </span>"
   ]
  },
  {
   "cell_type": "code",
   "execution_count": 63,
   "metadata": {},
   "outputs": [
    {
     "data": {
      "image/png": "[encoded data removed]",
      "text/plain": [
       "<Figure size 2520x360 with 1 Axes>"
      ]
     },
     "metadata": {
      "needs_background": "light"
     },
     "output_type": "display_data"
    }
   ],
   "source": [
    "plt.figure(figsize=(35,5))\n",
    "sns.barplot(x=\"Rating\",y=\"Fees\",data=df)\n",
    "plt.show()"
   ]
  },
  {
   "cell_type": "markdown",
   "metadata": {},
   "source": [
    "## Multivariate Analysis"
   ]
  },
  {
   "cell_type": "markdown",
   "metadata": {},
   "source": [
    "### Correlation matrix/heatmap"
   ]
  },
  {
   "cell_type": "code",
   "execution_count": 64,
   "metadata": {},
   "outputs": [
    {
     "data": {
      "text/plain": [
       "<matplotlib.axes._subplots.AxesSubplot at 0x1951deed790>"
      ]
     },
     "execution_count": 64,
     "metadata": {},
     "output_type": "execute_result"
    },
    {
     "data": {
      "image/png": "[encoded data removed]",
      "text/plain": [
       "<Figure size 792x648 with 2 Axes>"
      ]
     },
     "metadata": {
      "needs_background": "light"
     },
     "output_type": "display_data"
    }
   ],
   "source": [
    "# Compute the correlation matrix\n",
    "corr = df.corr()\n",
    "\n",
    "# Generate a mask for the upper triangle\n",
    "mask = np.triu(np.ones_like(corr, dtype=bool))\n",
    "\n",
    "# Set up the matplotlib figure\n",
    "f, ax = plt.subplots(figsize=(11, 9))\n",
    "\n",
    "# Generate a custom diverging colormap\n",
    "cmap = sns.diverging_palette(230, 20, as_cmap=True)\n",
    "\n",
    "# Draw the heatmap with the mask and correct aspect ratio\n",
    "sns.heatmap(corr, mask=mask, cmap=cmap, vmax=.3, center=0,annot=True,\n",
    "            square=True, linewidths=.5, cbar_kws={\"shrink\": .5})"
   ]
  },
  {
   "cell_type": "markdown",
   "metadata": {},
   "source": [
    "## Correlation with target variable-Numerical + Plot"
   ]
  },
  {
   "cell_type": "code",
   "execution_count": 65,
   "metadata": {},
   "outputs": [
    {
     "data": {
      "text/plain": [
       "BAMS                                   -0.03\n",
       "BDS                                    -0.03\n",
       "Diploma in Otorhinolaryngology (DLO)   -0.01\n",
       "Experience                             -0.00\n",
       "BHMS                                   -0.00\n",
       "MD - General Medicine                  -0.00\n",
       "MD - Homeopathy                         0.00\n",
       "MS - ENT                                0.02\n",
       "Venereology & Leprosy                   0.03\n",
       "MBBS                                    0.03\n",
       "MD - Dermatology                        0.03\n",
       "Rating                                  0.15\n",
       "Fees                                    1.00\n",
       "Name: Fees, dtype: float64"
      ]
     },
     "execution_count": 65,
     "metadata": {},
     "output_type": "execute_result"
    }
   ],
   "source": [
    "corr_matrix = df.corr()\n",
    "corr_matrix[\"Fees\"].sort_values(ascending=True)"
   ]
  },
  {
   "cell_type": "code",
   "execution_count": 66,
   "metadata": {},
   "outputs": [
    {
     "data": {
      "image/png": "[encoded data removed]",
      "text/plain": [
       "<Figure size 1584x504 with 1 Axes>"
      ]
     },
     "metadata": {
      "needs_background": "light"
     },
     "output_type": "display_data"
    }
   ],
   "source": [
    "plt.figure(figsize=(22,7))\n",
    "df.corr()['Fees'].sort_values(ascending=False).drop(['Fees']).plot(kind=\"bar\",color='c')\n",
    "plt.xlabel(\"Fees\",fontsize=14)\n",
    "plt.ylabel(\"Column with target names\",fontsize=14)\n",
    "plt.title(\"Correlation with target\",fontsize=14)\n",
    "plt.show()"
   ]
  },
  {
   "cell_type": "markdown",
   "metadata": {},
   "source": [
    "# Skewness"
   ]
  },
  {
   "cell_type": "code",
   "execution_count": 67,
   "metadata": {},
   "outputs": [
    {
     "data": {
      "text/plain": [
       "Experience                             0.99\n",
       "Rating                                 0.23\n",
       "Fees                                   0.75\n",
       "MBBS                                   1.10\n",
       "BDS                                    2.33\n",
       "BAMS                                   3.39\n",
       "BHMS                                   3.47\n",
       "MD - Dermatology                       3.42\n",
       "MS - ENT                               3.99\n",
       "Venereology & Leprosy                  5.19\n",
       "MD - General Medicine                  5.19\n",
       "Diploma in Otorhinolaryngology (DLO)   4.69\n",
       "MD - Homeopathy                        6.53\n",
       "dtype: float64"
      ]
     },
     "execution_count": 67,
     "metadata": {},
     "output_type": "execute_result"
    }
   ],
   "source": [
    "df.skew()"
   ]
  },
  {
   "cell_type": "code",
   "execution_count": 68,
   "metadata": {},
   "outputs": [],
   "source": [
    "df_skew=df.drop(\"Fees\",axis=1)\n",
    "#we have created a new dataframe called df_skew to handle skewness and dropped the target variable \"Fees\""
   ]
  },
  {
   "cell_type": "code",
   "execution_count": 69,
   "metadata": {},
   "outputs": [
    {
     "data": {
      "text/plain": [
       "Experience                             0.99\n",
       "Rating                                 0.23\n",
       "MBBS                                   1.10\n",
       "BDS                                    2.33\n",
       "BAMS                                   3.39\n",
       "BHMS                                   3.47\n",
       "MD - Dermatology                       3.42\n",
       "MS - ENT                               3.99\n",
       "Venereology & Leprosy                  5.19\n",
       "MD - General Medicine                  5.19\n",
       "Diploma in Otorhinolaryngology (DLO)   4.69\n",
       "MD - Homeopathy                        6.53\n",
       "dtype: float64"
      ]
     },
     "execution_count": 69,
     "metadata": {},
     "output_type": "execute_result"
    }
   ],
   "source": [
    "df_skew.skew()\n",
    "#checking the skewness"
   ]
  },
  {
   "cell_type": "code",
   "execution_count": 70,
   "metadata": {},
   "outputs": [
    {
     "name": "stdout",
     "output_type": "stream",
     "text": [
      "Number of numerical columns:  12\n",
      "Number of columns which are skewed not in -0.5 to +0.5 range:  11\n"
     ]
    }
   ],
   "source": [
    "print(\"Number of numerical columns: \",len(df_skew.skew()))\n",
    "print(\"Number of columns which are skewed not in -0.5 to +0.5 range: \",len(df_skew.skew().loc[abs(df_skew.skew())>0.5]))"
   ]
  },
  {
   "cell_type": "markdown",
   "metadata": {},
   "source": [
    "<span style='background:yellow'>**Observation:** In the 11 columns that are not skewed, only Experience Column is from the original dataset. So its ok to retain it as it is. Rating is within Skew range. All other columns have dummy values, so they will be skewed. So there is no Skewness and outliers we will handle in this classified data.  </span>"
   ]
  },
  {
   "cell_type": "markdown",
   "metadata": {},
   "source": [
    "# Label Encoding"
   ]
  },
  {
   "cell_type": "code",
   "execution_count": 71,
   "metadata": {},
   "outputs": [
    {
     "name": "stdout",
     "output_type": "stream",
     "text": [
      "<class 'pandas.core.frame.DataFrame'>\n",
      "Int64Index: 7897 entries, 0 to 1986\n",
      "Data columns (total 17 columns):\n",
      " #   Column                                Non-Null Count  Dtype  \n",
      "---  ------                                --------------  -----  \n",
      " 0   Experience                            7897 non-null   int32  \n",
      " 1   Rating                                7897 non-null   int32  \n",
      " 2   Profile                               7897 non-null   object \n",
      " 3   Fees                                  5921 non-null   float64\n",
      " 4   source                                7897 non-null   object \n",
      " 5   Area                                  7897 non-null   object \n",
      " 6   City                                  7896 non-null   object \n",
      " 7   MBBS                                  7897 non-null   int64  \n",
      " 8   BDS                                   7897 non-null   int64  \n",
      " 9   BAMS                                  7897 non-null   int64  \n",
      " 10  BHMS                                  7897 non-null   int64  \n",
      " 11  MD - Dermatology                      7897 non-null   int64  \n",
      " 12  MS - ENT                              7897 non-null   int64  \n",
      " 13  Venereology & Leprosy                 7897 non-null   int64  \n",
      " 14  MD - General Medicine                 7897 non-null   int64  \n",
      " 15  Diploma in Otorhinolaryngology (DLO)  7897 non-null   int64  \n",
      " 16  MD - Homeopathy                       7897 non-null   int64  \n",
      "dtypes: float64(1), int32(2), int64(10), object(4)\n",
      "memory usage: 1.2+ MB\n"
     ]
    }
   ],
   "source": [
    "df.info()"
   ]
  },
  {
   "cell_type": "code",
   "execution_count": 72,
   "metadata": {},
   "outputs": [
    {
     "data": {
      "text/plain": [
       "Index(['Profile', 'source', 'Area', 'City'], dtype='object')"
      ]
     },
     "execution_count": 72,
     "metadata": {},
     "output_type": "execute_result"
    }
   ],
   "source": [
    "categorical = df.select_dtypes(include = [\"object\"]).keys()\n",
    "categorical"
   ]
  },
  {
   "cell_type": "code",
   "execution_count": 73,
   "metadata": {},
   "outputs": [],
   "source": [
    "le = LabelEncoder()\n",
    "df[\"Profile\"] = le.fit_transform(df[\"Profile\"])"
   ]
  },
  {
   "cell_type": "code",
   "execution_count": 74,
   "metadata": {},
   "outputs": [
    {
     "data": {
      "text/plain": [
       "0    1031\n",
       "1    1832\n",
       "2    1345\n",
       "3     962\n",
       "4    1613\n",
       "5    1114\n",
       "Name: Profile, dtype: int64"
      ]
     },
     "execution_count": 74,
     "metadata": {},
     "output_type": "execute_result"
    }
   ],
   "source": [
    "df[\"Profile\"].value_counts().sort_index()"
   ]
  },
  {
   "cell_type": "code",
   "execution_count": 75,
   "metadata": {},
   "outputs": [],
   "source": [
    "le = LabelEncoder()\n",
    "df[\"Area\"] = le.fit_transform(df[\"Area\"])"
   ]
  },
  {
   "cell_type": "code",
   "execution_count": 76,
   "metadata": {},
   "outputs": [
    {
     "data": {
      "text/plain": [
       "0      1\n",
       "1     23\n",
       "2      3\n",
       "3      3\n",
       "4      4\n",
       "5     10\n",
       "6      7\n",
       "7      2\n",
       "8     53\n",
       "9      1\n",
       "10     2\n",
       "11     1\n",
       "12     3\n",
       "13     6\n",
       "14     1\n",
       "15    11\n",
       "16    11\n",
       "17    20\n",
       "18     4\n",
       "19     3\n",
       "20    12\n",
       "21     2\n",
       "22    17\n",
       "23     9\n",
       "24     2\n",
       "25     3\n",
       "26     9\n",
       "27     5\n",
       "28    49\n",
       "29    97\n",
       "Name: Area, dtype: int64"
      ]
     },
     "execution_count": 76,
     "metadata": {},
     "output_type": "execute_result"
    }
   ],
   "source": [
    "df[\"Area\"].value_counts().sort_index()[:30]"
   ]
  },
  {
   "cell_type": "code",
   "execution_count": 77,
   "metadata": {},
   "outputs": [],
   "source": [
    "le = LabelEncoder()\n",
    "df[\"City\"] = le.fit_transform(df[\"City\"])"
   ]
  },
  {
   "cell_type": "code",
   "execution_count": 78,
   "metadata": {},
   "outputs": [
    {
     "data": {
      "text/plain": [
       "0     1675\n",
       "1     1139\n",
       "2      295\n",
       "3     1597\n",
       "4      201\n",
       "5     1281\n",
       "6     1603\n",
       "7        1\n",
       "8      101\n",
       "9        3\n",
       "10       1\n",
       "Name: City, dtype: int64"
      ]
     },
     "execution_count": 78,
     "metadata": {},
     "output_type": "execute_result"
    }
   ],
   "source": [
    "df[\"City\"].value_counts().sort_index()"
   ]
  },
  {
   "cell_type": "markdown",
   "metadata": {},
   "source": [
    "# Model Building-Regression"
   ]
  },
  {
   "cell_type": "markdown",
   "metadata": {},
   "source": [
    "## Importing Libraries for Model Building (Regression)"
   ]
  },
  {
   "cell_type": "code",
   "execution_count": 79,
   "metadata": {},
   "outputs": [],
   "source": [
    "from sklearn.model_selection import train_test_split\n",
    "from sklearn.model_selection import cross_val_score\n",
    "from sklearn.model_selection import GridSearchCV\n",
    "from sklearn.model_selection import RandomizedSearchCV\n",
    "from sklearn.linear_model import LinearRegression, Ridge, Lasso\n",
    "from sklearn.neighbors import KNeighborsRegressor\n",
    "from sklearn.tree import DecisionTreeRegressor\n",
    "from sklearn.ensemble import GradientBoostingRegressor\n",
    "from sklearn.ensemble import RandomForestRegressor\n",
    "from sklearn.svm import SVR\n",
    "from sklearn.metrics import r2_score ,mean_absolute_error,mean_squared_error\n",
    "from sklearn.metrics import mean_squared_log_error\n",
    "from math import sqrt\n",
    "from sklearn.metrics import mean_squared_error\n",
    "from sklearn.model_selection import KFold"
   ]
  },
  {
   "cell_type": "markdown",
   "metadata": {},
   "source": [
    "## Train & Test Split"
   ]
  },
  {
   "cell_type": "code",
   "execution_count": 80,
   "metadata": {},
   "outputs": [],
   "source": [
    "#Lets seprate the train and test\n",
    "df_train=df.loc[df[\"source\"]==\"train\"]\n",
    "df_test=df.loc[df[\"source\"]==\"test\"]\n",
    "df_test.reset_index(drop=True,inplace=True)\n"
   ]
  },
  {
   "cell_type": "code",
   "execution_count": 81,
   "metadata": {},
   "outputs": [
    {
     "name": "stdout",
     "output_type": "stream",
     "text": [
      "   Experience  Rating  Profile   Fees source  Area  City  MBBS  BDS  BAMS  \\\n",
      "0          24     100        5 100.00  train   324     4     0    0     0   \n",
      "1          12      98        0 350.00  train   926     0     0    0     1   \n",
      "\n",
      "   BHMS  MD - Dermatology  MS - ENT  Venereology & Leprosy  \\\n",
      "0     1                 0         0                      0   \n",
      "1     0                 0         0                      0   \n",
      "\n",
      "   MD - General Medicine  Diploma in Otorhinolaryngology (DLO)  \\\n",
      "0                      0                                     0   \n",
      "1                      0                                     0   \n",
      "\n",
      "   MD - Homeopathy  \n",
      "0                1  \n",
      "1                0  \n"
     ]
    }
   ],
   "source": [
    "print(df_train.head(2))\n"
   ]
  },
  {
   "cell_type": "code",
   "execution_count": 82,
   "metadata": {},
   "outputs": [
    {
     "name": "stdout",
     "output_type": "stream",
     "text": [
      "   Experience  Rating  Profile  Fees source  Area  City  MBBS  BDS  BAMS  \\\n",
      "0          35       0        4   nan   test   217     6     0    0     0   \n",
      "1          31       0        3   nan   test   924     5     0    0     1   \n",
      "\n",
      "   BHMS  MD - Dermatology  MS - ENT  Venereology & Leprosy  \\\n",
      "0     1                 0         0                      0   \n",
      "1     0                 0         0                      0   \n",
      "\n",
      "   MD - General Medicine  Diploma in Otorhinolaryngology (DLO)  \\\n",
      "0                      0                                     0   \n",
      "1                      0                                     0   \n",
      "\n",
      "   MD - Homeopathy  \n",
      "0                1  \n",
      "1                0  \n"
     ]
    }
   ],
   "source": [
    "print(df_test.head(2))"
   ]
  },
  {
   "cell_type": "code",
   "execution_count": 83,
   "metadata": {},
   "outputs": [],
   "source": [
    "\n",
    "#Lets drop the Fees from test dataset as that is the o/p variable that needs to be predicted\n",
    "df_test.drop(columns=[\"Fees\"],inplace=True)"
   ]
  },
  {
   "cell_type": "code",
   "execution_count": 84,
   "metadata": {},
   "outputs": [],
   "source": [
    "#lets drop source column from df_train and df_test\n",
    "df_train.drop(columns=[\"source\"],inplace=True)\n",
    "df_test.drop(columns=[\"source\"],inplace=True)"
   ]
  },
  {
   "cell_type": "code",
   "execution_count": 85,
   "metadata": {},
   "outputs": [],
   "source": [
    "\n",
    "#seprating input and output from df_train\n",
    "df_x=df_train.drop(columns=[\"Fees\"])\n",
    "y=df_train[[\"Fees\"]]"
   ]
  },
  {
   "cell_type": "markdown",
   "metadata": {},
   "source": [
    "## Standard Scalar on Train Data"
   ]
  },
  {
   "cell_type": "code",
   "execution_count": 86,
   "metadata": {},
   "outputs": [],
   "source": [
    "#Lets bring every column to common scale\n",
    "from sklearn.preprocessing import StandardScaler\n",
    "sc = StandardScaler()\n",
    "x = sc.fit_transform(df_x)\n",
    "x=pd.DataFrame(x,columns=df_x.columns)"
   ]
  },
  {
   "cell_type": "markdown",
   "metadata": {},
   "source": [
    "## Finding Best Random State"
   ]
  },
  {
   "cell_type": "code",
   "execution_count": 87,
   "metadata": {},
   "outputs": [
    {
     "name": "stdout",
     "output_type": "stream",
     "text": [
      "Best accuracy is  0.0774144773682992 on Random_state   141\n"
     ]
    }
   ],
   "source": [
    "maxAccu=0\n",
    "BestRs=0\n",
    "\n",
    "for i in range(1,200):\n",
    "    x_train,x_test,y_train,y_test=train_test_split(x,y,test_size=0.20,random_state=i)    \n",
    "    mod=LinearRegression()\n",
    "    mod.fit(x_train,y_train)\n",
    "    pred=mod.predict(x_test)\n",
    "    acc=r2_score(y_test,pred)\n",
    "    if acc>maxAccu:\n",
    "        maxAccu=acc\n",
    "        BestRs=i\n",
    "print(\"Best accuracy is \", maxAccu,\"on Random_state  \",BestRs)"
   ]
  },
  {
   "cell_type": "code",
   "execution_count": 88,
   "metadata": {},
   "outputs": [
    {
     "name": "stdout",
     "output_type": "stream",
     "text": [
      "(4736, 15)\n",
      "(1185, 15)\n",
      "(4736, 1)\n",
      "(1185, 1)\n"
     ]
    }
   ],
   "source": [
    "x_train,x_test,y_train,y_test=train_test_split(x,y,test_size=.20,random_state=BestRs)\n",
    "print(x_train.shape)\n",
    "print(x_test.shape)\n",
    "print(y_train.shape)\n",
    "print(y_test.shape)"
   ]
  },
  {
   "cell_type": "markdown",
   "metadata": {},
   "source": [
    "## Instantiating the Algos"
   ]
  },
  {
   "cell_type": "code",
   "execution_count": 89,
   "metadata": {},
   "outputs": [],
   "source": [
    "lm=LinearRegression()\n",
    "ridge = Ridge()\n",
    "gb= GradientBoostingRegressor()\n",
    "dt  = DecisionTreeRegressor()\n",
    "rf  = RandomForestRegressor()\n",
    "knn = KNeighborsRegressor()\n",
    "ls=Lasso()\n",
    "svr=SVR()"
   ]
  },
  {
   "cell_type": "markdown",
   "metadata": {},
   "source": [
    "## Building the Model & Evaluation Metrics"
   ]
  },
  {
   "cell_type": "code",
   "execution_count": 90,
   "metadata": {},
   "outputs": [
    {
     "data": {
      "text/html": [
       "<div>\n",
       "<style scoped>\n",
       "    .dataframe tbody tr th:only-of-type {\n",
       "        vertical-align: middle;\n",
       "    }\n",
       "\n",
       "    .dataframe tbody tr th {\n",
       "        vertical-align: top;\n",
       "    }\n",
       "\n",
       "    .dataframe thead th {\n",
       "        text-align: right;\n",
       "    }\n",
       "</style>\n",
       "<table border=\"1\" class=\"dataframe\">\n",
       "  <thead>\n",
       "    <tr style=\"text-align: right;\">\n",
       "      <th></th>\n",
       "      <th>Name</th>\n",
       "      <th>Error</th>\n",
       "      <th>R2</th>\n",
       "      <th>MAE</th>\n",
       "      <th>MSE</th>\n",
       "      <th>RMSE</th>\n",
       "      <th>CrossValidation</th>\n",
       "      <th>R2CVDiff</th>\n",
       "      <th>RMSECVDiff</th>\n",
       "    </tr>\n",
       "  </thead>\n",
       "  <tbody>\n",
       "    <tr>\n",
       "      <th>0</th>\n",
       "      <td>Lin Reg</td>\n",
       "      <td>0.05</td>\n",
       "      <td>0.07</td>\n",
       "      <td>146.38</td>\n",
       "      <td>32762.50</td>\n",
       "      <td>181.00</td>\n",
       "      <td>0.05</td>\n",
       "      <td>0.03</td>\n",
       "      <td>367.29</td>\n",
       "    </tr>\n",
       "    <tr>\n",
       "      <th>1</th>\n",
       "      <td>Lasso</td>\n",
       "      <td>0.05</td>\n",
       "      <td>0.07</td>\n",
       "      <td>146.76</td>\n",
       "      <td>32857.81</td>\n",
       "      <td>181.27</td>\n",
       "      <td>0.05</td>\n",
       "      <td>0.02</td>\n",
       "      <td>367.40</td>\n",
       "    </tr>\n",
       "    <tr>\n",
       "      <th>2</th>\n",
       "      <td>Ridge</td>\n",
       "      <td>0.05</td>\n",
       "      <td>0.07</td>\n",
       "      <td>146.38</td>\n",
       "      <td>32762.72</td>\n",
       "      <td>181.00</td>\n",
       "      <td>0.05</td>\n",
       "      <td>0.03</td>\n",
       "      <td>367.29</td>\n",
       "    </tr>\n",
       "    <tr>\n",
       "      <th>3</th>\n",
       "      <td>Gradient boost</td>\n",
       "      <td>0.27</td>\n",
       "      <td>0.20</td>\n",
       "      <td>132.18</td>\n",
       "      <td>28456.02</td>\n",
       "      <td>168.69</td>\n",
       "      <td>0.20</td>\n",
       "      <td>-0.01</td>\n",
       "      <td>339.12</td>\n",
       "    </tr>\n",
       "    <tr>\n",
       "      <th>4</th>\n",
       "      <td>Decision Tree</td>\n",
       "      <td>1.00</td>\n",
       "      <td>-0.61</td>\n",
       "      <td>172.19</td>\n",
       "      <td>56824.49</td>\n",
       "      <td>238.38</td>\n",
       "      <td>-0.57</td>\n",
       "      <td>-0.04</td>\n",
       "      <td>475.92</td>\n",
       "    </tr>\n",
       "    <tr>\n",
       "      <th>5</th>\n",
       "      <td>Random Forest</td>\n",
       "      <td>0.88</td>\n",
       "      <td>0.12</td>\n",
       "      <td>134.26</td>\n",
       "      <td>30968.57</td>\n",
       "      <td>175.98</td>\n",
       "      <td>0.16</td>\n",
       "      <td>-0.03</td>\n",
       "      <td>351.06</td>\n",
       "    </tr>\n",
       "    <tr>\n",
       "      <th>6</th>\n",
       "      <td>Kneigbor</td>\n",
       "      <td>0.34</td>\n",
       "      <td>0.01</td>\n",
       "      <td>147.10</td>\n",
       "      <td>35126.91</td>\n",
       "      <td>187.42</td>\n",
       "      <td>-0.01</td>\n",
       "      <td>0.02</td>\n",
       "      <td>379.05</td>\n",
       "    </tr>\n",
       "  </tbody>\n",
       "</table>\n",
       "</div>"
      ],
      "text/plain": [
       "             Name  Error    R2    MAE      MSE   RMSE  CrossValidation  \\\n",
       "0         Lin Reg   0.05  0.07 146.38 32762.50 181.00             0.05   \n",
       "1           Lasso   0.05  0.07 146.76 32857.81 181.27             0.05   \n",
       "2           Ridge   0.05  0.07 146.38 32762.72 181.00             0.05   \n",
       "3  Gradient boost   0.27  0.20 132.18 28456.02 168.69             0.20   \n",
       "4   Decision Tree   1.00 -0.61 172.19 56824.49 238.38            -0.57   \n",
       "5   Random Forest   0.88  0.12 134.26 30968.57 175.98             0.16   \n",
       "6        Kneigbor   0.34  0.01 147.10 35126.91 187.42            -0.01   \n",
       "\n",
       "   R2CVDiff  RMSECVDiff  \n",
       "0      0.03      367.29  \n",
       "1      0.02      367.40  \n",
       "2      0.03      367.29  \n",
       "3     -0.01      339.12  \n",
       "4     -0.04      475.92  \n",
       "5     -0.03      351.06  \n",
       "6      0.02      379.05  "
      ]
     },
     "execution_count": 90,
     "metadata": {},
     "output_type": "execute_result"
    }
   ],
   "source": [
    "modelList=[(\"Lin Reg\", lm), (\"Lasso\",ls),(\"Ridge\", ridge),(\"Gradient boost\",gb),(\"Decision Tree\", dt),(\"Random Forest\",rf),(\"Kneigbor\",knn)]\n",
    "\n",
    "def GetAccuracy(x,y,modelList):\n",
    "    x_train,x_test,y_train,y_test=train_test_split(x,y,random_state=BestRs)\n",
    "    modelerror=[]\n",
    "    ModelName= []\n",
    "    modelR2=[]\n",
    "    modelMAE=[]\n",
    "    modelMSE=[]\n",
    "    modelRMSE=[]\n",
    "    modelCrossval=[]\n",
    "    R2CVDiff=[]\n",
    "    modelCrossval1=[]\n",
    "    RMSECVDiff=[]\n",
    "    \n",
    "    for Nameofmodel, modelInstance in modelList:\n",
    "        ModelName.append(Nameofmodel)\n",
    "        modelInstance.fit(x_train,y_train)\n",
    "        pred=modelInstance.predict(x_test)\n",
    "        error=modelInstance.score(x_train,y_train)\n",
    "        modelerror.append(error)\n",
    "        r2=r2_score(y_test,pred)\n",
    "        modelR2.append(r2)\n",
    "        mae = mean_absolute_error(y_test,pred)\n",
    "        modelMAE.append(mae)\n",
    "        MSE=mean_squared_error(y_test,pred)\n",
    "        modelMSE.append(MSE)\n",
    "        RMSE=sqrt(mean_squared_error(y_test,pred))\n",
    "        modelRMSE.append(RMSE)\n",
    "        \n",
    "        crossAcc=cross_val_score(modelInstance,x,y,cv=5,scoring='r2').mean()\n",
    "        crossAcc1=cross_val_score(modelInstance,x,y,cv=5,scoring='neg_root_mean_squared_error').mean()\n",
    "        modelCrossval.append(crossAcc)\n",
    "        R2CVDiff.append(r2-crossAcc)\n",
    "        modelCrossval1.append(crossAcc1)\n",
    "        RMSECVDiff.append(RMSE-crossAcc1)\n",
    "        \n",
    "    df_acc=pd.DataFrame({\"Name\":ModelName,\n",
    "                         \"Error\":modelerror,\n",
    "                         \"R2\": modelR2,\n",
    "                         \"MAE\": modelMAE,\n",
    "                         \"MSE\": modelMSE,\n",
    "                         \"RMSE\": modelRMSE,                         \n",
    "                         \"CrossValidation\":modelCrossval,\n",
    "                         \"R2CVDiff\":R2CVDiff,\n",
    "                         \"RMSECVDiff\":RMSECVDiff\n",
    "                          })\n",
    "    return df_acc\n",
    "GetAccuracy(x,y,modelList)\n",
    "    "
   ]
  },
  {
   "cell_type": "markdown",
   "metadata": {},
   "source": [
    "# PCA"
   ]
  },
  {
   "cell_type": "code",
   "execution_count": 91,
   "metadata": {},
   "outputs": [
    {
     "name": "stdout",
     "output_type": "stream",
     "text": [
      "variance :0.7826004486466263\n"
     ]
    }
   ],
   "source": [
    "#Lets use pca to reduce the dimensionality\n",
    "from sklearn.decomposition import PCA\n",
    "pca = PCA(n_components=10)\n",
    "x_pca=pca.fit_transform(x)\n",
    "print(\"variance :{}\".format(np.sum(pca.explained_variance_ratio_)))"
   ]
  },
  {
   "cell_type": "markdown",
   "metadata": {},
   "source": [
    "## PCA Model Building"
   ]
  },
  {
   "cell_type": "code",
   "execution_count": 92,
   "metadata": {},
   "outputs": [
    {
     "data": {
      "text/html": [
       "<div>\n",
       "<style scoped>\n",
       "    .dataframe tbody tr th:only-of-type {\n",
       "        vertical-align: middle;\n",
       "    }\n",
       "\n",
       "    .dataframe tbody tr th {\n",
       "        vertical-align: top;\n",
       "    }\n",
       "\n",
       "    .dataframe thead th {\n",
       "        text-align: right;\n",
       "    }\n",
       "</style>\n",
       "<table border=\"1\" class=\"dataframe\">\n",
       "  <thead>\n",
       "    <tr style=\"text-align: right;\">\n",
       "      <th></th>\n",
       "      <th>PCAName</th>\n",
       "      <th>Error</th>\n",
       "      <th>R2</th>\n",
       "      <th>MAE</th>\n",
       "      <th>MSE</th>\n",
       "      <th>RMSE</th>\n",
       "      <th>CrossValidation</th>\n",
       "      <th>R2CVDiff</th>\n",
       "      <th>RMSECVDiff</th>\n",
       "    </tr>\n",
       "  </thead>\n",
       "  <tbody>\n",
       "    <tr>\n",
       "      <th>0</th>\n",
       "      <td>Lin Reg</td>\n",
       "      <td>0.03</td>\n",
       "      <td>0.03</td>\n",
       "      <td>149.72</td>\n",
       "      <td>34162.09</td>\n",
       "      <td>184.83</td>\n",
       "      <td>0.05</td>\n",
       "      <td>-0.01</td>\n",
       "      <td>371.11</td>\n",
       "    </tr>\n",
       "    <tr>\n",
       "      <th>1</th>\n",
       "      <td>Lasso</td>\n",
       "      <td>0.03</td>\n",
       "      <td>0.03</td>\n",
       "      <td>149.75</td>\n",
       "      <td>34157.82</td>\n",
       "      <td>184.82</td>\n",
       "      <td>0.05</td>\n",
       "      <td>-0.01</td>\n",
       "      <td>370.96</td>\n",
       "    </tr>\n",
       "    <tr>\n",
       "      <th>2</th>\n",
       "      <td>Ridge</td>\n",
       "      <td>0.03</td>\n",
       "      <td>0.03</td>\n",
       "      <td>149.72</td>\n",
       "      <td>34162.10</td>\n",
       "      <td>184.83</td>\n",
       "      <td>0.05</td>\n",
       "      <td>-0.01</td>\n",
       "      <td>371.11</td>\n",
       "    </tr>\n",
       "    <tr>\n",
       "      <th>3</th>\n",
       "      <td>Gradient boost</td>\n",
       "      <td>0.19</td>\n",
       "      <td>0.08</td>\n",
       "      <td>145.45</td>\n",
       "      <td>32379.76</td>\n",
       "      <td>179.94</td>\n",
       "      <td>0.20</td>\n",
       "      <td>-0.12</td>\n",
       "      <td>350.38</td>\n",
       "    </tr>\n",
       "    <tr>\n",
       "      <th>4</th>\n",
       "      <td>Decision Tree</td>\n",
       "      <td>1.00</td>\n",
       "      <td>-0.70</td>\n",
       "      <td>183.34</td>\n",
       "      <td>60144.40</td>\n",
       "      <td>245.24</td>\n",
       "      <td>-0.57</td>\n",
       "      <td>-0.13</td>\n",
       "      <td>483.98</td>\n",
       "    </tr>\n",
       "    <tr>\n",
       "      <th>5</th>\n",
       "      <td>Random Forest</td>\n",
       "      <td>0.87</td>\n",
       "      <td>0.07</td>\n",
       "      <td>143.17</td>\n",
       "      <td>32940.03</td>\n",
       "      <td>181.49</td>\n",
       "      <td>0.15</td>\n",
       "      <td>-0.09</td>\n",
       "      <td>356.50</td>\n",
       "    </tr>\n",
       "    <tr>\n",
       "      <th>6</th>\n",
       "      <td>Kneigbor</td>\n",
       "      <td>0.32</td>\n",
       "      <td>-0.02</td>\n",
       "      <td>147.45</td>\n",
       "      <td>36185.96</td>\n",
       "      <td>190.23</td>\n",
       "      <td>-0.01</td>\n",
       "      <td>-0.01</td>\n",
       "      <td>381.85</td>\n",
       "    </tr>\n",
       "  </tbody>\n",
       "</table>\n",
       "</div>"
      ],
      "text/plain": [
       "          PCAName  Error    R2    MAE      MSE   RMSE  CrossValidation  \\\n",
       "0         Lin Reg   0.03  0.03 149.72 34162.09 184.83             0.05   \n",
       "1           Lasso   0.03  0.03 149.75 34157.82 184.82             0.05   \n",
       "2           Ridge   0.03  0.03 149.72 34162.10 184.83             0.05   \n",
       "3  Gradient boost   0.19  0.08 145.45 32379.76 179.94             0.20   \n",
       "4   Decision Tree   1.00 -0.70 183.34 60144.40 245.24            -0.57   \n",
       "5   Random Forest   0.87  0.07 143.17 32940.03 181.49             0.15   \n",
       "6        Kneigbor   0.32 -0.02 147.45 36185.96 190.23            -0.01   \n",
       "\n",
       "   R2CVDiff  RMSECVDiff  \n",
       "0     -0.01      371.11  \n",
       "1     -0.01      370.96  \n",
       "2     -0.01      371.11  \n",
       "3     -0.12      350.38  \n",
       "4     -0.13      483.98  \n",
       "5     -0.09      356.50  \n",
       "6     -0.01      381.85  "
      ]
     },
     "execution_count": 92,
     "metadata": {},
     "output_type": "execute_result"
    }
   ],
   "source": [
    "modelList=[(\"Lin Reg\", lm), (\"Lasso\",ls),(\"Ridge\", ridge),(\"Gradient boost\",gb),(\"Decision Tree\", dt),(\"Random Forest\",rf),(\"Kneigbor\",knn)]\n",
    "\n",
    "def GetAccuracy(x_pca,y,modelList):\n",
    "    p_train,p_test,y_train,y_test=train_test_split(x_pca,y,random_state=BestRs)\n",
    "    modelerror=[]\n",
    "    ModelName= []\n",
    "    modelR2=[]\n",
    "    modelMAE=[]\n",
    "    modelMSE=[]\n",
    "    modelRMSE=[]\n",
    "    modelCrossval=[]\n",
    "    R2CVDiff=[]\n",
    "    modelCrossval1=[]\n",
    "    RMSECVDiff=[]\n",
    "    \n",
    "    for Nameofmodel, modelInstance in modelList:\n",
    "        ModelName.append(Nameofmodel)\n",
    "        modelInstance.fit(p_train,y_train)\n",
    "        pred=modelInstance.predict(p_test)\n",
    "        error=modelInstance.score(p_train,y_train)\n",
    "        modelerror.append(error)\n",
    "        r2=r2_score(y_test,pred)\n",
    "        modelR2.append(r2)\n",
    "        mae = mean_absolute_error(y_test,pred)\n",
    "        modelMAE.append(mae)\n",
    "        MSE=mean_squared_error(y_test,pred)\n",
    "        modelMSE.append(MSE)\n",
    "        RMSE=sqrt(mean_squared_error(y_test,pred))\n",
    "        modelRMSE.append(RMSE)\n",
    "        \n",
    "        crossAcc=cross_val_score(modelInstance,x,y,cv=5,scoring='r2').mean()\n",
    "        crossAcc1=cross_val_score(modelInstance,x,y,cv=5,scoring='neg_root_mean_squared_error').mean()\n",
    "        modelCrossval.append(crossAcc)\n",
    "        R2CVDiff.append(r2-crossAcc)\n",
    "        modelCrossval1.append(crossAcc1)\n",
    "        RMSECVDiff.append(RMSE-crossAcc1)\n",
    "        \n",
    "    df_acc=pd.DataFrame({\"PCAName\":ModelName,\n",
    "                         \"Error\":modelerror,\n",
    "                         \"R2\": modelR2,\n",
    "                         \"MAE\": modelMAE,\n",
    "                         \"MSE\": modelMSE,\n",
    "                         \"RMSE\": modelRMSE,                         \n",
    "                         \"CrossValidation\":modelCrossval,\n",
    "                         \"R2CVDiff\":R2CVDiff,\n",
    "                         \"RMSECVDiff\":RMSECVDiff\n",
    "                          })\n",
    "    return df_acc\n",
    "GetAccuracy(x_pca,y,modelList)\n",
    "    "
   ]
  },
  {
   "cell_type": "markdown",
   "metadata": {},
   "source": [
    "# Feature Engineering"
   ]
  },
  {
   "cell_type": "code",
   "execution_count": 93,
   "metadata": {},
   "outputs": [
    {
     "data": {
      "text/plain": [
       "Index(['Experience', 'Rating', 'Profile', 'Area', 'City', 'MBBS', 'BDS',\n",
       "       'BAMS', 'BHMS', 'MD - Dermatology', 'MS - ENT', 'Venereology & Leprosy',\n",
       "       'MD - General Medicine', 'Diploma in Otorhinolaryngology (DLO)',\n",
       "       'MD - Homeopathy'],\n",
       "      dtype='object')"
      ]
     },
     "execution_count": 93,
     "metadata": {},
     "output_type": "execute_result"
    }
   ],
   "source": [
    "x.columns"
   ]
  },
  {
   "cell_type": "code",
   "execution_count": 94,
   "metadata": {},
   "outputs": [],
   "source": [
    "b=x.drop(columns=['MBBS', 'BDS',\n",
    "       'BAMS', 'BHMS', 'MD - Dermatology', 'MS - ENT', 'Venereology & Leprosy',\n",
    "       'MD - General Medicine', 'Diploma in Otorhinolaryngology (DLO)',\n",
    "       'MD - Homeopathy'])"
   ]
  },
  {
   "cell_type": "markdown",
   "metadata": {},
   "source": [
    "## Feature Engineering Model Building"
   ]
  },
  {
   "cell_type": "code",
   "execution_count": 95,
   "metadata": {},
   "outputs": [
    {
     "data": {
      "text/html": [
       "<div>\n",
       "<style scoped>\n",
       "    .dataframe tbody tr th:only-of-type {\n",
       "        vertical-align: middle;\n",
       "    }\n",
       "\n",
       "    .dataframe tbody tr th {\n",
       "        vertical-align: top;\n",
       "    }\n",
       "\n",
       "    .dataframe thead th {\n",
       "        text-align: right;\n",
       "    }\n",
       "</style>\n",
       "<table border=\"1\" class=\"dataframe\">\n",
       "  <thead>\n",
       "    <tr style=\"text-align: right;\">\n",
       "      <th></th>\n",
       "      <th>FEName</th>\n",
       "      <th>Error</th>\n",
       "      <th>R2</th>\n",
       "      <th>MAE</th>\n",
       "      <th>MSE</th>\n",
       "      <th>RMSE</th>\n",
       "      <th>CrossValidation</th>\n",
       "      <th>R2CVDiff</th>\n",
       "      <th>RMSECVDiff</th>\n",
       "    </tr>\n",
       "  </thead>\n",
       "  <tbody>\n",
       "    <tr>\n",
       "      <th>0</th>\n",
       "      <td>Lin Reg</td>\n",
       "      <td>0.05</td>\n",
       "      <td>0.07</td>\n",
       "      <td>146.81</td>\n",
       "      <td>32909.65</td>\n",
       "      <td>181.41</td>\n",
       "      <td>0.05</td>\n",
       "      <td>0.02</td>\n",
       "      <td>367.29</td>\n",
       "    </tr>\n",
       "    <tr>\n",
       "      <th>1</th>\n",
       "      <td>Lasso</td>\n",
       "      <td>0.05</td>\n",
       "      <td>0.07</td>\n",
       "      <td>147.07</td>\n",
       "      <td>32962.02</td>\n",
       "      <td>181.55</td>\n",
       "      <td>0.05</td>\n",
       "      <td>0.02</td>\n",
       "      <td>367.44</td>\n",
       "    </tr>\n",
       "    <tr>\n",
       "      <th>2</th>\n",
       "      <td>Ridge</td>\n",
       "      <td>0.05</td>\n",
       "      <td>0.07</td>\n",
       "      <td>146.81</td>\n",
       "      <td>32909.86</td>\n",
       "      <td>181.41</td>\n",
       "      <td>0.05</td>\n",
       "      <td>0.02</td>\n",
       "      <td>367.29</td>\n",
       "    </tr>\n",
       "    <tr>\n",
       "      <th>3</th>\n",
       "      <td>Gradient boost</td>\n",
       "      <td>0.26</td>\n",
       "      <td>0.20</td>\n",
       "      <td>131.83</td>\n",
       "      <td>28428.47</td>\n",
       "      <td>168.61</td>\n",
       "      <td>0.21</td>\n",
       "      <td>-0.01</td>\n",
       "      <td>338.62</td>\n",
       "    </tr>\n",
       "    <tr>\n",
       "      <th>4</th>\n",
       "      <td>Decision Tree</td>\n",
       "      <td>0.99</td>\n",
       "      <td>-0.57</td>\n",
       "      <td>168.35</td>\n",
       "      <td>55419.28</td>\n",
       "      <td>235.41</td>\n",
       "      <td>-0.53</td>\n",
       "      <td>-0.04</td>\n",
       "      <td>471.09</td>\n",
       "    </tr>\n",
       "    <tr>\n",
       "      <th>5</th>\n",
       "      <td>Random Forest</td>\n",
       "      <td>0.88</td>\n",
       "      <td>0.13</td>\n",
       "      <td>132.88</td>\n",
       "      <td>30682.40</td>\n",
       "      <td>175.16</td>\n",
       "      <td>0.14</td>\n",
       "      <td>-0.01</td>\n",
       "      <td>351.75</td>\n",
       "    </tr>\n",
       "    <tr>\n",
       "      <th>6</th>\n",
       "      <td>Kneigbor</td>\n",
       "      <td>0.37</td>\n",
       "      <td>0.02</td>\n",
       "      <td>140.81</td>\n",
       "      <td>34527.29</td>\n",
       "      <td>185.82</td>\n",
       "      <td>0.05</td>\n",
       "      <td>-0.02</td>\n",
       "      <td>372.05</td>\n",
       "    </tr>\n",
       "  </tbody>\n",
       "</table>\n",
       "</div>"
      ],
      "text/plain": [
       "           FEName  Error    R2    MAE      MSE   RMSE  CrossValidation  \\\n",
       "0         Lin Reg   0.05  0.07 146.81 32909.65 181.41             0.05   \n",
       "1           Lasso   0.05  0.07 147.07 32962.02 181.55             0.05   \n",
       "2           Ridge   0.05  0.07 146.81 32909.86 181.41             0.05   \n",
       "3  Gradient boost   0.26  0.20 131.83 28428.47 168.61             0.21   \n",
       "4   Decision Tree   0.99 -0.57 168.35 55419.28 235.41            -0.53   \n",
       "5   Random Forest   0.88  0.13 132.88 30682.40 175.16             0.14   \n",
       "6        Kneigbor   0.37  0.02 140.81 34527.29 185.82             0.05   \n",
       "\n",
       "   R2CVDiff  RMSECVDiff  \n",
       "0      0.02      367.29  \n",
       "1      0.02      367.44  \n",
       "2      0.02      367.29  \n",
       "3     -0.01      338.62  \n",
       "4     -0.04      471.09  \n",
       "5     -0.01      351.75  \n",
       "6     -0.02      372.05  "
      ]
     },
     "execution_count": 95,
     "metadata": {},
     "output_type": "execute_result"
    }
   ],
   "source": [
    "modelList=[(\"Lin Reg\", lm), (\"Lasso\",ls),(\"Ridge\", ridge),(\"Gradient boost\",gb),(\"Decision Tree\", dt),(\"Random Forest\",rf),(\"Kneigbor\",knn)]\n",
    "\n",
    "def GetAccuracy(b,y,modelList):\n",
    "    b_train,b_test,y_train,y_test=train_test_split(b,y,random_state=BestRs)\n",
    "    modelerror=[]\n",
    "    ModelName= []\n",
    "    modelR2=[]\n",
    "    modelMAE=[]\n",
    "    modelMSE=[]\n",
    "    modelRMSE=[]\n",
    "    modelCrossval=[]\n",
    "    R2CVDiff=[]\n",
    "    modelCrossval1=[]\n",
    "    RMSECVDiff=[]\n",
    "    \n",
    "    for Nameofmodel, modelInstance in modelList:\n",
    "        ModelName.append(Nameofmodel)\n",
    "        modelInstance.fit(b_train,y_train)\n",
    "        pred=modelInstance.predict(b_test)\n",
    "        error=modelInstance.score(b_train,y_train)\n",
    "        modelerror.append(error)\n",
    "        r2=r2_score(y_test,pred)\n",
    "        modelR2.append(r2)\n",
    "        mae = mean_absolute_error(y_test,pred)\n",
    "        modelMAE.append(mae)\n",
    "        MSE=mean_squared_error(y_test,pred)\n",
    "        modelMSE.append(MSE)\n",
    "        RMSE=sqrt(mean_squared_error(y_test,pred))\n",
    "        modelRMSE.append(RMSE)\n",
    "        \n",
    "        crossAcc=cross_val_score(modelInstance,b,y,cv=5,scoring='r2').mean()\n",
    "        crossAcc1=cross_val_score(modelInstance,b,y,cv=5,scoring='neg_root_mean_squared_error').mean()\n",
    "        modelCrossval.append(crossAcc)\n",
    "        R2CVDiff.append(r2-crossAcc)\n",
    "        modelCrossval1.append(crossAcc1)\n",
    "        RMSECVDiff.append(RMSE-crossAcc1)\n",
    "        \n",
    "    df_acc=pd.DataFrame({\"FEName\":ModelName,\n",
    "                         \"Error\":modelerror,\n",
    "                         \"R2\": modelR2,\n",
    "                         \"MAE\": modelMAE,\n",
    "                         \"MSE\": modelMSE,\n",
    "                         \"RMSE\": modelRMSE,                         \n",
    "                         \"CrossValidation\":modelCrossval,\n",
    "                         \"R2CVDiff\":R2CVDiff,\n",
    "                         \"RMSECVDiff\":RMSECVDiff\n",
    "                          })\n",
    "    return df_acc\n",
    "GetAccuracy(b,y,modelList)\n",
    "    "
   ]
  },
  {
   "cell_type": "markdown",
   "metadata": {},
   "source": [
    "# RMSLE model building"
   ]
  },
  {
   "cell_type": "code",
   "execution_count": 96,
   "metadata": {},
   "outputs": [],
   "source": [
    "from sklearn.ensemble import BaggingRegressor\n",
    "br = BaggingRegressor()\n"
   ]
  },
  {
   "cell_type": "code",
   "execution_count": 112,
   "metadata": {},
   "outputs": [
    {
     "data": {
      "text/html": [
       "<div>\n",
       "<style scoped>\n",
       "    .dataframe tbody tr th:only-of-type {\n",
       "        vertical-align: middle;\n",
       "    }\n",
       "\n",
       "    .dataframe tbody tr th {\n",
       "        vertical-align: top;\n",
       "    }\n",
       "\n",
       "    .dataframe thead th {\n",
       "        text-align: right;\n",
       "    }\n",
       "</style>\n",
       "<table border=\"1\" class=\"dataframe\">\n",
       "  <thead>\n",
       "    <tr style=\"text-align: right;\">\n",
       "      <th></th>\n",
       "      <th>Name</th>\n",
       "      <th>Error</th>\n",
       "      <th>R2</th>\n",
       "      <th>MAE</th>\n",
       "      <th>MSE</th>\n",
       "      <th>RMSE</th>\n",
       "      <th>RMSLE</th>\n",
       "      <th>R2-CV</th>\n",
       "      <th>R2CVDiff</th>\n",
       "      <th>RMSE-CV</th>\n",
       "      <th>RMSECVDiff</th>\n",
       "      <th>RMSLE-CV</th>\n",
       "      <th>RMSLECVDiff</th>\n",
       "    </tr>\n",
       "  </thead>\n",
       "  <tbody>\n",
       "    <tr>\n",
       "      <th>0</th>\n",
       "      <td>Lin Reg</td>\n",
       "      <td>0.05</td>\n",
       "      <td>0.07</td>\n",
       "      <td>146.38</td>\n",
       "      <td>32762.50</td>\n",
       "      <td>181.00</td>\n",
       "      <td>0.68</td>\n",
       "      <td>0.05</td>\n",
       "      <td>0.02</td>\n",
       "      <td>-185.75</td>\n",
       "      <td>-4.75</td>\n",
       "      <td>-0.47</td>\n",
       "      <td>0.21</td>\n",
       "    </tr>\n",
       "    <tr>\n",
       "      <th>1</th>\n",
       "      <td>Lasso</td>\n",
       "      <td>0.05</td>\n",
       "      <td>0.07</td>\n",
       "      <td>146.76</td>\n",
       "      <td>32857.81</td>\n",
       "      <td>181.27</td>\n",
       "      <td>0.68</td>\n",
       "      <td>0.05</td>\n",
       "      <td>0.02</td>\n",
       "      <td>-185.66</td>\n",
       "      <td>-4.39</td>\n",
       "      <td>-0.47</td>\n",
       "      <td>0.21</td>\n",
       "    </tr>\n",
       "    <tr>\n",
       "      <th>2</th>\n",
       "      <td>Ridge</td>\n",
       "      <td>0.05</td>\n",
       "      <td>0.07</td>\n",
       "      <td>146.38</td>\n",
       "      <td>32762.72</td>\n",
       "      <td>181.00</td>\n",
       "      <td>0.68</td>\n",
       "      <td>0.05</td>\n",
       "      <td>0.03</td>\n",
       "      <td>-185.79</td>\n",
       "      <td>-4.78</td>\n",
       "      <td>-0.47</td>\n",
       "      <td>0.21</td>\n",
       "    </tr>\n",
       "    <tr>\n",
       "      <th>3</th>\n",
       "      <td>Gradient boost</td>\n",
       "      <td>0.27</td>\n",
       "      <td>0.20</td>\n",
       "      <td>132.19</td>\n",
       "      <td>28461.67</td>\n",
       "      <td>168.71</td>\n",
       "      <td>0.64</td>\n",
       "      <td>0.20</td>\n",
       "      <td>-0.01</td>\n",
       "      <td>-170.33</td>\n",
       "      <td>-1.62</td>\n",
       "      <td>-0.40</td>\n",
       "      <td>0.23</td>\n",
       "    </tr>\n",
       "    <tr>\n",
       "      <th>4</th>\n",
       "      <td>Bagging Reg</td>\n",
       "      <td>0.84</td>\n",
       "      <td>0.05</td>\n",
       "      <td>138.59</td>\n",
       "      <td>33540.19</td>\n",
       "      <td>183.14</td>\n",
       "      <td>0.67</td>\n",
       "      <td>0.08</td>\n",
       "      <td>-0.03</td>\n",
       "      <td>-182.92</td>\n",
       "      <td>0.22</td>\n",
       "      <td>-0.43</td>\n",
       "      <td>0.24</td>\n",
       "    </tr>\n",
       "    <tr>\n",
       "      <th>5</th>\n",
       "      <td>Decision Tree</td>\n",
       "      <td>1.00</td>\n",
       "      <td>-0.60</td>\n",
       "      <td>172.46</td>\n",
       "      <td>56729.36</td>\n",
       "      <td>238.18</td>\n",
       "      <td>0.84</td>\n",
       "      <td>-0.54</td>\n",
       "      <td>-0.06</td>\n",
       "      <td>-234.01</td>\n",
       "      <td>4.17</td>\n",
       "      <td>-0.70</td>\n",
       "      <td>0.14</td>\n",
       "    </tr>\n",
       "    <tr>\n",
       "      <th>6</th>\n",
       "      <td>Random Forest</td>\n",
       "      <td>0.88</td>\n",
       "      <td>0.13</td>\n",
       "      <td>133.76</td>\n",
       "      <td>30823.11</td>\n",
       "      <td>175.57</td>\n",
       "      <td>0.64</td>\n",
       "      <td>0.16</td>\n",
       "      <td>-0.03</td>\n",
       "      <td>-175.05</td>\n",
       "      <td>0.51</td>\n",
       "      <td>-0.41</td>\n",
       "      <td>0.23</td>\n",
       "    </tr>\n",
       "    <tr>\n",
       "      <th>7</th>\n",
       "      <td>Kneigbor</td>\n",
       "      <td>0.34</td>\n",
       "      <td>0.01</td>\n",
       "      <td>147.10</td>\n",
       "      <td>35126.91</td>\n",
       "      <td>187.42</td>\n",
       "      <td>0.69</td>\n",
       "      <td>0.01</td>\n",
       "      <td>-0.00</td>\n",
       "      <td>-188.91</td>\n",
       "      <td>-1.49</td>\n",
       "      <td>-0.47</td>\n",
       "      <td>0.22</td>\n",
       "    </tr>\n",
       "  </tbody>\n",
       "</table>\n",
       "</div>"
      ],
      "text/plain": [
       "             Name  Error    R2    MAE      MSE   RMSE  RMSLE  R2-CV  R2CVDiff  \\\n",
       "0         Lin Reg   0.05  0.07 146.38 32762.50 181.00   0.68   0.05      0.02   \n",
       "1           Lasso   0.05  0.07 146.76 32857.81 181.27   0.68   0.05      0.02   \n",
       "2           Ridge   0.05  0.07 146.38 32762.72 181.00   0.68   0.05      0.03   \n",
       "3  Gradient boost   0.27  0.20 132.19 28461.67 168.71   0.64   0.20     -0.01   \n",
       "4     Bagging Reg   0.84  0.05 138.59 33540.19 183.14   0.67   0.08     -0.03   \n",
       "5   Decision Tree   1.00 -0.60 172.46 56729.36 238.18   0.84  -0.54     -0.06   \n",
       "6   Random Forest   0.88  0.13 133.76 30823.11 175.57   0.64   0.16     -0.03   \n",
       "7        Kneigbor   0.34  0.01 147.10 35126.91 187.42   0.69   0.01     -0.00   \n",
       "\n",
       "   RMSE-CV  RMSECVDiff  RMSLE-CV  RMSLECVDiff  \n",
       "0  -185.75       -4.75     -0.47         0.21  \n",
       "1  -185.66       -4.39     -0.47         0.21  \n",
       "2  -185.79       -4.78     -0.47         0.21  \n",
       "3  -170.33       -1.62     -0.40         0.23  \n",
       "4  -182.92        0.22     -0.43         0.24  \n",
       "5  -234.01        4.17     -0.70         0.14  \n",
       "6  -175.05        0.51     -0.41         0.23  \n",
       "7  -188.91       -1.49     -0.47         0.22  "
      ]
     },
     "execution_count": 112,
     "metadata": {},
     "output_type": "execute_result"
    }
   ],
   "source": [
    "modelList=[(\"Lin Reg\", lm), (\"Lasso\",ls),(\"Ridge\", ridge),(\"Gradient boost\",gb),(\"Bagging Reg\",br),(\"Decision Tree\", dt),(\"Random Forest\",rf),(\"Kneigbor\",knn)]\n",
    "\n",
    "def GetAccuracy(x,y,modelList):\n",
    "    x_train,x_test,y_train,y_test=train_test_split(x,y,random_state=BestRs)\n",
    "    modelerror=[]\n",
    "    ModelName= []\n",
    "    modelR2=[]\n",
    "    modelMAE=[]\n",
    "    modelMSE=[]\n",
    "    modelRMSE=[]\n",
    "    modelRMSLE=[]\n",
    "    modelCrossval=[]\n",
    "    R2CVDiff=[]\n",
    "    modelCrossval1=[]\n",
    "    RMSECVDiff=[]\n",
    "    modelCrossval2=[]\n",
    "    RMSLECVDiff=[]\n",
    "    \n",
    "    for Nameofmodel, modelInstance in modelList:\n",
    "        ModelName.append(Nameofmodel)\n",
    "        modelInstance.fit(x_train,y_train)\n",
    "        pred=modelInstance.predict(x_test)\n",
    "        error=modelInstance.score(x_train,y_train)\n",
    "        modelerror.append(error)\n",
    "        r2=r2_score(y_test,pred)\n",
    "        modelR2.append(r2)\n",
    "        mae = mean_absolute_error(y_test,pred)\n",
    "        modelMAE.append(mae)\n",
    "        MSE=mean_squared_error(y_test,pred)\n",
    "        modelMSE.append(MSE)\n",
    "        RMSE=sqrt(mean_squared_error(y_test,pred))\n",
    "        modelRMSE.append(RMSE)\n",
    "        RMSLE=sqrt(mean_squared_log_error(y_test,pred))\n",
    "        modelRMSLE.append(RMSLE)\n",
    "        \n",
    "        crossAcc=cross_val_score(modelInstance,x,y,cv=(KFold(n_splits=15,shuffle=True)),scoring='r2').mean()\n",
    "        crossAcc1=cross_val_score(modelInstance,x,y,cv=(KFold(n_splits=15,shuffle=True)),scoring='neg_root_mean_squared_error').mean()\n",
    "        crossAcc2=cross_val_score(modelInstance,x,y,cv=(KFold(n_splits=15,shuffle=True)),scoring='neg_mean_squared_log_error').mean()\n",
    "        modelCrossval.append(crossAcc)\n",
    "        R2CVDiff.append(r2-crossAcc)\n",
    "        modelCrossval1.append(crossAcc1)\n",
    "        RMSECVDiff.append(RMSE+crossAcc1)\n",
    "        modelCrossval2.append(crossAcc2)\n",
    "        RMSLECVDiff.append(RMSLE+crossAcc2)\n",
    "    df_acc=pd.DataFrame({\"Name\":ModelName,\n",
    "                         \"Error\":modelerror,\n",
    "                         \"R2\": modelR2,\n",
    "                         \"MAE\": modelMAE,\n",
    "                         \"MSE\": modelMSE,\n",
    "                         \"RMSE\": modelRMSE,\n",
    "                         \"RMSLE\": modelRMSLE,\n",
    "                         \"R2-CV\":modelCrossval,\n",
    "                         \"R2CVDiff\":R2CVDiff,\n",
    "                         \"RMSE-CV\":modelCrossval1,                         \n",
    "                         \"RMSECVDiff\":RMSECVDiff,\n",
    "                         \"RMSLE-CV\":modelCrossval2,\n",
    "                         \"RMSLECVDiff\":RMSLECVDiff\n",
    "                          })\n",
    "    return df_acc\n",
    "GetAccuracy(x,y,modelList)\n",
    "    "
   ]
  },
  {
   "cell_type": "markdown",
   "metadata": {},
   "source": [
    "# HyperParameter Tuning"
   ]
  },
  {
   "cell_type": "code",
   "execution_count": 98,
   "metadata": {},
   "outputs": [],
   "source": [
    "from sklearn.model_selection import GridSearchCV"
   ]
  },
  {
   "cell_type": "code",
   "execution_count": 99,
   "metadata": {},
   "outputs": [],
   "source": [
    " x_train,x_test,y_train,y_test=train_test_split(x,y,random_state=BestRs)"
   ]
  },
  {
   "cell_type": "raw",
   "metadata": {},
   "source": [
    "#parameters ={\"criterion\": [\"mse\", \"mae\"],\n",
    "              \"min_samples_split\": [10, 20, 50, 100],\n",
    "              \"max_depth\": [2, 4, 6, 8, 10],\n",
    "              \"min_samples_leaf\": [5, 20, 50, 100],\n",
    "              \"max_leaf_nodes\": [5, 20, 50, 100],\n",
    "              }"
   ]
  },
  {
   "cell_type": "code",
   "execution_count": 100,
   "metadata": {},
   "outputs": [],
   "source": [
    "parameters ={\n",
    "              \"criterion\" : [\"mse\", \"mae\"],              \n",
    "             }"
   ]
  },
  {
   "cell_type": "code",
   "execution_count": 101,
   "metadata": {},
   "outputs": [],
   "source": [
    "GCV=GridSearchCV(DecisionTreeRegressor(),parameters,cv=5)"
   ]
  },
  {
   "cell_type": "code",
   "execution_count": 102,
   "metadata": {},
   "outputs": [
    {
     "data": {
      "text/plain": [
       "GridSearchCV(cv=5, estimator=DecisionTreeRegressor(),\n",
       "             param_grid={'criterion': ['mse', 'mae']})"
      ]
     },
     "execution_count": 102,
     "metadata": {},
     "output_type": "execute_result"
    }
   ],
   "source": [
    "GCV.fit(x_train,y_train)"
   ]
  },
  {
   "cell_type": "code",
   "execution_count": 103,
   "metadata": {},
   "outputs": [
    {
     "data": {
      "text/plain": [
       "{'criterion': 'mae'}"
      ]
     },
     "execution_count": 103,
     "metadata": {},
     "output_type": "execute_result"
    }
   ],
   "source": [
    "GCV.best_params_"
   ]
  },
  {
   "cell_type": "code",
   "execution_count": 104,
   "metadata": {},
   "outputs": [
    {
     "name": "stdout",
     "output_type": "stream",
     "text": [
      "0.8428724338473957\n"
     ]
    }
   ],
   "source": [
    "mod=DecisionTreeRegressor(criterion='mae')           \n",
    "mod.fit(x_train,y_train)\n",
    "pred=mod.predict(x_test)\n",
    "print(sqrt(mean_squared_log_error(y_test,pred)))"
   ]
  },
  {
   "cell_type": "code",
   "execution_count": 105,
   "metadata": {},
   "outputs": [
    {
     "name": "stdout",
     "output_type": "stream",
     "text": [
      "0.8432724583233417\n"
     ]
    }
   ],
   "source": [
    "mod1=DecisionTreeRegressor(criterion='mse')           \n",
    "mod1.fit(x_train,y_train)\n",
    "pred=mod1.predict(x_test)\n",
    "print(sqrt(mean_squared_log_error(y_test,pred)))"
   ]
  },
  {
   "cell_type": "markdown",
   "metadata": {},
   "source": [
    "# Saving the Model"
   ]
  },
  {
   "cell_type": "code",
   "execution_count": 106,
   "metadata": {},
   "outputs": [
    {
     "data": {
      "text/plain": [
       "['DrFees.pkl']"
      ]
     },
     "execution_count": 106,
     "metadata": {},
     "output_type": "execute_result"
    }
   ],
   "source": [
    "import joblib\n",
    "joblib.dump(mod1,\"DrFees.pkl\")"
   ]
  },
  {
   "cell_type": "markdown",
   "metadata": {},
   "source": [
    "# Loading the Model"
   ]
  },
  {
   "cell_type": "code",
   "execution_count": 107,
   "metadata": {},
   "outputs": [],
   "source": [
    "model=joblib.load(\"DrFees.pkl\")"
   ]
  },
  {
   "cell_type": "code",
   "execution_count": 108,
   "metadata": {},
   "outputs": [],
   "source": [
    "prediction=model.predict(x_test)"
   ]
  },
  {
   "cell_type": "code",
   "execution_count": 109,
   "metadata": {},
   "outputs": [
    {
     "name": "stdout",
     "output_type": "stream",
     "text": [
      "0.8432724583233417\n"
     ]
    }
   ],
   "source": [
    "print(sqrt(mean_squared_log_error(y_test,pred)))"
   ]
  },
  {
   "cell_type": "code",
   "execution_count": 110,
   "metadata": {},
   "outputs": [],
   "source": [
    "prediction=pd.DataFrame(prediction) #converting to a Data Frame"
   ]
  },
  {
   "cell_type": "code",
   "execution_count": 111,
   "metadata": {},
   "outputs": [
    {
     "data": {
      "text/html": [
       "<div>\n",
       "<style scoped>\n",
       "    .dataframe tbody tr th:only-of-type {\n",
       "        vertical-align: middle;\n",
       "    }\n",
       "\n",
       "    .dataframe tbody tr th {\n",
       "        vertical-align: top;\n",
       "    }\n",
       "\n",
       "    .dataframe thead th {\n",
       "        text-align: right;\n",
       "    }\n",
       "</style>\n",
       "<table border=\"1\" class=\"dataframe\">\n",
       "  <thead>\n",
       "    <tr style=\"text-align: right;\">\n",
       "      <th></th>\n",
       "      <th>0</th>\n",
       "    </tr>\n",
       "  </thead>\n",
       "  <tbody>\n",
       "    <tr>\n",
       "      <th>0</th>\n",
       "      <td>700.00</td>\n",
       "    </tr>\n",
       "    <tr>\n",
       "      <th>1</th>\n",
       "      <td>300.00</td>\n",
       "    </tr>\n",
       "    <tr>\n",
       "      <th>2</th>\n",
       "      <td>100.00</td>\n",
       "    </tr>\n",
       "    <tr>\n",
       "      <th>3</th>\n",
       "      <td>100.00</td>\n",
       "    </tr>\n",
       "    <tr>\n",
       "      <th>4</th>\n",
       "      <td>100.00</td>\n",
       "    </tr>\n",
       "  </tbody>\n",
       "</table>\n",
       "</div>"
      ],
      "text/plain": [
       "       0\n",
       "0 700.00\n",
       "1 300.00\n",
       "2 100.00\n",
       "3 100.00\n",
       "4 100.00"
      ]
     },
     "execution_count": 111,
     "metadata": {},
     "output_type": "execute_result"
    }
   ],
   "source": [
    "prediction.head()  #checking the top 5 values, to double check fi there are predictions"
   ]
  },
  {
   "cell_type": "markdown",
   "metadata": {},
   "source": [
    "# Summary"
   ]
  },
  {
   "cell_type": "code",
   "execution_count": null,
   "metadata": {},
   "outputs": [],
   "source": []
  }
 ],
 "metadata": {
  "kernelspec": {
   "display_name": "Python 3",
   "language": "python",
   "name": "python3"
  },
  "language_info": {
   "codemirror_mode": {
    "name": "ipython",
    "version": 3
   },
   "file_extension": ".py",
   "mimetype": "text/x-python",
   "name": "python",
   "nbconvert_exporter": "python",
   "pygments_lexer": "ipython3",
   "version": "3.8.3"
  },
  "toc": {
   "base_numbering": 1,
   "nav_menu": {},
   "number_sections": true,
   "sideBar": true,
   "skip_h1_title": false,
   "title_cell": "Table of Contents",
   "title_sidebar": "Contents",
   "toc_cell": true,
   "toc_position": {},
   "toc_section_display": true,
   "toc_window_display": true
  }
 },
 "nbformat": 4,
 "nbformat_minor": 4
}
