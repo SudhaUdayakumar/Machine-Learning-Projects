{
 "cells": [
  {
   "cell_type": "markdown",
   "metadata": {},
   "source": [
    "# Micro Credit Project- Sudha Udayakumar"
   ]
  },
  {
   "cell_type": "markdown",
   "metadata": {},
   "source": [
    "# Introduction"
   ]
  },
  {
   "cell_type": "markdown",
   "metadata": {},
   "source": [
    "## Problem Statement Given"
   ]
  },
  {
   "cell_type": "raw",
   "metadata": {},
   "source": [
    "Micro-Credit Defaulter Model\n",
    "Problem Statement: \n",
    "A Microfinance Institution (MFI) is an organization that offers financial services to low income populations. MFS becomes very useful when targeting especially the unbanked poor families living in remote areas with not much sources of income. The Microfinance services (MFS) provided by MFI are Group Loans, Agricultural Loans, Individual Business Loans and so on. \n",
    "Many microfinance institutions (MFI), experts and donors are supporting the idea of using mobile financial services (MFS) which they feel are more convenient and efficient, and cost saving, than the traditional high-touch model used since long for the purpose of delivering microfinance services. Though, the MFI industry is primarily focusing on low income families and are very useful in such areas, the implementation of MFS has been uneven with both significant challenges and successes.\n",
    "Today, microfinance is widely accepted as a poverty-reduction tool, representing $70 billion in outstanding loans and a global outreach of 200 million clients.\n",
    "We are working with one such client that is in Telecom Industry. They are a fixed wireless telecommunications network provider. They have launched various products and have developed its business and organization based on the budget operator model, offering better products at Lower Prices to all value conscious customers through a strategy of disruptive innovation that focuses on the subscriber. \n",
    "They understand the importance of communication and how it affects a person’s life, thus, focusing on providing their services and products to low income families and poor customers that can help them in the need of hour. \n",
    "They are collaborating with an MFI to provide micro-credit on mobile balances to be paid back in 5 days. The Consumer is believed to be defaulter if he deviates from the path of paying back the loaned amount within the time duration of 5 days. For the loan amount of 5 (in Indonesian Rupiah), payback amount should be 6 (in Indonesian Rupiah), while, for the loan amount of 10 (in Indonesian Rupiah), the payback amount should be 12 (in Indonesian Rupiah). \n",
    "The sample data is provided to us from our client database. It is hereby given to you for this exercise. In order to improve the selection of customers for the credit, the client wants some predictions that could help them in further investment and improvement in selection of customers. \n",
    "Exercise:\n",
    "Build a model which can be used to predict in terms of a probability for each loan transaction, whether the customer will be paying back the loaned amount within 5 days of insurance of loan. In this case, Label ‘1’ indicates that the loan has been payed i.e. Non- defaulter, while, Label ‘0’ indicates that the loan has not been payed i.e. defaulter.  \n",
    "Points to Remember:\n",
    "•\tThere are no null values in the dataset. \n",
    "•\tThere may be some customers with no loan history. \n",
    "•\tThe dataset is imbalanced. Label ‘1’ has approximately 87.5% records, while, label ‘0’ has approximately 12.5% records.\n",
    "•\tFor some features, there may be values which might not be realistic. You may have to observe them and treat them with a suitable explanation.\n",
    "•\tYou might come across outliers in some features which you need to handle as per your understanding. Keep in mind that data is expensive and we cannot lose more than 7-8% of the data.  \n",
    "Find Enclosed the Data Description File and The Sample Data for the Modeling Exercise.\n",
    "\n"
   ]
  },
  {
   "cell_type": "markdown",
   "metadata": {},
   "source": [
    "## More Details on Columns"
   ]
  },
  {
   "cell_type": "raw",
   "metadata": {},
   "source": [
    "Variable\tDefinition\tComment\n",
    "label\tFlag indicating whether the user paid back the credit amount within 5 days of issuing the loan{1:success, 0:failure}\t\n",
    "msisdn\tmobile number of user\t\n",
    "aon\tage on cellular network in days\t\n",
    "daily_decr30\tDaily amount spent from main account, averaged over last 30 days (in Indonesian Rupiah)\t\n",
    "daily_decr90\tDaily amount spent from main account, averaged over last 90 days (in Indonesian Rupiah)\t\n",
    "rental30\tAverage main account balance over last 30 days\tUnsure of given definition\n",
    "rental90\tAverage main account balance over last 90 days\tUnsure of given definition\n",
    "last_rech_date_ma\tNumber of days till last recharge of main account\t\n",
    "last_rech_date_da\tNumber of days till last recharge of data account\t\n",
    "last_rech_amt_ma\tAmount of last recharge of main account (in Indonesian Rupiah)\t\n",
    "cnt_ma_rech30\tNumber of times main account got recharged in last 30 days\t\n",
    "fr_ma_rech30\tFrequency of main account recharged in last 30 days\tUnsure of given definition\n",
    "sumamnt_ma_rech30\tTotal amount of recharge in main account over last 30 days (in Indonesian Rupiah)\t\n",
    "medianamnt_ma_rech30\tMedian of amount of recharges done in main account over last 30 days at user level (in Indonesian Rupiah)\t\n",
    "medianmarechprebal30\tMedian of main account balance just before recharge in last 30 days at user level (in Indonesian Rupiah)\t\n",
    "cnt_ma_rech90\tNumber of times main account got recharged in last 90 days\t\n",
    "fr_ma_rech90\tFrequency of main account recharged in last 90 days\tUnsure of given definition\n",
    "sumamnt_ma_rech90\tTotal amount of recharge in main account over last 90 days (in Indonasian Rupiah)\t\n",
    "medianamnt_ma_rech90\tMedian of amount of recharges done in main account over last 90 days at user level (in Indonasian Rupiah)\t\n",
    "medianmarechprebal90\tMedian of main account balance just before recharge in last 90 days at user level (in Indonasian Rupiah)\t\n",
    "cnt_da_rech30\tNumber of times data account got recharged in last 30 days\t\n",
    "fr_da_rech30\tFrequency of data account recharged in last 30 days\t\n",
    "cnt_da_rech90\tNumber of times data account got recharged in last 90 days\t\n",
    "fr_da_rech90\tFrequency of data account recharged in last 90 days\t\n",
    "cnt_loans30\tNumber of loans taken by user in last 30 days\t\n",
    "amnt_loans30\tTotal amount of loans taken by user in last 30 days\t\n",
    "maxamnt_loans30\tmaximum amount of loan taken by the user in last 30 days\tThere are only two options: 5 & 10 Rs., for which the user needs to pay back 6 & 12 Rs. respectively\n",
    "medianamnt_loans30\tMedian of amounts of loan taken by the user in last 30 days\t\n",
    "cnt_loans90\tNumber of loans taken by user in last 90 days\t\n",
    "amnt_loans90\tTotal amount of loans taken by user in last 90 days\t\n",
    "maxamnt_loans90\tmaximum amount of loan taken by the user in last 90 days\t\n",
    "medianamnt_loans90\tMedian of amounts of loan taken by the user in last 90 days\t\n",
    "payback30\tAverage payback time in days over last 30 days\t\n",
    "payback90\tAverage payback time in days over last 90 days\t\n",
    "pcircle\ttelecom circle\t\n",
    "pdate\tdate\t\n"
   ]
  },
  {
   "cell_type": "markdown",
   "metadata": {},
   "source": [
    "# Choose Right Tool"
   ]
  },
  {
   "cell_type": "markdown",
   "metadata": {},
   "source": [
    "## Importing and Installing the Packages"
   ]
  },
  {
   "cell_type": "code",
   "execution_count": 1,
   "metadata": {},
   "outputs": [],
   "source": [
    "import pandas as pd\n",
    "pd.set_option('mode.chained_assignment', None)      # To suppress pandas warnings.\n",
    "pd.set_option('display.max_colwidth', None)       # To display all the data in each column\n",
    "pd.set_option('display.precision', 3)               # To display values only upto three decimal places.\n",
    "pd.options.display.max_columns = 50                 # To display every column of the dataset in head()\n",
    "pd.options.display.float_format = '{:.2f}'.format\n",
    "import numpy as np\n",
    "import seaborn as sns\n",
    "sns.set(style='whitegrid', font_scale = 1.3, color_codes=True)\n",
    "\n",
    "import matplotlib.pyplot as plt\n",
    "%matplotlib inline\n",
    "\n",
    "\n",
    "import warnings\n",
    "\n",
    "warnings.filterwarnings('ignore')\n",
    "%matplotlib inline"
   ]
  },
  {
   "cell_type": "markdown",
   "metadata": {},
   "source": [
    "## Handling Warnings"
   ]
  },
  {
   "cell_type": "code",
   "execution_count": 2,
   "metadata": {},
   "outputs": [],
   "source": [
    "warnings.filterwarnings('ignore') # ignore warnings.\n",
    "%config IPCompleter.greedy = True # autocomplete feature.\n",
    "pd.options.display.max_rows = None # set maximum rows that can be displayed in notebook.\n",
    "pd.options.display.max_columns = None # set maximum columns that can be displayed in notebook.\n",
    "pd.options.display.precision = 2 # set the precision of floating point numbers."
   ]
  },
  {
   "cell_type": "markdown",
   "metadata": {},
   "source": [
    "# Loading Dataset"
   ]
  },
  {
   "cell_type": "code",
   "execution_count": 3,
   "metadata": {},
   "outputs": [
    {
     "data": {
      "text/html": [
       "<div>\n",
       "<style scoped>\n",
       "    .dataframe tbody tr th:only-of-type {\n",
       "        vertical-align: middle;\n",
       "    }\n",
       "\n",
       "    .dataframe tbody tr th {\n",
       "        vertical-align: top;\n",
       "    }\n",
       "\n",
       "    .dataframe thead th {\n",
       "        text-align: right;\n",
       "    }\n",
       "</style>\n",
       "<table border=\"1\" class=\"dataframe\">\n",
       "  <thead>\n",
       "    <tr style=\"text-align: right;\">\n",
       "      <th></th>\n",
       "      <th>Unnamed: 0</th>\n",
       "      <th>label</th>\n",
       "      <th>msisdn</th>\n",
       "      <th>aon</th>\n",
       "      <th>daily_decr30</th>\n",
       "      <th>daily_decr90</th>\n",
       "      <th>rental30</th>\n",
       "      <th>rental90</th>\n",
       "      <th>last_rech_date_ma</th>\n",
       "      <th>last_rech_date_da</th>\n",
       "      <th>last_rech_amt_ma</th>\n",
       "      <th>cnt_ma_rech30</th>\n",
       "      <th>fr_ma_rech30</th>\n",
       "      <th>sumamnt_ma_rech30</th>\n",
       "      <th>medianamnt_ma_rech30</th>\n",
       "      <th>medianmarechprebal30</th>\n",
       "      <th>cnt_ma_rech90</th>\n",
       "      <th>fr_ma_rech90</th>\n",
       "      <th>sumamnt_ma_rech90</th>\n",
       "      <th>medianamnt_ma_rech90</th>\n",
       "      <th>medianmarechprebal90</th>\n",
       "      <th>cnt_da_rech30</th>\n",
       "      <th>fr_da_rech30</th>\n",
       "      <th>cnt_da_rech90</th>\n",
       "      <th>fr_da_rech90</th>\n",
       "      <th>cnt_loans30</th>\n",
       "      <th>amnt_loans30</th>\n",
       "      <th>maxamnt_loans30</th>\n",
       "      <th>medianamnt_loans30</th>\n",
       "      <th>cnt_loans90</th>\n",
       "      <th>amnt_loans90</th>\n",
       "      <th>maxamnt_loans90</th>\n",
       "      <th>medianamnt_loans90</th>\n",
       "      <th>payback30</th>\n",
       "      <th>payback90</th>\n",
       "      <th>pcircle</th>\n",
       "      <th>pdate</th>\n",
       "    </tr>\n",
       "  </thead>\n",
       "  <tbody>\n",
       "    <tr>\n",
       "      <th>0</th>\n",
       "      <td>1</td>\n",
       "      <td>0</td>\n",
       "      <td>21408I70789</td>\n",
       "      <td>272.00</td>\n",
       "      <td>3055.05</td>\n",
       "      <td>3065.15</td>\n",
       "      <td>220.13</td>\n",
       "      <td>260.13</td>\n",
       "      <td>2.00</td>\n",
       "      <td>0.00</td>\n",
       "      <td>1539</td>\n",
       "      <td>2</td>\n",
       "      <td>21.00</td>\n",
       "      <td>3078.00</td>\n",
       "      <td>1539.00</td>\n",
       "      <td>7.50</td>\n",
       "      <td>2</td>\n",
       "      <td>21</td>\n",
       "      <td>3078</td>\n",
       "      <td>1539.00</td>\n",
       "      <td>7.50</td>\n",
       "      <td>0.00</td>\n",
       "      <td>0.00</td>\n",
       "      <td>0</td>\n",
       "      <td>0</td>\n",
       "      <td>2</td>\n",
       "      <td>12</td>\n",
       "      <td>6.00</td>\n",
       "      <td>0.00</td>\n",
       "      <td>2.00</td>\n",
       "      <td>12</td>\n",
       "      <td>6</td>\n",
       "      <td>0.00</td>\n",
       "      <td>29.00</td>\n",
       "      <td>29.00</td>\n",
       "      <td>UPW</td>\n",
       "      <td>2016-07-20</td>\n",
       "    </tr>\n",
       "    <tr>\n",
       "      <th>1</th>\n",
       "      <td>2</td>\n",
       "      <td>1</td>\n",
       "      <td>76462I70374</td>\n",
       "      <td>712.00</td>\n",
       "      <td>12122.00</td>\n",
       "      <td>12124.75</td>\n",
       "      <td>3691.26</td>\n",
       "      <td>3691.26</td>\n",
       "      <td>20.00</td>\n",
       "      <td>0.00</td>\n",
       "      <td>5787</td>\n",
       "      <td>1</td>\n",
       "      <td>0.00</td>\n",
       "      <td>5787.00</td>\n",
       "      <td>5787.00</td>\n",
       "      <td>61.04</td>\n",
       "      <td>1</td>\n",
       "      <td>0</td>\n",
       "      <td>5787</td>\n",
       "      <td>5787.00</td>\n",
       "      <td>61.04</td>\n",
       "      <td>0.00</td>\n",
       "      <td>0.00</td>\n",
       "      <td>0</td>\n",
       "      <td>0</td>\n",
       "      <td>1</td>\n",
       "      <td>12</td>\n",
       "      <td>12.00</td>\n",
       "      <td>0.00</td>\n",
       "      <td>1.00</td>\n",
       "      <td>12</td>\n",
       "      <td>12</td>\n",
       "      <td>0.00</td>\n",
       "      <td>0.00</td>\n",
       "      <td>0.00</td>\n",
       "      <td>UPW</td>\n",
       "      <td>2016-08-10</td>\n",
       "    </tr>\n",
       "    <tr>\n",
       "      <th>2</th>\n",
       "      <td>3</td>\n",
       "      <td>1</td>\n",
       "      <td>17943I70372</td>\n",
       "      <td>535.00</td>\n",
       "      <td>1398.00</td>\n",
       "      <td>1398.00</td>\n",
       "      <td>900.13</td>\n",
       "      <td>900.13</td>\n",
       "      <td>3.00</td>\n",
       "      <td>0.00</td>\n",
       "      <td>1539</td>\n",
       "      <td>1</td>\n",
       "      <td>0.00</td>\n",
       "      <td>1539.00</td>\n",
       "      <td>1539.00</td>\n",
       "      <td>66.32</td>\n",
       "      <td>1</td>\n",
       "      <td>0</td>\n",
       "      <td>1539</td>\n",
       "      <td>1539.00</td>\n",
       "      <td>66.32</td>\n",
       "      <td>0.00</td>\n",
       "      <td>0.00</td>\n",
       "      <td>0</td>\n",
       "      <td>0</td>\n",
       "      <td>1</td>\n",
       "      <td>6</td>\n",
       "      <td>6.00</td>\n",
       "      <td>0.00</td>\n",
       "      <td>1.00</td>\n",
       "      <td>6</td>\n",
       "      <td>6</td>\n",
       "      <td>0.00</td>\n",
       "      <td>0.00</td>\n",
       "      <td>0.00</td>\n",
       "      <td>UPW</td>\n",
       "      <td>2016-08-19</td>\n",
       "    </tr>\n",
       "    <tr>\n",
       "      <th>3</th>\n",
       "      <td>4</td>\n",
       "      <td>1</td>\n",
       "      <td>55773I70781</td>\n",
       "      <td>241.00</td>\n",
       "      <td>21.23</td>\n",
       "      <td>21.23</td>\n",
       "      <td>159.42</td>\n",
       "      <td>159.42</td>\n",
       "      <td>41.00</td>\n",
       "      <td>0.00</td>\n",
       "      <td>947</td>\n",
       "      <td>0</td>\n",
       "      <td>0.00</td>\n",
       "      <td>0.00</td>\n",
       "      <td>0.00</td>\n",
       "      <td>0.00</td>\n",
       "      <td>1</td>\n",
       "      <td>0</td>\n",
       "      <td>947</td>\n",
       "      <td>947.00</td>\n",
       "      <td>2.50</td>\n",
       "      <td>0.00</td>\n",
       "      <td>0.00</td>\n",
       "      <td>0</td>\n",
       "      <td>0</td>\n",
       "      <td>2</td>\n",
       "      <td>12</td>\n",
       "      <td>6.00</td>\n",
       "      <td>0.00</td>\n",
       "      <td>2.00</td>\n",
       "      <td>12</td>\n",
       "      <td>6</td>\n",
       "      <td>0.00</td>\n",
       "      <td>0.00</td>\n",
       "      <td>0.00</td>\n",
       "      <td>UPW</td>\n",
       "      <td>2016-06-06</td>\n",
       "    </tr>\n",
       "    <tr>\n",
       "      <th>4</th>\n",
       "      <td>5</td>\n",
       "      <td>1</td>\n",
       "      <td>03813I82730</td>\n",
       "      <td>947.00</td>\n",
       "      <td>150.62</td>\n",
       "      <td>150.62</td>\n",
       "      <td>1098.90</td>\n",
       "      <td>1098.90</td>\n",
       "      <td>4.00</td>\n",
       "      <td>0.00</td>\n",
       "      <td>2309</td>\n",
       "      <td>7</td>\n",
       "      <td>2.00</td>\n",
       "      <td>20029.00</td>\n",
       "      <td>2309.00</td>\n",
       "      <td>29.00</td>\n",
       "      <td>8</td>\n",
       "      <td>2</td>\n",
       "      <td>23496</td>\n",
       "      <td>2888.00</td>\n",
       "      <td>35.00</td>\n",
       "      <td>0.00</td>\n",
       "      <td>0.00</td>\n",
       "      <td>0</td>\n",
       "      <td>0</td>\n",
       "      <td>7</td>\n",
       "      <td>42</td>\n",
       "      <td>6.00</td>\n",
       "      <td>0.00</td>\n",
       "      <td>7.00</td>\n",
       "      <td>42</td>\n",
       "      <td>6</td>\n",
       "      <td>0.00</td>\n",
       "      <td>2.33</td>\n",
       "      <td>2.33</td>\n",
       "      <td>UPW</td>\n",
       "      <td>2016-06-22</td>\n",
       "    </tr>\n",
       "  </tbody>\n",
       "</table>\n",
       "</div>"
      ],
      "text/plain": [
       "   Unnamed: 0  label       msisdn    aon  daily_decr30  daily_decr90  \\\n",
       "0           1      0  21408I70789 272.00       3055.05       3065.15   \n",
       "1           2      1  76462I70374 712.00      12122.00      12124.75   \n",
       "2           3      1  17943I70372 535.00       1398.00       1398.00   \n",
       "3           4      1  55773I70781 241.00         21.23         21.23   \n",
       "4           5      1  03813I82730 947.00        150.62        150.62   \n",
       "\n",
       "   rental30  rental90  last_rech_date_ma  last_rech_date_da  last_rech_amt_ma  \\\n",
       "0    220.13    260.13               2.00               0.00              1539   \n",
       "1   3691.26   3691.26              20.00               0.00              5787   \n",
       "2    900.13    900.13               3.00               0.00              1539   \n",
       "3    159.42    159.42              41.00               0.00               947   \n",
       "4   1098.90   1098.90               4.00               0.00              2309   \n",
       "\n",
       "   cnt_ma_rech30  fr_ma_rech30  sumamnt_ma_rech30  medianamnt_ma_rech30  \\\n",
       "0              2         21.00            3078.00               1539.00   \n",
       "1              1          0.00            5787.00               5787.00   \n",
       "2              1          0.00            1539.00               1539.00   \n",
       "3              0          0.00               0.00                  0.00   \n",
       "4              7          2.00           20029.00               2309.00   \n",
       "\n",
       "   medianmarechprebal30  cnt_ma_rech90  fr_ma_rech90  sumamnt_ma_rech90  \\\n",
       "0                  7.50              2            21               3078   \n",
       "1                 61.04              1             0               5787   \n",
       "2                 66.32              1             0               1539   \n",
       "3                  0.00              1             0                947   \n",
       "4                 29.00              8             2              23496   \n",
       "\n",
       "   medianamnt_ma_rech90  medianmarechprebal90  cnt_da_rech30  fr_da_rech30  \\\n",
       "0               1539.00                  7.50           0.00          0.00   \n",
       "1               5787.00                 61.04           0.00          0.00   \n",
       "2               1539.00                 66.32           0.00          0.00   \n",
       "3                947.00                  2.50           0.00          0.00   \n",
       "4               2888.00                 35.00           0.00          0.00   \n",
       "\n",
       "   cnt_da_rech90  fr_da_rech90  cnt_loans30  amnt_loans30  maxamnt_loans30  \\\n",
       "0              0             0            2            12             6.00   \n",
       "1              0             0            1            12            12.00   \n",
       "2              0             0            1             6             6.00   \n",
       "3              0             0            2            12             6.00   \n",
       "4              0             0            7            42             6.00   \n",
       "\n",
       "   medianamnt_loans30  cnt_loans90  amnt_loans90  maxamnt_loans90  \\\n",
       "0                0.00         2.00            12                6   \n",
       "1                0.00         1.00            12               12   \n",
       "2                0.00         1.00             6                6   \n",
       "3                0.00         2.00            12                6   \n",
       "4                0.00         7.00            42                6   \n",
       "\n",
       "   medianamnt_loans90  payback30  payback90 pcircle       pdate  \n",
       "0                0.00      29.00      29.00     UPW  2016-07-20  \n",
       "1                0.00       0.00       0.00     UPW  2016-08-10  \n",
       "2                0.00       0.00       0.00     UPW  2016-08-19  \n",
       "3                0.00       0.00       0.00     UPW  2016-06-06  \n",
       "4                0.00       2.33       2.33     UPW  2016-06-22  "
      ]
     },
     "execution_count": 3,
     "metadata": {},
     "output_type": "execute_result"
    }
   ],
   "source": [
    "df=pd.read_csv('Micro_credit_project.csv')\n",
    "df.head()"
   ]
  },
  {
   "cell_type": "markdown",
   "metadata": {},
   "source": [
    "# Pre Processing the Data"
   ]
  },
  {
   "cell_type": "code",
   "execution_count": 4,
   "metadata": {},
   "outputs": [
    {
     "data": {
      "text/plain": [
       "1    183431\n",
       "0     26162\n",
       "Name: label, dtype: int64"
      ]
     },
     "execution_count": 4,
     "metadata": {},
     "output_type": "execute_result"
    }
   ],
   "source": [
    "df['label'].value_counts()"
   ]
  },
  {
   "cell_type": "markdown",
   "metadata": {},
   "source": [
    "\n",
    "<span style='background:yellow'>Observation: This is an imbalanced Dataset, as \"0\" has only around 12% of data.  </span>"
   ]
  },
  {
   "cell_type": "code",
   "execution_count": 5,
   "metadata": {},
   "outputs": [
    {
     "data": {
      "text/plain": [
       "Unnamed: 0              209593\n",
       "label                        2\n",
       "msisdn                  186243\n",
       "aon                       4507\n",
       "daily_decr30            147026\n",
       "daily_decr90            158670\n",
       "rental30                132148\n",
       "rental90                141033\n",
       "last_rech_date_ma         1186\n",
       "last_rech_date_da         1174\n",
       "last_rech_amt_ma            70\n",
       "cnt_ma_rech30               71\n",
       "fr_ma_rech30              1083\n",
       "sumamnt_ma_rech30        15141\n",
       "medianamnt_ma_rech30       510\n",
       "medianmarechprebal30     30428\n",
       "cnt_ma_rech90              110\n",
       "fr_ma_rech90                89\n",
       "sumamnt_ma_rech90        31771\n",
       "medianamnt_ma_rech90       608\n",
       "medianmarechprebal90     29785\n",
       "cnt_da_rech30             1066\n",
       "fr_da_rech30              1072\n",
       "cnt_da_rech90               27\n",
       "fr_da_rech90                46\n",
       "cnt_loans30                 40\n",
       "amnt_loans30                48\n",
       "maxamnt_loans30           1050\n",
       "medianamnt_loans30           6\n",
       "cnt_loans90               1110\n",
       "amnt_loans90                69\n",
       "maxamnt_loans90              3\n",
       "medianamnt_loans90           6\n",
       "payback30                 1363\n",
       "payback90                 2381\n",
       "pcircle                      1\n",
       "pdate                       82\n",
       "dtype: int64"
      ]
     },
     "execution_count": 5,
     "metadata": {},
     "output_type": "execute_result"
    }
   ],
   "source": [
    "df.nunique()"
   ]
  },
  {
   "cell_type": "markdown",
   "metadata": {},
   "source": [
    "<span style='background:yellow'>Observation: we can see that Label column has only 2 values, which is our target column. Pcircle has only one value, and doesnt add value, so we can drop it. Also Unamed 0 doesnt add value, so we can drop it. msisdn is like the mobile number, so we can drop that as well\" </span>"
   ]
  },
  {
   "cell_type": "code",
   "execution_count": 6,
   "metadata": {},
   "outputs": [
    {
     "data": {
      "text/plain": [
       "(209593, 37)"
      ]
     },
     "execution_count": 6,
     "metadata": {},
     "output_type": "execute_result"
    }
   ],
   "source": [
    "df.shape"
   ]
  },
  {
   "cell_type": "markdown",
   "metadata": {},
   "source": [
    "\n",
    "\n",
    "<span style='background:yellow'>Observation:Number of rows to columns looks fine. We have 37 columns and anything less than 10x  or 20x rows would have made\n",
    "the data tough to analyse.   </span>"
   ]
  },
  {
   "cell_type": "code",
   "execution_count": 7,
   "metadata": {},
   "outputs": [
    {
     "data": {
      "text/plain": [
       "Unnamed: 0              0\n",
       "label                   0\n",
       "msisdn                  0\n",
       "aon                     0\n",
       "daily_decr30            0\n",
       "daily_decr90            0\n",
       "rental30                0\n",
       "rental90                0\n",
       "last_rech_date_ma       0\n",
       "last_rech_date_da       0\n",
       "last_rech_amt_ma        0\n",
       "cnt_ma_rech30           0\n",
       "fr_ma_rech30            0\n",
       "sumamnt_ma_rech30       0\n",
       "medianamnt_ma_rech30    0\n",
       "medianmarechprebal30    0\n",
       "cnt_ma_rech90           0\n",
       "fr_ma_rech90            0\n",
       "sumamnt_ma_rech90       0\n",
       "medianamnt_ma_rech90    0\n",
       "medianmarechprebal90    0\n",
       "cnt_da_rech30           0\n",
       "fr_da_rech30            0\n",
       "cnt_da_rech90           0\n",
       "fr_da_rech90            0\n",
       "cnt_loans30             0\n",
       "amnt_loans30            0\n",
       "maxamnt_loans30         0\n",
       "medianamnt_loans30      0\n",
       "cnt_loans90             0\n",
       "amnt_loans90            0\n",
       "maxamnt_loans90         0\n",
       "medianamnt_loans90      0\n",
       "payback30               0\n",
       "payback90               0\n",
       "pcircle                 0\n",
       "pdate                   0\n",
       "dtype: int64"
      ]
     },
     "execution_count": 7,
     "metadata": {},
     "output_type": "execute_result"
    }
   ],
   "source": [
    "df.isnull().sum()"
   ]
  },
  {
   "cell_type": "markdown",
   "metadata": {},
   "source": [
    "\n",
    "\n",
    "<span style='background:yellow'>Observation: There are no missing values, though already given in the case notes, its a good practice to double check it </span>"
   ]
  },
  {
   "cell_type": "code",
   "execution_count": 8,
   "metadata": {},
   "outputs": [
    {
     "data": {
      "text/plain": [
       "Unnamed: 0                int64\n",
       "label                     int64\n",
       "msisdn                   object\n",
       "aon                     float64\n",
       "daily_decr30            float64\n",
       "daily_decr90            float64\n",
       "rental30                float64\n",
       "rental90                float64\n",
       "last_rech_date_ma       float64\n",
       "last_rech_date_da       float64\n",
       "last_rech_amt_ma          int64\n",
       "cnt_ma_rech30             int64\n",
       "fr_ma_rech30            float64\n",
       "sumamnt_ma_rech30       float64\n",
       "medianamnt_ma_rech30    float64\n",
       "medianmarechprebal30    float64\n",
       "cnt_ma_rech90             int64\n",
       "fr_ma_rech90              int64\n",
       "sumamnt_ma_rech90         int64\n",
       "medianamnt_ma_rech90    float64\n",
       "medianmarechprebal90    float64\n",
       "cnt_da_rech30           float64\n",
       "fr_da_rech30            float64\n",
       "cnt_da_rech90             int64\n",
       "fr_da_rech90              int64\n",
       "cnt_loans30               int64\n",
       "amnt_loans30              int64\n",
       "maxamnt_loans30         float64\n",
       "medianamnt_loans30      float64\n",
       "cnt_loans90             float64\n",
       "amnt_loans90              int64\n",
       "maxamnt_loans90           int64\n",
       "medianamnt_loans90      float64\n",
       "payback30               float64\n",
       "payback90               float64\n",
       "pcircle                  object\n",
       "pdate                    object\n",
       "dtype: object"
      ]
     },
     "execution_count": 8,
     "metadata": {},
     "output_type": "execute_result"
    }
   ],
   "source": [
    "df.dtypes"
   ]
  },
  {
   "cell_type": "markdown",
   "metadata": {},
   "source": [
    "<span style='background:yellow'>Observation: pdate is object type, if we are going to use in our data we need to convert to dateseries  </span>"
   ]
  },
  {
   "cell_type": "code",
   "execution_count": 9,
   "metadata": {},
   "outputs": [
    {
     "data": {
      "text/html": [
       "<div>\n",
       "<style scoped>\n",
       "    .dataframe tbody tr th:only-of-type {\n",
       "        vertical-align: middle;\n",
       "    }\n",
       "\n",
       "    .dataframe tbody tr th {\n",
       "        vertical-align: top;\n",
       "    }\n",
       "\n",
       "    .dataframe thead th {\n",
       "        text-align: right;\n",
       "    }\n",
       "</style>\n",
       "<table border=\"1\" class=\"dataframe\">\n",
       "  <thead>\n",
       "    <tr style=\"text-align: right;\">\n",
       "      <th></th>\n",
       "      <th>Unnamed: 0</th>\n",
       "      <th>label</th>\n",
       "      <th>aon</th>\n",
       "      <th>daily_decr30</th>\n",
       "      <th>daily_decr90</th>\n",
       "      <th>rental30</th>\n",
       "      <th>rental90</th>\n",
       "      <th>last_rech_date_ma</th>\n",
       "      <th>last_rech_date_da</th>\n",
       "      <th>last_rech_amt_ma</th>\n",
       "      <th>cnt_ma_rech30</th>\n",
       "      <th>fr_ma_rech30</th>\n",
       "      <th>sumamnt_ma_rech30</th>\n",
       "      <th>medianamnt_ma_rech30</th>\n",
       "      <th>medianmarechprebal30</th>\n",
       "      <th>cnt_ma_rech90</th>\n",
       "      <th>fr_ma_rech90</th>\n",
       "      <th>sumamnt_ma_rech90</th>\n",
       "      <th>medianamnt_ma_rech90</th>\n",
       "      <th>medianmarechprebal90</th>\n",
       "      <th>cnt_da_rech30</th>\n",
       "      <th>fr_da_rech30</th>\n",
       "      <th>cnt_da_rech90</th>\n",
       "      <th>fr_da_rech90</th>\n",
       "      <th>cnt_loans30</th>\n",
       "      <th>amnt_loans30</th>\n",
       "      <th>maxamnt_loans30</th>\n",
       "      <th>medianamnt_loans30</th>\n",
       "      <th>cnt_loans90</th>\n",
       "      <th>amnt_loans90</th>\n",
       "      <th>maxamnt_loans90</th>\n",
       "      <th>medianamnt_loans90</th>\n",
       "      <th>payback30</th>\n",
       "      <th>payback90</th>\n",
       "    </tr>\n",
       "  </thead>\n",
       "  <tbody>\n",
       "    <tr>\n",
       "      <th>count</th>\n",
       "      <td>209593.00</td>\n",
       "      <td>209593.00</td>\n",
       "      <td>209593.00</td>\n",
       "      <td>209593.00</td>\n",
       "      <td>209593.00</td>\n",
       "      <td>209593.00</td>\n",
       "      <td>209593.00</td>\n",
       "      <td>209593.00</td>\n",
       "      <td>209593.00</td>\n",
       "      <td>209593.00</td>\n",
       "      <td>209593.00</td>\n",
       "      <td>209593.00</td>\n",
       "      <td>209593.00</td>\n",
       "      <td>209593.00</td>\n",
       "      <td>209593.00</td>\n",
       "      <td>209593.00</td>\n",
       "      <td>209593.00</td>\n",
       "      <td>209593.00</td>\n",
       "      <td>209593.00</td>\n",
       "      <td>209593.00</td>\n",
       "      <td>209593.00</td>\n",
       "      <td>209593.00</td>\n",
       "      <td>209593.00</td>\n",
       "      <td>209593.00</td>\n",
       "      <td>209593.00</td>\n",
       "      <td>209593.00</td>\n",
       "      <td>209593.00</td>\n",
       "      <td>209593.00</td>\n",
       "      <td>209593.00</td>\n",
       "      <td>209593.00</td>\n",
       "      <td>209593.00</td>\n",
       "      <td>209593.00</td>\n",
       "      <td>209593.00</td>\n",
       "      <td>209593.00</td>\n",
       "    </tr>\n",
       "    <tr>\n",
       "      <th>mean</th>\n",
       "      <td>104797.00</td>\n",
       "      <td>0.88</td>\n",
       "      <td>8112.34</td>\n",
       "      <td>5381.40</td>\n",
       "      <td>6082.52</td>\n",
       "      <td>2692.58</td>\n",
       "      <td>3483.41</td>\n",
       "      <td>3755.85</td>\n",
       "      <td>3712.20</td>\n",
       "      <td>2064.45</td>\n",
       "      <td>3.98</td>\n",
       "      <td>3737.36</td>\n",
       "      <td>7704.50</td>\n",
       "      <td>1812.82</td>\n",
       "      <td>3851.93</td>\n",
       "      <td>6.32</td>\n",
       "      <td>7.72</td>\n",
       "      <td>12396.22</td>\n",
       "      <td>1864.60</td>\n",
       "      <td>92.03</td>\n",
       "      <td>262.58</td>\n",
       "      <td>3749.49</td>\n",
       "      <td>0.04</td>\n",
       "      <td>0.05</td>\n",
       "      <td>2.76</td>\n",
       "      <td>17.95</td>\n",
       "      <td>274.66</td>\n",
       "      <td>0.05</td>\n",
       "      <td>18.52</td>\n",
       "      <td>23.65</td>\n",
       "      <td>6.70</td>\n",
       "      <td>0.05</td>\n",
       "      <td>3.40</td>\n",
       "      <td>4.32</td>\n",
       "    </tr>\n",
       "    <tr>\n",
       "      <th>std</th>\n",
       "      <td>60504.43</td>\n",
       "      <td>0.33</td>\n",
       "      <td>75696.08</td>\n",
       "      <td>9220.62</td>\n",
       "      <td>10918.81</td>\n",
       "      <td>4308.59</td>\n",
       "      <td>5770.46</td>\n",
       "      <td>53905.89</td>\n",
       "      <td>53374.83</td>\n",
       "      <td>2370.79</td>\n",
       "      <td>4.26</td>\n",
       "      <td>53643.63</td>\n",
       "      <td>10139.62</td>\n",
       "      <td>2070.86</td>\n",
       "      <td>54006.37</td>\n",
       "      <td>7.19</td>\n",
       "      <td>12.59</td>\n",
       "      <td>16857.79</td>\n",
       "      <td>2081.68</td>\n",
       "      <td>369.22</td>\n",
       "      <td>4183.90</td>\n",
       "      <td>53885.41</td>\n",
       "      <td>0.40</td>\n",
       "      <td>0.95</td>\n",
       "      <td>2.55</td>\n",
       "      <td>17.38</td>\n",
       "      <td>4245.26</td>\n",
       "      <td>0.22</td>\n",
       "      <td>224.80</td>\n",
       "      <td>26.47</td>\n",
       "      <td>2.10</td>\n",
       "      <td>0.20</td>\n",
       "      <td>8.81</td>\n",
       "      <td>10.31</td>\n",
       "    </tr>\n",
       "    <tr>\n",
       "      <th>min</th>\n",
       "      <td>1.00</td>\n",
       "      <td>0.00</td>\n",
       "      <td>-48.00</td>\n",
       "      <td>-93.01</td>\n",
       "      <td>-93.01</td>\n",
       "      <td>-23737.14</td>\n",
       "      <td>-24720.58</td>\n",
       "      <td>-29.00</td>\n",
       "      <td>-29.00</td>\n",
       "      <td>0.00</td>\n",
       "      <td>0.00</td>\n",
       "      <td>0.00</td>\n",
       "      <td>0.00</td>\n",
       "      <td>0.00</td>\n",
       "      <td>-200.00</td>\n",
       "      <td>0.00</td>\n",
       "      <td>0.00</td>\n",
       "      <td>0.00</td>\n",
       "      <td>0.00</td>\n",
       "      <td>-200.00</td>\n",
       "      <td>0.00</td>\n",
       "      <td>0.00</td>\n",
       "      <td>0.00</td>\n",
       "      <td>0.00</td>\n",
       "      <td>0.00</td>\n",
       "      <td>0.00</td>\n",
       "      <td>0.00</td>\n",
       "      <td>0.00</td>\n",
       "      <td>0.00</td>\n",
       "      <td>0.00</td>\n",
       "      <td>0.00</td>\n",
       "      <td>0.00</td>\n",
       "      <td>0.00</td>\n",
       "      <td>0.00</td>\n",
       "    </tr>\n",
       "    <tr>\n",
       "      <th>25%</th>\n",
       "      <td>52399.00</td>\n",
       "      <td>1.00</td>\n",
       "      <td>246.00</td>\n",
       "      <td>42.44</td>\n",
       "      <td>42.69</td>\n",
       "      <td>280.42</td>\n",
       "      <td>300.26</td>\n",
       "      <td>1.00</td>\n",
       "      <td>0.00</td>\n",
       "      <td>770.00</td>\n",
       "      <td>1.00</td>\n",
       "      <td>0.00</td>\n",
       "      <td>1540.00</td>\n",
       "      <td>770.00</td>\n",
       "      <td>11.00</td>\n",
       "      <td>2.00</td>\n",
       "      <td>0.00</td>\n",
       "      <td>2317.00</td>\n",
       "      <td>773.00</td>\n",
       "      <td>14.60</td>\n",
       "      <td>0.00</td>\n",
       "      <td>0.00</td>\n",
       "      <td>0.00</td>\n",
       "      <td>0.00</td>\n",
       "      <td>1.00</td>\n",
       "      <td>6.00</td>\n",
       "      <td>6.00</td>\n",
       "      <td>0.00</td>\n",
       "      <td>1.00</td>\n",
       "      <td>6.00</td>\n",
       "      <td>6.00</td>\n",
       "      <td>0.00</td>\n",
       "      <td>0.00</td>\n",
       "      <td>0.00</td>\n",
       "    </tr>\n",
       "    <tr>\n",
       "      <th>50%</th>\n",
       "      <td>104797.00</td>\n",
       "      <td>1.00</td>\n",
       "      <td>527.00</td>\n",
       "      <td>1469.18</td>\n",
       "      <td>1500.00</td>\n",
       "      <td>1083.57</td>\n",
       "      <td>1334.00</td>\n",
       "      <td>3.00</td>\n",
       "      <td>0.00</td>\n",
       "      <td>1539.00</td>\n",
       "      <td>3.00</td>\n",
       "      <td>2.00</td>\n",
       "      <td>4628.00</td>\n",
       "      <td>1539.00</td>\n",
       "      <td>33.90</td>\n",
       "      <td>4.00</td>\n",
       "      <td>2.00</td>\n",
       "      <td>7226.00</td>\n",
       "      <td>1539.00</td>\n",
       "      <td>36.00</td>\n",
       "      <td>0.00</td>\n",
       "      <td>0.00</td>\n",
       "      <td>0.00</td>\n",
       "      <td>0.00</td>\n",
       "      <td>2.00</td>\n",
       "      <td>12.00</td>\n",
       "      <td>6.00</td>\n",
       "      <td>0.00</td>\n",
       "      <td>2.00</td>\n",
       "      <td>12.00</td>\n",
       "      <td>6.00</td>\n",
       "      <td>0.00</td>\n",
       "      <td>0.00</td>\n",
       "      <td>1.67</td>\n",
       "    </tr>\n",
       "    <tr>\n",
       "      <th>75%</th>\n",
       "      <td>157195.00</td>\n",
       "      <td>1.00</td>\n",
       "      <td>982.00</td>\n",
       "      <td>7244.00</td>\n",
       "      <td>7802.79</td>\n",
       "      <td>3356.94</td>\n",
       "      <td>4201.79</td>\n",
       "      <td>7.00</td>\n",
       "      <td>0.00</td>\n",
       "      <td>2309.00</td>\n",
       "      <td>5.00</td>\n",
       "      <td>6.00</td>\n",
       "      <td>10010.00</td>\n",
       "      <td>1924.00</td>\n",
       "      <td>83.00</td>\n",
       "      <td>8.00</td>\n",
       "      <td>8.00</td>\n",
       "      <td>16000.00</td>\n",
       "      <td>1924.00</td>\n",
       "      <td>79.31</td>\n",
       "      <td>0.00</td>\n",
       "      <td>0.00</td>\n",
       "      <td>0.00</td>\n",
       "      <td>0.00</td>\n",
       "      <td>4.00</td>\n",
       "      <td>24.00</td>\n",
       "      <td>6.00</td>\n",
       "      <td>0.00</td>\n",
       "      <td>5.00</td>\n",
       "      <td>30.00</td>\n",
       "      <td>6.00</td>\n",
       "      <td>0.00</td>\n",
       "      <td>3.75</td>\n",
       "      <td>4.50</td>\n",
       "    </tr>\n",
       "    <tr>\n",
       "      <th>max</th>\n",
       "      <td>209593.00</td>\n",
       "      <td>1.00</td>\n",
       "      <td>999860.76</td>\n",
       "      <td>265926.00</td>\n",
       "      <td>320630.00</td>\n",
       "      <td>198926.11</td>\n",
       "      <td>200148.11</td>\n",
       "      <td>998650.38</td>\n",
       "      <td>999171.81</td>\n",
       "      <td>55000.00</td>\n",
       "      <td>203.00</td>\n",
       "      <td>999606.37</td>\n",
       "      <td>810096.00</td>\n",
       "      <td>55000.00</td>\n",
       "      <td>999479.42</td>\n",
       "      <td>336.00</td>\n",
       "      <td>88.00</td>\n",
       "      <td>953036.00</td>\n",
       "      <td>55000.00</td>\n",
       "      <td>41456.50</td>\n",
       "      <td>99914.44</td>\n",
       "      <td>999809.24</td>\n",
       "      <td>38.00</td>\n",
       "      <td>64.00</td>\n",
       "      <td>50.00</td>\n",
       "      <td>306.00</td>\n",
       "      <td>99864.56</td>\n",
       "      <td>3.00</td>\n",
       "      <td>4997.52</td>\n",
       "      <td>438.00</td>\n",
       "      <td>12.00</td>\n",
       "      <td>3.00</td>\n",
       "      <td>171.50</td>\n",
       "      <td>171.50</td>\n",
       "    </tr>\n",
       "  </tbody>\n",
       "</table>\n",
       "</div>"
      ],
      "text/plain": [
       "       Unnamed: 0     label       aon  daily_decr30  daily_decr90  rental30  \\\n",
       "count   209593.00 209593.00 209593.00     209593.00     209593.00 209593.00   \n",
       "mean    104797.00      0.88   8112.34       5381.40       6082.52   2692.58   \n",
       "std      60504.43      0.33  75696.08       9220.62      10918.81   4308.59   \n",
       "min          1.00      0.00    -48.00        -93.01        -93.01 -23737.14   \n",
       "25%      52399.00      1.00    246.00         42.44         42.69    280.42   \n",
       "50%     104797.00      1.00    527.00       1469.18       1500.00   1083.57   \n",
       "75%     157195.00      1.00    982.00       7244.00       7802.79   3356.94   \n",
       "max     209593.00      1.00 999860.76     265926.00     320630.00 198926.11   \n",
       "\n",
       "       rental90  last_rech_date_ma  last_rech_date_da  last_rech_amt_ma  \\\n",
       "count 209593.00          209593.00          209593.00         209593.00   \n",
       "mean    3483.41            3755.85            3712.20           2064.45   \n",
       "std     5770.46           53905.89           53374.83           2370.79   \n",
       "min   -24720.58             -29.00             -29.00              0.00   \n",
       "25%      300.26               1.00               0.00            770.00   \n",
       "50%     1334.00               3.00               0.00           1539.00   \n",
       "75%     4201.79               7.00               0.00           2309.00   \n",
       "max   200148.11          998650.38          999171.81          55000.00   \n",
       "\n",
       "       cnt_ma_rech30  fr_ma_rech30  sumamnt_ma_rech30  medianamnt_ma_rech30  \\\n",
       "count      209593.00     209593.00          209593.00             209593.00   \n",
       "mean            3.98       3737.36            7704.50               1812.82   \n",
       "std             4.26      53643.63           10139.62               2070.86   \n",
       "min             0.00          0.00               0.00                  0.00   \n",
       "25%             1.00          0.00            1540.00                770.00   \n",
       "50%             3.00          2.00            4628.00               1539.00   \n",
       "75%             5.00          6.00           10010.00               1924.00   \n",
       "max           203.00     999606.37          810096.00              55000.00   \n",
       "\n",
       "       medianmarechprebal30  cnt_ma_rech90  fr_ma_rech90  sumamnt_ma_rech90  \\\n",
       "count             209593.00      209593.00     209593.00          209593.00   \n",
       "mean                3851.93           6.32          7.72           12396.22   \n",
       "std                54006.37           7.19         12.59           16857.79   \n",
       "min                 -200.00           0.00          0.00               0.00   \n",
       "25%                   11.00           2.00          0.00            2317.00   \n",
       "50%                   33.90           4.00          2.00            7226.00   \n",
       "75%                   83.00           8.00          8.00           16000.00   \n",
       "max               999479.42         336.00         88.00          953036.00   \n",
       "\n",
       "       medianamnt_ma_rech90  medianmarechprebal90  cnt_da_rech30  \\\n",
       "count             209593.00             209593.00      209593.00   \n",
       "mean                1864.60                 92.03         262.58   \n",
       "std                 2081.68                369.22        4183.90   \n",
       "min                    0.00               -200.00           0.00   \n",
       "25%                  773.00                 14.60           0.00   \n",
       "50%                 1539.00                 36.00           0.00   \n",
       "75%                 1924.00                 79.31           0.00   \n",
       "max                55000.00              41456.50       99914.44   \n",
       "\n",
       "       fr_da_rech30  cnt_da_rech90  fr_da_rech90  cnt_loans30  amnt_loans30  \\\n",
       "count     209593.00      209593.00     209593.00    209593.00     209593.00   \n",
       "mean        3749.49           0.04          0.05         2.76         17.95   \n",
       "std        53885.41           0.40          0.95         2.55         17.38   \n",
       "min            0.00           0.00          0.00         0.00          0.00   \n",
       "25%            0.00           0.00          0.00         1.00          6.00   \n",
       "50%            0.00           0.00          0.00         2.00         12.00   \n",
       "75%            0.00           0.00          0.00         4.00         24.00   \n",
       "max       999809.24          38.00         64.00        50.00        306.00   \n",
       "\n",
       "       maxamnt_loans30  medianamnt_loans30  cnt_loans90  amnt_loans90  \\\n",
       "count        209593.00           209593.00    209593.00     209593.00   \n",
       "mean            274.66                0.05        18.52         23.65   \n",
       "std            4245.26                0.22       224.80         26.47   \n",
       "min               0.00                0.00         0.00          0.00   \n",
       "25%               6.00                0.00         1.00          6.00   \n",
       "50%               6.00                0.00         2.00         12.00   \n",
       "75%               6.00                0.00         5.00         30.00   \n",
       "max           99864.56                3.00      4997.52        438.00   \n",
       "\n",
       "       maxamnt_loans90  medianamnt_loans90  payback30  payback90  \n",
       "count        209593.00           209593.00  209593.00  209593.00  \n",
       "mean              6.70                0.05       3.40       4.32  \n",
       "std               2.10                0.20       8.81      10.31  \n",
       "min               0.00                0.00       0.00       0.00  \n",
       "25%               6.00                0.00       0.00       0.00  \n",
       "50%               6.00                0.00       0.00       1.67  \n",
       "75%               6.00                0.00       3.75       4.50  \n",
       "max              12.00                3.00     171.50     171.50  "
      ]
     },
     "execution_count": 9,
     "metadata": {},
     "output_type": "execute_result"
    }
   ],
   "source": [
    "df.describe()"
   ]
  },
  {
   "cell_type": "markdown",
   "metadata": {},
   "source": [
    "<span style='background:yellow'>Observation: We can all the variables are not normally distributed, there is skewness . Also we can see no missing data. Object columns are obviously missing. We can drop few columns  </span>"
   ]
  },
  {
   "cell_type": "code",
   "execution_count": 10,
   "metadata": {},
   "outputs": [
    {
     "data": {
      "text/plain": [
       "Index(['Unnamed: 0', 'label', 'msisdn', 'aon', 'daily_decr30', 'daily_decr90',\n",
       "       'rental30', 'rental90', 'last_rech_date_ma', 'last_rech_date_da',\n",
       "       'last_rech_amt_ma', 'cnt_ma_rech30', 'fr_ma_rech30',\n",
       "       'sumamnt_ma_rech30', 'medianamnt_ma_rech30', 'medianmarechprebal30',\n",
       "       'cnt_ma_rech90', 'fr_ma_rech90', 'sumamnt_ma_rech90',\n",
       "       'medianamnt_ma_rech90', 'medianmarechprebal90', 'cnt_da_rech30',\n",
       "       'fr_da_rech30', 'cnt_da_rech90', 'fr_da_rech90', 'cnt_loans30',\n",
       "       'amnt_loans30', 'maxamnt_loans30', 'medianamnt_loans30', 'cnt_loans90',\n",
       "       'amnt_loans90', 'maxamnt_loans90', 'medianamnt_loans90', 'payback30',\n",
       "       'payback90', 'pcircle', 'pdate'],\n",
       "      dtype='object')"
      ]
     },
     "execution_count": 10,
     "metadata": {},
     "output_type": "execute_result"
    }
   ],
   "source": [
    "df.columns"
   ]
  },
  {
   "cell_type": "code",
   "execution_count": 11,
   "metadata": {},
   "outputs": [],
   "source": [
    "df_new=df.drop(columns=[\"pcircle\",\"pdate\",\"msisdn\",\"Unnamed: 0\"],axis=1)\n",
    "#as discussed above we are dropping the unwanted columns. \n",
    "#pcircle- there is only one value, so we can drop it. \n",
    "#msisdn-is like mobile number so we can drop it. \n",
    "#pdate we are not going to use the date column, so dropping it\n",
    "#Unnamed:0 also we are dropping, as there is no significant data in it"
   ]
  },
  {
   "cell_type": "code",
   "execution_count": 12,
   "metadata": {},
   "outputs": [
    {
     "data": {
      "text/plain": [
       "Index(['label', 'aon', 'daily_decr30', 'daily_decr90', 'rental30', 'rental90',\n",
       "       'last_rech_date_ma', 'last_rech_date_da', 'last_rech_amt_ma',\n",
       "       'cnt_ma_rech30', 'fr_ma_rech30', 'sumamnt_ma_rech30',\n",
       "       'medianamnt_ma_rech30', 'medianmarechprebal30', 'cnt_ma_rech90',\n",
       "       'fr_ma_rech90', 'sumamnt_ma_rech90', 'medianamnt_ma_rech90',\n",
       "       'medianmarechprebal90', 'cnt_da_rech30', 'fr_da_rech30',\n",
       "       'cnt_da_rech90', 'fr_da_rech90', 'cnt_loans30', 'amnt_loans30',\n",
       "       'maxamnt_loans30', 'medianamnt_loans30', 'cnt_loans90', 'amnt_loans90',\n",
       "       'maxamnt_loans90', 'medianamnt_loans90', 'payback30', 'payback90'],\n",
       "      dtype='object')"
      ]
     },
     "execution_count": 12,
     "metadata": {},
     "output_type": "execute_result"
    }
   ],
   "source": [
    "df_new.columns"
   ]
  },
  {
   "cell_type": "markdown",
   "metadata": {},
   "source": [
    "<span style='background:yellow'>Observation: All the columns we dropped are not in the new df  </span>"
   ]
  },
  {
   "cell_type": "code",
   "execution_count": 13,
   "metadata": {},
   "outputs": [
    {
     "data": {
      "text/plain": [
       "(209593, 33)"
      ]
     },
     "execution_count": 13,
     "metadata": {},
     "output_type": "execute_result"
    }
   ],
   "source": [
    "df_new.shape"
   ]
  },
  {
   "cell_type": "markdown",
   "metadata": {},
   "source": [
    "<span style='background:yellow'>Observation: the rows remain the same, only the columns are dropped </span>"
   ]
  },
  {
   "cell_type": "code",
   "execution_count": 14,
   "metadata": {},
   "outputs": [
    {
     "data": {
      "text/plain": [
       "label                  -2.27\n",
       "aon                    10.39\n",
       "daily_decr30            3.95\n",
       "daily_decr90            4.25\n",
       "rental30                4.52\n",
       "rental90                4.44\n",
       "last_rech_date_ma      14.79\n",
       "last_rech_date_da      14.81\n",
       "last_rech_amt_ma        3.78\n",
       "cnt_ma_rech30           3.28\n",
       "fr_ma_rech30           14.77\n",
       "sumamnt_ma_rech30       6.39\n",
       "medianamnt_ma_rech30    3.51\n",
       "medianmarechprebal30   14.78\n",
       "cnt_ma_rech90           3.43\n",
       "fr_ma_rech90            2.29\n",
       "sumamnt_ma_rech90       4.90\n",
       "medianamnt_ma_rech90    3.75\n",
       "medianmarechprebal90   44.88\n",
       "cnt_da_rech30          17.82\n",
       "fr_da_rech30           14.78\n",
       "cnt_da_rech90          27.27\n",
       "fr_da_rech90           28.99\n",
       "cnt_loans30             2.71\n",
       "amnt_loans30            2.98\n",
       "maxamnt_loans30        17.66\n",
       "medianamnt_loans30      4.55\n",
       "cnt_loans90            16.59\n",
       "amnt_loans90            3.15\n",
       "maxamnt_loans90         1.68\n",
       "medianamnt_loans90      4.90\n",
       "payback30               8.31\n",
       "payback90               6.90\n",
       "dtype: float64"
      ]
     },
     "execution_count": 14,
     "metadata": {},
     "output_type": "execute_result"
    }
   ],
   "source": [
    "df_new.skew()"
   ]
  },
  {
   "cell_type": "markdown",
   "metadata": {},
   "source": [
    "<span style='background:yellow'>Observation: We see some skewness. lets try to remove the outliers, to adjust the skewness, by using IQR  </span>"
   ]
  },
  {
   "cell_type": "markdown",
   "metadata": {},
   "source": [
    "# EDA"
   ]
  },
  {
   "cell_type": "markdown",
   "metadata": {},
   "source": [
    "## Univariate Analysis"
   ]
  },
  {
   "cell_type": "code",
   "execution_count": 15,
   "metadata": {},
   "outputs": [
    {
     "data": {
      "text/plain": [
       "<matplotlib.axes._subplots.AxesSubplot at 0x1cf0d961df0>"
      ]
     },
     "execution_count": 15,
     "metadata": {},
     "output_type": "execute_result"
    },
    {
     "data": {
      "image/png": "[encoded data removed]",
      "text/plain": [
       "<Figure size 432x288 with 1 Axes>"
      ]
     },
     "metadata": {
      "needs_background": "light"
     },
     "output_type": "display_data"
    }
   ],
   "source": [
    "sns.countplot(df_new[\"label\"])"
   ]
  },
  {
   "cell_type": "markdown",
   "metadata": {},
   "source": [
    "<span style='background:yellow'>Observation: Fraud cases are represented in 0, and since its an imbalanced dataset, it is low  </span>"
   ]
  },
  {
   "cell_type": "markdown",
   "metadata": {},
   "source": [
    "## Multivariate Analysis"
   ]
  },
  {
   "cell_type": "code",
   "execution_count": 16,
   "metadata": {},
   "outputs": [
    {
     "data": {
      "text/plain": [
       "fr_da_rech90           -0.01\n",
       "medianmarechprebal30   -0.00\n",
       "aon                    -0.00\n",
       "fr_da_rech30           -0.00\n",
       "maxamnt_loans30         0.00\n",
       "Unnamed: 0              0.00\n",
       "fr_ma_rech30            0.00\n",
       "last_rech_date_da       0.00\n",
       "cnt_da_rech90           0.00\n",
       "last_rech_date_ma       0.00\n",
       "cnt_da_rech30           0.00\n",
       "cnt_loans90             0.00\n",
       "medianamnt_loans90      0.04\n",
       "medianmarechprebal90    0.04\n",
       "medianamnt_loans30      0.04\n",
       "payback30               0.05\n",
       "payback90               0.05\n",
       "rental30                0.06\n",
       "rental90                0.08\n",
       "maxamnt_loans90         0.08\n",
       "fr_ma_rech90            0.08\n",
       "medianamnt_ma_rech90    0.12\n",
       "last_rech_amt_ma        0.13\n",
       "medianamnt_ma_rech30    0.14\n",
       "daily_decr90            0.17\n",
       "daily_decr30            0.17\n",
       "cnt_loans30             0.20\n",
       "amnt_loans30            0.20\n",
       "amnt_loans90            0.20\n",
       "sumamnt_ma_rech30       0.20\n",
       "sumamnt_ma_rech90       0.21\n",
       "cnt_ma_rech90           0.24\n",
       "cnt_ma_rech30           0.24\n",
       "label                   1.00\n",
       "Name: label, dtype: float64"
      ]
     },
     "execution_count": 16,
     "metadata": {},
     "output_type": "execute_result"
    }
   ],
   "source": [
    "corr_matrix = df.corr()\n",
    "corr_matrix[\"label\"].sort_values(ascending=True)"
   ]
  },
  {
   "cell_type": "markdown",
   "metadata": {},
   "source": [
    "<span style='background:yellow'>Observation: from this looks like the co-relation is very low between label and all variables. This is not a right way to check. Also since the columns are very high, did not use heatmap </span>"
   ]
  },
  {
   "cell_type": "markdown",
   "metadata": {},
   "source": [
    "# Inter Quartile Range"
   ]
  },
  {
   "cell_type": "markdown",
   "metadata": {},
   "source": [
    "## Outliers for each variable"
   ]
  },
  {
   "cell_type": "markdown",
   "metadata": {},
   "source": [
    "<span style='background: pink'>Note:We already saw how each column was distributed. Now lets check outliers, since the dataset is huge and having 33 columns, lets split them and run and each for easier visiblity. We will be using box plots to find the IQR & the presence of each variable </span>"
   ]
  },
  {
   "cell_type": "markdown",
   "metadata": {},
   "source": [
    "The IQR is calculated as the difference between the 75th and the 25th percentiles of the data and defines the box in a box and whisker plot.\n",
    "\n",
    "We refer to the percentiles as quartiles (“quart” meaning 4) because the data is divided into four groups via the 25th, 50th and 75th values.\n",
    "\n",
    "The IQR defines the middle 50% of the data, or the body of the data.\n",
    "\n",
    "On a box and whisker plot, these limits are drawn as fences on the whiskers (or the lines) that are drawn from the box. Values that fall outside of these values are drawn as dots"
   ]
  },
  {
   "cell_type": "code",
   "execution_count": 17,
   "metadata": {},
   "outputs": [
    {
     "data": {
      "image/png": "[encoded data removed]",
      "text/plain": [
       "<Figure size 1440x576 with 1 Axes>"
      ]
     },
     "metadata": {
      "needs_background": "light"
     },
     "output_type": "display_data"
    }
   ],
   "source": [
    "df_new.iloc[:,:1].boxplot(figsize=[20,8])\n",
    "plt.subplots_adjust(bottom=0.25)\n",
    "plt.show()\n",
    "#this one is just for the target variable"
   ]
  },
  {
   "cell_type": "code",
   "execution_count": 18,
   "metadata": {},
   "outputs": [
    {
     "data": {
      "image/png": "[encoded data removed]",
      "text/plain": [
       "<Figure size 1440x576 with 1 Axes>"
      ]
     },
     "metadata": {
      "needs_background": "light"
     },
     "output_type": "display_data"
    }
   ],
   "source": [
    "df_new.iloc[:,1:8].boxplot(figsize=[20,8])\n",
    "plt.subplots_adjust(bottom=0.25)\n",
    "plt.show()"
   ]
  },
  {
   "cell_type": "code",
   "execution_count": 19,
   "metadata": {},
   "outputs": [
    {
     "data": {
      "image/png": "[encoded data removed]",
      "text/plain": [
       "<Figure size 1440x576 with 1 Axes>"
      ]
     },
     "metadata": {
      "needs_background": "light"
     },
     "output_type": "display_data"
    }
   ],
   "source": [
    "df_new.iloc[:,8:16].boxplot(figsize=[20,8])\n",
    "plt.subplots_adjust(bottom=0.25)\n",
    "plt.show()"
   ]
  },
  {
   "cell_type": "code",
   "execution_count": 20,
   "metadata": {},
   "outputs": [
    {
     "data": {
      "image/png": "[encoded data removed]",
      "text/plain": [
       "<Figure size 1440x576 with 1 Axes>"
      ]
     },
     "metadata": {
      "needs_background": "light"
     },
     "output_type": "display_data"
    }
   ],
   "source": [
    "df_new.iloc[:,16:24].boxplot(figsize=[20,8])\n",
    "plt.subplots_adjust(bottom=0.25)\n",
    "plt.show()"
   ]
  },
  {
   "cell_type": "code",
   "execution_count": 21,
   "metadata": {},
   "outputs": [
    {
     "data": {
      "image/png": "[encoded data removed]",
      "text/plain": [
       "<Figure size 1440x576 with 1 Axes>"
      ]
     },
     "metadata": {
      "needs_background": "light"
     },
     "output_type": "display_data"
    }
   ],
   "source": [
    "df_new.iloc[:,24:].boxplot(figsize=[20,8])\n",
    "plt.subplots_adjust(bottom=0.25)\n",
    "plt.show()"
   ]
  },
  {
   "cell_type": "markdown",
   "metadata": {},
   "source": [
    "\n",
    "<span style='background:yellow'>Observation: On a box and whisker plot, IQR limits are drawn as fences on the whiskers (or the lines) that are drawn from the box. Values that fall outside of these values are drawn as dots  </span>"
   ]
  },
  {
   "cell_type": "markdown",
   "metadata": {},
   "source": [
    "<span style='background:yellow'>Observation:The IQR can be used to identify outliers by defining limits on the sample values that are a factor k of the IQR below the 25th percentile or above the 75th percentile. The common value for the factor k is the value 1.5. A factor k of 3 or more can be used to identify values that are extreme outliers or “far outs” when described in the context of box and whisker plots.  </span>\n",
    "\n"
   ]
  },
  {
   "cell_type": "markdown",
   "metadata": {},
   "source": [
    "## Handling Outliers- using IQR Methods- All columns"
   ]
  },
  {
   "cell_type": "markdown",
   "metadata": {},
   "source": [
    "<span style='background: orange'>Update: We tried to remove the outliers, using several methods. Like applying for all columns, IQR*1.5, then IQR*3 . Also we tried to remove column by column. in all cases we saw huge data loss. so the code below is to just show what was done, but is not used furhter   </span>"
   ]
  },
  {
   "cell_type": "code",
   "execution_count": 22,
   "metadata": {},
   "outputs": [
    {
     "name": "stdout",
     "output_type": "stream",
     "text": [
      "label                      0.00\n",
      "aon                      736.00\n",
      "daily_decr30            7201.56\n",
      "daily_decr90            7760.10\n",
      "rental30                3076.52\n",
      "rental90                3901.53\n",
      "last_rech_date_ma          6.00\n",
      "last_rech_date_da          0.00\n",
      "last_rech_amt_ma        1539.00\n",
      "cnt_ma_rech30              4.00\n",
      "fr_ma_rech30               6.00\n",
      "sumamnt_ma_rech30       8470.00\n",
      "medianamnt_ma_rech30    1154.00\n",
      "medianmarechprebal30      72.00\n",
      "cnt_ma_rech90              6.00\n",
      "fr_ma_rech90               8.00\n",
      "sumamnt_ma_rech90      13683.00\n",
      "medianamnt_ma_rech90    1151.00\n",
      "medianmarechprebal90      64.71\n",
      "cnt_da_rech30              0.00\n",
      "fr_da_rech30               0.00\n",
      "cnt_da_rech90              0.00\n",
      "fr_da_rech90               0.00\n",
      "cnt_loans30                3.00\n",
      "amnt_loans30              18.00\n",
      "maxamnt_loans30            0.00\n",
      "medianamnt_loans30         0.00\n",
      "cnt_loans90                4.00\n",
      "amnt_loans90              24.00\n",
      "maxamnt_loans90            0.00\n",
      "medianamnt_loans90         0.00\n",
      "payback30                  3.75\n",
      "payback90                  4.50\n",
      "dtype: float64\n"
     ]
    }
   ],
   "source": [
    "Q1 = df_new.quantile(0.25)\n",
    "Q3 = df_new.quantile(0.75)\n",
    "IQR = Q3 - Q1\n",
    "print(IQR)"
   ]
  },
  {
   "cell_type": "code",
   "execution_count": 23,
   "metadata": {},
   "outputs": [
    {
     "data": {
      "text/plain": [
       "(56628, 33)"
      ]
     },
     "execution_count": 23,
     "metadata": {},
     "output_type": "execute_result"
    }
   ],
   "source": [
    "df_out1 = df_new[~((df_new < (Q1 - 1.5 * IQR)) |(df_new> (Q3 + 1.5 * IQR))).any(axis=1)]\n",
    "df_out1.shape"
   ]
  },
  {
   "cell_type": "code",
   "execution_count": 24,
   "metadata": {},
   "outputs": [
    {
     "data": {
      "text/plain": [
       "(209593, 33)"
      ]
     },
     "execution_count": 24,
     "metadata": {},
     "output_type": "execute_result"
    }
   ],
   "source": [
    "df_new.shape"
   ]
  },
  {
   "cell_type": "code",
   "execution_count": 25,
   "metadata": {},
   "outputs": [
    {
     "data": {
      "text/plain": [
       "72.98192210617721"
      ]
     },
     "execution_count": 25,
     "metadata": {},
     "output_type": "execute_result"
    }
   ],
   "source": [
    "((209593-56628)/(209593))*100"
   ]
  },
  {
   "cell_type": "markdown",
   "metadata": {},
   "source": [
    "<span style='background:orange'>Observation: If we do IQR*1.5, we will loose close to 72% of data. So we cant do this  </span>"
   ]
  },
  {
   "cell_type": "code",
   "execution_count": 26,
   "metadata": {},
   "outputs": [
    {
     "data": {
      "text/plain": [
       "(86460, 33)"
      ]
     },
     "execution_count": 26,
     "metadata": {},
     "output_type": "execute_result"
    }
   ],
   "source": [
    "df_out2 = df_new[~((df_new < (Q1 - 3 * IQR)) |(df_new> (Q3 + 3 * IQR))).any(axis=1)]\n",
    "df_out2.shape"
   ]
  },
  {
   "cell_type": "code",
   "execution_count": 27,
   "metadata": {},
   "outputs": [
    {
     "data": {
      "text/plain": [
       "58.748622329944226"
      ]
     },
     "execution_count": 27,
     "metadata": {},
     "output_type": "execute_result"
    }
   ],
   "source": [
    "((209593-86460)/(209593))*100"
   ]
  },
  {
   "cell_type": "markdown",
   "metadata": {},
   "source": [
    "<span style='background:orange'>Observation: If we do IQR*3, we will loose close to 58% of data. So we cant do this </span>"
   ]
  },
  {
   "cell_type": "code",
   "execution_count": 28,
   "metadata": {},
   "outputs": [
    {
     "name": "stdout",
     "output_type": "stream",
     "text": [
      "label                      1.00\n",
      "aon                     1279.00\n",
      "daily_decr30           15582.01\n",
      "daily_decr90           17776.83\n",
      "rental30                7278.20\n",
      "rental90                9457.85\n",
      "last_rech_date_ma         15.00\n",
      "last_rech_date_da          0.00\n",
      "last_rech_amt_ma        4067.00\n",
      "cnt_ma_rech30              9.00\n",
      "fr_ma_rech30              12.00\n",
      "sumamnt_ma_rech30      17892.00\n",
      "medianamnt_ma_rech30    4048.00\n",
      "medianmarechprebal30     237.39\n",
      "cnt_ma_rech90             14.00\n",
      "fr_ma_rech90              30.00\n",
      "sumamnt_ma_rech90      29454.00\n",
      "medianamnt_ma_rech90    3875.00\n",
      "medianmarechprebal90     203.00\n",
      "cnt_da_rech30              0.00\n",
      "fr_da_rech30               0.00\n",
      "cnt_da_rech90              0.00\n",
      "fr_da_rech90               0.00\n",
      "cnt_loans30                5.00\n",
      "amnt_loans30              30.00\n",
      "maxamnt_loans30            6.00\n",
      "medianamnt_loans30         0.00\n",
      "cnt_loans90                8.00\n",
      "amnt_loans90              48.00\n",
      "maxamnt_loans90            6.00\n",
      "medianamnt_loans90         0.00\n",
      "payback30                  8.00\n",
      "payback90                 10.00\n",
      "dtype: float64\n"
     ]
    }
   ],
   "source": [
    "Q10 = df_new.quantile(0.10)\n",
    "Q90 = df_new.quantile(0.90)\n",
    "IQR1 = Q90 - Q10\n",
    "print(IQR1)"
   ]
  },
  {
   "cell_type": "code",
   "execution_count": 29,
   "metadata": {},
   "outputs": [
    {
     "data": {
      "text/plain": [
       "(137256, 33)"
      ]
     },
     "execution_count": 29,
     "metadata": {},
     "output_type": "execute_result"
    }
   ],
   "source": [
    "df_out3 = df_new[~((df_new < (Q10 -IQR1)) |(df_new> (Q90 + IQR1))).any(axis=1)]\n",
    "df_out3.shape"
   ]
  },
  {
   "cell_type": "code",
   "execution_count": 30,
   "metadata": {},
   "outputs": [
    {
     "data": {
      "text/plain": [
       "34.51308011240833"
      ]
     },
     "execution_count": 30,
     "metadata": {},
     "output_type": "execute_result"
    }
   ],
   "source": [
    "((209593-137256)/(209593))*100"
   ]
  },
  {
   "cell_type": "markdown",
   "metadata": {},
   "source": [
    "<span style='background:orange'>Observation: If we do IQR90-IQR10, we will loose close to 34% of data. So we cant do this </span>"
   ]
  },
  {
   "cell_type": "markdown",
   "metadata": {},
   "source": [
    "## Handling Outliers- using IQR Methods-  One by one columns"
   ]
  },
  {
   "cell_type": "code",
   "execution_count": 31,
   "metadata": {},
   "outputs": [],
   "source": [
    "df_out4=df_new"
   ]
  },
  {
   "cell_type": "code",
   "execution_count": 32,
   "metadata": {},
   "outputs": [],
   "source": [
    "Q1 = df_out4[\"aon\"].quantile(0.25)\n",
    "Q3 = df_out4[\"aon\"].quantile(0.75)\n",
    "IQR=Q3-Q1\n",
    "df_out4= df_out4[(df[\"aon\"] > (Q1 - 1.5 * IQR)) & (df_out4[\"aon\"]< (Q3 + 1.5 * IQR))]"
   ]
  },
  {
   "cell_type": "code",
   "execution_count": 33,
   "metadata": {},
   "outputs": [
    {
     "data": {
      "text/plain": [
       "(205970, 33)"
      ]
     },
     "execution_count": 33,
     "metadata": {},
     "output_type": "execute_result"
    }
   ],
   "source": [
    "df_out4.shape"
   ]
  },
  {
   "cell_type": "code",
   "execution_count": 34,
   "metadata": {},
   "outputs": [],
   "source": [
    "Q1 = df_out4[\"daily_decr30\"].quantile(0.25)\n",
    "Q3 = df_out4[\"daily_decr30\"].quantile(0.75)\n",
    "IQR=Q3-Q1\n",
    "df_out4= df_out4[(df[\"daily_decr30\"] > (Q1 - 1.5 * IQR)) & (df_out4[\"daily_decr30\"]< (Q3 + 1.5 * IQR))]"
   ]
  },
  {
   "cell_type": "code",
   "execution_count": 35,
   "metadata": {},
   "outputs": [
    {
     "data": {
      "text/plain": [
       "(189872, 33)"
      ]
     },
     "execution_count": 35,
     "metadata": {},
     "output_type": "execute_result"
    }
   ],
   "source": [
    "df_out4.shape"
   ]
  },
  {
   "cell_type": "code",
   "execution_count": 36,
   "metadata": {},
   "outputs": [],
   "source": [
    "Q1 = df_out4[\"daily_decr90\"].quantile(0.25)\n",
    "Q3 = df_out4[\"daily_decr90\"].quantile(0.75)\n",
    "IQR=Q3-Q1\n",
    "df_out4= df_out4[(df[\"daily_decr90\"] > (Q1 - 1.5 * IQR)) & (df_out4[\"daily_decr90\"]< (Q3 + 1.5 * IQR))]"
   ]
  },
  {
   "cell_type": "code",
   "execution_count": 37,
   "metadata": {},
   "outputs": [
    {
     "data": {
      "text/plain": [
       "(177655, 33)"
      ]
     },
     "execution_count": 37,
     "metadata": {},
     "output_type": "execute_result"
    }
   ],
   "source": [
    "df_out4.shape"
   ]
  },
  {
   "cell_type": "code",
   "execution_count": 38,
   "metadata": {},
   "outputs": [],
   "source": [
    "Q1 = df_out4[\"rental30\"].quantile(0.25)\n",
    "Q3 = df_out4[\"rental30\"].quantile(0.75)\n",
    "IQR=Q3-Q1\n",
    "df_out4= df_out4[(df[\"rental30\"] > (Q1 - 1.5 * IQR)) & (df_out4[\"rental30\"]< (Q3 + 1.5 * IQR))]"
   ]
  },
  {
   "cell_type": "code",
   "execution_count": 39,
   "metadata": {},
   "outputs": [
    {
     "data": {
      "text/plain": [
       "(160269, 33)"
      ]
     },
     "execution_count": 39,
     "metadata": {},
     "output_type": "execute_result"
    }
   ],
   "source": [
    "df_out4.shape"
   ]
  },
  {
   "cell_type": "code",
   "execution_count": 40,
   "metadata": {},
   "outputs": [
    {
     "data": {
      "text/plain": [
       "23.53322868607253"
      ]
     },
     "execution_count": 40,
     "metadata": {},
     "output_type": "execute_result"
    }
   ],
   "source": [
    "((209593-160269)/(209593))*100"
   ]
  },
  {
   "cell_type": "markdown",
   "metadata": {},
   "source": [
    "<span style='background:orange'>Observation: If we column by column as well, we lost 23% of data.So we cant do this as well </span>"
   ]
  },
  {
   "cell_type": "markdown",
   "metadata": {},
   "source": [
    "## Replacing Outliers with Median Values"
   ]
  },
  {
   "attachments": {
    "image.png": {
     "image/png": "[encoded data removed]"
    }
   },
   "cell_type": "markdown",
   "metadata": {},
   "source": [
    "After multiple approaches failed with outliers, did some more reading on the net. And there was a suggestion to \n",
    "replace the outliers with median values\n",
    "\n",
    "![image.png](attachment:image.png)"
   ]
  },
  {
   "cell_type": "markdown",
   "metadata": {},
   "source": [
    "Reference Link: https://www.pluralsight.com/guides/cleaning-up-data-from-outliers"
   ]
  },
  {
   "cell_type": "code",
   "execution_count": 41,
   "metadata": {},
   "outputs": [
    {
     "data": {
      "text/html": [
       "<div>\n",
       "<style scoped>\n",
       "    .dataframe tbody tr th:only-of-type {\n",
       "        vertical-align: middle;\n",
       "    }\n",
       "\n",
       "    .dataframe tbody tr th {\n",
       "        vertical-align: top;\n",
       "    }\n",
       "\n",
       "    .dataframe thead th {\n",
       "        text-align: right;\n",
       "    }\n",
       "</style>\n",
       "<table border=\"1\" class=\"dataframe\">\n",
       "  <thead>\n",
       "    <tr style=\"text-align: right;\">\n",
       "      <th></th>\n",
       "      <th>label</th>\n",
       "      <th>aon</th>\n",
       "      <th>daily_decr30</th>\n",
       "      <th>daily_decr90</th>\n",
       "      <th>rental30</th>\n",
       "      <th>rental90</th>\n",
       "      <th>last_rech_date_ma</th>\n",
       "      <th>last_rech_date_da</th>\n",
       "      <th>last_rech_amt_ma</th>\n",
       "      <th>cnt_ma_rech30</th>\n",
       "      <th>fr_ma_rech30</th>\n",
       "      <th>sumamnt_ma_rech30</th>\n",
       "      <th>medianamnt_ma_rech30</th>\n",
       "      <th>medianmarechprebal30</th>\n",
       "      <th>cnt_ma_rech90</th>\n",
       "      <th>fr_ma_rech90</th>\n",
       "      <th>sumamnt_ma_rech90</th>\n",
       "      <th>medianamnt_ma_rech90</th>\n",
       "      <th>medianmarechprebal90</th>\n",
       "      <th>cnt_da_rech30</th>\n",
       "      <th>fr_da_rech30</th>\n",
       "      <th>cnt_da_rech90</th>\n",
       "      <th>fr_da_rech90</th>\n",
       "      <th>cnt_loans30</th>\n",
       "      <th>amnt_loans30</th>\n",
       "      <th>maxamnt_loans30</th>\n",
       "      <th>medianamnt_loans30</th>\n",
       "      <th>cnt_loans90</th>\n",
       "      <th>amnt_loans90</th>\n",
       "      <th>maxamnt_loans90</th>\n",
       "      <th>medianamnt_loans90</th>\n",
       "      <th>payback30</th>\n",
       "      <th>payback90</th>\n",
       "    </tr>\n",
       "  </thead>\n",
       "  <tbody>\n",
       "    <tr>\n",
       "      <th>count</th>\n",
       "      <td>209593.00</td>\n",
       "      <td>209593.00</td>\n",
       "      <td>209593.00</td>\n",
       "      <td>209593.00</td>\n",
       "      <td>209593.00</td>\n",
       "      <td>209593.00</td>\n",
       "      <td>209593.00</td>\n",
       "      <td>209593.00</td>\n",
       "      <td>209593.00</td>\n",
       "      <td>209593.00</td>\n",
       "      <td>209593.00</td>\n",
       "      <td>209593.00</td>\n",
       "      <td>209593.00</td>\n",
       "      <td>209593.00</td>\n",
       "      <td>209593.00</td>\n",
       "      <td>209593.00</td>\n",
       "      <td>209593.00</td>\n",
       "      <td>209593.00</td>\n",
       "      <td>209593.00</td>\n",
       "      <td>209593.00</td>\n",
       "      <td>209593.00</td>\n",
       "      <td>209593.00</td>\n",
       "      <td>209593.00</td>\n",
       "      <td>209593.00</td>\n",
       "      <td>209593.00</td>\n",
       "      <td>209593.00</td>\n",
       "      <td>209593.00</td>\n",
       "      <td>209593.00</td>\n",
       "      <td>209593.00</td>\n",
       "      <td>209593.00</td>\n",
       "      <td>209593.00</td>\n",
       "      <td>209593.00</td>\n",
       "      <td>209593.00</td>\n",
       "    </tr>\n",
       "    <tr>\n",
       "      <th>mean</th>\n",
       "      <td>0.88</td>\n",
       "      <td>8112.34</td>\n",
       "      <td>5381.40</td>\n",
       "      <td>6082.52</td>\n",
       "      <td>2692.58</td>\n",
       "      <td>3483.41</td>\n",
       "      <td>3755.85</td>\n",
       "      <td>3712.20</td>\n",
       "      <td>2064.45</td>\n",
       "      <td>3.98</td>\n",
       "      <td>3737.36</td>\n",
       "      <td>7704.50</td>\n",
       "      <td>1812.82</td>\n",
       "      <td>3851.93</td>\n",
       "      <td>6.32</td>\n",
       "      <td>7.72</td>\n",
       "      <td>12396.22</td>\n",
       "      <td>1864.60</td>\n",
       "      <td>92.03</td>\n",
       "      <td>262.58</td>\n",
       "      <td>3749.49</td>\n",
       "      <td>0.04</td>\n",
       "      <td>0.05</td>\n",
       "      <td>2.76</td>\n",
       "      <td>17.95</td>\n",
       "      <td>274.66</td>\n",
       "      <td>0.05</td>\n",
       "      <td>18.52</td>\n",
       "      <td>23.65</td>\n",
       "      <td>6.70</td>\n",
       "      <td>0.05</td>\n",
       "      <td>3.40</td>\n",
       "      <td>4.32</td>\n",
       "    </tr>\n",
       "    <tr>\n",
       "      <th>std</th>\n",
       "      <td>0.33</td>\n",
       "      <td>75696.08</td>\n",
       "      <td>9220.62</td>\n",
       "      <td>10918.81</td>\n",
       "      <td>4308.59</td>\n",
       "      <td>5770.46</td>\n",
       "      <td>53905.89</td>\n",
       "      <td>53374.83</td>\n",
       "      <td>2370.79</td>\n",
       "      <td>4.26</td>\n",
       "      <td>53643.63</td>\n",
       "      <td>10139.62</td>\n",
       "      <td>2070.86</td>\n",
       "      <td>54006.37</td>\n",
       "      <td>7.19</td>\n",
       "      <td>12.59</td>\n",
       "      <td>16857.79</td>\n",
       "      <td>2081.68</td>\n",
       "      <td>369.22</td>\n",
       "      <td>4183.90</td>\n",
       "      <td>53885.41</td>\n",
       "      <td>0.40</td>\n",
       "      <td>0.95</td>\n",
       "      <td>2.55</td>\n",
       "      <td>17.38</td>\n",
       "      <td>4245.26</td>\n",
       "      <td>0.22</td>\n",
       "      <td>224.80</td>\n",
       "      <td>26.47</td>\n",
       "      <td>2.10</td>\n",
       "      <td>0.20</td>\n",
       "      <td>8.81</td>\n",
       "      <td>10.31</td>\n",
       "    </tr>\n",
       "    <tr>\n",
       "      <th>min</th>\n",
       "      <td>0.00</td>\n",
       "      <td>-48.00</td>\n",
       "      <td>-93.01</td>\n",
       "      <td>-93.01</td>\n",
       "      <td>-23737.14</td>\n",
       "      <td>-24720.58</td>\n",
       "      <td>-29.00</td>\n",
       "      <td>-29.00</td>\n",
       "      <td>0.00</td>\n",
       "      <td>0.00</td>\n",
       "      <td>0.00</td>\n",
       "      <td>0.00</td>\n",
       "      <td>0.00</td>\n",
       "      <td>-200.00</td>\n",
       "      <td>0.00</td>\n",
       "      <td>0.00</td>\n",
       "      <td>0.00</td>\n",
       "      <td>0.00</td>\n",
       "      <td>-200.00</td>\n",
       "      <td>0.00</td>\n",
       "      <td>0.00</td>\n",
       "      <td>0.00</td>\n",
       "      <td>0.00</td>\n",
       "      <td>0.00</td>\n",
       "      <td>0.00</td>\n",
       "      <td>0.00</td>\n",
       "      <td>0.00</td>\n",
       "      <td>0.00</td>\n",
       "      <td>0.00</td>\n",
       "      <td>0.00</td>\n",
       "      <td>0.00</td>\n",
       "      <td>0.00</td>\n",
       "      <td>0.00</td>\n",
       "    </tr>\n",
       "    <tr>\n",
       "      <th>25%</th>\n",
       "      <td>1.00</td>\n",
       "      <td>246.00</td>\n",
       "      <td>42.44</td>\n",
       "      <td>42.69</td>\n",
       "      <td>280.42</td>\n",
       "      <td>300.26</td>\n",
       "      <td>1.00</td>\n",
       "      <td>0.00</td>\n",
       "      <td>770.00</td>\n",
       "      <td>1.00</td>\n",
       "      <td>0.00</td>\n",
       "      <td>1540.00</td>\n",
       "      <td>770.00</td>\n",
       "      <td>11.00</td>\n",
       "      <td>2.00</td>\n",
       "      <td>0.00</td>\n",
       "      <td>2317.00</td>\n",
       "      <td>773.00</td>\n",
       "      <td>14.60</td>\n",
       "      <td>0.00</td>\n",
       "      <td>0.00</td>\n",
       "      <td>0.00</td>\n",
       "      <td>0.00</td>\n",
       "      <td>1.00</td>\n",
       "      <td>6.00</td>\n",
       "      <td>6.00</td>\n",
       "      <td>0.00</td>\n",
       "      <td>1.00</td>\n",
       "      <td>6.00</td>\n",
       "      <td>6.00</td>\n",
       "      <td>0.00</td>\n",
       "      <td>0.00</td>\n",
       "      <td>0.00</td>\n",
       "    </tr>\n",
       "    <tr>\n",
       "      <th>50%</th>\n",
       "      <td>1.00</td>\n",
       "      <td>527.00</td>\n",
       "      <td>1469.18</td>\n",
       "      <td>1500.00</td>\n",
       "      <td>1083.57</td>\n",
       "      <td>1334.00</td>\n",
       "      <td>3.00</td>\n",
       "      <td>0.00</td>\n",
       "      <td>1539.00</td>\n",
       "      <td>3.00</td>\n",
       "      <td>2.00</td>\n",
       "      <td>4628.00</td>\n",
       "      <td>1539.00</td>\n",
       "      <td>33.90</td>\n",
       "      <td>4.00</td>\n",
       "      <td>2.00</td>\n",
       "      <td>7226.00</td>\n",
       "      <td>1539.00</td>\n",
       "      <td>36.00</td>\n",
       "      <td>0.00</td>\n",
       "      <td>0.00</td>\n",
       "      <td>0.00</td>\n",
       "      <td>0.00</td>\n",
       "      <td>2.00</td>\n",
       "      <td>12.00</td>\n",
       "      <td>6.00</td>\n",
       "      <td>0.00</td>\n",
       "      <td>2.00</td>\n",
       "      <td>12.00</td>\n",
       "      <td>6.00</td>\n",
       "      <td>0.00</td>\n",
       "      <td>0.00</td>\n",
       "      <td>1.67</td>\n",
       "    </tr>\n",
       "    <tr>\n",
       "      <th>75%</th>\n",
       "      <td>1.00</td>\n",
       "      <td>982.00</td>\n",
       "      <td>7244.00</td>\n",
       "      <td>7802.79</td>\n",
       "      <td>3356.94</td>\n",
       "      <td>4201.79</td>\n",
       "      <td>7.00</td>\n",
       "      <td>0.00</td>\n",
       "      <td>2309.00</td>\n",
       "      <td>5.00</td>\n",
       "      <td>6.00</td>\n",
       "      <td>10010.00</td>\n",
       "      <td>1924.00</td>\n",
       "      <td>83.00</td>\n",
       "      <td>8.00</td>\n",
       "      <td>8.00</td>\n",
       "      <td>16000.00</td>\n",
       "      <td>1924.00</td>\n",
       "      <td>79.31</td>\n",
       "      <td>0.00</td>\n",
       "      <td>0.00</td>\n",
       "      <td>0.00</td>\n",
       "      <td>0.00</td>\n",
       "      <td>4.00</td>\n",
       "      <td>24.00</td>\n",
       "      <td>6.00</td>\n",
       "      <td>0.00</td>\n",
       "      <td>5.00</td>\n",
       "      <td>30.00</td>\n",
       "      <td>6.00</td>\n",
       "      <td>0.00</td>\n",
       "      <td>3.75</td>\n",
       "      <td>4.50</td>\n",
       "    </tr>\n",
       "    <tr>\n",
       "      <th>max</th>\n",
       "      <td>1.00</td>\n",
       "      <td>999860.76</td>\n",
       "      <td>265926.00</td>\n",
       "      <td>320630.00</td>\n",
       "      <td>198926.11</td>\n",
       "      <td>200148.11</td>\n",
       "      <td>998650.38</td>\n",
       "      <td>999171.81</td>\n",
       "      <td>55000.00</td>\n",
       "      <td>203.00</td>\n",
       "      <td>999606.37</td>\n",
       "      <td>810096.00</td>\n",
       "      <td>55000.00</td>\n",
       "      <td>999479.42</td>\n",
       "      <td>336.00</td>\n",
       "      <td>88.00</td>\n",
       "      <td>953036.00</td>\n",
       "      <td>55000.00</td>\n",
       "      <td>41456.50</td>\n",
       "      <td>99914.44</td>\n",
       "      <td>999809.24</td>\n",
       "      <td>38.00</td>\n",
       "      <td>64.00</td>\n",
       "      <td>50.00</td>\n",
       "      <td>306.00</td>\n",
       "      <td>99864.56</td>\n",
       "      <td>3.00</td>\n",
       "      <td>4997.52</td>\n",
       "      <td>438.00</td>\n",
       "      <td>12.00</td>\n",
       "      <td>3.00</td>\n",
       "      <td>171.50</td>\n",
       "      <td>171.50</td>\n",
       "    </tr>\n",
       "  </tbody>\n",
       "</table>\n",
       "</div>"
      ],
      "text/plain": [
       "          label       aon  daily_decr30  daily_decr90  rental30  rental90  \\\n",
       "count 209593.00 209593.00     209593.00     209593.00 209593.00 209593.00   \n",
       "mean       0.88   8112.34       5381.40       6082.52   2692.58   3483.41   \n",
       "std        0.33  75696.08       9220.62      10918.81   4308.59   5770.46   \n",
       "min        0.00    -48.00        -93.01        -93.01 -23737.14 -24720.58   \n",
       "25%        1.00    246.00         42.44         42.69    280.42    300.26   \n",
       "50%        1.00    527.00       1469.18       1500.00   1083.57   1334.00   \n",
       "75%        1.00    982.00       7244.00       7802.79   3356.94   4201.79   \n",
       "max        1.00 999860.76     265926.00     320630.00 198926.11 200148.11   \n",
       "\n",
       "       last_rech_date_ma  last_rech_date_da  last_rech_amt_ma  cnt_ma_rech30  \\\n",
       "count          209593.00          209593.00         209593.00      209593.00   \n",
       "mean             3755.85            3712.20           2064.45           3.98   \n",
       "std             53905.89           53374.83           2370.79           4.26   \n",
       "min               -29.00             -29.00              0.00           0.00   \n",
       "25%                 1.00               0.00            770.00           1.00   \n",
       "50%                 3.00               0.00           1539.00           3.00   \n",
       "75%                 7.00               0.00           2309.00           5.00   \n",
       "max            998650.38          999171.81          55000.00         203.00   \n",
       "\n",
       "       fr_ma_rech30  sumamnt_ma_rech30  medianamnt_ma_rech30  \\\n",
       "count     209593.00          209593.00             209593.00   \n",
       "mean        3737.36            7704.50               1812.82   \n",
       "std        53643.63           10139.62               2070.86   \n",
       "min            0.00               0.00                  0.00   \n",
       "25%            0.00            1540.00                770.00   \n",
       "50%            2.00            4628.00               1539.00   \n",
       "75%            6.00           10010.00               1924.00   \n",
       "max       999606.37          810096.00              55000.00   \n",
       "\n",
       "       medianmarechprebal30  cnt_ma_rech90  fr_ma_rech90  sumamnt_ma_rech90  \\\n",
       "count             209593.00      209593.00     209593.00          209593.00   \n",
       "mean                3851.93           6.32          7.72           12396.22   \n",
       "std                54006.37           7.19         12.59           16857.79   \n",
       "min                 -200.00           0.00          0.00               0.00   \n",
       "25%                   11.00           2.00          0.00            2317.00   \n",
       "50%                   33.90           4.00          2.00            7226.00   \n",
       "75%                   83.00           8.00          8.00           16000.00   \n",
       "max               999479.42         336.00         88.00          953036.00   \n",
       "\n",
       "       medianamnt_ma_rech90  medianmarechprebal90  cnt_da_rech30  \\\n",
       "count             209593.00             209593.00      209593.00   \n",
       "mean                1864.60                 92.03         262.58   \n",
       "std                 2081.68                369.22        4183.90   \n",
       "min                    0.00               -200.00           0.00   \n",
       "25%                  773.00                 14.60           0.00   \n",
       "50%                 1539.00                 36.00           0.00   \n",
       "75%                 1924.00                 79.31           0.00   \n",
       "max                55000.00              41456.50       99914.44   \n",
       "\n",
       "       fr_da_rech30  cnt_da_rech90  fr_da_rech90  cnt_loans30  amnt_loans30  \\\n",
       "count     209593.00      209593.00     209593.00    209593.00     209593.00   \n",
       "mean        3749.49           0.04          0.05         2.76         17.95   \n",
       "std        53885.41           0.40          0.95         2.55         17.38   \n",
       "min            0.00           0.00          0.00         0.00          0.00   \n",
       "25%            0.00           0.00          0.00         1.00          6.00   \n",
       "50%            0.00           0.00          0.00         2.00         12.00   \n",
       "75%            0.00           0.00          0.00         4.00         24.00   \n",
       "max       999809.24          38.00         64.00        50.00        306.00   \n",
       "\n",
       "       maxamnt_loans30  medianamnt_loans30  cnt_loans90  amnt_loans90  \\\n",
       "count        209593.00           209593.00    209593.00     209593.00   \n",
       "mean            274.66                0.05        18.52         23.65   \n",
       "std            4245.26                0.22       224.80         26.47   \n",
       "min               0.00                0.00         0.00          0.00   \n",
       "25%               6.00                0.00         1.00          6.00   \n",
       "50%               6.00                0.00         2.00         12.00   \n",
       "75%               6.00                0.00         5.00         30.00   \n",
       "max           99864.56                3.00      4997.52        438.00   \n",
       "\n",
       "       maxamnt_loans90  medianamnt_loans90  payback30  payback90  \n",
       "count        209593.00           209593.00  209593.00  209593.00  \n",
       "mean              6.70                0.05       3.40       4.32  \n",
       "std               2.10                0.20       8.81      10.31  \n",
       "min               0.00                0.00       0.00       0.00  \n",
       "25%               6.00                0.00       0.00       0.00  \n",
       "50%               6.00                0.00       0.00       1.67  \n",
       "75%               6.00                0.00       3.75       4.50  \n",
       "max              12.00                3.00     171.50     171.50  "
      ]
     },
     "execution_count": 41,
     "metadata": {},
     "output_type": "execute_result"
    }
   ],
   "source": [
    "df_new.describe()"
   ]
  },
  {
   "cell_type": "markdown",
   "metadata": {},
   "source": [
    "<span style='background:yellow'>Observation: we can see our target column\"label\" is normally distributed. So we will leave this column and for all other columns we will replace the outliers with median as needed  </span>"
   ]
  },
  {
   "cell_type": "code",
   "execution_count": 42,
   "metadata": {},
   "outputs": [],
   "source": [
    "df_new1=df_new"
   ]
  },
  {
   "cell_type": "code",
   "execution_count": 43,
   "metadata": {},
   "outputs": [
    {
     "data": {
      "text/plain": [
       "Index(['aon', 'daily_decr30', 'daily_decr90', 'rental30', 'rental90',\n",
       "       'last_rech_date_ma', 'last_rech_date_da', 'last_rech_amt_ma',\n",
       "       'cnt_ma_rech30', 'fr_ma_rech30', 'sumamnt_ma_rech30',\n",
       "       'medianamnt_ma_rech30', 'medianmarechprebal30', 'cnt_ma_rech90',\n",
       "       'fr_ma_rech90', 'sumamnt_ma_rech90', 'medianamnt_ma_rech90',\n",
       "       'medianmarechprebal90', 'cnt_da_rech30', 'fr_da_rech30',\n",
       "       'cnt_da_rech90', 'fr_da_rech90', 'cnt_loans30', 'amnt_loans30',\n",
       "       'maxamnt_loans30', 'medianamnt_loans30', 'cnt_loans90', 'amnt_loans90',\n",
       "       'maxamnt_loans90', 'medianamnt_loans90', 'payback30', 'payback90'],\n",
       "      dtype='object')"
      ]
     },
     "execution_count": 43,
     "metadata": {},
     "output_type": "execute_result"
    }
   ],
   "source": [
    "x=df_new1.iloc[:,1:]\n",
    "x.columns"
   ]
  },
  {
   "cell_type": "code",
   "execution_count": 44,
   "metadata": {},
   "outputs": [
    {
     "name": "stdout",
     "output_type": "stream",
     "text": [
      "feature \t aon\n",
      "=======================\n",
      "527.0 1749.0\n",
      "count   209593.00\n",
      "mean       596.89\n",
      "std        419.73\n",
      "min        -48.00\n",
      "25%        246.00\n",
      "50%        527.00\n",
      "75%        869.00\n",
      "max       1749.00\n",
      "Name: aon, dtype: float64\n",
      "feature \t daily_decr30\n",
      "=======================\n",
      "1469.17566666667 22577.499999999985\n",
      "count   209593.00\n",
      "mean      3696.46\n",
      "std       5165.89\n",
      "min        -93.01\n",
      "25%         42.44\n",
      "50%       1469.18\n",
      "75%       5616.07\n",
      "max      22576.50\n",
      "Name: daily_decr30, dtype: float64\n",
      "feature \t daily_decr90\n",
      "=======================\n",
      "1500.0 26244.257999999994\n",
      "count   209593.00\n",
      "mean      4069.46\n",
      "std       5872.16\n",
      "min        -93.01\n",
      "25%         42.69\n",
      "50%       1500.00\n",
      "75%       5965.36\n",
      "max      26243.89\n",
      "Name: daily_decr90, dtype: float64\n",
      "feature \t rental30\n",
      "=======================\n",
      "1083.57 11166.419999999998\n",
      "count   209593.00\n",
      "mean      1906.89\n",
      "std       2360.25\n",
      "min     -23737.14\n",
      "25%        280.42\n",
      "50%       1083.57\n",
      "75%       2634.25\n",
      "max      11166.26\n",
      "Name: rental30, dtype: float64\n",
      "feature \t rental90\n",
      "=======================\n",
      "1334.0 14642.973999999995\n",
      "count   209593.00\n",
      "mean      2419.01\n",
      "std       3066.78\n",
      "min     -24720.58\n",
      "25%        300.26\n",
      "50%       1334.00\n",
      "75%       3354.91\n",
      "max      14642.49\n",
      "Name: rental90, dtype: float64\n",
      "feature \t last_rech_date_ma\n",
      "=======================\n",
      "3.0 25.0\n",
      "count   209593.00\n",
      "mean         4.28\n",
      "std          5.32\n",
      "min        -29.00\n",
      "25%          1.00\n",
      "50%          3.00\n",
      "75%          6.00\n",
      "max         25.00\n",
      "Name: last_rech_date_ma, dtype: float64\n",
      "feature \t last_rech_date_da\n",
      "=======================\n",
      "0.0 0.0\n",
      "count   209593.00\n",
      "mean        -0.00\n",
      "std          0.14\n",
      "min        -29.00\n",
      "25%          0.00\n",
      "50%          0.00\n",
      "75%          0.00\n",
      "max          0.00\n",
      "Name: last_rech_date_da, dtype: float64\n",
      "feature \t last_rech_amt_ma\n",
      "=======================\n",
      "1539.0 8000.0\n",
      "count   209593.00\n",
      "mean      1865.78\n",
      "std       1863.60\n",
      "min          0.00\n",
      "25%        770.00\n",
      "50%       1539.00\n",
      "75%       1924.00\n",
      "max       8000.00\n",
      "Name: last_rech_amt_ma, dtype: float64\n",
      "feature \t cnt_ma_rech30\n",
      "=======================\n",
      "3.0 12.0\n",
      "count   209593.00\n",
      "mean         3.35\n",
      "std          2.84\n",
      "min          0.00\n",
      "25%          1.00\n",
      "50%          3.00\n",
      "75%          5.00\n",
      "max         12.00\n",
      "Name: cnt_ma_rech30, dtype: float64\n",
      "feature \t fr_ma_rech30\n",
      "=======================\n",
      "2.0 16.0\n",
      "count   209593.00\n",
      "mean         3.07\n",
      "std          3.89\n",
      "min          0.00\n",
      "25%          0.00\n",
      "50%          2.00\n",
      "75%          5.00\n",
      "max         16.00\n",
      "Name: fr_ma_rech30, dtype: float64\n",
      "feature \t sumamnt_ma_rech30\n",
      "=======================\n",
      "4628.0 24837.0\n",
      "count   209593.00\n",
      "mean      5970.96\n",
      "std       5575.72\n",
      "min          0.00\n",
      "25%       1540.00\n",
      "50%       4628.00\n",
      "75%       8499.00\n",
      "max      24837.00\n",
      "Name: sumamnt_ma_rech30, dtype: float64\n",
      "feature \t medianamnt_ma_rech30\n",
      "=======================\n",
      "1539.0 7526.0\n",
      "count   209593.00\n",
      "mean      1476.36\n",
      "std       1266.20\n",
      "min          0.00\n",
      "25%        770.00\n",
      "50%       1539.00\n",
      "75%       1543.00\n",
      "max       7526.00\n",
      "Name: medianamnt_ma_rech30, dtype: float64\n",
      "feature \t medianmarechprebal30\n",
      "=======================\n",
      "33.9000000000001 402.4\n",
      "count   209593.00\n",
      "mean        56.28\n",
      "std         77.27\n",
      "min       -200.00\n",
      "25%         11.00\n",
      "50%         33.90\n",
      "75%         69.50\n",
      "max        402.40\n",
      "Name: medianmarechprebal30, dtype: float64\n",
      "feature \t cnt_ma_rech90\n",
      "=======================\n",
      "4.0 20.0\n",
      "count   209593.00\n",
      "mean         5.17\n",
      "std          4.59\n",
      "min          0.00\n",
      "25%          2.00\n",
      "50%          4.00\n",
      "75%          7.00\n",
      "max         20.00\n",
      "Name: cnt_ma_rech90, dtype: float64\n",
      "feature \t fr_ma_rech90\n",
      "=======================\n",
      "2.0 37.0\n",
      "count   209593.00\n",
      "mean         5.46\n",
      "std          8.47\n",
      "min          0.00\n",
      "25%          0.00\n",
      "50%          2.00\n",
      "75%          7.00\n",
      "max         37.00\n",
      "Name: fr_ma_rech90, dtype: float64\n",
      "feature \t sumamnt_ma_rech90\n",
      "=======================\n",
      "7226.0 41780.99999999997\n",
      "count   209593.00\n",
      "mean      9455.12\n",
      "std       9187.95\n",
      "min          0.00\n",
      "25%       2317.00\n",
      "50%       7226.00\n",
      "75%      13565.00\n",
      "max      41779.00\n",
      "Name: sumamnt_ma_rech90, dtype: float64\n",
      "feature \t medianamnt_ma_rech90\n",
      "=======================\n",
      "1539.0 7526.0\n",
      "count   209593.00\n",
      "mean      1518.41\n",
      "std       1255.34\n",
      "min          0.00\n",
      "25%        773.00\n",
      "50%       1539.00\n",
      "75%       1547.00\n",
      "max       7526.00\n",
      "Name: medianamnt_ma_rech90, dtype: float64\n",
      "feature \t medianmarechprebal90\n",
      "=======================\n",
      "36.0 345.7739999999999\n",
      "count   209593.00\n",
      "mean        52.97\n",
      "std         66.32\n",
      "min       -200.00\n",
      "25%         14.60\n",
      "50%         36.00\n",
      "75%         67.60\n",
      "max        345.77\n",
      "Name: medianmarechprebal90, dtype: float64\n",
      "feature \t cnt_da_rech30\n",
      "=======================\n",
      "0.0 0.0\n",
      "count   209593.00\n",
      "mean         0.00\n",
      "std          0.00\n",
      "min          0.00\n",
      "25%          0.00\n",
      "50%          0.00\n",
      "75%          0.00\n",
      "max          0.00\n",
      "Name: cnt_da_rech30, dtype: float64\n",
      "feature \t fr_da_rech30\n",
      "=======================\n",
      "0.0 0.0\n",
      "count   209593.00\n",
      "mean         0.00\n",
      "std          0.00\n",
      "min          0.00\n",
      "25%          0.00\n",
      "50%          0.00\n",
      "75%          0.00\n",
      "max          0.00\n",
      "Name: fr_da_rech30, dtype: float64\n",
      "feature \t cnt_da_rech90\n",
      "=======================\n",
      "0.0 0.0\n",
      "count   209593.00\n",
      "mean         0.00\n",
      "std          0.00\n",
      "min          0.00\n",
      "25%          0.00\n",
      "50%          0.00\n",
      "75%          0.00\n",
      "max          0.00\n",
      "Name: cnt_da_rech90, dtype: float64\n",
      "feature \t fr_da_rech90\n",
      "=======================\n",
      "0.0 0.0\n",
      "count   209593.00\n",
      "mean         0.00\n",
      "std          0.00\n",
      "min          0.00\n",
      "25%          0.00\n",
      "50%          0.00\n",
      "75%          0.00\n",
      "max          0.00\n",
      "Name: fr_da_rech90, dtype: float64\n",
      "feature \t cnt_loans30\n",
      "=======================\n",
      "2.0 8.0\n",
      "count   209593.00\n",
      "mean         2.40\n",
      "std          1.74\n",
      "min          0.00\n",
      "25%          1.00\n",
      "50%          2.00\n",
      "75%          3.00\n",
      "max          8.00\n",
      "Name: cnt_loans30, dtype: float64\n",
      "feature \t amnt_loans30\n",
      "=======================\n",
      "12.0 48.0\n",
      "count   209593.00\n",
      "mean        14.92\n",
      "std         10.71\n",
      "min          0.00\n",
      "25%          6.00\n",
      "50%         12.00\n",
      "75%         18.00\n",
      "max         48.00\n",
      "Name: amnt_loans30, dtype: float64\n",
      "feature \t maxamnt_loans30\n",
      "=======================\n",
      "6.0 12.0\n",
      "count   209593.00\n",
      "mean         6.65\n",
      "std          2.15\n",
      "min          0.00\n",
      "25%          6.00\n",
      "50%          6.00\n",
      "75%          6.00\n",
      "max         12.00\n",
      "Name: maxamnt_loans30, dtype: float64\n",
      "feature \t medianamnt_loans30\n",
      "=======================\n",
      "0.0 0.5\n",
      "count   209593.00\n",
      "mean         0.02\n",
      "std          0.09\n",
      "min          0.00\n",
      "25%          0.00\n",
      "50%          0.00\n",
      "75%          0.00\n",
      "max          0.50\n",
      "Name: medianamnt_loans30, dtype: float64\n",
      "feature \t cnt_loans90\n",
      "=======================\n",
      "2.0 12.0\n",
      "count   209593.00\n",
      "mean         3.05\n",
      "std          2.58\n",
      "min          0.00\n",
      "25%          1.00\n",
      "50%          2.00\n",
      "75%          4.00\n",
      "max         12.00\n",
      "Name: cnt_loans90, dtype: float64\n",
      "feature \t amnt_loans90\n",
      "=======================\n",
      "12.0 72.0\n",
      "count   209593.00\n",
      "mean        18.82\n",
      "std         15.76\n",
      "min          0.00\n",
      "25%          6.00\n",
      "50%         12.00\n",
      "75%         24.00\n",
      "max         72.00\n",
      "Name: amnt_loans90, dtype: float64\n",
      "feature \t maxamnt_loans90\n",
      "=======================\n",
      "6.0 12.0\n",
      "count   209593.00\n",
      "mean         6.70\n",
      "std          2.10\n",
      "min          0.00\n",
      "25%          6.00\n",
      "50%          6.00\n",
      "75%          6.00\n",
      "max         12.00\n",
      "Name: maxamnt_loans90, dtype: float64\n",
      "feature \t medianamnt_loans90\n",
      "=======================\n",
      "0.0 0.5\n",
      "count   209593.00\n",
      "mean         0.01\n",
      "std          0.08\n",
      "min          0.00\n",
      "25%          0.00\n",
      "50%          0.00\n",
      "75%          0.00\n",
      "max          0.50\n",
      "Name: medianamnt_loans90, dtype: float64\n",
      "feature \t payback30\n",
      "=======================\n",
      "0.0 13.0\n",
      "count   209593.00\n",
      "mean         1.89\n",
      "std          2.77\n",
      "min          0.00\n",
      "25%          0.00\n",
      "50%          0.00\n",
      "75%          3.11\n",
      "max         13.00\n",
      "Name: payback30, dtype: float64\n",
      "feature \t payback90\n",
      "=======================\n",
      "1.6666666666666698 17.0\n",
      "count   209593.00\n",
      "mean         2.51\n",
      "std          3.39\n",
      "min          0.00\n",
      "25%          0.00\n",
      "50%          1.67\n",
      "75%          3.75\n",
      "max         17.00\n",
      "Name: payback90, dtype: float64\n"
     ]
    },
    {
     "data": {
      "text/html": [
       "<div>\n",
       "<style scoped>\n",
       "    .dataframe tbody tr th:only-of-type {\n",
       "        vertical-align: middle;\n",
       "    }\n",
       "\n",
       "    .dataframe tbody tr th {\n",
       "        vertical-align: top;\n",
       "    }\n",
       "\n",
       "    .dataframe thead th {\n",
       "        text-align: right;\n",
       "    }\n",
       "</style>\n",
       "<table border=\"1\" class=\"dataframe\">\n",
       "  <thead>\n",
       "    <tr style=\"text-align: right;\">\n",
       "      <th></th>\n",
       "      <th>label</th>\n",
       "      <th>aon</th>\n",
       "      <th>daily_decr30</th>\n",
       "      <th>daily_decr90</th>\n",
       "      <th>rental30</th>\n",
       "      <th>rental90</th>\n",
       "      <th>last_rech_date_ma</th>\n",
       "      <th>last_rech_date_da</th>\n",
       "      <th>last_rech_amt_ma</th>\n",
       "      <th>cnt_ma_rech30</th>\n",
       "      <th>fr_ma_rech30</th>\n",
       "      <th>sumamnt_ma_rech30</th>\n",
       "      <th>medianamnt_ma_rech30</th>\n",
       "      <th>medianmarechprebal30</th>\n",
       "      <th>cnt_ma_rech90</th>\n",
       "      <th>fr_ma_rech90</th>\n",
       "      <th>sumamnt_ma_rech90</th>\n",
       "      <th>medianamnt_ma_rech90</th>\n",
       "      <th>medianmarechprebal90</th>\n",
       "      <th>cnt_da_rech30</th>\n",
       "      <th>fr_da_rech30</th>\n",
       "      <th>cnt_da_rech90</th>\n",
       "      <th>fr_da_rech90</th>\n",
       "      <th>cnt_loans30</th>\n",
       "      <th>amnt_loans30</th>\n",
       "      <th>maxamnt_loans30</th>\n",
       "      <th>medianamnt_loans30</th>\n",
       "      <th>cnt_loans90</th>\n",
       "      <th>amnt_loans90</th>\n",
       "      <th>maxamnt_loans90</th>\n",
       "      <th>medianamnt_loans90</th>\n",
       "      <th>payback30</th>\n",
       "      <th>payback90</th>\n",
       "    </tr>\n",
       "  </thead>\n",
       "  <tbody>\n",
       "    <tr>\n",
       "      <th>count</th>\n",
       "      <td>209593.00</td>\n",
       "      <td>209593.00</td>\n",
       "      <td>209593.00</td>\n",
       "      <td>209593.00</td>\n",
       "      <td>209593.00</td>\n",
       "      <td>209593.00</td>\n",
       "      <td>209593.00</td>\n",
       "      <td>209593.00</td>\n",
       "      <td>209593.00</td>\n",
       "      <td>209593.00</td>\n",
       "      <td>209593.00</td>\n",
       "      <td>209593.00</td>\n",
       "      <td>209593.00</td>\n",
       "      <td>209593.00</td>\n",
       "      <td>209593.00</td>\n",
       "      <td>209593.00</td>\n",
       "      <td>209593.00</td>\n",
       "      <td>209593.00</td>\n",
       "      <td>209593.00</td>\n",
       "      <td>209593.00</td>\n",
       "      <td>209593.00</td>\n",
       "      <td>209593.00</td>\n",
       "      <td>209593.00</td>\n",
       "      <td>209593.00</td>\n",
       "      <td>209593.00</td>\n",
       "      <td>209593.00</td>\n",
       "      <td>209593.00</td>\n",
       "      <td>209593.00</td>\n",
       "      <td>209593.00</td>\n",
       "      <td>209593.00</td>\n",
       "      <td>209593.00</td>\n",
       "      <td>209593.00</td>\n",
       "      <td>209593.00</td>\n",
       "    </tr>\n",
       "    <tr>\n",
       "      <th>mean</th>\n",
       "      <td>0.88</td>\n",
       "      <td>596.89</td>\n",
       "      <td>3696.46</td>\n",
       "      <td>4069.46</td>\n",
       "      <td>1906.89</td>\n",
       "      <td>2419.01</td>\n",
       "      <td>4.28</td>\n",
       "      <td>-0.00</td>\n",
       "      <td>1865.78</td>\n",
       "      <td>3.35</td>\n",
       "      <td>3.07</td>\n",
       "      <td>5970.96</td>\n",
       "      <td>1476.36</td>\n",
       "      <td>56.28</td>\n",
       "      <td>5.17</td>\n",
       "      <td>5.46</td>\n",
       "      <td>9455.12</td>\n",
       "      <td>1518.41</td>\n",
       "      <td>52.97</td>\n",
       "      <td>0.00</td>\n",
       "      <td>0.00</td>\n",
       "      <td>0.00</td>\n",
       "      <td>0.00</td>\n",
       "      <td>2.40</td>\n",
       "      <td>14.92</td>\n",
       "      <td>6.65</td>\n",
       "      <td>0.02</td>\n",
       "      <td>3.05</td>\n",
       "      <td>18.82</td>\n",
       "      <td>6.70</td>\n",
       "      <td>0.01</td>\n",
       "      <td>1.89</td>\n",
       "      <td>2.51</td>\n",
       "    </tr>\n",
       "    <tr>\n",
       "      <th>std</th>\n",
       "      <td>0.33</td>\n",
       "      <td>419.73</td>\n",
       "      <td>5165.89</td>\n",
       "      <td>5872.16</td>\n",
       "      <td>2360.25</td>\n",
       "      <td>3066.78</td>\n",
       "      <td>5.32</td>\n",
       "      <td>0.14</td>\n",
       "      <td>1863.60</td>\n",
       "      <td>2.84</td>\n",
       "      <td>3.89</td>\n",
       "      <td>5575.72</td>\n",
       "      <td>1266.20</td>\n",
       "      <td>77.27</td>\n",
       "      <td>4.59</td>\n",
       "      <td>8.47</td>\n",
       "      <td>9187.95</td>\n",
       "      <td>1255.34</td>\n",
       "      <td>66.32</td>\n",
       "      <td>0.00</td>\n",
       "      <td>0.00</td>\n",
       "      <td>0.00</td>\n",
       "      <td>0.00</td>\n",
       "      <td>1.74</td>\n",
       "      <td>10.71</td>\n",
       "      <td>2.15</td>\n",
       "      <td>0.09</td>\n",
       "      <td>2.58</td>\n",
       "      <td>15.76</td>\n",
       "      <td>2.10</td>\n",
       "      <td>0.08</td>\n",
       "      <td>2.77</td>\n",
       "      <td>3.39</td>\n",
       "    </tr>\n",
       "    <tr>\n",
       "      <th>min</th>\n",
       "      <td>0.00</td>\n",
       "      <td>-48.00</td>\n",
       "      <td>-93.01</td>\n",
       "      <td>-93.01</td>\n",
       "      <td>-23737.14</td>\n",
       "      <td>-24720.58</td>\n",
       "      <td>-29.00</td>\n",
       "      <td>-29.00</td>\n",
       "      <td>0.00</td>\n",
       "      <td>0.00</td>\n",
       "      <td>0.00</td>\n",
       "      <td>0.00</td>\n",
       "      <td>0.00</td>\n",
       "      <td>-200.00</td>\n",
       "      <td>0.00</td>\n",
       "      <td>0.00</td>\n",
       "      <td>0.00</td>\n",
       "      <td>0.00</td>\n",
       "      <td>-200.00</td>\n",
       "      <td>0.00</td>\n",
       "      <td>0.00</td>\n",
       "      <td>0.00</td>\n",
       "      <td>0.00</td>\n",
       "      <td>0.00</td>\n",
       "      <td>0.00</td>\n",
       "      <td>0.00</td>\n",
       "      <td>0.00</td>\n",
       "      <td>0.00</td>\n",
       "      <td>0.00</td>\n",
       "      <td>0.00</td>\n",
       "      <td>0.00</td>\n",
       "      <td>0.00</td>\n",
       "      <td>0.00</td>\n",
       "    </tr>\n",
       "    <tr>\n",
       "      <th>25%</th>\n",
       "      <td>1.00</td>\n",
       "      <td>246.00</td>\n",
       "      <td>42.44</td>\n",
       "      <td>42.69</td>\n",
       "      <td>280.42</td>\n",
       "      <td>300.26</td>\n",
       "      <td>1.00</td>\n",
       "      <td>0.00</td>\n",
       "      <td>770.00</td>\n",
       "      <td>1.00</td>\n",
       "      <td>0.00</td>\n",
       "      <td>1540.00</td>\n",
       "      <td>770.00</td>\n",
       "      <td>11.00</td>\n",
       "      <td>2.00</td>\n",
       "      <td>0.00</td>\n",
       "      <td>2317.00</td>\n",
       "      <td>773.00</td>\n",
       "      <td>14.60</td>\n",
       "      <td>0.00</td>\n",
       "      <td>0.00</td>\n",
       "      <td>0.00</td>\n",
       "      <td>0.00</td>\n",
       "      <td>1.00</td>\n",
       "      <td>6.00</td>\n",
       "      <td>6.00</td>\n",
       "      <td>0.00</td>\n",
       "      <td>1.00</td>\n",
       "      <td>6.00</td>\n",
       "      <td>6.00</td>\n",
       "      <td>0.00</td>\n",
       "      <td>0.00</td>\n",
       "      <td>0.00</td>\n",
       "    </tr>\n",
       "    <tr>\n",
       "      <th>50%</th>\n",
       "      <td>1.00</td>\n",
       "      <td>527.00</td>\n",
       "      <td>1469.18</td>\n",
       "      <td>1500.00</td>\n",
       "      <td>1083.57</td>\n",
       "      <td>1334.00</td>\n",
       "      <td>3.00</td>\n",
       "      <td>0.00</td>\n",
       "      <td>1539.00</td>\n",
       "      <td>3.00</td>\n",
       "      <td>2.00</td>\n",
       "      <td>4628.00</td>\n",
       "      <td>1539.00</td>\n",
       "      <td>33.90</td>\n",
       "      <td>4.00</td>\n",
       "      <td>2.00</td>\n",
       "      <td>7226.00</td>\n",
       "      <td>1539.00</td>\n",
       "      <td>36.00</td>\n",
       "      <td>0.00</td>\n",
       "      <td>0.00</td>\n",
       "      <td>0.00</td>\n",
       "      <td>0.00</td>\n",
       "      <td>2.00</td>\n",
       "      <td>12.00</td>\n",
       "      <td>6.00</td>\n",
       "      <td>0.00</td>\n",
       "      <td>2.00</td>\n",
       "      <td>12.00</td>\n",
       "      <td>6.00</td>\n",
       "      <td>0.00</td>\n",
       "      <td>0.00</td>\n",
       "      <td>1.67</td>\n",
       "    </tr>\n",
       "    <tr>\n",
       "      <th>75%</th>\n",
       "      <td>1.00</td>\n",
       "      <td>869.00</td>\n",
       "      <td>5616.07</td>\n",
       "      <td>5965.36</td>\n",
       "      <td>2634.25</td>\n",
       "      <td>3354.91</td>\n",
       "      <td>6.00</td>\n",
       "      <td>0.00</td>\n",
       "      <td>1924.00</td>\n",
       "      <td>5.00</td>\n",
       "      <td>5.00</td>\n",
       "      <td>8499.00</td>\n",
       "      <td>1543.00</td>\n",
       "      <td>69.50</td>\n",
       "      <td>7.00</td>\n",
       "      <td>7.00</td>\n",
       "      <td>13565.00</td>\n",
       "      <td>1547.00</td>\n",
       "      <td>67.60</td>\n",
       "      <td>0.00</td>\n",
       "      <td>0.00</td>\n",
       "      <td>0.00</td>\n",
       "      <td>0.00</td>\n",
       "      <td>3.00</td>\n",
       "      <td>18.00</td>\n",
       "      <td>6.00</td>\n",
       "      <td>0.00</td>\n",
       "      <td>4.00</td>\n",
       "      <td>24.00</td>\n",
       "      <td>6.00</td>\n",
       "      <td>0.00</td>\n",
       "      <td>3.11</td>\n",
       "      <td>3.75</td>\n",
       "    </tr>\n",
       "    <tr>\n",
       "      <th>max</th>\n",
       "      <td>1.00</td>\n",
       "      <td>1749.00</td>\n",
       "      <td>22576.50</td>\n",
       "      <td>26243.89</td>\n",
       "      <td>11166.26</td>\n",
       "      <td>14642.49</td>\n",
       "      <td>25.00</td>\n",
       "      <td>0.00</td>\n",
       "      <td>8000.00</td>\n",
       "      <td>12.00</td>\n",
       "      <td>16.00</td>\n",
       "      <td>24837.00</td>\n",
       "      <td>7526.00</td>\n",
       "      <td>402.40</td>\n",
       "      <td>20.00</td>\n",
       "      <td>37.00</td>\n",
       "      <td>41779.00</td>\n",
       "      <td>7526.00</td>\n",
       "      <td>345.77</td>\n",
       "      <td>0.00</td>\n",
       "      <td>0.00</td>\n",
       "      <td>0.00</td>\n",
       "      <td>0.00</td>\n",
       "      <td>8.00</td>\n",
       "      <td>48.00</td>\n",
       "      <td>12.00</td>\n",
       "      <td>0.50</td>\n",
       "      <td>12.00</td>\n",
       "      <td>72.00</td>\n",
       "      <td>12.00</td>\n",
       "      <td>0.50</td>\n",
       "      <td>13.00</td>\n",
       "      <td>17.00</td>\n",
       "    </tr>\n",
       "  </tbody>\n",
       "</table>\n",
       "</div>"
      ],
      "text/plain": [
       "          label       aon  daily_decr30  daily_decr90  rental30  rental90  \\\n",
       "count 209593.00 209593.00     209593.00     209593.00 209593.00 209593.00   \n",
       "mean       0.88    596.89       3696.46       4069.46   1906.89   2419.01   \n",
       "std        0.33    419.73       5165.89       5872.16   2360.25   3066.78   \n",
       "min        0.00    -48.00        -93.01        -93.01 -23737.14 -24720.58   \n",
       "25%        1.00    246.00         42.44         42.69    280.42    300.26   \n",
       "50%        1.00    527.00       1469.18       1500.00   1083.57   1334.00   \n",
       "75%        1.00    869.00       5616.07       5965.36   2634.25   3354.91   \n",
       "max        1.00   1749.00      22576.50      26243.89  11166.26  14642.49   \n",
       "\n",
       "       last_rech_date_ma  last_rech_date_da  last_rech_amt_ma  cnt_ma_rech30  \\\n",
       "count          209593.00          209593.00         209593.00      209593.00   \n",
       "mean                4.28              -0.00           1865.78           3.35   \n",
       "std                 5.32               0.14           1863.60           2.84   \n",
       "min               -29.00             -29.00              0.00           0.00   \n",
       "25%                 1.00               0.00            770.00           1.00   \n",
       "50%                 3.00               0.00           1539.00           3.00   \n",
       "75%                 6.00               0.00           1924.00           5.00   \n",
       "max                25.00               0.00           8000.00          12.00   \n",
       "\n",
       "       fr_ma_rech30  sumamnt_ma_rech30  medianamnt_ma_rech30  \\\n",
       "count     209593.00          209593.00             209593.00   \n",
       "mean           3.07            5970.96               1476.36   \n",
       "std            3.89            5575.72               1266.20   \n",
       "min            0.00               0.00                  0.00   \n",
       "25%            0.00            1540.00                770.00   \n",
       "50%            2.00            4628.00               1539.00   \n",
       "75%            5.00            8499.00               1543.00   \n",
       "max           16.00           24837.00               7526.00   \n",
       "\n",
       "       medianmarechprebal30  cnt_ma_rech90  fr_ma_rech90  sumamnt_ma_rech90  \\\n",
       "count             209593.00      209593.00     209593.00          209593.00   \n",
       "mean                  56.28           5.17          5.46            9455.12   \n",
       "std                   77.27           4.59          8.47            9187.95   \n",
       "min                 -200.00           0.00          0.00               0.00   \n",
       "25%                   11.00           2.00          0.00            2317.00   \n",
       "50%                   33.90           4.00          2.00            7226.00   \n",
       "75%                   69.50           7.00          7.00           13565.00   \n",
       "max                  402.40          20.00         37.00           41779.00   \n",
       "\n",
       "       medianamnt_ma_rech90  medianmarechprebal90  cnt_da_rech30  \\\n",
       "count             209593.00             209593.00      209593.00   \n",
       "mean                1518.41                 52.97           0.00   \n",
       "std                 1255.34                 66.32           0.00   \n",
       "min                    0.00               -200.00           0.00   \n",
       "25%                  773.00                 14.60           0.00   \n",
       "50%                 1539.00                 36.00           0.00   \n",
       "75%                 1547.00                 67.60           0.00   \n",
       "max                 7526.00                345.77           0.00   \n",
       "\n",
       "       fr_da_rech30  cnt_da_rech90  fr_da_rech90  cnt_loans30  amnt_loans30  \\\n",
       "count     209593.00      209593.00     209593.00    209593.00     209593.00   \n",
       "mean           0.00           0.00          0.00         2.40         14.92   \n",
       "std            0.00           0.00          0.00         1.74         10.71   \n",
       "min            0.00           0.00          0.00         0.00          0.00   \n",
       "25%            0.00           0.00          0.00         1.00          6.00   \n",
       "50%            0.00           0.00          0.00         2.00         12.00   \n",
       "75%            0.00           0.00          0.00         3.00         18.00   \n",
       "max            0.00           0.00          0.00         8.00         48.00   \n",
       "\n",
       "       maxamnt_loans30  medianamnt_loans30  cnt_loans90  amnt_loans90  \\\n",
       "count        209593.00           209593.00    209593.00     209593.00   \n",
       "mean              6.65                0.02         3.05         18.82   \n",
       "std               2.15                0.09         2.58         15.76   \n",
       "min               0.00                0.00         0.00          0.00   \n",
       "25%               6.00                0.00         1.00          6.00   \n",
       "50%               6.00                0.00         2.00         12.00   \n",
       "75%               6.00                0.00         4.00         24.00   \n",
       "max              12.00                0.50        12.00         72.00   \n",
       "\n",
       "       maxamnt_loans90  medianamnt_loans90  payback30  payback90  \n",
       "count        209593.00           209593.00  209593.00  209593.00  \n",
       "mean              6.70                0.01       1.89       2.51  \n",
       "std               2.10                0.08       2.77       3.39  \n",
       "min               0.00                0.00       0.00       0.00  \n",
       "25%               6.00                0.00       0.00       0.00  \n",
       "50%               6.00                0.00       0.00       1.67  \n",
       "75%               6.00                0.00       3.11       3.75  \n",
       "max              12.00                0.50      13.00      17.00  "
      ]
     },
     "execution_count": 44,
     "metadata": {},
     "output_type": "execute_result"
    }
   ],
   "source": [
    "for i in x:\n",
    "    print(\"feature \\t\", i)\n",
    "    print(\"=======================\")\n",
    "    Q50 = df_new[i].quantile(0.50)\n",
    "    Q95 = df_new[i].quantile(0.95)\n",
    "    print(Q50, Q95)\n",
    "    df_new1[i] = np.where(df_new1[i] > Q95, Q50, df_new1[i])\n",
    "    print(df_new1[i].describe())\n",
    "df_new1.describe()\n",
    "   "
   ]
  },
  {
   "cell_type": "markdown",
   "metadata": {},
   "source": [
    "<span style='background:yellow'>Observation: By observing the diff between both the describe, we can see there is a good change. The outliers have been replaced </span>"
   ]
  },
  {
   "cell_type": "code",
   "execution_count": 45,
   "metadata": {},
   "outputs": [
    {
     "data": {
      "text/plain": [
       "label                    -2.27\n",
       "aon                       0.76\n",
       "daily_decr30              1.62\n",
       "daily_decr90              1.73\n",
       "rental30                  1.71\n",
       "rental90                  1.78\n",
       "last_rech_date_ma         0.55\n",
       "last_rech_date_da      -170.23\n",
       "last_rech_amt_ma          2.06\n",
       "cnt_ma_rech30             1.01\n",
       "fr_ma_rech30              1.44\n",
       "sumamnt_ma_rech30         1.20\n",
       "medianamnt_ma_rech30      1.99\n",
       "medianmarechprebal30      1.98\n",
       "cnt_ma_rech90             1.16\n",
       "fr_ma_rech90              2.16\n",
       "sumamnt_ma_rech90         1.32\n",
       "medianamnt_ma_rech90      2.09\n",
       "medianmarechprebal90      1.72\n",
       "cnt_da_rech30             0.00\n",
       "fr_da_rech30              0.00\n",
       "cnt_da_rech90             0.00\n",
       "fr_da_rech90              0.00\n",
       "cnt_loans30               1.31\n",
       "amnt_loans30              1.26\n",
       "maxamnt_loans30           1.44\n",
       "medianamnt_loans30        5.39\n",
       "cnt_loans90               1.50\n",
       "amnt_loans90              1.46\n",
       "maxamnt_loans90           1.68\n",
       "medianamnt_loans90        5.83\n",
       "payback30                 1.65\n",
       "payback90                 1.77\n",
       "dtype: float64"
      ]
     },
     "execution_count": 45,
     "metadata": {},
     "output_type": "execute_result"
    }
   ],
   "source": [
    "df_new1.skew()"
   ]
  },
  {
   "cell_type": "markdown",
   "metadata": {},
   "source": [
    "<span style='background:yellow'>Observation: We can see the skewness is also reduced. Though it is present in few columns. Lets use pCA next </span>"
   ]
  },
  {
   "cell_type": "markdown",
   "metadata": {},
   "source": [
    "# PCA"
   ]
  },
  {
   "cell_type": "code",
   "execution_count": 46,
   "metadata": {},
   "outputs": [],
   "source": [
    "#PCA accepts scale data, so we are using Standardscalar. The output is changed in new dataset scaledX\n",
    "#we are only using the features. The target column is removed while doing PCA, as we didnt want to changes it values"
   ]
  },
  {
   "cell_type": "code",
   "execution_count": 47,
   "metadata": {},
   "outputs": [
    {
     "data": {
      "text/html": [
       "<div>\n",
       "<style scoped>\n",
       "    .dataframe tbody tr th:only-of-type {\n",
       "        vertical-align: middle;\n",
       "    }\n",
       "\n",
       "    .dataframe tbody tr th {\n",
       "        vertical-align: top;\n",
       "    }\n",
       "\n",
       "    .dataframe thead th {\n",
       "        text-align: right;\n",
       "    }\n",
       "</style>\n",
       "<table border=\"1\" class=\"dataframe\">\n",
       "  <thead>\n",
       "    <tr style=\"text-align: right;\">\n",
       "      <th></th>\n",
       "      <th>aon</th>\n",
       "      <th>daily_decr30</th>\n",
       "      <th>daily_decr90</th>\n",
       "      <th>rental30</th>\n",
       "      <th>rental90</th>\n",
       "      <th>last_rech_date_ma</th>\n",
       "      <th>last_rech_date_da</th>\n",
       "      <th>last_rech_amt_ma</th>\n",
       "      <th>cnt_ma_rech30</th>\n",
       "      <th>fr_ma_rech30</th>\n",
       "      <th>sumamnt_ma_rech30</th>\n",
       "      <th>medianamnt_ma_rech30</th>\n",
       "      <th>medianmarechprebal30</th>\n",
       "      <th>cnt_ma_rech90</th>\n",
       "      <th>fr_ma_rech90</th>\n",
       "      <th>sumamnt_ma_rech90</th>\n",
       "      <th>medianamnt_ma_rech90</th>\n",
       "      <th>medianmarechprebal90</th>\n",
       "      <th>cnt_da_rech30</th>\n",
       "      <th>fr_da_rech30</th>\n",
       "      <th>cnt_da_rech90</th>\n",
       "      <th>fr_da_rech90</th>\n",
       "      <th>cnt_loans30</th>\n",
       "      <th>amnt_loans30</th>\n",
       "      <th>maxamnt_loans30</th>\n",
       "      <th>medianamnt_loans30</th>\n",
       "      <th>cnt_loans90</th>\n",
       "      <th>amnt_loans90</th>\n",
       "      <th>maxamnt_loans90</th>\n",
       "      <th>medianamnt_loans90</th>\n",
       "      <th>payback30</th>\n",
       "      <th>payback90</th>\n",
       "    </tr>\n",
       "  </thead>\n",
       "  <tbody>\n",
       "    <tr>\n",
       "      <th>count</th>\n",
       "      <td>209593.00</td>\n",
       "      <td>209593.00</td>\n",
       "      <td>209593.00</td>\n",
       "      <td>209593.00</td>\n",
       "      <td>209593.00</td>\n",
       "      <td>209593.00</td>\n",
       "      <td>209593.00</td>\n",
       "      <td>209593.00</td>\n",
       "      <td>209593.00</td>\n",
       "      <td>209593.00</td>\n",
       "      <td>209593.00</td>\n",
       "      <td>209593.00</td>\n",
       "      <td>209593.00</td>\n",
       "      <td>209593.00</td>\n",
       "      <td>209593.00</td>\n",
       "      <td>209593.00</td>\n",
       "      <td>209593.00</td>\n",
       "      <td>209593.00</td>\n",
       "      <td>209593.00</td>\n",
       "      <td>209593.00</td>\n",
       "      <td>209593.00</td>\n",
       "      <td>209593.00</td>\n",
       "      <td>209593.00</td>\n",
       "      <td>209593.00</td>\n",
       "      <td>209593.00</td>\n",
       "      <td>209593.00</td>\n",
       "      <td>209593.00</td>\n",
       "      <td>209593.00</td>\n",
       "      <td>209593.00</td>\n",
       "      <td>209593.00</td>\n",
       "      <td>209593.00</td>\n",
       "      <td>209593.00</td>\n",
       "    </tr>\n",
       "    <tr>\n",
       "      <th>mean</th>\n",
       "      <td>8112.34</td>\n",
       "      <td>5381.40</td>\n",
       "      <td>6082.52</td>\n",
       "      <td>2692.58</td>\n",
       "      <td>3483.41</td>\n",
       "      <td>3755.85</td>\n",
       "      <td>3712.20</td>\n",
       "      <td>2064.45</td>\n",
       "      <td>3.98</td>\n",
       "      <td>3737.36</td>\n",
       "      <td>7704.50</td>\n",
       "      <td>1812.82</td>\n",
       "      <td>3851.93</td>\n",
       "      <td>6.32</td>\n",
       "      <td>7.72</td>\n",
       "      <td>12396.22</td>\n",
       "      <td>1864.60</td>\n",
       "      <td>92.03</td>\n",
       "      <td>262.58</td>\n",
       "      <td>3749.49</td>\n",
       "      <td>0.04</td>\n",
       "      <td>0.05</td>\n",
       "      <td>2.76</td>\n",
       "      <td>17.95</td>\n",
       "      <td>274.66</td>\n",
       "      <td>0.05</td>\n",
       "      <td>18.52</td>\n",
       "      <td>23.65</td>\n",
       "      <td>6.70</td>\n",
       "      <td>0.05</td>\n",
       "      <td>3.40</td>\n",
       "      <td>4.32</td>\n",
       "    </tr>\n",
       "    <tr>\n",
       "      <th>std</th>\n",
       "      <td>75696.08</td>\n",
       "      <td>9220.62</td>\n",
       "      <td>10918.81</td>\n",
       "      <td>4308.59</td>\n",
       "      <td>5770.46</td>\n",
       "      <td>53905.89</td>\n",
       "      <td>53374.83</td>\n",
       "      <td>2370.79</td>\n",
       "      <td>4.26</td>\n",
       "      <td>53643.63</td>\n",
       "      <td>10139.62</td>\n",
       "      <td>2070.86</td>\n",
       "      <td>54006.37</td>\n",
       "      <td>7.19</td>\n",
       "      <td>12.59</td>\n",
       "      <td>16857.79</td>\n",
       "      <td>2081.68</td>\n",
       "      <td>369.22</td>\n",
       "      <td>4183.90</td>\n",
       "      <td>53885.41</td>\n",
       "      <td>0.40</td>\n",
       "      <td>0.95</td>\n",
       "      <td>2.55</td>\n",
       "      <td>17.38</td>\n",
       "      <td>4245.26</td>\n",
       "      <td>0.22</td>\n",
       "      <td>224.80</td>\n",
       "      <td>26.47</td>\n",
       "      <td>2.10</td>\n",
       "      <td>0.20</td>\n",
       "      <td>8.81</td>\n",
       "      <td>10.31</td>\n",
       "    </tr>\n",
       "    <tr>\n",
       "      <th>min</th>\n",
       "      <td>-48.00</td>\n",
       "      <td>-93.01</td>\n",
       "      <td>-93.01</td>\n",
       "      <td>-23737.14</td>\n",
       "      <td>-24720.58</td>\n",
       "      <td>-29.00</td>\n",
       "      <td>-29.00</td>\n",
       "      <td>0.00</td>\n",
       "      <td>0.00</td>\n",
       "      <td>0.00</td>\n",
       "      <td>0.00</td>\n",
       "      <td>0.00</td>\n",
       "      <td>-200.00</td>\n",
       "      <td>0.00</td>\n",
       "      <td>0.00</td>\n",
       "      <td>0.00</td>\n",
       "      <td>0.00</td>\n",
       "      <td>-200.00</td>\n",
       "      <td>0.00</td>\n",
       "      <td>0.00</td>\n",
       "      <td>0.00</td>\n",
       "      <td>0.00</td>\n",
       "      <td>0.00</td>\n",
       "      <td>0.00</td>\n",
       "      <td>0.00</td>\n",
       "      <td>0.00</td>\n",
       "      <td>0.00</td>\n",
       "      <td>0.00</td>\n",
       "      <td>0.00</td>\n",
       "      <td>0.00</td>\n",
       "      <td>0.00</td>\n",
       "      <td>0.00</td>\n",
       "    </tr>\n",
       "    <tr>\n",
       "      <th>25%</th>\n",
       "      <td>246.00</td>\n",
       "      <td>42.44</td>\n",
       "      <td>42.69</td>\n",
       "      <td>280.42</td>\n",
       "      <td>300.26</td>\n",
       "      <td>1.00</td>\n",
       "      <td>0.00</td>\n",
       "      <td>770.00</td>\n",
       "      <td>1.00</td>\n",
       "      <td>0.00</td>\n",
       "      <td>1540.00</td>\n",
       "      <td>770.00</td>\n",
       "      <td>11.00</td>\n",
       "      <td>2.00</td>\n",
       "      <td>0.00</td>\n",
       "      <td>2317.00</td>\n",
       "      <td>773.00</td>\n",
       "      <td>14.60</td>\n",
       "      <td>0.00</td>\n",
       "      <td>0.00</td>\n",
       "      <td>0.00</td>\n",
       "      <td>0.00</td>\n",
       "      <td>1.00</td>\n",
       "      <td>6.00</td>\n",
       "      <td>6.00</td>\n",
       "      <td>0.00</td>\n",
       "      <td>1.00</td>\n",
       "      <td>6.00</td>\n",
       "      <td>6.00</td>\n",
       "      <td>0.00</td>\n",
       "      <td>0.00</td>\n",
       "      <td>0.00</td>\n",
       "    </tr>\n",
       "    <tr>\n",
       "      <th>50%</th>\n",
       "      <td>527.00</td>\n",
       "      <td>1469.18</td>\n",
       "      <td>1500.00</td>\n",
       "      <td>1083.57</td>\n",
       "      <td>1334.00</td>\n",
       "      <td>3.00</td>\n",
       "      <td>0.00</td>\n",
       "      <td>1539.00</td>\n",
       "      <td>3.00</td>\n",
       "      <td>2.00</td>\n",
       "      <td>4628.00</td>\n",
       "      <td>1539.00</td>\n",
       "      <td>33.90</td>\n",
       "      <td>4.00</td>\n",
       "      <td>2.00</td>\n",
       "      <td>7226.00</td>\n",
       "      <td>1539.00</td>\n",
       "      <td>36.00</td>\n",
       "      <td>0.00</td>\n",
       "      <td>0.00</td>\n",
       "      <td>0.00</td>\n",
       "      <td>0.00</td>\n",
       "      <td>2.00</td>\n",
       "      <td>12.00</td>\n",
       "      <td>6.00</td>\n",
       "      <td>0.00</td>\n",
       "      <td>2.00</td>\n",
       "      <td>12.00</td>\n",
       "      <td>6.00</td>\n",
       "      <td>0.00</td>\n",
       "      <td>0.00</td>\n",
       "      <td>1.67</td>\n",
       "    </tr>\n",
       "    <tr>\n",
       "      <th>75%</th>\n",
       "      <td>982.00</td>\n",
       "      <td>7244.00</td>\n",
       "      <td>7802.79</td>\n",
       "      <td>3356.94</td>\n",
       "      <td>4201.79</td>\n",
       "      <td>7.00</td>\n",
       "      <td>0.00</td>\n",
       "      <td>2309.00</td>\n",
       "      <td>5.00</td>\n",
       "      <td>6.00</td>\n",
       "      <td>10010.00</td>\n",
       "      <td>1924.00</td>\n",
       "      <td>83.00</td>\n",
       "      <td>8.00</td>\n",
       "      <td>8.00</td>\n",
       "      <td>16000.00</td>\n",
       "      <td>1924.00</td>\n",
       "      <td>79.31</td>\n",
       "      <td>0.00</td>\n",
       "      <td>0.00</td>\n",
       "      <td>0.00</td>\n",
       "      <td>0.00</td>\n",
       "      <td>4.00</td>\n",
       "      <td>24.00</td>\n",
       "      <td>6.00</td>\n",
       "      <td>0.00</td>\n",
       "      <td>5.00</td>\n",
       "      <td>30.00</td>\n",
       "      <td>6.00</td>\n",
       "      <td>0.00</td>\n",
       "      <td>3.75</td>\n",
       "      <td>4.50</td>\n",
       "    </tr>\n",
       "    <tr>\n",
       "      <th>max</th>\n",
       "      <td>999860.76</td>\n",
       "      <td>265926.00</td>\n",
       "      <td>320630.00</td>\n",
       "      <td>198926.11</td>\n",
       "      <td>200148.11</td>\n",
       "      <td>998650.38</td>\n",
       "      <td>999171.81</td>\n",
       "      <td>55000.00</td>\n",
       "      <td>203.00</td>\n",
       "      <td>999606.37</td>\n",
       "      <td>810096.00</td>\n",
       "      <td>55000.00</td>\n",
       "      <td>999479.42</td>\n",
       "      <td>336.00</td>\n",
       "      <td>88.00</td>\n",
       "      <td>953036.00</td>\n",
       "      <td>55000.00</td>\n",
       "      <td>41456.50</td>\n",
       "      <td>99914.44</td>\n",
       "      <td>999809.24</td>\n",
       "      <td>38.00</td>\n",
       "      <td>64.00</td>\n",
       "      <td>50.00</td>\n",
       "      <td>306.00</td>\n",
       "      <td>99864.56</td>\n",
       "      <td>3.00</td>\n",
       "      <td>4997.52</td>\n",
       "      <td>438.00</td>\n",
       "      <td>12.00</td>\n",
       "      <td>3.00</td>\n",
       "      <td>171.50</td>\n",
       "      <td>171.50</td>\n",
       "    </tr>\n",
       "  </tbody>\n",
       "</table>\n",
       "</div>"
      ],
      "text/plain": [
       "            aon  daily_decr30  daily_decr90  rental30  rental90  \\\n",
       "count 209593.00     209593.00     209593.00 209593.00 209593.00   \n",
       "mean    8112.34       5381.40       6082.52   2692.58   3483.41   \n",
       "std    75696.08       9220.62      10918.81   4308.59   5770.46   \n",
       "min      -48.00        -93.01        -93.01 -23737.14 -24720.58   \n",
       "25%      246.00         42.44         42.69    280.42    300.26   \n",
       "50%      527.00       1469.18       1500.00   1083.57   1334.00   \n",
       "75%      982.00       7244.00       7802.79   3356.94   4201.79   \n",
       "max   999860.76     265926.00     320630.00 198926.11 200148.11   \n",
       "\n",
       "       last_rech_date_ma  last_rech_date_da  last_rech_amt_ma  cnt_ma_rech30  \\\n",
       "count          209593.00          209593.00         209593.00      209593.00   \n",
       "mean             3755.85            3712.20           2064.45           3.98   \n",
       "std             53905.89           53374.83           2370.79           4.26   \n",
       "min               -29.00             -29.00              0.00           0.00   \n",
       "25%                 1.00               0.00            770.00           1.00   \n",
       "50%                 3.00               0.00           1539.00           3.00   \n",
       "75%                 7.00               0.00           2309.00           5.00   \n",
       "max            998650.38          999171.81          55000.00         203.00   \n",
       "\n",
       "       fr_ma_rech30  sumamnt_ma_rech30  medianamnt_ma_rech30  \\\n",
       "count     209593.00          209593.00             209593.00   \n",
       "mean        3737.36            7704.50               1812.82   \n",
       "std        53643.63           10139.62               2070.86   \n",
       "min            0.00               0.00                  0.00   \n",
       "25%            0.00            1540.00                770.00   \n",
       "50%            2.00            4628.00               1539.00   \n",
       "75%            6.00           10010.00               1924.00   \n",
       "max       999606.37          810096.00              55000.00   \n",
       "\n",
       "       medianmarechprebal30  cnt_ma_rech90  fr_ma_rech90  sumamnt_ma_rech90  \\\n",
       "count             209593.00      209593.00     209593.00          209593.00   \n",
       "mean                3851.93           6.32          7.72           12396.22   \n",
       "std                54006.37           7.19         12.59           16857.79   \n",
       "min                 -200.00           0.00          0.00               0.00   \n",
       "25%                   11.00           2.00          0.00            2317.00   \n",
       "50%                   33.90           4.00          2.00            7226.00   \n",
       "75%                   83.00           8.00          8.00           16000.00   \n",
       "max               999479.42         336.00         88.00          953036.00   \n",
       "\n",
       "       medianamnt_ma_rech90  medianmarechprebal90  cnt_da_rech30  \\\n",
       "count             209593.00             209593.00      209593.00   \n",
       "mean                1864.60                 92.03         262.58   \n",
       "std                 2081.68                369.22        4183.90   \n",
       "min                    0.00               -200.00           0.00   \n",
       "25%                  773.00                 14.60           0.00   \n",
       "50%                 1539.00                 36.00           0.00   \n",
       "75%                 1924.00                 79.31           0.00   \n",
       "max                55000.00              41456.50       99914.44   \n",
       "\n",
       "       fr_da_rech30  cnt_da_rech90  fr_da_rech90  cnt_loans30  amnt_loans30  \\\n",
       "count     209593.00      209593.00     209593.00    209593.00     209593.00   \n",
       "mean        3749.49           0.04          0.05         2.76         17.95   \n",
       "std        53885.41           0.40          0.95         2.55         17.38   \n",
       "min            0.00           0.00          0.00         0.00          0.00   \n",
       "25%            0.00           0.00          0.00         1.00          6.00   \n",
       "50%            0.00           0.00          0.00         2.00         12.00   \n",
       "75%            0.00           0.00          0.00         4.00         24.00   \n",
       "max       999809.24          38.00         64.00        50.00        306.00   \n",
       "\n",
       "       maxamnt_loans30  medianamnt_loans30  cnt_loans90  amnt_loans90  \\\n",
       "count        209593.00           209593.00    209593.00     209593.00   \n",
       "mean            274.66                0.05        18.52         23.65   \n",
       "std            4245.26                0.22       224.80         26.47   \n",
       "min               0.00                0.00         0.00          0.00   \n",
       "25%               6.00                0.00         1.00          6.00   \n",
       "50%               6.00                0.00         2.00         12.00   \n",
       "75%               6.00                0.00         5.00         30.00   \n",
       "max           99864.56                3.00      4997.52        438.00   \n",
       "\n",
       "       maxamnt_loans90  medianamnt_loans90  payback30  payback90  \n",
       "count        209593.00           209593.00  209593.00  209593.00  \n",
       "mean              6.70                0.05       3.40       4.32  \n",
       "std               2.10                0.20       8.81      10.31  \n",
       "min               0.00                0.00       0.00       0.00  \n",
       "25%               6.00                0.00       0.00       0.00  \n",
       "50%               6.00                0.00       0.00       1.67  \n",
       "75%               6.00                0.00       3.75       4.50  \n",
       "max              12.00                3.00     171.50     171.50  "
      ]
     },
     "execution_count": 47,
     "metadata": {},
     "output_type": "execute_result"
    }
   ],
   "source": [
    "x.describe()"
   ]
  },
  {
   "cell_type": "code",
   "execution_count": 48,
   "metadata": {},
   "outputs": [],
   "source": [
    "from sklearn.preprocessing import StandardScaler\n",
    "\n",
    "scaler=StandardScaler()\n",
    "scaledX=scaler.fit_transform(x)\n"
   ]
  },
  {
   "cell_type": "code",
   "execution_count": 49,
   "metadata": {},
   "outputs": [
    {
     "data": {
      "text/plain": [
       "array([[-0.10357685, -0.25229941, -0.27634619, ..., -0.22959366,\n",
       "         2.9046997 ,  2.39409346],\n",
       "       [-0.09776412,  0.73103667,  0.5533797 , ..., -0.22959366,\n",
       "        -0.38562959, -0.41923266],\n",
       "       [-0.10010243, -0.43201111, -0.42903256, ..., -0.22959366,\n",
       "        -0.38562959, -0.41923266],\n",
       "       ...,\n",
       "       [-0.09378769,  0.70079045,  0.53319431, ..., -0.22959366,\n",
       "         0.06820893, -0.04735622],\n",
       "       [-0.08428915,  0.77075515,  0.59455827, ..., -0.22959366,\n",
       "        -0.38562959,  0.59938541],\n",
       "       [-0.08628398, -0.09674426, -0.14174607, ..., -0.22959366,\n",
       "        -0.38562959, -0.41923266]])"
      ]
     },
     "execution_count": 49,
     "metadata": {},
     "output_type": "execute_result"
    }
   ],
   "source": [
    "scaledX"
   ]
  },
  {
   "cell_type": "markdown",
   "metadata": {},
   "source": [
    "apply PCA on the scaledX, on the instance Testpca & saving on new variable y\n",
    "we are not giving the number of columns needed etc"
   ]
  },
  {
   "cell_type": "code",
   "execution_count": 50,
   "metadata": {},
   "outputs": [],
   "source": [
    "from sklearn.decomposition import PCA\n",
    "\n",
    "testpca=PCA()\n",
    "Y=testpca.fit(scaledX)"
   ]
  },
  {
   "cell_type": "markdown",
   "metadata": {},
   "source": [
    "we are running a np.cumsum\n",
    "Cumsum is cummulative Sum till any given point"
   ]
  },
  {
   "cell_type": "code",
   "execution_count": 51,
   "metadata": {},
   "outputs": [
    {
     "data": {
      "text/plain": [
       "array([0.21459127, 0.09991415, 0.0610483 , 0.05904924, 0.05199165,\n",
       "       0.04178136, 0.03165887, 0.03149755, 0.03136331, 0.03133143,\n",
       "       0.03129033, 0.03121988, 0.03111043, 0.03105006, 0.03102034,\n",
       "       0.03091583, 0.03074644, 0.02773183, 0.02578528, 0.02032113,\n",
       "       0.01617778, 0.00927242, 0.00646062, 0.00563217, 0.00518462,\n",
       "       0.0041648 , 0.00271251, 0.00183885, 0.00129428, 0.00074334,\n",
       "       0.00063827, 0.00046163])"
      ]
     },
     "execution_count": 51,
     "metadata": {},
     "output_type": "execute_result"
    }
   ],
   "source": [
    "Y.explained_variance_ratio_"
   ]
  },
  {
   "cell_type": "code",
   "execution_count": 52,
   "metadata": {},
   "outputs": [
    {
     "data": {
      "text/plain": [
       "array([ 21.45912746,  31.45054255,  37.55537241,  43.46029629,\n",
       "        48.65946124,  52.83759718,  56.00348461,  59.15323992,\n",
       "        62.28957123,  65.42271417,  68.55174755,  71.67373594,\n",
       "        74.78477845,  77.88978461,  80.99181897,  84.08340226,\n",
       "        87.15804623,  89.9312297 ,  92.50975742,  94.54187019,\n",
       "        96.15964863,  97.08689107,  97.73295277,  98.29616937,\n",
       "        98.81463124,  99.23111169,  99.50236272,  99.68624807,\n",
       "        99.81567563,  99.89000989,  99.95383739, 100.        ])"
      ]
     },
     "execution_count": 52,
     "metadata": {},
     "output_type": "execute_result"
    }
   ],
   "source": [
    "var_cumu=np.cumsum(Y.explained_variance_ratio_)*100\n",
    "var_cumu"
   ]
  },
  {
   "cell_type": "markdown",
   "metadata": {},
   "source": [
    "calculate the cumulative sum as it is more readable than the explained variance ratio and save it var_cumu\n",
    "Output interpretation\n",
    "1 variable, then only 25% infromation is there\n",
    "2 variable then only 31% information is there\n",
    "\n",
    "\n",
    "Any threshold you can take recommended not to go below 85%, so generally 95% is taken\n",
    "\n",
    "Manually counting the columns wont be helpful, so below is a workaround\n",
    "1st line: till which number of columns, my number is greater than 95 (any threshold value you can do )\n",
    "    K is the number of column\n",
    "    "
   ]
  },
  {
   "cell_type": "code",
   "execution_count": 53,
   "metadata": {},
   "outputs": [
    {
     "name": "stdout",
     "output_type": "stream",
     "text": [
      "Number of components explaining 95% of variance:  20\n"
     ]
    }
   ],
   "source": [
    "#How many PCs explains 95% of the variance ?\n",
    "\n",
    "k= np.argmax(var_cumu>95)\n",
    "print(\"Number of components explaining 95% of variance: \", k)"
   ]
  },
  {
   "cell_type": "code",
   "execution_count": 54,
   "metadata": {},
   "outputs": [
    {
     "name": "stdout",
     "output_type": "stream",
     "text": [
      "Number of components explaining 99% of variance:  25\n"
     ]
    }
   ],
   "source": [
    "#How many PCs explains 99% of the variance ?\n",
    "\n",
    "k= np.argmax(var_cumu>99)\n",
    "print(\"Number of components explaining 99% of variance: \", k)"
   ]
  },
  {
   "cell_type": "markdown",
   "metadata": {},
   "source": [
    "<span style='background:yellow'>Observation: With 18 columns we can retain 95% of data, with 24columns, we can do 99% of data. Since this is already and imbalanced dataset, lets go with the max  </span>"
   ]
  },
  {
   "cell_type": "markdown",
   "metadata": {},
   "source": [
    "## Plotting the PCA"
   ]
  },
  {
   "cell_type": "code",
   "execution_count": 55,
   "metadata": {},
   "outputs": [
    {
     "data": {
      "image/png": "[encoded data removed]",
      "text/plain": [
       "<Figure size 432x288 with 1 Axes>"
      ]
     },
     "metadata": {
      "needs_background": "light"
     },
     "output_type": "display_data"
    }
   ],
   "source": [
    "plt.ylabel(\"cumulative explained variance\")\n",
    "plt.xlabel(\"Principal components\")\n",
    "plt.axvline(x=k, color=\"k\", linestyle =\"--\")\n",
    "plt.axhline(y=99, color='r', linestyle=\"--\")\n",
    "plt.plot(var_cumu)\n",
    "plt.show()"
   ]
  },
  {
   "cell_type": "markdown",
   "metadata": {},
   "source": [
    "## Creating Final datset with 24 columns"
   ]
  },
  {
   "cell_type": "code",
   "execution_count": 56,
   "metadata": {},
   "outputs": [],
   "source": [
    "FinalPCA=PCA(n_components=24)\n",
    "FinalData=FinalPCA.fit_transform(scaledX)"
   ]
  },
  {
   "cell_type": "code",
   "execution_count": 57,
   "metadata": {},
   "outputs": [
    {
     "data": {
      "text/plain": [
       "array([[-1.4240632 , -0.19471983,  2.55626472, ...,  0.07367632,\n",
       "         0.00948702,  0.06726607],\n",
       "       [ 0.46024122,  3.19638525, -0.26004413, ..., -0.46373919,\n",
       "        -0.19105587, -0.78887995],\n",
       "       [-1.97331556,  0.10913358, -0.52952791, ...,  0.03192193,\n",
       "        -0.05867353, -0.08704728],\n",
       "       ...,\n",
       "       [ 2.43446309, -0.78029201,  0.56253557, ...,  0.05209889,\n",
       "        -0.12784164,  0.1684459 ],\n",
       "       [ 0.84139522, -0.05418891,  0.23340498, ...,  0.16850144,\n",
       "        -0.10573387, -0.33914587],\n",
       "       [ 0.54364963,  3.57268204, -1.09154858, ..., -0.61206736,\n",
       "         0.32377115,  0.13548701]])"
      ]
     },
     "execution_count": 57,
     "metadata": {},
     "output_type": "execute_result"
    }
   ],
   "source": [
    "FinalData"
   ]
  },
  {
   "cell_type": "code",
   "execution_count": 58,
   "metadata": {},
   "outputs": [],
   "source": [
    "FinalData2=pd.DataFrame(FinalData)"
   ]
  },
  {
   "cell_type": "code",
   "execution_count": 59,
   "metadata": {},
   "outputs": [
    {
     "data": {
      "text/html": [
       "<div>\n",
       "<style scoped>\n",
       "    .dataframe tbody tr th:only-of-type {\n",
       "        vertical-align: middle;\n",
       "    }\n",
       "\n",
       "    .dataframe tbody tr th {\n",
       "        vertical-align: top;\n",
       "    }\n",
       "\n",
       "    .dataframe thead th {\n",
       "        text-align: right;\n",
       "    }\n",
       "</style>\n",
       "<table border=\"1\" class=\"dataframe\">\n",
       "  <thead>\n",
       "    <tr style=\"text-align: right;\">\n",
       "      <th></th>\n",
       "      <th>0</th>\n",
       "      <th>1</th>\n",
       "      <th>2</th>\n",
       "      <th>3</th>\n",
       "      <th>4</th>\n",
       "      <th>5</th>\n",
       "      <th>6</th>\n",
       "      <th>7</th>\n",
       "      <th>8</th>\n",
       "      <th>9</th>\n",
       "      <th>10</th>\n",
       "      <th>11</th>\n",
       "      <th>12</th>\n",
       "      <th>13</th>\n",
       "      <th>14</th>\n",
       "      <th>15</th>\n",
       "      <th>16</th>\n",
       "      <th>17</th>\n",
       "      <th>18</th>\n",
       "      <th>19</th>\n",
       "      <th>20</th>\n",
       "      <th>21</th>\n",
       "      <th>22</th>\n",
       "      <th>23</th>\n",
       "    </tr>\n",
       "  </thead>\n",
       "  <tbody>\n",
       "    <tr>\n",
       "      <th>0</th>\n",
       "      <td>-1.42</td>\n",
       "      <td>-0.19</td>\n",
       "      <td>2.56</td>\n",
       "      <td>-1.54</td>\n",
       "      <td>-2.49</td>\n",
       "      <td>-0.06</td>\n",
       "      <td>0.13</td>\n",
       "      <td>0.02</td>\n",
       "      <td>-0.07</td>\n",
       "      <td>-0.11</td>\n",
       "      <td>-0.25</td>\n",
       "      <td>-0.07</td>\n",
       "      <td>-0.01</td>\n",
       "      <td>-0.05</td>\n",
       "      <td>-0.05</td>\n",
       "      <td>-0.08</td>\n",
       "      <td>-0.27</td>\n",
       "      <td>0.45</td>\n",
       "      <td>0.51</td>\n",
       "      <td>-0.07</td>\n",
       "      <td>-0.12</td>\n",
       "      <td>0.07</td>\n",
       "      <td>0.01</td>\n",
       "      <td>0.07</td>\n",
       "    </tr>\n",
       "    <tr>\n",
       "      <th>1</th>\n",
       "      <td>0.46</td>\n",
       "      <td>3.20</td>\n",
       "      <td>-0.26</td>\n",
       "      <td>-0.43</td>\n",
       "      <td>0.63</td>\n",
       "      <td>-0.18</td>\n",
       "      <td>0.41</td>\n",
       "      <td>-0.18</td>\n",
       "      <td>0.01</td>\n",
       "      <td>-0.23</td>\n",
       "      <td>-0.89</td>\n",
       "      <td>-0.67</td>\n",
       "      <td>0.08</td>\n",
       "      <td>-0.33</td>\n",
       "      <td>-0.07</td>\n",
       "      <td>-0.84</td>\n",
       "      <td>-0.22</td>\n",
       "      <td>0.55</td>\n",
       "      <td>-2.24</td>\n",
       "      <td>-0.14</td>\n",
       "      <td>0.00</td>\n",
       "      <td>-0.46</td>\n",
       "      <td>-0.19</td>\n",
       "      <td>-0.79</td>\n",
       "    </tr>\n",
       "    <tr>\n",
       "      <th>2</th>\n",
       "      <td>-1.97</td>\n",
       "      <td>0.11</td>\n",
       "      <td>-0.53</td>\n",
       "      <td>-0.21</td>\n",
       "      <td>0.48</td>\n",
       "      <td>-0.11</td>\n",
       "      <td>0.15</td>\n",
       "      <td>0.00</td>\n",
       "      <td>-0.08</td>\n",
       "      <td>-0.03</td>\n",
       "      <td>-0.38</td>\n",
       "      <td>-0.21</td>\n",
       "      <td>-0.04</td>\n",
       "      <td>0.00</td>\n",
       "      <td>0.10</td>\n",
       "      <td>-0.29</td>\n",
       "      <td>0.30</td>\n",
       "      <td>-0.32</td>\n",
       "      <td>-0.13</td>\n",
       "      <td>-0.03</td>\n",
       "      <td>-0.19</td>\n",
       "      <td>0.03</td>\n",
       "      <td>-0.06</td>\n",
       "      <td>-0.09</td>\n",
       "    </tr>\n",
       "    <tr>\n",
       "      <th>3</th>\n",
       "      <td>-2.12</td>\n",
       "      <td>-0.75</td>\n",
       "      <td>-0.58</td>\n",
       "      <td>-0.10</td>\n",
       "      <td>0.39</td>\n",
       "      <td>-0.06</td>\n",
       "      <td>0.16</td>\n",
       "      <td>-0.01</td>\n",
       "      <td>-0.06</td>\n",
       "      <td>-0.06</td>\n",
       "      <td>-0.39</td>\n",
       "      <td>-0.21</td>\n",
       "      <td>-0.03</td>\n",
       "      <td>-0.04</td>\n",
       "      <td>0.06</td>\n",
       "      <td>-0.28</td>\n",
       "      <td>0.14</td>\n",
       "      <td>-0.20</td>\n",
       "      <td>-0.27</td>\n",
       "      <td>-0.03</td>\n",
       "      <td>-0.43</td>\n",
       "      <td>0.21</td>\n",
       "      <td>0.17</td>\n",
       "      <td>0.24</td>\n",
       "    </tr>\n",
       "    <tr>\n",
       "      <th>4</th>\n",
       "      <td>1.53</td>\n",
       "      <td>-0.70</td>\n",
       "      <td>-1.40</td>\n",
       "      <td>-0.06</td>\n",
       "      <td>-1.33</td>\n",
       "      <td>0.30</td>\n",
       "      <td>-0.14</td>\n",
       "      <td>0.19</td>\n",
       "      <td>-0.12</td>\n",
       "      <td>0.10</td>\n",
       "      <td>0.16</td>\n",
       "      <td>0.40</td>\n",
       "      <td>-0.16</td>\n",
       "      <td>0.19</td>\n",
       "      <td>0.05</td>\n",
       "      <td>0.50</td>\n",
       "      <td>-0.04</td>\n",
       "      <td>-0.81</td>\n",
       "      <td>-0.67</td>\n",
       "      <td>-0.03</td>\n",
       "      <td>0.12</td>\n",
       "      <td>0.94</td>\n",
       "      <td>-0.03</td>\n",
       "      <td>0.18</td>\n",
       "    </tr>\n",
       "  </tbody>\n",
       "</table>\n",
       "</div>"
      ],
      "text/plain": [
       "      0     1     2     3     4     5     6     7     8     9    10    11  \\\n",
       "0 -1.42 -0.19  2.56 -1.54 -2.49 -0.06  0.13  0.02 -0.07 -0.11 -0.25 -0.07   \n",
       "1  0.46  3.20 -0.26 -0.43  0.63 -0.18  0.41 -0.18  0.01 -0.23 -0.89 -0.67   \n",
       "2 -1.97  0.11 -0.53 -0.21  0.48 -0.11  0.15  0.00 -0.08 -0.03 -0.38 -0.21   \n",
       "3 -2.12 -0.75 -0.58 -0.10  0.39 -0.06  0.16 -0.01 -0.06 -0.06 -0.39 -0.21   \n",
       "4  1.53 -0.70 -1.40 -0.06 -1.33  0.30 -0.14  0.19 -0.12  0.10  0.16  0.40   \n",
       "\n",
       "     12    13    14    15    16    17    18    19    20    21    22    23  \n",
       "0 -0.01 -0.05 -0.05 -0.08 -0.27  0.45  0.51 -0.07 -0.12  0.07  0.01  0.07  \n",
       "1  0.08 -0.33 -0.07 -0.84 -0.22  0.55 -2.24 -0.14  0.00 -0.46 -0.19 -0.79  \n",
       "2 -0.04  0.00  0.10 -0.29  0.30 -0.32 -0.13 -0.03 -0.19  0.03 -0.06 -0.09  \n",
       "3 -0.03 -0.04  0.06 -0.28  0.14 -0.20 -0.27 -0.03 -0.43  0.21  0.17  0.24  \n",
       "4 -0.16  0.19  0.05  0.50 -0.04 -0.81 -0.67 -0.03  0.12  0.94 -0.03  0.18  "
      ]
     },
     "execution_count": 59,
     "metadata": {},
     "output_type": "execute_result"
    }
   ],
   "source": [
    "FinalData2.head()"
   ]
  },
  {
   "cell_type": "code",
   "execution_count": 60,
   "metadata": {},
   "outputs": [
    {
     "data": {
      "text/plain": [
       "(209593, 24)"
      ]
     },
     "execution_count": 60,
     "metadata": {},
     "output_type": "execute_result"
    }
   ],
   "source": [
    "FinalData2.shape"
   ]
  },
  {
   "cell_type": "code",
   "execution_count": 61,
   "metadata": {},
   "outputs": [
    {
     "data": {
      "text/plain": [
       "(209593, 33)"
      ]
     },
     "execution_count": 61,
     "metadata": {},
     "output_type": "execute_result"
    }
   ],
   "source": [
    "df_new.shape"
   ]
  },
  {
   "cell_type": "code",
   "execution_count": 62,
   "metadata": {},
   "outputs": [
    {
     "data": {
      "text/plain": [
       "8"
      ]
     },
     "execution_count": 62,
     "metadata": {},
     "output_type": "execute_result"
    }
   ],
   "source": [
    "32-24"
   ]
  },
  {
   "cell_type": "markdown",
   "metadata": {},
   "source": [
    "<span style='background:yellow'>Observation: We have removed 8 columns but still retained 99% of data using PCA  </span>"
   ]
  },
  {
   "cell_type": "markdown",
   "metadata": {},
   "source": [
    "# Over Sampling"
   ]
  },
  {
   "cell_type": "markdown",
   "metadata": {},
   "source": [
    "<span style='background:ping'>Note: Since our data is imbalanced, we need to do oversamplng. So that the target variables are split same way while modeling, and the models are more effective.  </span>"
   ]
  },
  {
   "cell_type": "markdown",
   "metadata": {},
   "source": [
    "<span style='background:Pink'>Note: Reason for not choosing undersampling: oversampling is better, because you keep all the information in the training dataset. With undersampling you drop a lot of information. Even if this dropped information belongs to the majority class, it is usefull information for a modeling algorithm  </span>"
   ]
  },
  {
   "cell_type": "code",
   "execution_count": 63,
   "metadata": {},
   "outputs": [],
   "source": [
    "y=df_new[\"label\"]\n",
    "x=FinalData2"
   ]
  },
  {
   "cell_type": "code",
   "execution_count": 64,
   "metadata": {},
   "outputs": [
    {
     "data": {
      "text/plain": [
       "1    183431\n",
       "0     26162\n",
       "Name: label, dtype: int64"
      ]
     },
     "execution_count": 64,
     "metadata": {},
     "output_type": "execute_result"
    }
   ],
   "source": [
    "y.value_counts()"
   ]
  },
  {
   "cell_type": "markdown",
   "metadata": {},
   "source": [
    "<span style='background:yellow'>Observation: Confirms that our data is imbalanced </span>"
   ]
  },
  {
   "cell_type": "code",
   "execution_count": 65,
   "metadata": {},
   "outputs": [],
   "source": [
    "from imblearn.over_sampling import RandomOverSampler"
   ]
  },
  {
   "cell_type": "code",
   "execution_count": 66,
   "metadata": {},
   "outputs": [],
   "source": [
    "random_over_sampler = RandomOverSampler()"
   ]
  },
  {
   "cell_type": "code",
   "execution_count": 67,
   "metadata": {},
   "outputs": [],
   "source": [
    "x_res,y_res=random_over_sampler.fit_resample(x,y)"
   ]
  },
  {
   "cell_type": "code",
   "execution_count": 68,
   "metadata": {},
   "outputs": [
    {
     "data": {
      "text/plain": [
       "1    183431\n",
       "0    183431\n",
       "Name: label, dtype: int64"
      ]
     },
     "execution_count": 68,
     "metadata": {},
     "output_type": "execute_result"
    }
   ],
   "source": [
    "y_res.value_counts()"
   ]
  },
  {
   "cell_type": "markdown",
   "metadata": {},
   "source": [
    "<span style='background:yellow'>Observation: Now our target variable is balanced. Lets move to Model building  </span>"
   ]
  },
  {
   "cell_type": "markdown",
   "metadata": {},
   "source": [
    "# Model Building"
   ]
  },
  {
   "cell_type": "markdown",
   "metadata": {},
   "source": [
    "## Importing Packages for Model Building"
   ]
  },
  {
   "cell_type": "code",
   "execution_count": 69,
   "metadata": {},
   "outputs": [],
   "source": [
    "from sklearn.linear_model import LogisticRegression\n",
    "from sklearn.naive_bayes import GaussianNB\n",
    "from sklearn.svm import SVC\n",
    "from sklearn.ensemble import RandomForestClassifier\n",
    "from sklearn.ensemble import AdaBoostClassifier\n",
    "from sklearn.tree import DecisionTreeClassifier\n",
    "from sklearn.metrics import f1_score\n",
    "from sklearn.metrics import accuracy_score,confusion_matrix,classification_report\n",
    "from sklearn.model_selection import train_test_split\n",
    "from sklearn.model_selection import cross_val_score"
   ]
  },
  {
   "cell_type": "markdown",
   "metadata": {},
   "source": [
    "## Splitting into Train & Test Data"
   ]
  },
  {
   "cell_type": "code",
   "execution_count": 70,
   "metadata": {},
   "outputs": [
    {
     "name": "stdout",
     "output_type": "stream",
     "text": [
      "(293489, 24)\n",
      "(73373, 24)\n",
      "(293489,)\n",
      "(73373,)\n"
     ]
    }
   ],
   "source": [
    "x_train,x_test,y_train,y_test=train_test_split(x_res,y_res,test_size=.20,random_state=43)\n",
    "print(x_train.shape)\n",
    "print(x_test.shape)\n",
    "print(y_train.shape)\n",
    "print(y_test.shape)"
   ]
  },
  {
   "cell_type": "markdown",
   "metadata": {},
   "source": [
    "## Instantiating the models"
   ]
  },
  {
   "cell_type": "code",
   "execution_count": 71,
   "metadata": {},
   "outputs": [],
   "source": [
    "# Since this is a Classification dataset, lets use the following Algos and instantiate them\n",
    "lg=LogisticRegression()\n",
    "gnb=GaussianNB()\n",
    "sv=SVC()\n",
    "rf=RandomForestClassifier(n_estimators=100)\n",
    "ad=AdaBoostClassifier(n_estimators=100)\n",
    "dtc=DecisionTreeClassifier()"
   ]
  },
  {
   "cell_type": "markdown",
   "metadata": {},
   "source": [
    "## Building the models "
   ]
  },
  {
   "cell_type": "code",
   "execution_count": 72,
   "metadata": {},
   "outputs": [],
   "source": [
    "#above using all the models in one for loop took a lot of time. So we are going to build one by one now"
   ]
  },
  {
   "cell_type": "code",
   "execution_count": 73,
   "metadata": {},
   "outputs": [
    {
     "name": "stdout",
     "output_type": "stream",
     "text": [
      "Wall time: 0 ns\n",
      "\n",
      " f1 score: of  LogisticRegression()\n",
      "0.7364063807078778\n",
      "\n",
      "  Classificatin report:  of  LogisticRegression()\n",
      "              precision    recall  f1-score   support\n",
      "\n",
      "           0       0.73      0.80      0.76     36752\n",
      "           1       0.78      0.70      0.74     36621\n",
      "\n",
      "    accuracy                           0.75     73373\n",
      "   macro avg       0.75      0.75      0.75     73373\n",
      "weighted avg       0.75      0.75      0.75     73373\n",
      "\n",
      "***************************************\n"
     ]
    }
   ],
   "source": [
    "%time\n",
    "\n",
    "model=[lg]\n",
    "\n",
    "for m in model:\n",
    "    m.fit(x_train,y_train)\n",
    "    pred=m.predict(x_test)\n",
    "    print(\"\\n f1 score: of \",m)\n",
    "    print(f1_score(y_test,pred))\n",
    "    print(\"\\n  Classificatin report:  of \",m)\n",
    "    print(classification_report(y_test,pred))\n",
    "    print(\"***************************************\")"
   ]
  },
  {
   "cell_type": "markdown",
   "metadata": {},
   "source": [
    "<span style='background:yellow'>Observation: The F1-score for 0 & 1 is around 75%. The catch over here is we got for both 0 & 1, in a balanced dataset lets see if it improves in other models  </span>"
   ]
  },
  {
   "cell_type": "code",
   "execution_count": 74,
   "metadata": {},
   "outputs": [
    {
     "name": "stdout",
     "output_type": "stream",
     "text": [
      "Wall time: 0 ns\n",
      "\n",
      " f1 score: of  RandomForestClassifier()\n",
      "0.9735700086793403\n",
      "\n",
      "  Classificatin report:  of  RandomForestClassifier()\n",
      "              precision    recall  f1-score   support\n",
      "\n",
      "           0       0.95      1.00      0.97     36752\n",
      "           1       1.00      0.95      0.97     36621\n",
      "\n",
      "    accuracy                           0.97     73373\n",
      "   macro avg       0.98      0.97      0.97     73373\n",
      "weighted avg       0.98      0.97      0.97     73373\n",
      "\n",
      "***************************************\n"
     ]
    }
   ],
   "source": [
    "%time\n",
    "\n",
    "model=[rf]\n",
    "\n",
    "for m in model:\n",
    "    m.fit(x_train,y_train)\n",
    "    pred=m.predict(x_test)\n",
    "    print(\"\\n f1 score: of \",m)\n",
    "    print(f1_score(y_test,pred))\n",
    "    print(\"\\n  Classificatin report:  of \",m)\n",
    "    print(classification_report(y_test,pred))\n",
    "    print(\"***************************************\")"
   ]
  },
  {
   "cell_type": "markdown",
   "metadata": {},
   "source": [
    "<span style='background:yellow'>Observation: Random Forest Classifier has given an great score of 97% for F1 and precision & recall also has good score. So we can see if any of the following models come close to RFC </span>"
   ]
  },
  {
   "cell_type": "code",
   "execution_count": 75,
   "metadata": {},
   "outputs": [
    {
     "name": "stdout",
     "output_type": "stream",
     "text": [
      "Wall time: 0 ns\n",
      "\n",
      " f1 score: of  DecisionTreeClassifier()\n",
      "0.9481880888531972\n",
      "\n",
      "  Classificatin report:  of  DecisionTreeClassifier()\n",
      "              precision    recall  f1-score   support\n",
      "\n",
      "           0       0.91      1.00      0.95     36752\n",
      "           1       1.00      0.90      0.95     36621\n",
      "\n",
      "    accuracy                           0.95     73373\n",
      "   macro avg       0.95      0.95      0.95     73373\n",
      "weighted avg       0.95      0.95      0.95     73373\n",
      "\n",
      "***************************************\n"
     ]
    }
   ],
   "source": [
    "%time\n",
    "\n",
    "model=[dtc]\n",
    "\n",
    "for m in model:\n",
    "    m.fit(x_train,y_train)\n",
    "    pred=m.predict(x_test)\n",
    "    print(\"\\n f1 score: of \",m)\n",
    "    print(f1_score(y_test,pred))\n",
    "    print(\"\\n  Classificatin report:  of \",m)\n",
    "    print(classification_report(y_test,pred))\n",
    "    print(\"***************************************\")"
   ]
  },
  {
   "cell_type": "markdown",
   "metadata": {},
   "source": [
    "<span style='background:yellow'>Observation: DTC is also good at 95%, still RFC is better. With the data being huge, RFC is better to use as well </span>"
   ]
  },
  {
   "cell_type": "code",
   "execution_count": 76,
   "metadata": {},
   "outputs": [
    {
     "name": "stdout",
     "output_type": "stream",
     "text": [
      "Wall time: 0 ns\n",
      "\n",
      " f1 score: of  AdaBoostClassifier(n_estimators=100)\n",
      "0.7580124638326284\n",
      "\n",
      "  Classificatin report:  of  AdaBoostClassifier(n_estimators=100)\n",
      "              precision    recall  f1-score   support\n",
      "\n",
      "           0       0.75      0.78      0.77     36752\n",
      "           1       0.77      0.74      0.76     36621\n",
      "\n",
      "    accuracy                           0.76     73373\n",
      "   macro avg       0.76      0.76      0.76     73373\n",
      "weighted avg       0.76      0.76      0.76     73373\n",
      "\n",
      "***************************************\n"
     ]
    }
   ],
   "source": [
    "%time\n",
    "\n",
    "model=[ad]\n",
    "\n",
    "for m in model:\n",
    "    m.fit(x_train,y_train)\n",
    "    pred=m.predict(x_test)\n",
    "    print(\"\\n f1 score: of \",m)\n",
    "    print(f1_score(y_test,pred))\n",
    "    print(\"\\n  Classificatin report:  of \",m)\n",
    "    print(classification_report(y_test,pred))\n",
    "    print(\"***************************************\")"
   ]
  },
  {
   "cell_type": "markdown",
   "metadata": {},
   "source": [
    "<span style='background:yellow'>Observation:Less compared to RFC, is AdaBoost Classifier so we can drop it from further analysis </span>"
   ]
  },
  {
   "attachments": {
    "image.png": {
     "image/png": "[encoded data removed]"
    }
   },
   "cell_type": "markdown",
   "metadata": {},
   "source": [
    "![image.png](attachment:image.png)"
   ]
  },
  {
   "cell_type": "markdown",
   "metadata": {},
   "source": [
    "<span style='background:yellow'>Observation: Less compared to RFC, is Supprt Vector so we can drop it from further analysis  </span>"
   ]
  },
  {
   "attachments": {
    "image.png": {
     "image/png": "[encoded data removed]"
    }
   },
   "cell_type": "markdown",
   "metadata": {},
   "source": [
    "![image.png](attachment:image.png)"
   ]
  },
  {
   "cell_type": "markdown",
   "metadata": {},
   "source": [
    "\n",
    "<span style='background:yellow'>Observation: Less compared to RFC, is GNB so we can drop it from further analysis  </span>"
   ]
  },
  {
   "cell_type": "markdown",
   "metadata": {},
   "source": [
    "## Comparing the Best Models with the Cross Validation"
   ]
  },
  {
   "cell_type": "code",
   "execution_count": 79,
   "metadata": {},
   "outputs": [
    {
     "name": "stdout",
     "output_type": "stream",
     "text": [
      "Wall time: 0 ns\n"
     ]
    },
    {
     "data": {
      "text/html": [
       "<div>\n",
       "<style scoped>\n",
       "    .dataframe tbody tr th:only-of-type {\n",
       "        vertical-align: middle;\n",
       "    }\n",
       "\n",
       "    .dataframe tbody tr th {\n",
       "        vertical-align: top;\n",
       "    }\n",
       "\n",
       "    .dataframe thead th {\n",
       "        text-align: right;\n",
       "    }\n",
       "</style>\n",
       "<table border=\"1\" class=\"dataframe\">\n",
       "  <thead>\n",
       "    <tr style=\"text-align: right;\">\n",
       "      <th></th>\n",
       "      <th>Name</th>\n",
       "      <th>f1</th>\n",
       "      <th>CrossValidation</th>\n",
       "      <th>Difference in Accuracy</th>\n",
       "    </tr>\n",
       "  </thead>\n",
       "  <tbody>\n",
       "    <tr>\n",
       "      <th>0</th>\n",
       "      <td>Dec Tree Classifier</td>\n",
       "      <td>0.91</td>\n",
       "      <td>0.91</td>\n",
       "      <td>0.00</td>\n",
       "    </tr>\n",
       "  </tbody>\n",
       "</table>\n",
       "</div>"
      ],
      "text/plain": [
       "                  Name   f1  CrossValidation  Difference in Accuracy\n",
       "0  Dec Tree Classifier 0.91             0.91                    0.00"
      ]
     },
     "execution_count": 79,
     "metadata": {},
     "output_type": "execute_result"
    }
   ],
   "source": [
    "%time\n",
    "\n",
    "modelList=[(\"Dec Tree Classifier\", dtc)]\n",
    "\n",
    "def GetAccuracy(x,y,modelList):\n",
    "    x_train,x_test,y_train,y_test=train_test_split(x,y,random_state=43)\n",
    "    ModelName= []\n",
    "    modelf1=[]\n",
    "    modelCrossval=[]\n",
    "    f1CVDiff=[]\n",
    "    for Nameofmodel, modelInstance in modelList:\n",
    "        ModelName.append(Nameofmodel)\n",
    "        modelInstance.fit(x_train,y_train)\n",
    "        pred=modelInstance.predict(x_test)\n",
    "        f1score= f1_score(y_test,pred)\n",
    "        modelf1.append(f1score)\n",
    "        crossval=cross_val_score(modelInstance,x,y,scoring=\"f1\",cv=5).mean()\n",
    "        modelCrossval.append(crossval)\n",
    "        f1CVDiff.append(f1score-crossval)\n",
    "    df_acc=pd.DataFrame({\"Name\":ModelName,\n",
    "                         \"f1\": modelf1,\n",
    "                         \"CrossValidation\":modelCrossval,\n",
    "                          \"Difference in Accuracy\": f1CVDiff})\n",
    "    return df_acc\n",
    "GetAccuracy(x,y,modelList)"
   ]
  },
  {
   "cell_type": "code",
   "execution_count": 78,
   "metadata": {},
   "outputs": [
    {
     "name": "stdout",
     "output_type": "stream",
     "text": [
      "Wall time: 0 ns\n"
     ]
    },
    {
     "data": {
      "text/html": [
       "<div>\n",
       "<style scoped>\n",
       "    .dataframe tbody tr th:only-of-type {\n",
       "        vertical-align: middle;\n",
       "    }\n",
       "\n",
       "    .dataframe tbody tr th {\n",
       "        vertical-align: top;\n",
       "    }\n",
       "\n",
       "    .dataframe thead th {\n",
       "        text-align: right;\n",
       "    }\n",
       "</style>\n",
       "<table border=\"1\" class=\"dataframe\">\n",
       "  <thead>\n",
       "    <tr style=\"text-align: right;\">\n",
       "      <th></th>\n",
       "      <th>Name</th>\n",
       "      <th>f1</th>\n",
       "      <th>CrossValidation</th>\n",
       "      <th>Difference in Accuracy</th>\n",
       "    </tr>\n",
       "  </thead>\n",
       "  <tbody>\n",
       "    <tr>\n",
       "      <th>0</th>\n",
       "      <td>Random Forest Class</td>\n",
       "      <td>0.94</td>\n",
       "      <td>0.94</td>\n",
       "      <td>-0.00</td>\n",
       "    </tr>\n",
       "  </tbody>\n",
       "</table>\n",
       "</div>"
      ],
      "text/plain": [
       "                  Name   f1  CrossValidation  Difference in Accuracy\n",
       "0  Random Forest Class 0.94             0.94                   -0.00"
      ]
     },
     "execution_count": 78,
     "metadata": {},
     "output_type": "execute_result"
    }
   ],
   "source": [
    "%time\n",
    "\n",
    "modelList=[(\"Random Forest Class\",rf)]\n",
    "\n",
    "def GetAccuracy(x,y,modelList):\n",
    "    x_train,x_test,y_train,y_test=train_test_split(x,y,random_state=43)\n",
    "    ModelName= []\n",
    "    modelf1=[]\n",
    "    modelCrossval=[]\n",
    "    f1CVDiff=[]\n",
    "    for Nameofmodel, modelInstance in modelList:\n",
    "        ModelName.append(Nameofmodel)\n",
    "        modelInstance.fit(x_train,y_train)\n",
    "        pred=modelInstance.predict(x_test)\n",
    "        f1score= f1_score(y_test,pred)\n",
    "        modelf1.append(f1score)\n",
    "        crossval=cross_val_score(modelInstance,x,y,scoring=\"f1\",cv=5).mean()\n",
    "        modelCrossval.append(crossval)\n",
    "        f1CVDiff.append(f1score-crossval)\n",
    "    df_acc=pd.DataFrame({\"Name\":ModelName,\n",
    "                         \"f1\": modelf1,\n",
    "                         \"CrossValidation\":modelCrossval,\n",
    "                          \"Difference in Accuracy\": f1CVDiff})\n",
    "    return df_acc\n",
    "GetAccuracy(x,y,modelList)"
   ]
  },
  {
   "cell_type": "markdown",
   "metadata": {},
   "source": [
    "<span style='background:yellow'>Observation: For both DTC & RFC we got the diff between F1 & CV as 0. So we can choose either one. RFC has better F1-score, so we are choosing that </span>"
   ]
  },
  {
   "cell_type": "markdown",
   "metadata": {},
   "source": [
    "# Hyper Parameter Tuning"
   ]
  },
  {
   "cell_type": "markdown",
   "metadata": {},
   "source": [
    "#since the dataset is huge, using Grid search CV will take time. So lets use Random Search CV\n",
    "from sklearn.model_selection import RandomizedSearchCV"
   ]
  },
  {
   "cell_type": "code",
   "execution_count": 83,
   "metadata": {},
   "outputs": [],
   "source": [
    "from sklearn.model_selection import RandomizedSearchCV\n",
    "# parameters for RandomSearchCV\n",
    "parameters = {\"max_depth\": range(2,6),\n",
    "              \"min_samples_split\": range(6, 11),\n",
    "              \"min_samples_leaf\": range(1, 5),\n",
    "              \"bootstrap\": [True,False],\n",
    "              \"n_estimators\": [100, 400],\n",
    "              \"criterion\" : [\"gini\", \"entropy\"],              \n",
    "             }\n",
    "# run randomized search\n"
   ]
  },
  {
   "cell_type": "code",
   "execution_count": 84,
   "metadata": {},
   "outputs": [],
   "source": [
    "RCV=RandomizedSearchCV(RandomForestClassifier(),parameters,cv=5)"
   ]
  },
  {
   "cell_type": "code",
   "execution_count": null,
   "metadata": {},
   "outputs": [],
   "source": [
    "RCV.fit(x_train,y_train)"
   ]
  },
  {
   "cell_type": "code",
   "execution_count": null,
   "metadata": {},
   "outputs": [],
   "source": [
    "RCV.best_params_"
   ]
  },
  {
   "cell_type": "code",
   "execution_count": null,
   "metadata": {},
   "outputs": [],
   "source": [
    "mod=RandomForestClassifer(criterion='gini',max_depth=7,random_state=43)\n",
    "\n",
    "mod.fit(x_train,y_train)\n",
    "pred=mod.predict(x_test)\n",
    "print(f1_score(y_test,pred)*100)\n"
   ]
  },
  {
   "cell_type": "markdown",
   "metadata": {},
   "source": [
    "# Saving the model"
   ]
  },
  {
   "cell_type": "code",
   "execution_count": null,
   "metadata": {},
   "outputs": [],
   "source": [
    "import joblib\n",
    "joblib.dump(mod,\"MicroCredit.pkl\")"
   ]
  },
  {
   "cell_type": "markdown",
   "metadata": {},
   "source": [
    "# Loading the Saved Model"
   ]
  },
  {
   "cell_type": "code",
   "execution_count": null,
   "metadata": {},
   "outputs": [],
   "source": [
    "model=joblib.load(\"MicroCredit.pkl\")"
   ]
  },
  {
   "cell_type": "code",
   "execution_count": null,
   "metadata": {},
   "outputs": [],
   "source": [
    "prediction=model.predict(x_test)"
   ]
  },
  {
   "cell_type": "code",
   "execution_count": null,
   "metadata": {},
   "outputs": [],
   "source": [
    "print(f1_score(y_test,pred)*100)"
   ]
  },
  {
   "cell_type": "code",
   "execution_count": null,
   "metadata": {},
   "outputs": [],
   "source": [
    "prediction=pd.DataFrame(prediction) #converting to a Data Frame"
   ]
  },
  {
   "cell_type": "code",
   "execution_count": null,
   "metadata": {},
   "outputs": [],
   "source": [
    "prediction.head()  #checking the top 5 values, to double check fi there are predictions"
   ]
  },
  {
   "cell_type": "code",
   "execution_count": null,
   "metadata": {},
   "outputs": [],
   "source": [
    "prediction.to_csv('MicrocreditResults.csv') #saving the prediction"
   ]
  },
  {
   "cell_type": "markdown",
   "metadata": {},
   "source": [
    "# Conclusion"
   ]
  },
  {
   "cell_type": "raw",
   "metadata": {},
   "source": [
    "1. Random Forest is the best model-(Random Forest is a better Algo to use as it can handle more features, not influenced by outliers and handles missing value better.It can also identify the critical features)"
   ]
  },
  {
   "cell_type": "raw",
   "metadata": {},
   "source": [
    "2. Imbalanced Dataset was handled using Over Sampling "
   ]
  },
  {
   "cell_type": "raw",
   "metadata": {},
   "source": [
    "Got a very good F1-Score-97% , the precision & recall score is also good. "
   ]
  }
 ],
 "metadata": {
  "kernelspec": {
   "display_name": "Python 3",
   "language": "python",
   "name": "python3"
  },
  "toc": {
   "base_numbering": 1,
   "nav_menu": {},
   "number_sections": true,
   "sideBar": true,
   "skip_h1_title": false,
   "title_cell": "Table of Contents",
   "title_sidebar": "Contents",
   "toc_cell": false,
   "toc_position": {},
   "toc_section_display": true,
   "toc_window_display": true
  }
 },
 "nbformat": 4,
 "nbformat_minor": 4
}
